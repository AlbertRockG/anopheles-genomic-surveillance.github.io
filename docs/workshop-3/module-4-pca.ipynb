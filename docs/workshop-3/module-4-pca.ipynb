{
  "cells": [
    {
      "cell_type": "markdown",
      "metadata": {
        "id": "eCHyfe2oQWuP"
      },
      "source": [
        "![banner](https://anopheles-genomic-surveillance.github.io/_images/banner.jpg)\n",
        "\n",
        "***Training course in data analysis for genomic surveillance of African malaria vectors - Workshop 3***\n",
        "\n",
        "---"
      ]
    },
    {
      "cell_type": "markdown",
      "metadata": {
        "id": "ppr9qu23Qey6"
      },
      "source": [
        "## Module 4 - Detecting population structure using PCA \n",
        "\n",
        "**Theme: Analysis**\n",
        "\n",
        "\n",
        "In this module we're going to investigate population structure by running principal components analysis (PCA) using genetic variation data from Ag3.0. We will use functions in the malariagen_data python package to run and plot PCAs, then learn how interpret the results to discover taxonomic and geographic structure in mosquito populations."
      ]
    },
    {
      "cell_type": "markdown",
      "metadata": {
        "id": "KKoSwVpSSLp9"
      },
      "source": [
        "## Learning objectives\n",
        "\n",
        "At the end of this module you will be able to:\n",
        "\n",
        "* Compute principal component analyses across different mosquito cohorts.\n",
        "* Plot variance and principal components and interpret results.\n",
        "* Discover taxonomic and geographic population structure."
      ]
    },
    {
      "cell_type": "markdown",
      "source": [
        "## Lecture"
      ],
      "metadata": {
        "id": "IBDTEvussVJf"
      }
    },
    {
      "cell_type": "markdown",
      "source": [
        "### English"
      ],
      "metadata": {
        "id": "1sXNsMipsWLj"
      }
    },
    {
      "cell_type": "code",
      "source": [
        "%%html\n",
        "<iframe width=\"560\" height=\"315\" src=\"https://www.youtube.com/embed/_uMwVLw0fpc\" title=\"YouTube video player\" frameborder=\"0\" allow=\"accelerometer; autoplay; clipboard-write; encrypted-media; gyroscope; picture-in-picture\" allowfullscreen></iframe>"
      ],
      "metadata": {
        "colab": {
          "base_uri": "https://localhost:8080/",
          "height": 336
        },
        "id": "J1-on3iYsXNs",
        "outputId": "5c319bcc-3f59-42b8-8766-0effde233cf1"
      },
      "execution_count": 29,
      "outputs": [
        {
          "output_type": "display_data",
          "data": {
            "text/plain": [
              "<IPython.core.display.HTML object>"
            ],
            "text/html": [
              "<iframe width=\"560\" height=\"315\" src=\"https://www.youtube.com/embed/_uMwVLw0fpc\" title=\"YouTube video player\" frameborder=\"0\" allow=\"accelerometer; autoplay; clipboard-write; encrypted-media; gyroscope; picture-in-picture\" allowfullscreen></iframe>"
            ]
          },
          "metadata": {}
        }
      ]
    },
    {
      "cell_type": "markdown",
      "source": [
        "### Français\n",
        "\n",
        "Coming soon."
      ],
      "metadata": {
        "id": "26C1Z0ossyP7"
      }
    },
    {
      "cell_type": "markdown",
      "source": [
        "## What is population structure? - recap\n",
        "\n",
        "In Ag3.0 there are 2,784 wild-caught mosquitoes collected from 19 countries in sub-Saharan Africa. This includes mosquitoes from three known species within the _Anopheles gambiae_ species complex. When we have a cohort of mosquitoes from different species and/or geographical locations, we would expect that not all mosquitoes are equally closely related to each other. These non-random patterns of relatedness are known as population structure.\n",
        "\n",
        "For example, we might expect that any two mosquitoes from the same species will be more closely related than two mosquitoes from different species. This will hopefully be intuitively obvious, because mosquitoes will prefer to mate with individuals of the same species, even if they live alongside mosquitoes from other species and can hybridise. This is also known as **reproductive isolation** and it may be caused by different drivers, _e.g._, **behavioural** differences leading to a lower likelihood of mating.\n",
        "\n"
      ],
      "metadata": {
        "id": "NcNRW4RwkgKf"
      }
    },
    {
      "cell_type": "code",
      "source": [
        "%%html\n",
        "<iframe frameborder=\"0\" style=\"width:100%;height:713px;\" src=\"https://viewer.diagrams.net/?tags=%7B%7D&highlight=FFFFFF&edit=_blank&layers=1&nav=1&title=Untitled%20Diagram.drawio#Uhttps%3A%2F%2Fdrive.google.com%2Fuc%3Fid%3D1O-g0-ZZXVwlNU3NKutS62UBkOXjb-1rr%26export%3Ddownload\"></iframe>"
      ],
      "metadata": {
        "colab": {
          "base_uri": "https://localhost:8080/",
          "height": 734
        },
        "id": "L5JYxUDucKTd",
        "outputId": "86306374-a8d1-4fda-9357-309b59e31ad3"
      },
      "execution_count": null,
      "outputs": [
        {
          "output_type": "display_data",
          "data": {
            "text/plain": [
              "<IPython.core.display.HTML object>"
            ],
            "text/html": [
              "<iframe frameborder=\"0\" style=\"width:100%;height:713px;\" src=\"https://viewer.diagrams.net/?tags=%7B%7D&highlight=FFFFFF&edit=_blank&layers=1&nav=1&title=Untitled%20Diagram.drawio#Uhttps%3A%2F%2Fdrive.google.com%2Fuc%3Fid%3D1O-g0-ZZXVwlNU3NKutS62UBkOXjb-1rr%26export%3Ddownload\"></iframe>"
            ]
          },
          "metadata": {}
        }
      ]
    },
    {
      "cell_type": "markdown",
      "source": [
        "Similarly, we might expect that two mosquitoes sampled from the same location will be more closely related than two mosquitoes sampled from distant locations. This is based on the assumption that mosquitoes may travel to find a mate, but may only be willing or able to travel a certain distance. Mosquitoes may also be impeded from travelling in certain directions by natural physical barriers, such as a region of elevated terrain, or by variation in the availability of suitable habitat. These limits and barriers to movement can thus generate population structure, also known as **geographic isolation**.\n",
        "\n"
      ],
      "metadata": {
        "id": "SGfTDpxltY3X"
      }
    },
    {
      "cell_type": "code",
      "source": [
        "%%html\n",
        "<iframe frameborder=\"0\" style=\"width:100%;height:733px;\" src=\"https://viewer.diagrams.net/?tags=%7B%7D&highlight=FFFFFF&edit=_blank&layers=1&nav=1&title=Untitled%20Diagram.drawio#Uhttps%3A%2F%2Fdrive.google.com%2Fuc%3Fid%3D1NzVyFSiQaNO79sSJzcL68GqGocv41WRE%26export%3Ddownload\"></iframe>"
      ],
      "metadata": {
        "colab": {
          "base_uri": "https://localhost:8080/",
          "height": 754
        },
        "id": "nt3cVx8HdQSj",
        "outputId": "1e5082cf-ec31-48bf-8107-994bb48c5a82"
      },
      "execution_count": null,
      "outputs": [
        {
          "output_type": "display_data",
          "data": {
            "text/plain": [
              "<IPython.core.display.HTML object>"
            ],
            "text/html": [
              "<iframe frameborder=\"0\" style=\"width:100%;height:733px;\" src=\"https://viewer.diagrams.net/?tags=%7B%7D&highlight=FFFFFF&edit=_blank&layers=1&nav=1&title=Untitled%20Diagram.drawio#Uhttps%3A%2F%2Fdrive.google.com%2Fuc%3Fid%3D1NzVyFSiQaNO79sSJzcL68GqGocv41WRE%26export%3Ddownload\"></iframe>"
            ]
          },
          "metadata": {}
        }
      ]
    },
    {
      "cell_type": "markdown",
      "source": [
        "For both of these causes of population structure – reproductive isolation and geographical isolation – we may have some idea of what to expect based on our knowledge of previous studies, but we may be surprised.\n",
        "\n",
        "For example, the _Anopheles gambiae_ species complex continues to be unravelled, and there may be cryptic species that we were not previously aware of (e.g., see [Crawford et al. 2016](https://pubmed.ncbi.nlm.nih.gov/26846876/) and [Tennessen et al. 2020](https://doi.org/10.1111/mec.15756)). We will return to this topic with an entire workshop about discovering cryptic species.\n",
        "\n",
        "Also, recent studies have suggested that some malaria mosquitoes may engage in long-distance migration ([Huestis et al. 2019](https://pubmed.ncbi.nlm.nih.gov/31578527/)), challenging the previous view that mosquitoes generally don’t travel more than a few kilometres in their lifetimes ([Service 1997](https://pubmed.ncbi.nlm.nih.gov/9439109/)). But we still don’t know to what extent long-distance migration occurs, or whether the rate or range of migration varies between geographical regions and/or mosquito species. We would also like to learn more about how ecological and landscape variation affects the movement and interbreeding of mosquito populations in different regions of Africa.\n",
        "\n",
        "In short, we would like to investigate population structure, and we can use genetic variation data to do that. There are various methods for analysing population structure, but this module will focus on just one of these methods, principal components analysis (PCA). PCA is attractive because it is model-free, meaning that you don’t need to specify any model of population structure before-hand, you can just run PCA and start exploring the results. On the other hand, interpreting PCA requires some care, which we’ll expand on a little below. If you’re interested in reading more deeply about using PCA for investigating population structure, [Patterson et al. (2006)](https://doi.org/10.1371/journal.pgen.0020190), [Novembre and Stephens (2008)](https://www.ncbi.nlm.nih.gov/pmc/articles/PMC3989108/) and [McVean (2009)](https://doi.org/10.1371/journal.pgen.1000686) are all great resources."
      ],
      "metadata": {
        "id": "TBHvZzVmtfhj"
      }
    },
    {
      "cell_type": "markdown",
      "source": [
        "## What is principal component analysis? - recap\n",
        "  \n",
        "In this workshop we've seen some examples of PCA being used to identify genetic structure in a group of samples and we've heard why being able to detect structure is useful for genomic surveillance and vector control, but what is a PCA actually doing to our data.\n",
        "\n",
        "Fundamentally, PCA is a method for reducing the dimensions of a dataset to help make interpreting the data easier. A very simple example of what we mean by dimensions, one which we wouldn't need PCA for, is a dataset in which each sample has two dimensions \"weight\" and \"height\". With two dimensions we might be able to detect a relationship between them by looking at a scatter plot of the data, but what if a dataset had many more dimensions?\n",
        "\n",
        "\n",
        "  \n",
        "\n",
        "\n",
        "\n"
      ],
      "metadata": {
        "id": "9idh6GBoK6a2"
      }
    },
    {
      "cell_type": "markdown",
      "source": [
        "<img src=\"https://storage.googleapis.com/vo_agam_release/reference/training-images/workshop-3/heightweight2.gif\"></img>"
      ],
      "metadata": {
        "id": "jKSJxa6hoxn5"
      }
    },
    {
      "cell_type": "markdown",
      "source": [
        "We are are interested in detecting population structure in a region of genomic data (_e.g._ a chomosome arm) which might have millions of SNPs (from hundreds or thousands of samples). Each consecutive genomic position in the dataset adds another dimension, so we can no longer easily compare the relationship of every dimension to every other dimension, like we could with our \"weight\" _vs._ \"height\" data example. Instead we use PCA to project principal components, which are similar to lines-of-best-fit, through our multi-dimensional data. \n",
        "  \n",
        "PC1, the first principal component, is the axis which describes the most variance in our data. All samples receive a single value for PC1 which describes their position along this axis. PC2 is the axis which describes the next most variance, and so on. A dataset with 100,000 dimensions can generate 100,000 principal components, but as much of the variance is explained (reduced) to the first few PCs we only need these to look for relationships. In our case, these relationships are population structure.\n"
      ],
      "metadata": {
        "id": "bXz6fII8RvvI"
      }
    },
    {
      "cell_type": "markdown",
      "source": [
        "<img src=\"https://storage.googleapis.com/vo_agam_release/reference/training-images/workshop-3/PCA1-smaller-smaller.gif\"></img>\n"
      ],
      "metadata": {
        "id": "5mnQHNO6ppeG"
      }
    },
    {
      "cell_type": "markdown",
      "source": [
        "For a deeper dive into how PCA works, I recommend [Bill Connelly's excellent blog post](http://www.billconnelly.net/?p=697)."
      ],
      "metadata": {
        "id": "mcQfRAZkOdtx"
      }
    },
    {
      "cell_type": "markdown",
      "source": [
        "## What is happening \"behind the scenes\" when we run our PCA using malariagen_data's `ag3.pca()` function?\n",
        "  \n",
        "1. Access the genotypes that we would like to run the analysis on from Google Cloud Storage - which `sample_sets`, which `region` of the genome, and apply any `sample_query` included in the parameters (we will look at this functionality a bit later).\n",
        "\n",
        "2. Allele count - this is the count of the alternate alleles for each site in the selected genomic region, across our samples. We are interested in sites where there is variation in our samples, known as **segregating sites**, particularly biallelic sites including the reference allele (_i.e._ where there is one alternate allele). These are the data upon which the PCA is run.\n",
        "\n",
        "3. Thin the allele count - With `ag3.pca()` we can run a PCA analysis on entire chromosome arms, which contain millions of genomic positions. However, we can get strong signals of structure by using just a subset our segregating sites, plus if we used all the sites would make our analysis very slow. The `n_snps`  parameter is used to 'thin' our SNPs. we find that around 100,000 SNPs is more than enough for analysis of population structure.\n",
        "\n",
        "4. Run the PCA!"
      ],
      "metadata": {
        "id": "S66PPxomPNno"
      }
    },
    {
      "cell_type": "markdown",
      "metadata": {
        "id": "RNlTB9CB2XZ3"
      },
      "source": [
        "## Set up our environment\n",
        "\n",
        "Now that we have covered some of the theoretical background for population structure analyses using PCA, let's install and import the python packages we will need for our analyses."
      ]
    },
    {
      "cell_type": "code",
      "execution_count": 3,
      "metadata": {
        "id": "V_9QN7sb2ZI4",
        "colab": {
          "base_uri": "https://localhost:8080/"
        },
        "outputId": "22ffd2e7-bfb8-41aa-c9e9-7d21f6efc79c"
      },
      "outputs": [
        {
          "output_type": "stream",
          "name": "stdout",
          "text": [
            "\u001b[K     |████████████████████████████████| 59 kB 3.0 MB/s \n",
            "\u001b[K     |████████████████████████████████| 300 kB 10.6 MB/s \n",
            "\u001b[K     |████████████████████████████████| 2.3 MB 58.9 MB/s \n",
            "\u001b[K     |████████████████████████████████| 136 kB 51.1 MB/s \n",
            "\u001b[K     |████████████████████████████████| 3.3 MB 41.0 MB/s \n",
            "\u001b[K     |████████████████████████████████| 5.7 MB 23.2 MB/s \n",
            "\u001b[K     |████████████████████████████████| 153 kB 60.4 MB/s \n",
            "\u001b[K     |████████████████████████████████| 1.1 MB 48.6 MB/s \n",
            "\u001b[K     |████████████████████████████████| 94 kB 3.3 MB/s \n",
            "\u001b[K     |████████████████████████████████| 144 kB 54.1 MB/s \n",
            "\u001b[K     |████████████████████████████████| 271 kB 59.7 MB/s \n",
            "\u001b[K     |████████████████████████████████| 6.2 MB 18.2 MB/s \n",
            "\u001b[?25h  Building wheel for asciitree (setup.py) ... \u001b[?25l\u001b[?25hdone\n"
          ]
        }
      ],
      "source": [
        "!pip install -q malariagen_data"
      ]
    },
    {
      "cell_type": "code",
      "source": [
        "import os\n",
        "from google.colab import drive\n",
        "import malariagen_data\n",
        "import plotly.express as px"
      ],
      "metadata": {
        "id": "3mGVTbcEOsYm"
      },
      "execution_count": 5,
      "outputs": []
    },
    {
      "cell_type": "markdown",
      "source": [
        "#### Saving PCA results\n",
        "\n",
        "Some PCA runs may take a while to complete, particularly if you’re running this code on a service with modest computational resources such as Google Colab, because genotype calls from tens of millions of SNPs may need to be scanned to identify and extract the data for PCA. The run time will depend on the number of samples included in the analysis, but may take 20 mins or more for larger analyses.\n",
        "\n",
        "To avoid having to rerun these analyses, we’ll save the results so we can come back to them later. In Google Colab, you can save results to your Google Drive, which will mean you don’t lose results even if you leave the notebook and come back several days later.\n",
        "\n",
        "When mounting your Google Drive you will need to follow the authorization instructions."
      ],
      "metadata": {
        "id": "RRJfOTdn01xM"
      }
    },
    {
      "cell_type": "code",
      "source": [
        "drive.mount(\"/content/drive\")"
      ],
      "metadata": {
        "colab": {
          "base_uri": "https://localhost:8080/"
        },
        "id": "qfmeiTGNvGXN",
        "outputId": "4b6bf2ac-3e20-4942-e5f3-86585fb3705c"
      },
      "execution_count": 6,
      "outputs": [
        {
          "output_type": "stream",
          "name": "stdout",
          "text": [
            "Mounted at /content/drive\n"
          ]
        }
      ]
    },
    {
      "cell_type": "markdown",
      "source": [
        "With our Google Drive now mounted, we can define and make a directory where we want to save our PCA results."
      ],
      "metadata": {
        "id": "6dr6_0tNdG3V"
      }
    },
    {
      "cell_type": "code",
      "source": [
        "results_dir = \"/content/drive/MyDrive/Colab Data/ag3-pca-results\"\n",
        "os.makedirs(results_dir, exist_ok=True)"
      ],
      "metadata": {
        "id": "QWqEPLlEwco3"
      },
      "execution_count": 7,
      "outputs": []
    },
    {
      "cell_type": "markdown",
      "source": [
        "In Google Colab, we can actually see our mounted drive and PCA results directory by clicking on the file tab on the left hand side of the screen."
      ],
      "metadata": {
        "id": "qOOyyqSniP9k"
      }
    },
    {
      "cell_type": "markdown",
      "metadata": {
        "id": "CXPlA6lfub3H"
      },
      "source": [
        "Next we should setup the `malariagen_data` package. As we want to save our PCA results in the Google Drive folder we just set up, we'll use the `results_cache` parameter and assign our results directory to it. If we were running this notebook locally, then we could assign a local folder to this parameter and the PCA results would instead get stored on our hard drive."
      ]
    },
    {
      "cell_type": "code",
      "execution_count": 8,
      "metadata": {
        "colab": {
          "base_uri": "https://localhost:8080/",
          "height": 233
        },
        "id": "WaJJuUj22d59",
        "outputId": "3b338e29-481d-4a3c-f0bc-770c85fd4d6e"
      },
      "outputs": [
        {
          "output_type": "execute_result",
          "data": {
            "text/plain": [
              "<MalariaGEN Ag3 API>\n",
              "Storage URL             : gs://vo_agam_release/\n",
              "Data releases available : 3.0\n",
              "Results cache           : /content/drive/MyDrive/Colab Data/ag3-pca-results\n",
              "Cohorts analysis        : 20211101\n",
              "Species analysis        : aim_20200422\n",
              "Site filters analysis   : dt_20200416\n",
              "Software version        : malariagen_data 4.3.0\n",
              "Client location         : South Carolina, US (colab)\n",
              "---\n",
              "Please note that data are subject to terms of use,\n",
              "for more information see https://www.malariagen.net/data\n",
              "or contact data@malariagen.net. For API documentation see \n",
              "https://malariagen.github.io/vector-data/ag3/api.html"
            ],
            "text/html": [
              "\n",
              "            <table class=\"malariagen-ag3\">\n",
              "                <thead>\n",
              "                    <tr>\n",
              "                        <th style=\"text-align: left\" colspan=\"2\">MalariaGEN Ag3 API</th>\n",
              "                    </tr>\n",
              "                    <tr><td colspan=\"2\" style=\"text-align: left\">\n",
              "                        Please note that data are subject to terms of use,\n",
              "                        for more information see <a href=\"https://www.malariagen.net/data\">\n",
              "                        the MalariaGEN website</a> or contact data@malariagen.net.\n",
              "                        See also the <a href=\"https://malariagen.github.io/vector-data/ag3/api.html\">Ag3 API docs</a>.\n",
              "                    </td></tr>\n",
              "                </thead>\n",
              "                <tbody>\n",
              "                    <tr>\n",
              "                        <th style=\"text-align: left\">\n",
              "                            Storage URL\n",
              "                        </th>\n",
              "                        <td>gs://vo_agam_release/</td>\n",
              "                    </tr>\n",
              "                    <tr>\n",
              "                        <th style=\"text-align: left\">\n",
              "                            Data releases available\n",
              "                        </th>\n",
              "                        <td>3.0</td>\n",
              "                    </tr>\n",
              "                    <tr>\n",
              "                        <th style=\"text-align: left\">\n",
              "                            Results cache\n",
              "                        </th>\n",
              "                        <td>/content/drive/MyDrive/Colab Data/ag3-pca-results</td>\n",
              "                    </tr>\n",
              "                    <tr>\n",
              "                        <th style=\"text-align: left\">\n",
              "                            Cohorts analysis\n",
              "                        </th>\n",
              "                        <td>20211101</td>\n",
              "                    </tr>\n",
              "                    <tr>\n",
              "                        <th style=\"text-align: left\">\n",
              "                            Species analysis\n",
              "                        </th>\n",
              "                        <td>aim_20200422</td>\n",
              "                    </tr>\n",
              "                    <tr>\n",
              "                        <th style=\"text-align: left\">\n",
              "                            Site filters analysis\n",
              "                        </th>\n",
              "                        <td>dt_20200416</td>\n",
              "                    </tr>\n",
              "                    <tr>\n",
              "                        <th style=\"text-align: left\">\n",
              "                            Software version\n",
              "                        </th>\n",
              "                        <td>malariagen_data 4.3.0</td>\n",
              "                    </tr>\n",
              "                    <tr>\n",
              "                        <th style=\"text-align: left\">\n",
              "                            Client location\n",
              "                        </th>\n",
              "                        <td>South Carolina, US (colab)</td>\n",
              "                    </tr>\n",
              "                </tbody>\n",
              "            </table>\n",
              "        "
            ]
          },
          "metadata": {},
          "execution_count": 8
        }
      ],
      "source": [
        "ag3 = malariagen_data.Ag3(results_cache=results_dir)\n",
        "ag3"
      ]
    },
    {
      "cell_type": "markdown",
      "source": [
        "The output of `ag3` shows us the \"Client location\". This is where our Google Colab virtual machine is running on the cloud. As the data we would like to analyse is located in the US, it is worth checking that our notebook is running there too. If not, click \"Runtime > Disconnect and delete runtime\" from the menu, then re-run the notebook and check again."
      ],
      "metadata": {
        "id": "yqlIHSthirXI"
      }
    },
    {
      "cell_type": "markdown",
      "source": [
        "## Run PCA analysis - Central African Republic\n",
        "\n",
        "Now we've set up our environment and understand a bit more about PCA, we should run an analysis.  \n",
        "  \n",
        "As discussed earlier, there a multiple steps involved in running a PCA analysis, but for convenience, we have combined these into a `malariagen_data` function called `ag3.pca()`. Before we start, let's have a quick look at the documention using \"`?`\""
      ],
      "metadata": {
        "id": "2biOVp300oO8"
      }
    },
    {
      "cell_type": "code",
      "source": [
        "ag3.pca?"
      ],
      "metadata": {
        "id": "i1YbegNaRzVA"
      },
      "execution_count": 9,
      "outputs": []
    },
    {
      "cell_type": "markdown",
      "source": [
        "We can see that there are two required parameters: \n",
        "\n",
        "- `region` is one we are probably getting familar with by now, it defines what region of the genome we want to run the analyses over. We could assign a whole chromosome arm, a chromosome region, with a start and stop point, or a specific gene of interest.\n",
        "\n",
        "- `n_snps` requires us to define how many SNPs we would like to thin our region down to, as PCA doesn't require every SNP (plus without thinning it could potentially take a very long to run the analysis).\n",
        "\n",
        "Today we are going to run the PCA on a section of the 3L chromosome arm. 3L  is a good choice of chromosome arm when looking at population structure, as results are not confounded by the large inversions that are found on 2L, 2R, 3R and X. \n",
        "\n",
        "We'll thin the SNPs on 3L down to around 100,000 as that should be plenty to see signals of structure, and rather than looking at all the Ag3.0 data, let's use the `sample_sets` parameter to just look at the Central African Republic.\n"
      ],
      "metadata": {
        "id": "DzznG1KZYWfK"
      }
    },
    {
      "cell_type": "code",
      "source": [
        "region = \"3L:15,000,000-41,000,000\"\n",
        "n_snps = 100_000\n",
        "sample_sets = \"AG1000G-CF\""
      ],
      "metadata": {
        "id": "7qYwz87Gxxs_"
      },
      "execution_count": 10,
      "outputs": []
    },
    {
      "cell_type": "markdown",
      "source": [
        "The `ag3.pca()` function actually returns two values, so we need to assign two variables when we run it."
      ],
      "metadata": {
        "id": "0xdd5DixyDZf"
      }
    },
    {
      "cell_type": "code",
      "source": [
        "pca_df, evr = ag3.pca(region=region, n_snps=n_snps, sample_sets=sample_sets)"
      ],
      "metadata": {
        "id": "_JrSfcYex-Io",
        "colab": {
          "base_uri": "https://localhost:8080/",
          "height": 113,
          "referenced_widgets": [
            "1ac5d228b913491cb96e0e193124bc92",
            "75171c62090346a0aa60343e6132fa74",
            "4c45ab2cb28e4efeb56f49eea0193a26",
            "a982f14c2a2e4c7788bfee1e2d46d1c0",
            "521df1ea0826428cb9f3d0df5b6a5dd8",
            "0c146a3777a149a2abab2166985971dd",
            "dc2f2dfc27e240cb8fe2ae28bc614983",
            "ca11e2672c6f4e7ebc8f7a2709a7e9ae",
            "739e6b994f4e46b6bc7e8b857250b6b5",
            "9d843b3623cb40b5a2bfaf61993ec8fe",
            "cd746a393b0046dc9d69d8f0dbd4a359",
            "0d08b714c221461a83d53a959bcacf88",
            "f95e5988157e448e97c593a381ff9b6f",
            "b2986b805b1b4dbd8188a500fb93622c",
            "090bd83927a249308e5ce2d23c6c75e5",
            "5bef6f14d8544703ac5db73d1de6a1b8",
            "41f8541555c74d5a8400eab5000ca51f",
            "ded75433dc2a42649a2ccf2cfb7ffa71",
            "a7c5a91b57b74c99812429958b656e42",
            "1fbb3ab382ee41b9884a71dfdd05e2bc",
            "f1297364e6ab48f8b69eb0d990efff51",
            "f2f6f4ac14bf44489fad155c1d8fa321",
            "2acd7f61549343118555a6d921bb640c",
            "a9fe023e603d4e0ebd4599e698e93799",
            "b7a9c0920c4a4206b431e1995b447d1f",
            "24c20e188b5b4b96bec60c57d368f79d",
            "35a5748d8f2a41c0a1e9cda250892108",
            "fa12fbb4e8954805a02f89a22fe32647",
            "73633949d5174f71940e9d087f3880a7",
            "e8b87b5a9bb54994add7b2f4326af128",
            "30ddd358c41a44de9a66594fba7e6a83",
            "0a4345e61d45428394ad20927611dbff",
            "e6df1620f52c4dab9d59c31dcfdebd28"
          ]
        },
        "outputId": "1a6954ca-4f21-4a7d-d921-75dd5bebd4ba"
      },
      "execution_count": 11,
      "outputs": [
        {
          "output_type": "display_data",
          "data": {
            "text/plain": [
              "Compute SNP allele counts:   0%|          | 0/774 [00:00<?, ?it/s]"
            ],
            "application/vnd.jupyter.widget-view+json": {
              "version_major": 2,
              "version_minor": 0,
              "model_id": "1ac5d228b913491cb96e0e193124bc92"
            }
          },
          "metadata": {}
        },
        {
          "output_type": "display_data",
          "data": {
            "text/plain": [
              "Load SNP genotypes:   0%|          | 0/860 [00:00<?, ?it/s]"
            ],
            "application/vnd.jupyter.widget-view+json": {
              "version_major": 2,
              "version_minor": 0,
              "model_id": "0d08b714c221461a83d53a959bcacf88"
            }
          },
          "metadata": {}
        },
        {
          "output_type": "display_data",
          "data": {
            "text/plain": [
              "Load sample metadata:   0%|          | 0/1 [00:00<?, ?it/s]"
            ],
            "application/vnd.jupyter.widget-view+json": {
              "version_major": 2,
              "version_minor": 0,
              "model_id": "2acd7f61549343118555a6d921bb640c"
            }
          },
          "metadata": {}
        }
      ]
    },
    {
      "cell_type": "markdown",
      "source": [
        "## Analysis output - `pca_df` - principal components"
      ],
      "metadata": {
        "id": "64ihdhWf33aA"
      }
    },
    {
      "cell_type": "markdown",
      "source": [
        "Let's have a look at the `pca_df` output. It's a Pandas DataFrame with one row per sample."
      ],
      "metadata": {
        "id": "0O-1R07umCHc"
      }
    },
    {
      "cell_type": "code",
      "source": [
        "pca_df.head()"
      ],
      "metadata": {
        "colab": {
          "base_uri": "https://localhost:8080/",
          "height": 453
        },
        "id": "HOLRvXVemLId",
        "outputId": "93759156-d56a-4dd5-a1c4-1b4511859f3c"
      },
      "execution_count": 12,
      "outputs": [
        {
          "output_type": "execute_result",
          "data": {
            "text/plain": [
              "  sample_id partner_sample_id             contributor  \\\n",
              "0  BK0001-C             RCA_1  Alessandra della Torre   \n",
              "1  BK0002-C             RCA_2  Alessandra della Torre   \n",
              "2  BK0003-C             RCA_3  Alessandra della Torre   \n",
              "3  BK0005-C             RCA_5  Alessandra della Torre   \n",
              "4  BK0006-C             RCA_6  Alessandra della Torre   \n",
              "\n",
              "                    country location  year  month  latitude  longitude  \\\n",
              "0  Central African Republic   Bangui  1993     12     4.367     18.583   \n",
              "1  Central African Republic   Bangui  1993     12     4.367     18.583   \n",
              "2  Central African Republic   Bangui  1993     12     4.367     18.583   \n",
              "3  Central African Republic   Bangui  1993     12     4.367     18.583   \n",
              "4  Central African Republic   Bangui  1993     12     4.367     18.583   \n",
              "\n",
              "  sex_call  ...       PC11       PC12        PC13       PC14       PC15  \\\n",
              "0        F  ... -42.448505  65.999847  122.289177 -62.724888 -22.538486   \n",
              "1        F  ...  40.574196  22.146313   18.916237  -5.933497  13.395617   \n",
              "2        F  ...   8.244154   0.039149   19.342781 -33.139965 -10.929106   \n",
              "3        F  ... -33.820469  27.688166   -5.853162 -42.041260 -33.047440   \n",
              "4        F  ...   0.536623  23.135866  -22.943718  32.390057 -35.382080   \n",
              "\n",
              "        PC16       PC17        PC18       PC19       PC20  \n",
              "0 -30.014484 -37.446686 -104.716194  13.537905 -46.852997  \n",
              "1  21.340879  -9.864203  -14.084856  -7.289372   2.683408  \n",
              "2  20.494480  -7.416092   11.431699  27.414604  19.066383  \n",
              "3  -1.248967  15.343317  -30.329405 -25.888927  35.828346  \n",
              "4  -2.934742  -5.479561   12.927936  37.466919  -8.200203  \n",
              "\n",
              "[5 rows x 46 columns]"
            ],
            "text/html": [
              "\n",
              "  <div id=\"df-f212cf4d-f304-4964-b8b2-5d28a8c7d2f5\">\n",
              "    <div class=\"colab-df-container\">\n",
              "      <div>\n",
              "<style scoped>\n",
              "    .dataframe tbody tr th:only-of-type {\n",
              "        vertical-align: middle;\n",
              "    }\n",
              "\n",
              "    .dataframe tbody tr th {\n",
              "        vertical-align: top;\n",
              "    }\n",
              "\n",
              "    .dataframe thead th {\n",
              "        text-align: right;\n",
              "    }\n",
              "</style>\n",
              "<table border=\"1\" class=\"dataframe\">\n",
              "  <thead>\n",
              "    <tr style=\"text-align: right;\">\n",
              "      <th></th>\n",
              "      <th>sample_id</th>\n",
              "      <th>partner_sample_id</th>\n",
              "      <th>contributor</th>\n",
              "      <th>country</th>\n",
              "      <th>location</th>\n",
              "      <th>year</th>\n",
              "      <th>month</th>\n",
              "      <th>latitude</th>\n",
              "      <th>longitude</th>\n",
              "      <th>sex_call</th>\n",
              "      <th>...</th>\n",
              "      <th>PC11</th>\n",
              "      <th>PC12</th>\n",
              "      <th>PC13</th>\n",
              "      <th>PC14</th>\n",
              "      <th>PC15</th>\n",
              "      <th>PC16</th>\n",
              "      <th>PC17</th>\n",
              "      <th>PC18</th>\n",
              "      <th>PC19</th>\n",
              "      <th>PC20</th>\n",
              "    </tr>\n",
              "  </thead>\n",
              "  <tbody>\n",
              "    <tr>\n",
              "      <th>0</th>\n",
              "      <td>BK0001-C</td>\n",
              "      <td>RCA_1</td>\n",
              "      <td>Alessandra della Torre</td>\n",
              "      <td>Central African Republic</td>\n",
              "      <td>Bangui</td>\n",
              "      <td>1993</td>\n",
              "      <td>12</td>\n",
              "      <td>4.367</td>\n",
              "      <td>18.583</td>\n",
              "      <td>F</td>\n",
              "      <td>...</td>\n",
              "      <td>-42.448505</td>\n",
              "      <td>65.999847</td>\n",
              "      <td>122.289177</td>\n",
              "      <td>-62.724888</td>\n",
              "      <td>-22.538486</td>\n",
              "      <td>-30.014484</td>\n",
              "      <td>-37.446686</td>\n",
              "      <td>-104.716194</td>\n",
              "      <td>13.537905</td>\n",
              "      <td>-46.852997</td>\n",
              "    </tr>\n",
              "    <tr>\n",
              "      <th>1</th>\n",
              "      <td>BK0002-C</td>\n",
              "      <td>RCA_2</td>\n",
              "      <td>Alessandra della Torre</td>\n",
              "      <td>Central African Republic</td>\n",
              "      <td>Bangui</td>\n",
              "      <td>1993</td>\n",
              "      <td>12</td>\n",
              "      <td>4.367</td>\n",
              "      <td>18.583</td>\n",
              "      <td>F</td>\n",
              "      <td>...</td>\n",
              "      <td>40.574196</td>\n",
              "      <td>22.146313</td>\n",
              "      <td>18.916237</td>\n",
              "      <td>-5.933497</td>\n",
              "      <td>13.395617</td>\n",
              "      <td>21.340879</td>\n",
              "      <td>-9.864203</td>\n",
              "      <td>-14.084856</td>\n",
              "      <td>-7.289372</td>\n",
              "      <td>2.683408</td>\n",
              "    </tr>\n",
              "    <tr>\n",
              "      <th>2</th>\n",
              "      <td>BK0003-C</td>\n",
              "      <td>RCA_3</td>\n",
              "      <td>Alessandra della Torre</td>\n",
              "      <td>Central African Republic</td>\n",
              "      <td>Bangui</td>\n",
              "      <td>1993</td>\n",
              "      <td>12</td>\n",
              "      <td>4.367</td>\n",
              "      <td>18.583</td>\n",
              "      <td>F</td>\n",
              "      <td>...</td>\n",
              "      <td>8.244154</td>\n",
              "      <td>0.039149</td>\n",
              "      <td>19.342781</td>\n",
              "      <td>-33.139965</td>\n",
              "      <td>-10.929106</td>\n",
              "      <td>20.494480</td>\n",
              "      <td>-7.416092</td>\n",
              "      <td>11.431699</td>\n",
              "      <td>27.414604</td>\n",
              "      <td>19.066383</td>\n",
              "    </tr>\n",
              "    <tr>\n",
              "      <th>3</th>\n",
              "      <td>BK0005-C</td>\n",
              "      <td>RCA_5</td>\n",
              "      <td>Alessandra della Torre</td>\n",
              "      <td>Central African Republic</td>\n",
              "      <td>Bangui</td>\n",
              "      <td>1993</td>\n",
              "      <td>12</td>\n",
              "      <td>4.367</td>\n",
              "      <td>18.583</td>\n",
              "      <td>F</td>\n",
              "      <td>...</td>\n",
              "      <td>-33.820469</td>\n",
              "      <td>27.688166</td>\n",
              "      <td>-5.853162</td>\n",
              "      <td>-42.041260</td>\n",
              "      <td>-33.047440</td>\n",
              "      <td>-1.248967</td>\n",
              "      <td>15.343317</td>\n",
              "      <td>-30.329405</td>\n",
              "      <td>-25.888927</td>\n",
              "      <td>35.828346</td>\n",
              "    </tr>\n",
              "    <tr>\n",
              "      <th>4</th>\n",
              "      <td>BK0006-C</td>\n",
              "      <td>RCA_6</td>\n",
              "      <td>Alessandra della Torre</td>\n",
              "      <td>Central African Republic</td>\n",
              "      <td>Bangui</td>\n",
              "      <td>1993</td>\n",
              "      <td>12</td>\n",
              "      <td>4.367</td>\n",
              "      <td>18.583</td>\n",
              "      <td>F</td>\n",
              "      <td>...</td>\n",
              "      <td>0.536623</td>\n",
              "      <td>23.135866</td>\n",
              "      <td>-22.943718</td>\n",
              "      <td>32.390057</td>\n",
              "      <td>-35.382080</td>\n",
              "      <td>-2.934742</td>\n",
              "      <td>-5.479561</td>\n",
              "      <td>12.927936</td>\n",
              "      <td>37.466919</td>\n",
              "      <td>-8.200203</td>\n",
              "    </tr>\n",
              "  </tbody>\n",
              "</table>\n",
              "<p>5 rows × 46 columns</p>\n",
              "</div>\n",
              "      <button class=\"colab-df-convert\" onclick=\"convertToInteractive('df-f212cf4d-f304-4964-b8b2-5d28a8c7d2f5')\"\n",
              "              title=\"Convert this dataframe to an interactive table.\"\n",
              "              style=\"display:none;\">\n",
              "        \n",
              "  <svg xmlns=\"http://www.w3.org/2000/svg\" height=\"24px\"viewBox=\"0 0 24 24\"\n",
              "       width=\"24px\">\n",
              "    <path d=\"M0 0h24v24H0V0z\" fill=\"none\"/>\n",
              "    <path d=\"M18.56 5.44l.94 2.06.94-2.06 2.06-.94-2.06-.94-.94-2.06-.94 2.06-2.06.94zm-11 1L8.5 8.5l.94-2.06 2.06-.94-2.06-.94L8.5 2.5l-.94 2.06-2.06.94zm10 10l.94 2.06.94-2.06 2.06-.94-2.06-.94-.94-2.06-.94 2.06-2.06.94z\"/><path d=\"M17.41 7.96l-1.37-1.37c-.4-.4-.92-.59-1.43-.59-.52 0-1.04.2-1.43.59L10.3 9.45l-7.72 7.72c-.78.78-.78 2.05 0 2.83L4 21.41c.39.39.9.59 1.41.59.51 0 1.02-.2 1.41-.59l7.78-7.78 2.81-2.81c.8-.78.8-2.07 0-2.86zM5.41 20L4 18.59l7.72-7.72 1.47 1.35L5.41 20z\"/>\n",
              "  </svg>\n",
              "      </button>\n",
              "      \n",
              "  <style>\n",
              "    .colab-df-container {\n",
              "      display:flex;\n",
              "      flex-wrap:wrap;\n",
              "      gap: 12px;\n",
              "    }\n",
              "\n",
              "    .colab-df-convert {\n",
              "      background-color: #E8F0FE;\n",
              "      border: none;\n",
              "      border-radius: 50%;\n",
              "      cursor: pointer;\n",
              "      display: none;\n",
              "      fill: #1967D2;\n",
              "      height: 32px;\n",
              "      padding: 0 0 0 0;\n",
              "      width: 32px;\n",
              "    }\n",
              "\n",
              "    .colab-df-convert:hover {\n",
              "      background-color: #E2EBFA;\n",
              "      box-shadow: 0px 1px 2px rgba(60, 64, 67, 0.3), 0px 1px 3px 1px rgba(60, 64, 67, 0.15);\n",
              "      fill: #174EA6;\n",
              "    }\n",
              "\n",
              "    [theme=dark] .colab-df-convert {\n",
              "      background-color: #3B4455;\n",
              "      fill: #D2E3FC;\n",
              "    }\n",
              "\n",
              "    [theme=dark] .colab-df-convert:hover {\n",
              "      background-color: #434B5C;\n",
              "      box-shadow: 0px 1px 3px 1px rgba(0, 0, 0, 0.15);\n",
              "      filter: drop-shadow(0px 1px 2px rgba(0, 0, 0, 0.3));\n",
              "      fill: #FFFFFF;\n",
              "    }\n",
              "  </style>\n",
              "\n",
              "      <script>\n",
              "        const buttonEl =\n",
              "          document.querySelector('#df-f212cf4d-f304-4964-b8b2-5d28a8c7d2f5 button.colab-df-convert');\n",
              "        buttonEl.style.display =\n",
              "          google.colab.kernel.accessAllowed ? 'block' : 'none';\n",
              "\n",
              "        async function convertToInteractive(key) {\n",
              "          const element = document.querySelector('#df-f212cf4d-f304-4964-b8b2-5d28a8c7d2f5');\n",
              "          const dataTable =\n",
              "            await google.colab.kernel.invokeFunction('convertToInteractive',\n",
              "                                                     [key], {});\n",
              "          if (!dataTable) return;\n",
              "\n",
              "          const docLinkHtml = 'Like what you see? Visit the ' +\n",
              "            '<a target=\"_blank\" href=https://colab.research.google.com/notebooks/data_table.ipynb>data table notebook</a>'\n",
              "            + ' to learn more about interactive tables.';\n",
              "          element.innerHTML = '';\n",
              "          dataTable['output_type'] = 'display_data';\n",
              "          await google.colab.output.renderOutput(dataTable, element);\n",
              "          const docLink = document.createElement('div');\n",
              "          docLink.innerHTML = docLinkHtml;\n",
              "          element.appendChild(docLink);\n",
              "        }\n",
              "      </script>\n",
              "    </div>\n",
              "  </div>\n",
              "  "
            ]
          },
          "metadata": {},
          "execution_count": 12
        }
      ]
    },
    {
      "cell_type": "markdown",
      "source": [
        "There are 46 columns, so we can't fit them all our screen. If we access the column headers we can see that the first 26 columns are all metadata relating to the mosquito sample, _e.g._ its sample ID, collection site, taxon, _etc._ \n",
        "  \n"
      ],
      "metadata": {
        "id": "YZF9bUR3r6PU"
      }
    },
    {
      "cell_type": "code",
      "source": [
        "pca_df.columns"
      ],
      "metadata": {
        "colab": {
          "base_uri": "https://localhost:8080/"
        },
        "id": "7W3AGHACm-Lv",
        "outputId": "fd967527-fc51-4dfd-81e0-9848fee36005"
      },
      "execution_count": 13,
      "outputs": [
        {
          "output_type": "execute_result",
          "data": {
            "text/plain": [
              "Index(['sample_id', 'partner_sample_id', 'contributor', 'country', 'location',\n",
              "       'year', 'month', 'latitude', 'longitude', 'sex_call', 'sample_set',\n",
              "       'release', 'aim_species_fraction_colu', 'aim_species_fraction_arab',\n",
              "       'aim_species_gambcolu_arabiensis', 'aim_species_gambiae_coluzzii',\n",
              "       'aim_species', 'country_iso', 'admin1_name', 'admin1_iso',\n",
              "       'admin2_name', 'taxon', 'cohort_admin1_year', 'cohort_admin1_month',\n",
              "       'cohort_admin2_year', 'cohort_admin2_month', 'PC1', 'PC2', 'PC3', 'PC4',\n",
              "       'PC5', 'PC6', 'PC7', 'PC8', 'PC9', 'PC10', 'PC11', 'PC12', 'PC13',\n",
              "       'PC14', 'PC15', 'PC16', 'PC17', 'PC18', 'PC19', 'PC20'],\n",
              "      dtype='object')"
            ]
          },
          "metadata": {},
          "execution_count": 13
        }
      ]
    },
    {
      "cell_type": "markdown",
      "source": [
        "If we use the `.groupby` function we can see that all samples were collected from a single location over two consecutive years."
      ],
      "metadata": {
        "id": "vkqN-6Kuh1Tr"
      }
    },
    {
      "cell_type": "code",
      "source": [
        "pca_df.groupby([\"country\", \"location\", \"year\"]).size()"
      ],
      "metadata": {
        "colab": {
          "base_uri": "https://localhost:8080/"
        },
        "id": "n5wiF7Vkr-8g",
        "outputId": "e123bda0-89ce-45ca-da79-95a859f57ef0"
      },
      "execution_count": 15,
      "outputs": [
        {
          "output_type": "execute_result",
          "data": {
            "text/plain": [
              "country                   location  year\n",
              "Central African Republic  Bangui    1993     7\n",
              "                                    1994    66\n",
              "dtype: int64"
            ]
          },
          "metadata": {},
          "execution_count": 15
        }
      ]
    },
    {
      "cell_type": "markdown",
      "source": [
        "The last 20 columns, all beginning \"PC...\", are the results of our PCA analysis. For each sample we have generated a value for each of 20 principal components. We could return results for more or less principal components using the `n_components` parameter in `ag3.pca()`, but 20 is a good starting point."
      ],
      "metadata": {
        "id": "6fQlmD3-mxeQ"
      }
    },
    {
      "cell_type": "markdown",
      "source": [
        "We can examine these principal components and look for population structure in our dataset, by plotting one against another. As we know, the components are ordered by how much variance in the data they explain, so let's look at PC1 and PC2 first.\n",
        "  \n",
        "We can use plotly express to make a simple scatter plot of these principal components."
      ],
      "metadata": {
        "id": "onUPiUIV1ZqE"
      }
    },
    {
      "cell_type": "code",
      "source": [
        "fig = px.scatter(pca_df, x=\"PC1\", y=\"PC2\")\n",
        "fig.show()"
      ],
      "metadata": {
        "colab": {
          "base_uri": "https://localhost:8080/",
          "height": 542
        },
        "id": "qxvFaI0W3lPy",
        "outputId": "df495495-46e6-40ed-e9e3-9cfd4529575a"
      },
      "execution_count": 16,
      "outputs": [
        {
          "output_type": "display_data",
          "data": {
            "text/html": [
              "<html>\n",
              "<head><meta charset=\"utf-8\" /></head>\n",
              "<body>\n",
              "    <div>            <script src=\"https://cdnjs.cloudflare.com/ajax/libs/mathjax/2.7.5/MathJax.js?config=TeX-AMS-MML_SVG\"></script><script type=\"text/javascript\">if (window.MathJax) {MathJax.Hub.Config({SVG: {font: \"STIX-Web\"}});}</script>                <script type=\"text/javascript\">window.PlotlyConfig = {MathJaxConfig: 'local'};</script>\n",
              "        <script src=\"https://cdn.plot.ly/plotly-2.8.3.min.js\"></script>                <div id=\"d988df10-1a59-4914-88ee-c29a87ac8a79\" class=\"plotly-graph-div\" style=\"height:525px; width:100%;\"></div>            <script type=\"text/javascript\">                                    window.PLOTLYENV=window.PLOTLYENV || {};                                    if (document.getElementById(\"d988df10-1a59-4914-88ee-c29a87ac8a79\")) {                    Plotly.newPlot(                        \"d988df10-1a59-4914-88ee-c29a87ac8a79\",                        [{\"hovertemplate\":\"PC1=%{x}<br>PC2=%{y}<extra></extra>\",\"legendgroup\":\"\",\"marker\":{\"color\":\"#636efa\",\"symbol\":\"circle\"},\"mode\":\"markers\",\"name\":\"\",\"orientation\":\"v\",\"showlegend\":false,\"x\":[-40.993587493896484,129.70843505859375,125.37174987792969,-41.94329071044922,127.04403686523438,121.70821380615234,122.74730682373047,-44.98594665527344,-42.71522903442383,-44.47288131713867,-39.69000244140625,119.25560760498047,121.70420837402344,-40.24506378173828,129.11924743652344,-45.12895584106445,-45.83346176147461,130.5204315185547,-42.14131164550781,-36.81336975097656,122.15354919433594,127.19790649414062,-38.424705505371094,-39.02146911621094,-37.26272964477539,-67.07439422607422,120.19449615478516,-39.645835876464844,-40.01866149902344,-37.12965393066406,129.2140655517578,-43.471431732177734,-34.298851013183594,-36.87159729003906,-39.687461853027344,127.64602661132812,127.43596649169922,-40.26290512084961,-36.44341278076172,-40.82802963256836,-39.83571243286133,-43.932708740234375,-36.007720947265625,-37.28010177612305,-40.47563934326172,-41.5926513671875,-50.28535461425781,-34.641082763671875,-46.11738204956055,-42.13734817504883,-38.0485725402832,-40.00279235839844,-39.463443756103516,-37.57219696044922,-41.635589599609375,-38.77401351928711,127.55375671386719,-41.3074951171875,125.65177154541016,-42.20001220703125,-39.40257263183594,-42.06240463256836,-37.776546478271484,-36.933597564697266,-41.9597282409668,-39.61069107055664,-45.891822814941406,121.69947814941406,-68.61184692382812,-32.143924713134766,-34.571815490722656,-31.916458129882812,-38.35263442993164],\"xaxis\":\"x\",\"y\":[-11.848797798156738,7.114359378814697,11.356471061706543,-22.575050354003906,11.374041557312012,12.783090591430664,6.385237216949463,-13.430822372436523,-16.206806182861328,-24.17457389831543,-22.406368255615234,4.834904193878174,9.560715675354004,-24.260040283203125,12.347025871276855,13.970307350158691,-25.723493576049805,8.122922897338867,-8.195378303527832,-18.994361877441406,3.5214667320251465,2.211822509765625,-2.1258325576782227,-13.292228698730469,-17.438961029052734,360.12384033203125,6.695886611938477,-12.797083854675293,-16.52304458618164,-26.200300216674805,2.39284348487854,-17.924468994140625,-19.164012908935547,-21.880834579467773,-21.024612426757812,4.224723815917969,4.292415142059326,-24.53952407836914,-17.369901657104492,16.00046730041504,-9.840730667114258,-20.054767608642578,-20.47557258605957,-21.866479873657227,-13.229692459106445,-11.527039527893066,-7.53035306930542,-21.186864852905273,-25.97785186767578,-19.631040573120117,-0.06051551178097725,-17.46282958984375,-14.343762397766113,-12.78221607208252,-16.993438720703125,-11.069519996643066,7.886701583862305,-8.907455444335938,2.8909220695495605,-21.964197158813477,-12.94167709350586,-18.485483169555664,-25.54104995727539,-20.919145584106445,-17.177886962890625,-13.157981872558594,-14.23957633972168,5.18964147567749,360.77801513671875,-20.87643051147461,-15.098953247070312,-21.020275115966797,-21.61383628845215],\"yaxis\":\"y\",\"type\":\"scatter\"}],                        {\"template\":{\"data\":{\"bar\":[{\"error_x\":{\"color\":\"#2a3f5f\"},\"error_y\":{\"color\":\"#2a3f5f\"},\"marker\":{\"line\":{\"color\":\"#E5ECF6\",\"width\":0.5},\"pattern\":{\"fillmode\":\"overlay\",\"size\":10,\"solidity\":0.2}},\"type\":\"bar\"}],\"barpolar\":[{\"marker\":{\"line\":{\"color\":\"#E5ECF6\",\"width\":0.5},\"pattern\":{\"fillmode\":\"overlay\",\"size\":10,\"solidity\":0.2}},\"type\":\"barpolar\"}],\"carpet\":[{\"aaxis\":{\"endlinecolor\":\"#2a3f5f\",\"gridcolor\":\"white\",\"linecolor\":\"white\",\"minorgridcolor\":\"white\",\"startlinecolor\":\"#2a3f5f\"},\"baxis\":{\"endlinecolor\":\"#2a3f5f\",\"gridcolor\":\"white\",\"linecolor\":\"white\",\"minorgridcolor\":\"white\",\"startlinecolor\":\"#2a3f5f\"},\"type\":\"carpet\"}],\"choropleth\":[{\"colorbar\":{\"outlinewidth\":0,\"ticks\":\"\"},\"type\":\"choropleth\"}],\"contour\":[{\"colorbar\":{\"outlinewidth\":0,\"ticks\":\"\"},\"colorscale\":[[0.0,\"#0d0887\"],[0.1111111111111111,\"#46039f\"],[0.2222222222222222,\"#7201a8\"],[0.3333333333333333,\"#9c179e\"],[0.4444444444444444,\"#bd3786\"],[0.5555555555555556,\"#d8576b\"],[0.6666666666666666,\"#ed7953\"],[0.7777777777777778,\"#fb9f3a\"],[0.8888888888888888,\"#fdca26\"],[1.0,\"#f0f921\"]],\"type\":\"contour\"}],\"contourcarpet\":[{\"colorbar\":{\"outlinewidth\":0,\"ticks\":\"\"},\"type\":\"contourcarpet\"}],\"heatmap\":[{\"colorbar\":{\"outlinewidth\":0,\"ticks\":\"\"},\"colorscale\":[[0.0,\"#0d0887\"],[0.1111111111111111,\"#46039f\"],[0.2222222222222222,\"#7201a8\"],[0.3333333333333333,\"#9c179e\"],[0.4444444444444444,\"#bd3786\"],[0.5555555555555556,\"#d8576b\"],[0.6666666666666666,\"#ed7953\"],[0.7777777777777778,\"#fb9f3a\"],[0.8888888888888888,\"#fdca26\"],[1.0,\"#f0f921\"]],\"type\":\"heatmap\"}],\"heatmapgl\":[{\"colorbar\":{\"outlinewidth\":0,\"ticks\":\"\"},\"colorscale\":[[0.0,\"#0d0887\"],[0.1111111111111111,\"#46039f\"],[0.2222222222222222,\"#7201a8\"],[0.3333333333333333,\"#9c179e\"],[0.4444444444444444,\"#bd3786\"],[0.5555555555555556,\"#d8576b\"],[0.6666666666666666,\"#ed7953\"],[0.7777777777777778,\"#fb9f3a\"],[0.8888888888888888,\"#fdca26\"],[1.0,\"#f0f921\"]],\"type\":\"heatmapgl\"}],\"histogram\":[{\"marker\":{\"pattern\":{\"fillmode\":\"overlay\",\"size\":10,\"solidity\":0.2}},\"type\":\"histogram\"}],\"histogram2d\":[{\"colorbar\":{\"outlinewidth\":0,\"ticks\":\"\"},\"colorscale\":[[0.0,\"#0d0887\"],[0.1111111111111111,\"#46039f\"],[0.2222222222222222,\"#7201a8\"],[0.3333333333333333,\"#9c179e\"],[0.4444444444444444,\"#bd3786\"],[0.5555555555555556,\"#d8576b\"],[0.6666666666666666,\"#ed7953\"],[0.7777777777777778,\"#fb9f3a\"],[0.8888888888888888,\"#fdca26\"],[1.0,\"#f0f921\"]],\"type\":\"histogram2d\"}],\"histogram2dcontour\":[{\"colorbar\":{\"outlinewidth\":0,\"ticks\":\"\"},\"colorscale\":[[0.0,\"#0d0887\"],[0.1111111111111111,\"#46039f\"],[0.2222222222222222,\"#7201a8\"],[0.3333333333333333,\"#9c179e\"],[0.4444444444444444,\"#bd3786\"],[0.5555555555555556,\"#d8576b\"],[0.6666666666666666,\"#ed7953\"],[0.7777777777777778,\"#fb9f3a\"],[0.8888888888888888,\"#fdca26\"],[1.0,\"#f0f921\"]],\"type\":\"histogram2dcontour\"}],\"mesh3d\":[{\"colorbar\":{\"outlinewidth\":0,\"ticks\":\"\"},\"type\":\"mesh3d\"}],\"parcoords\":[{\"line\":{\"colorbar\":{\"outlinewidth\":0,\"ticks\":\"\"}},\"type\":\"parcoords\"}],\"pie\":[{\"automargin\":true,\"type\":\"pie\"}],\"scatter\":[{\"marker\":{\"colorbar\":{\"outlinewidth\":0,\"ticks\":\"\"}},\"type\":\"scatter\"}],\"scatter3d\":[{\"line\":{\"colorbar\":{\"outlinewidth\":0,\"ticks\":\"\"}},\"marker\":{\"colorbar\":{\"outlinewidth\":0,\"ticks\":\"\"}},\"type\":\"scatter3d\"}],\"scattercarpet\":[{\"marker\":{\"colorbar\":{\"outlinewidth\":0,\"ticks\":\"\"}},\"type\":\"scattercarpet\"}],\"scattergeo\":[{\"marker\":{\"colorbar\":{\"outlinewidth\":0,\"ticks\":\"\"}},\"type\":\"scattergeo\"}],\"scattergl\":[{\"marker\":{\"colorbar\":{\"outlinewidth\":0,\"ticks\":\"\"}},\"type\":\"scattergl\"}],\"scattermapbox\":[{\"marker\":{\"colorbar\":{\"outlinewidth\":0,\"ticks\":\"\"}},\"type\":\"scattermapbox\"}],\"scatterpolar\":[{\"marker\":{\"colorbar\":{\"outlinewidth\":0,\"ticks\":\"\"}},\"type\":\"scatterpolar\"}],\"scatterpolargl\":[{\"marker\":{\"colorbar\":{\"outlinewidth\":0,\"ticks\":\"\"}},\"type\":\"scatterpolargl\"}],\"scatterternary\":[{\"marker\":{\"colorbar\":{\"outlinewidth\":0,\"ticks\":\"\"}},\"type\":\"scatterternary\"}],\"surface\":[{\"colorbar\":{\"outlinewidth\":0,\"ticks\":\"\"},\"colorscale\":[[0.0,\"#0d0887\"],[0.1111111111111111,\"#46039f\"],[0.2222222222222222,\"#7201a8\"],[0.3333333333333333,\"#9c179e\"],[0.4444444444444444,\"#bd3786\"],[0.5555555555555556,\"#d8576b\"],[0.6666666666666666,\"#ed7953\"],[0.7777777777777778,\"#fb9f3a\"],[0.8888888888888888,\"#fdca26\"],[1.0,\"#f0f921\"]],\"type\":\"surface\"}],\"table\":[{\"cells\":{\"fill\":{\"color\":\"#EBF0F8\"},\"line\":{\"color\":\"white\"}},\"header\":{\"fill\":{\"color\":\"#C8D4E3\"},\"line\":{\"color\":\"white\"}},\"type\":\"table\"}]},\"layout\":{\"annotationdefaults\":{\"arrowcolor\":\"#2a3f5f\",\"arrowhead\":0,\"arrowwidth\":1},\"autotypenumbers\":\"strict\",\"coloraxis\":{\"colorbar\":{\"outlinewidth\":0,\"ticks\":\"\"}},\"colorscale\":{\"diverging\":[[0,\"#8e0152\"],[0.1,\"#c51b7d\"],[0.2,\"#de77ae\"],[0.3,\"#f1b6da\"],[0.4,\"#fde0ef\"],[0.5,\"#f7f7f7\"],[0.6,\"#e6f5d0\"],[0.7,\"#b8e186\"],[0.8,\"#7fbc41\"],[0.9,\"#4d9221\"],[1,\"#276419\"]],\"sequential\":[[0.0,\"#0d0887\"],[0.1111111111111111,\"#46039f\"],[0.2222222222222222,\"#7201a8\"],[0.3333333333333333,\"#9c179e\"],[0.4444444444444444,\"#bd3786\"],[0.5555555555555556,\"#d8576b\"],[0.6666666666666666,\"#ed7953\"],[0.7777777777777778,\"#fb9f3a\"],[0.8888888888888888,\"#fdca26\"],[1.0,\"#f0f921\"]],\"sequentialminus\":[[0.0,\"#0d0887\"],[0.1111111111111111,\"#46039f\"],[0.2222222222222222,\"#7201a8\"],[0.3333333333333333,\"#9c179e\"],[0.4444444444444444,\"#bd3786\"],[0.5555555555555556,\"#d8576b\"],[0.6666666666666666,\"#ed7953\"],[0.7777777777777778,\"#fb9f3a\"],[0.8888888888888888,\"#fdca26\"],[1.0,\"#f0f921\"]]},\"colorway\":[\"#636efa\",\"#EF553B\",\"#00cc96\",\"#ab63fa\",\"#FFA15A\",\"#19d3f3\",\"#FF6692\",\"#B6E880\",\"#FF97FF\",\"#FECB52\"],\"font\":{\"color\":\"#2a3f5f\"},\"geo\":{\"bgcolor\":\"white\",\"lakecolor\":\"white\",\"landcolor\":\"#E5ECF6\",\"showlakes\":true,\"showland\":true,\"subunitcolor\":\"white\"},\"hoverlabel\":{\"align\":\"left\"},\"hovermode\":\"closest\",\"mapbox\":{\"style\":\"light\"},\"paper_bgcolor\":\"white\",\"plot_bgcolor\":\"#E5ECF6\",\"polar\":{\"angularaxis\":{\"gridcolor\":\"white\",\"linecolor\":\"white\",\"ticks\":\"\"},\"bgcolor\":\"#E5ECF6\",\"radialaxis\":{\"gridcolor\":\"white\",\"linecolor\":\"white\",\"ticks\":\"\"}},\"scene\":{\"xaxis\":{\"backgroundcolor\":\"#E5ECF6\",\"gridcolor\":\"white\",\"gridwidth\":2,\"linecolor\":\"white\",\"showbackground\":true,\"ticks\":\"\",\"zerolinecolor\":\"white\"},\"yaxis\":{\"backgroundcolor\":\"#E5ECF6\",\"gridcolor\":\"white\",\"gridwidth\":2,\"linecolor\":\"white\",\"showbackground\":true,\"ticks\":\"\",\"zerolinecolor\":\"white\"},\"zaxis\":{\"backgroundcolor\":\"#E5ECF6\",\"gridcolor\":\"white\",\"gridwidth\":2,\"linecolor\":\"white\",\"showbackground\":true,\"ticks\":\"\",\"zerolinecolor\":\"white\"}},\"shapedefaults\":{\"line\":{\"color\":\"#2a3f5f\"}},\"ternary\":{\"aaxis\":{\"gridcolor\":\"white\",\"linecolor\":\"white\",\"ticks\":\"\"},\"baxis\":{\"gridcolor\":\"white\",\"linecolor\":\"white\",\"ticks\":\"\"},\"bgcolor\":\"#E5ECF6\",\"caxis\":{\"gridcolor\":\"white\",\"linecolor\":\"white\",\"ticks\":\"\"}},\"title\":{\"x\":0.05},\"xaxis\":{\"automargin\":true,\"gridcolor\":\"white\",\"linecolor\":\"white\",\"ticks\":\"\",\"title\":{\"standoff\":15},\"zerolinecolor\":\"white\",\"zerolinewidth\":2},\"yaxis\":{\"automargin\":true,\"gridcolor\":\"white\",\"linecolor\":\"white\",\"ticks\":\"\",\"title\":{\"standoff\":15},\"zerolinecolor\":\"white\",\"zerolinewidth\":2}}},\"xaxis\":{\"anchor\":\"y\",\"domain\":[0.0,1.0],\"title\":{\"text\":\"PC1\"}},\"yaxis\":{\"anchor\":\"x\",\"domain\":[0.0,1.0],\"title\":{\"text\":\"PC2\"}},\"legend\":{\"tracegroupgap\":0},\"margin\":{\"t\":60}},                        {\"responsive\": true}                    ).then(function(){\n",
              "                            \n",
              "var gd = document.getElementById('d988df10-1a59-4914-88ee-c29a87ac8a79');\n",
              "var x = new MutationObserver(function (mutations, observer) {{\n",
              "        var display = window.getComputedStyle(gd).display;\n",
              "        if (!display || display === 'none') {{\n",
              "            console.log([gd, 'removed!']);\n",
              "            Plotly.purge(gd);\n",
              "            observer.disconnect();\n",
              "        }}\n",
              "}});\n",
              "\n",
              "// Listen for the removal of the full notebook cells\n",
              "var notebookContainer = gd.closest('#notebook-container');\n",
              "if (notebookContainer) {{\n",
              "    x.observe(notebookContainer, {childList: true});\n",
              "}}\n",
              "\n",
              "// Listen for the clearing of the current output cell\n",
              "var outputEl = gd.closest('.output');\n",
              "if (outputEl) {{\n",
              "    x.observe(outputEl, {childList: true});\n",
              "}}\n",
              "\n",
              "                        })                };                            </script>        </div>\n",
              "</body>\n",
              "</html>"
            ]
          },
          "metadata": {}
        }
      ]
    },
    {
      "cell_type": "markdown",
      "source": [
        "Each point here is a sample, so we can see that PC1 pulls apart two large clusters of samples and PC2 separates out two samples. Though this plot is informative, we could add some more data to make it easier to interpret. For example if we coloured the points by taxon, we could spot if any clustering is being potentially driven by reproductive isolation between species.\n",
        "  \n",
        "We could add more parameters to our plotly express argument above to achieve this, but to streamline our analysis process we have added a function within `malariagen_data` called `ag3.plot_pca_coords()` that will do this for us."
      ],
      "metadata": {
        "id": "BN3cZgaX6v__"
      }
    },
    {
      "cell_type": "code",
      "source": [
        "ag3.plot_pca_coords?"
      ],
      "metadata": {
        "id": "pAovHhaWKQXN"
      },
      "execution_count": 17,
      "outputs": []
    },
    {
      "cell_type": "markdown",
      "source": [
        "The documentation shows us that the only required parameter is our PCA output `data`. We're going to also use the optional parameter `color` to pick the taxon column to define point colour.  "
      ],
      "metadata": {
        "id": "gbDiKfNOKaBa"
      }
    },
    {
      "cell_type": "code",
      "source": [
        "ag3.plot_pca_coords(\n",
        "    pca_df,\n",
        "    color=\"taxon\",\n",
        ")"
      ],
      "metadata": {
        "colab": {
          "base_uri": "https://localhost:8080/",
          "height": 617
        },
        "id": "5YWOMdzr01tQ",
        "outputId": "94ee36a7-41b8-4549-ae3c-a67627e8c113"
      },
      "execution_count": 18,
      "outputs": [
        {
          "output_type": "display_data",
          "data": {
            "text/html": [
              "<html>\n",
              "<head><meta charset=\"utf-8\" /></head>\n",
              "<body>\n",
              "    <div>            <script src=\"https://cdnjs.cloudflare.com/ajax/libs/mathjax/2.7.5/MathJax.js?config=TeX-AMS-MML_SVG\"></script><script type=\"text/javascript\">if (window.MathJax) {MathJax.Hub.Config({SVG: {font: \"STIX-Web\"}});}</script>                <script type=\"text/javascript\">window.PlotlyConfig = {MathJaxConfig: 'local'};</script>\n",
              "        <script src=\"https://cdn.plot.ly/plotly-2.8.3.min.js\"></script>                <div id=\"e302bcc2-88b5-484d-90c4-0a9c9d3b1a54\" class=\"plotly-graph-div\" style=\"height:600px; width:900px;\"></div>            <script type=\"text/javascript\">                                    window.PLOTLYENV=window.PLOTLYENV || {};                                    if (document.getElementById(\"e302bcc2-88b5-484d-90c4-0a9c9d3b1a54\")) {                    Plotly.newPlot(                        \"e302bcc2-88b5-484d-90c4-0a9c9d3b1a54\",                        [{\"customdata\":[[\"RCA_81\",\"AG1000G-CF\",\"gambiae\",\"Central African Republic\",\"CF-BGF\",\"Bangui\",\"Bangui\",\"Bangui\",1994,1],[\"RCA_25\",\"AG1000G-CF\",\"gambiae\",\"Central African Republic\",\"CF-BGF\",\"Bangui\",\"Bangui\",\"Bangui\",1994,1],[\"RCA_1\",\"AG1000G-CF\",\"gambiae\",\"Central African Republic\",\"CF-BGF\",\"Bangui\",\"Bangui\",\"Bangui\",1993,12],[\"RCA_39\",\"AG1000G-CF\",\"gambiae\",\"Central African Republic\",\"CF-BGF\",\"Bangui\",\"Bangui\",\"Bangui\",1994,1],[\"RCA_102\",\"AG1000G-CF\",\"gambiae\",\"Central African Republic\",\"CF-BGF\",\"Bangui\",\"Bangui\",\"Bangui\",1994,1],[\"RCA_14\",\"AG1000G-CF\",\"gambiae\",\"Central African Republic\",\"CF-BGF\",\"Bangui\",\"Bangui\",\"Bangui\",1994,1],[\"RCA_46\",\"AG1000G-CF\",\"gambiae\",\"Central African Republic\",\"CF-BGF\",\"Bangui\",\"Bangui\",\"Bangui\",1994,1],[\"RCA_71\",\"AG1000G-CF\",\"gambiae\",\"Central African Republic\",\"CF-BGF\",\"Bangui\",\"Bangui\",\"Bangui\",1994,1],[\"RCA_85\",\"AG1000G-CF\",\"gambiae\",\"Central African Republic\",\"CF-BGF\",\"Bangui\",\"Bangui\",\"Bangui\",1994,1],[\"RCA_43\",\"AG1000G-CF\",\"gambiae\",\"Central African Republic\",\"CF-BGF\",\"Bangui\",\"Bangui\",\"Bangui\",1994,1],[\"RCA_12\",\"AG1000G-CF\",\"gambiae\",\"Central African Republic\",\"CF-BGF\",\"Bangui\",\"Bangui\",\"Bangui\",1994,1],[\"RCA_60\",\"AG1000G-CF\",\"gambiae\",\"Central African Republic\",\"CF-BGF\",\"Bangui\",\"Bangui\",\"Bangui\",1994,1],[\"RCA_32\",\"AG1000G-CF\",\"gambiae\",\"Central African Republic\",\"CF-BGF\",\"Bangui\",\"Bangui\",\"Bangui\",1994,1],[\"RCA_73\",\"AG1000G-CF\",\"gambiae\",\"Central African Republic\",\"CF-BGF\",\"Bangui\",\"Bangui\",\"Bangui\",1994,1],[\"RCA_65\",\"AG1000G-CF\",\"gambiae\",\"Central African Republic\",\"CF-BGF\",\"Bangui\",\"Bangui\",\"Bangui\",1994,1],[\"RCA_45\",\"AG1000G-CF\",\"gambiae\",\"Central African Republic\",\"CF-BGF\",\"Bangui\",\"Bangui\",\"Bangui\",1994,1],[\"RCA_53\",\"AG1000G-CF\",\"gambiae\",\"Central African Republic\",\"CF-BGF\",\"Bangui\",\"Bangui\",\"Bangui\",1994,1],[\"RCA_93\",\"AG1000G-CF\",\"gambiae\",\"Central African Republic\",\"CF-BGF\",\"Bangui\",\"Bangui\",\"Bangui\",1994,1],[\"RCA_21\",\"AG1000G-CF\",\"gambiae\",\"Central African Republic\",\"CF-BGF\",\"Bangui\",\"Bangui\",\"Bangui\",1994,1],[\"RCA_58\",\"AG1000G-CF\",\"gambiae\",\"Central African Republic\",\"CF-BGF\",\"Bangui\",\"Bangui\",\"Bangui\",1994,1],[\"RCA_78\",\"AG1000G-CF\",\"gambiae\",\"Central African Republic\",\"CF-BGF\",\"Bangui\",\"Bangui\",\"Bangui\",1994,1],[\"RCA_10\",\"AG1000G-CF\",\"gambiae\",\"Central African Republic\",\"CF-BGF\",\"Bangui\",\"Bangui\",\"Bangui\",1994,1],[\"RCA_56\",\"AG1000G-CF\",\"gambiae\",\"Central African Republic\",\"CF-BGF\",\"Bangui\",\"Bangui\",\"Bangui\",1994,1],[\"RCA_62\",\"AG1000G-CF\",\"gambiae\",\"Central African Republic\",\"CF-BGF\",\"Bangui\",\"Bangui\",\"Bangui\",1994,1],[\"RCA_64\",\"AG1000G-CF\",\"gambiae\",\"Central African Republic\",\"CF-BGF\",\"Bangui\",\"Bangui\",\"Bangui\",1994,1],[\"RCA_27\",\"AG1000G-CF\",\"gambiae\",\"Central African Republic\",\"CF-BGF\",\"Bangui\",\"Bangui\",\"Bangui\",1994,1],[\"RCA_76\",\"AG1000G-CF\",\"gambiae\",\"Central African Republic\",\"CF-BGF\",\"Bangui\",\"Bangui\",\"Bangui\",1994,1],[\"RCA_36\",\"AG1000G-CF\",\"gambiae\",\"Central African Republic\",\"CF-BGF\",\"Bangui\",\"Bangui\",\"Bangui\",1994,1],[\"RCA_54\",\"AG1000G-CF\",\"gambiae\",\"Central African Republic\",\"CF-BGF\",\"Bangui\",\"Bangui\",\"Bangui\",1994,1],[\"RCA_17\",\"AG1000G-CF\",\"gambiae\",\"Central African Republic\",\"CF-BGF\",\"Bangui\",\"Bangui\",\"Bangui\",1994,1],[\"RCA_69\",\"AG1000G-CF\",\"gambiae\",\"Central African Republic\",\"CF-BGF\",\"Bangui\",\"Bangui\",\"Bangui\",1994,1],[\"RCA_5\",\"AG1000G-CF\",\"gambiae\",\"Central African Republic\",\"CF-BGF\",\"Bangui\",\"Bangui\",\"Bangui\",1993,12],[\"RCA_52\",\"AG1000G-CF\",\"gambiae\",\"Central African Republic\",\"CF-BGF\",\"Bangui\",\"Bangui\",\"Bangui\",1994,1],[\"RCA_11\",\"AG1000G-CF\",\"gambiae\",\"Central African Republic\",\"CF-BGF\",\"Bangui\",\"Bangui\",\"Bangui\",1994,1],[\"RCA_70\",\"AG1000G-CF\",\"gambiae\",\"Central African Republic\",\"CF-BGF\",\"Bangui\",\"Bangui\",\"Bangui\",1994,1],[\"RCA_61\",\"AG1000G-CF\",\"gambiae\",\"Central African Republic\",\"CF-BGF\",\"Bangui\",\"Bangui\",\"Bangui\",1994,1],[\"RCA_94\",\"AG1000G-CF\",\"gambiae\",\"Central African Republic\",\"CF-BGF\",\"Bangui\",\"Bangui\",\"Bangui\",1994,1],[\"RCA_20\",\"AG1000G-CF\",\"gambiae\",\"Central African Republic\",\"CF-BGF\",\"Bangui\",\"Bangui\",\"Bangui\",1994,1],[\"RCA_38\",\"AG1000G-CF\",\"gambiae\",\"Central African Republic\",\"CF-BGF\",\"Bangui\",\"Bangui\",\"Bangui\",1994,1],[\"RCA_55\",\"AG1000G-CF\",\"gambiae\",\"Central African Republic\",\"CF-BGF\",\"Bangui\",\"Bangui\",\"Bangui\",1994,1],[\"RCA_63\",\"AG1000G-CF\",\"gambiae\",\"Central African Republic\",\"CF-BGF\",\"Bangui\",\"Bangui\",\"Bangui\",1994,1],[\"RCA_35\",\"AG1000G-CF\",\"gambiae\",\"Central African Republic\",\"CF-BGF\",\"Bangui\",\"Bangui\",\"Bangui\",1994,1],[\"RCA_79\",\"AG1000G-CF\",\"gambiae\",\"Central African Republic\",\"CF-BGF\",\"Bangui\",\"Bangui\",\"Bangui\",1994,1],[\"RCA_88\",\"AG1000G-CF\",\"gambiae\",\"Central African Republic\",\"CF-BGF\",\"Bangui\",\"Bangui\",\"Bangui\",1994,1],[\"RCA_44\",\"AG1000G-CF\",\"gambiae\",\"Central African Republic\",\"CF-BGF\",\"Bangui\",\"Bangui\",\"Bangui\",1994,1],[\"RCA_91\",\"AG1000G-CF\",\"gambiae\",\"Central African Republic\",\"CF-BGF\",\"Bangui\",\"Bangui\",\"Bangui\",1994,1],[\"RCA_84\",\"AG1000G-CF\",\"gambiae\",\"Central African Republic\",\"CF-BGF\",\"Bangui\",\"Bangui\",\"Bangui\",1994,1],[\"RCA_50\",\"AG1000G-CF\",\"gambiae\",\"Central African Republic\",\"CF-BGF\",\"Bangui\",\"Bangui\",\"Bangui\",1994,1],[\"RCA_40\",\"AG1000G-CF\",\"gambiae\",\"Central African Republic\",\"CF-BGF\",\"Bangui\",\"Bangui\",\"Bangui\",1994,1],[\"RCA_57\",\"AG1000G-CF\",\"gambiae\",\"Central African Republic\",\"CF-BGF\",\"Bangui\",\"Bangui\",\"Bangui\",1994,1],[\"RCA_90\",\"AG1000G-CF\",\"gambiae\",\"Central African Republic\",\"CF-BGF\",\"Bangui\",\"Bangui\",\"Bangui\",1994,1],[\"RCA_68\",\"AG1000G-CF\",\"gambiae\",\"Central African Republic\",\"CF-BGF\",\"Bangui\",\"Bangui\",\"Bangui\",1994,1],[\"RCA_33\",\"AG1000G-CF\",\"gambiae\",\"Central African Republic\",\"CF-BGF\",\"Bangui\",\"Bangui\",\"Bangui\",1994,1],[\"RCA_77\",\"AG1000G-CF\",\"gambiae\",\"Central African Republic\",\"CF-BGF\",\"Bangui\",\"Bangui\",\"Bangui\",1994,1],[\"RCA_66\",\"AG1000G-CF\",\"gambiae\",\"Central African Republic\",\"CF-BGF\",\"Bangui\",\"Bangui\",\"Bangui\",1994,1]],\"hovertemplate\":\"<b>%{hovertext}</b><br><br>taxon=%{customdata[2]}<br>PC1=%{x}<br>PC2=%{y}<br>partner_sample_id=%{customdata[0]}<br>sample_set=%{customdata[1]}<br>country=%{customdata[3]}<br>admin1_iso=%{customdata[4]}<br>admin1_name=%{customdata[5]}<br>admin2_name=%{customdata[6]}<br>location=%{customdata[7]}<br>year=%{customdata[8]}<br>month=%{customdata[9]}<extra></extra>\",\"hovertext\":[\"BK0074-C\",\"BK0022-C\",\"BK0001-C\",\"BK0033-C\",\"BK0094-CW\",\"BK0013-C\",\"BK0040-C\",\"BK0064-C\",\"BK0078-C\",\"BK0037-C\",\"BK0011-C\",\"BK0053-C\",\"BK0026-C\",\"BK0066-C\",\"BK0058-C\",\"BK0039-C\",\"BK0046-C\",\"BK0085-C\",\"BK0019-C\",\"BK0051-C\",\"BK0071-C\",\"BK0009-C\",\"BK0049-C\",\"BK0055-C\",\"BK0057-C\",\"BK0023-C\",\"BK0069-C\",\"BK0030-C\",\"BK0047-C\",\"BK0016-C\",\"BK0062-C\",\"BK0005-C\",\"BK0045-C\",\"BK0010-C\",\"BK0063-C\",\"BK0054-C\",\"BK0086-C\",\"BK0018-C\",\"BK0032-C\",\"BK0048-C\",\"BK0056-C\",\"BK0029-C\",\"BK0072-C\",\"BK0080-C\",\"BK0038-C\",\"BK0083-C\",\"BK0077-C\",\"BK0043-C\",\"BK0034-C\",\"BK0050-C\",\"BK0082-C\",\"BK0061-C\",\"BK0027-C\",\"BK0070-C\",\"BK0059-C\"],\"legendgroup\":\"gambiae\",\"marker\":{\"color\":\"#636EFA\",\"opacity\":0.9,\"symbol\":\"circle\",\"size\":10},\"mode\":\"markers\",\"name\":\"gambiae\",\"orientation\":\"v\",\"showlegend\":true,\"x\":[-33.343526894217874,-40.29341235679843,-40.207743944063374,-42.758573173839686,-41.09273822841631,-43.209995129005215,-36.770762244250825,-37.11665485937085,-43.429375149416,-39.72846295123609,-41.824878896579044,-43.88395409956338,-40.94648075726984,-42.86676264447701,-37.85138035480198,-37.41367502992504,-42.490950311957924,-33.68087461966492,-48.70499811830765,-41.54010616853241,-42.412319997963216,-42.714437097305925,-35.89433950111962,-38.25373727173864,-41.28072211929354,-39.43774102865458,-45.6645028987803,-63.49889023435065,-36.12681772638549,-37.788589117897494,-39.12850517328026,-45.14794945520186,-36.920115591990836,-45.725804532802385,-40.341052288366605,-51.785130711209014,-31.756610498644115,-44.756894866972154,-42.15606188895153,-40.19233046630338,-42.61664502529284,-34.117814849494316,-36.99674464466699,-42.531471709489786,-36.72043602486387,-35.76632175844133,-43.351023009362336,-41.1496229187102,-38.9509254615009,-34.66161180784715,-69.75284838122002,-39.12335702330882,-42.410297103646634,-37.23406378367337,-43.94145265666015],\"xaxis\":\"x\",\"y\":[-17.717173326481305,-4.650545979833721,-7.649768127522407,-23.11646390969003,-23.80466404576044,-28.352382024418436,-15.404086344982492,-13.687071895261196,-19.913720046813413,-20.850298702719936,-26.880584439826077,-7.972935044373271,3.8678848345439407,-9.33754430244781,-5.948866626082312,-18.579990238769874,20.03719365173983,-14.150435379669483,-21.52915666345477,-12.877807978408038,-19.6070853554689,-20.77692264569702,-27.728642359928187,-24.060473240845937,-19.498373707986882,-12.685586378463714,-25.844935991212395,358.73664571320853,-5.88502070391303,-28.458009444755195,-19.330200146286295,-25.829515496281054,-10.718554712511008,-11.437369966465878,-10.916965924204447,-6.921369289355653,-16.261368183271806,20.101457108979858,-15.614232200897687,-26.090825581505683,-27.106160074067574,-12.516368294085128,-19.957253421075915,-21.871529696346467,-20.442418943664038,-25.17796056563072,-23.062041353158325,-27.053100374736086,-19.344442173725323,-24.60314513469833,361.0688776625864,-16.454657867179442,-17.13442345882597,-16.023908142202934,-24.631417947080166],\"yaxis\":\"y\",\"type\":\"scatter\"},{\"customdata\":[[\"RCA_6\",\"AG1000G-CF\",\"coluzzii\",\"Central African Republic\",\"CF-BGF\",\"Bangui\",\"Bangui\",\"Bangui\",1993,12],[\"RCA_16\",\"AG1000G-CF\",\"coluzzii\",\"Central African Republic\",\"CF-BGF\",\"Bangui\",\"Bangui\",\"Bangui\",1994,1],[\"RCA_7\",\"AG1000G-CF\",\"coluzzii\",\"Central African Republic\",\"CF-BGF\",\"Bangui\",\"Bangui\",\"Bangui\",1993,12],[\"RCA_48\",\"AG1000G-CF\",\"coluzzii\",\"Central African Republic\",\"CF-BGF\",\"Bangui\",\"Bangui\",\"Bangui\",1994,1],[\"RCA_72\",\"AG1000G-CF\",\"coluzzii\",\"Central African Republic\",\"CF-BGF\",\"Bangui\",\"Bangui\",\"Bangui\",1994,1],[\"RCA_41\",\"AG1000G-CF\",\"coluzzii\",\"Central African Republic\",\"CF-BGF\",\"Bangui\",\"Bangui\",\"Bangui\",1994,1],[\"RCA_24\",\"AG1000G-CF\",\"coluzzii\",\"Central African Republic\",\"CF-BGF\",\"Bangui\",\"Bangui\",\"Bangui\",1994,1],[\"RCA_74\",\"AG1000G-CF\",\"coluzzii\",\"Central African Republic\",\"CF-BGF\",\"Bangui\",\"Bangui\",\"Bangui\",1994,1],[\"RCA_8\",\"AG1000G-CF\",\"coluzzii\",\"Central African Republic\",\"CF-BGF\",\"Bangui\",\"Bangui\",\"Bangui\",1993,12],[\"RCA_49\",\"AG1000G-CF\",\"coluzzii\",\"Central African Republic\",\"CF-BGF\",\"Bangui\",\"Bangui\",\"Bangui\",1994,1],[\"RCA_89\",\"AG1000G-CF\",\"coluzzii\",\"Central African Republic\",\"CF-BGF\",\"Bangui\",\"Bangui\",\"Bangui\",1994,1],[\"RCA_37\",\"AG1000G-CF\",\"coluzzii\",\"Central African Republic\",\"CF-BGF\",\"Bangui\",\"Bangui\",\"Bangui\",1994,1],[\"RCA_15\",\"AG1000G-CF\",\"coluzzii\",\"Central African Republic\",\"CF-BGF\",\"Bangui\",\"Bangui\",\"Bangui\",1994,1],[\"RCA_2\",\"AG1000G-CF\",\"coluzzii\",\"Central African Republic\",\"CF-BGF\",\"Bangui\",\"Bangui\",\"Bangui\",1993,12],[\"RCA_29\",\"AG1000G-CF\",\"coluzzii\",\"Central African Republic\",\"CF-BGF\",\"Bangui\",\"Bangui\",\"Bangui\",1994,1],[\"RCA_3\",\"AG1000G-CF\",\"coluzzii\",\"Central African Republic\",\"CF-BGF\",\"Bangui\",\"Bangui\",\"Bangui\",1993,12],[\"RCA_28\",\"AG1000G-CF\",\"coluzzii\",\"Central African Republic\",\"CF-BGF\",\"Bangui\",\"Bangui\",\"Bangui\",1994,1],[\"RCA_19\",\"AG1000G-CF\",\"coluzzii\",\"Central African Republic\",\"CF-BGF\",\"Bangui\",\"Bangui\",\"Bangui\",1994,1]],\"hovertemplate\":\"<b>%{hovertext}</b><br><br>taxon=%{customdata[2]}<br>PC1=%{x}<br>PC2=%{y}<br>partner_sample_id=%{customdata[0]}<br>sample_set=%{customdata[1]}<br>country=%{customdata[3]}<br>admin1_iso=%{customdata[4]}<br>admin1_name=%{customdata[5]}<br>admin2_name=%{customdata[6]}<br>location=%{customdata[7]}<br>year=%{customdata[8]}<br>month=%{customdata[9]}<extra></extra>\",\"hovertext\":[\"BK0006-C\",\"BK0015-C\",\"BK0007-C\",\"BK0041-C\",\"BK0065-C\",\"BK0035-C\",\"BK0021-C\",\"BK0067-C\",\"BK0008-C\",\"BK0042-C\",\"BK0081-C\",\"BK0031-C\",\"BK0014-C\",\"BK0002-C\",\"BK0025-C\",\"BK0003-C\",\"BK0024-C\",\"BK0017-C\"],\"legendgroup\":\"coluzzii\",\"marker\":{\"color\":\"#EF553B\",\"opacity\":0.9,\"symbol\":\"circle\",\"size\":10},\"mode\":\"markers\",\"name\":\"coluzzii\",\"orientation\":\"v\",\"showlegend\":true,\"x\":[126.04471238575296,122.50961888094957,119.17385703721115,125.99039822238315,125.16157095247561,129.95017449810857,131.98790121190277,125.61335423026316,119.03857583736031,130.69632266285524,119.77809047461798,122.38600919439253,115.97783057847946,127.96351465003177,124.33776340557102,127.77883681056812,126.03174539549966,126.71943012472101],\"xaxis\":\"x\",\"y\":[16.257110843009084,11.4692637315923,14.912360932603185,4.1286850292507475,1.817200983152138,4.504358330779393,2.878922275897403,4.955896507798279,12.135124953390275,8.992995491590746,0.3380178519336825,2.484558913281907,5.0012631157205565,10.256916766736929,9.514599933176534,18.514754067163828,3.478875989846367,9.016543350553793],\"yaxis\":\"y\",\"type\":\"scatter\"}],                        {\"template\":{\"data\":{\"barpolar\":[{\"marker\":{\"line\":{\"color\":\"white\",\"width\":0.5},\"pattern\":{\"fillmode\":\"overlay\",\"size\":10,\"solidity\":0.2}},\"type\":\"barpolar\"}],\"bar\":[{\"error_x\":{\"color\":\"rgb(36,36,36)\"},\"error_y\":{\"color\":\"rgb(36,36,36)\"},\"marker\":{\"line\":{\"color\":\"white\",\"width\":0.5},\"pattern\":{\"fillmode\":\"overlay\",\"size\":10,\"solidity\":0.2}},\"type\":\"bar\"}],\"carpet\":[{\"aaxis\":{\"endlinecolor\":\"rgb(36,36,36)\",\"gridcolor\":\"white\",\"linecolor\":\"white\",\"minorgridcolor\":\"white\",\"startlinecolor\":\"rgb(36,36,36)\"},\"baxis\":{\"endlinecolor\":\"rgb(36,36,36)\",\"gridcolor\":\"white\",\"linecolor\":\"white\",\"minorgridcolor\":\"white\",\"startlinecolor\":\"rgb(36,36,36)\"},\"type\":\"carpet\"}],\"choropleth\":[{\"colorbar\":{\"outlinewidth\":1,\"tickcolor\":\"rgb(36,36,36)\",\"ticks\":\"outside\"},\"type\":\"choropleth\"}],\"contourcarpet\":[{\"colorbar\":{\"outlinewidth\":1,\"tickcolor\":\"rgb(36,36,36)\",\"ticks\":\"outside\"},\"type\":\"contourcarpet\"}],\"contour\":[{\"colorbar\":{\"outlinewidth\":1,\"tickcolor\":\"rgb(36,36,36)\",\"ticks\":\"outside\"},\"colorscale\":[[0.0,\"#440154\"],[0.1111111111111111,\"#482878\"],[0.2222222222222222,\"#3e4989\"],[0.3333333333333333,\"#31688e\"],[0.4444444444444444,\"#26828e\"],[0.5555555555555556,\"#1f9e89\"],[0.6666666666666666,\"#35b779\"],[0.7777777777777778,\"#6ece58\"],[0.8888888888888888,\"#b5de2b\"],[1.0,\"#fde725\"]],\"type\":\"contour\"}],\"heatmapgl\":[{\"colorbar\":{\"outlinewidth\":1,\"tickcolor\":\"rgb(36,36,36)\",\"ticks\":\"outside\"},\"colorscale\":[[0.0,\"#440154\"],[0.1111111111111111,\"#482878\"],[0.2222222222222222,\"#3e4989\"],[0.3333333333333333,\"#31688e\"],[0.4444444444444444,\"#26828e\"],[0.5555555555555556,\"#1f9e89\"],[0.6666666666666666,\"#35b779\"],[0.7777777777777778,\"#6ece58\"],[0.8888888888888888,\"#b5de2b\"],[1.0,\"#fde725\"]],\"type\":\"heatmapgl\"}],\"heatmap\":[{\"colorbar\":{\"outlinewidth\":1,\"tickcolor\":\"rgb(36,36,36)\",\"ticks\":\"outside\"},\"colorscale\":[[0.0,\"#440154\"],[0.1111111111111111,\"#482878\"],[0.2222222222222222,\"#3e4989\"],[0.3333333333333333,\"#31688e\"],[0.4444444444444444,\"#26828e\"],[0.5555555555555556,\"#1f9e89\"],[0.6666666666666666,\"#35b779\"],[0.7777777777777778,\"#6ece58\"],[0.8888888888888888,\"#b5de2b\"],[1.0,\"#fde725\"]],\"type\":\"heatmap\"}],\"histogram2dcontour\":[{\"colorbar\":{\"outlinewidth\":1,\"tickcolor\":\"rgb(36,36,36)\",\"ticks\":\"outside\"},\"colorscale\":[[0.0,\"#440154\"],[0.1111111111111111,\"#482878\"],[0.2222222222222222,\"#3e4989\"],[0.3333333333333333,\"#31688e\"],[0.4444444444444444,\"#26828e\"],[0.5555555555555556,\"#1f9e89\"],[0.6666666666666666,\"#35b779\"],[0.7777777777777778,\"#6ece58\"],[0.8888888888888888,\"#b5de2b\"],[1.0,\"#fde725\"]],\"type\":\"histogram2dcontour\"}],\"histogram2d\":[{\"colorbar\":{\"outlinewidth\":1,\"tickcolor\":\"rgb(36,36,36)\",\"ticks\":\"outside\"},\"colorscale\":[[0.0,\"#440154\"],[0.1111111111111111,\"#482878\"],[0.2222222222222222,\"#3e4989\"],[0.3333333333333333,\"#31688e\"],[0.4444444444444444,\"#26828e\"],[0.5555555555555556,\"#1f9e89\"],[0.6666666666666666,\"#35b779\"],[0.7777777777777778,\"#6ece58\"],[0.8888888888888888,\"#b5de2b\"],[1.0,\"#fde725\"]],\"type\":\"histogram2d\"}],\"histogram\":[{\"marker\":{\"line\":{\"color\":\"white\",\"width\":0.6}},\"type\":\"histogram\"}],\"mesh3d\":[{\"colorbar\":{\"outlinewidth\":1,\"tickcolor\":\"rgb(36,36,36)\",\"ticks\":\"outside\"},\"type\":\"mesh3d\"}],\"parcoords\":[{\"line\":{\"colorbar\":{\"outlinewidth\":1,\"tickcolor\":\"rgb(36,36,36)\",\"ticks\":\"outside\"}},\"type\":\"parcoords\"}],\"pie\":[{\"automargin\":true,\"type\":\"pie\"}],\"scatter3d\":[{\"line\":{\"colorbar\":{\"outlinewidth\":1,\"tickcolor\":\"rgb(36,36,36)\",\"ticks\":\"outside\"}},\"marker\":{\"colorbar\":{\"outlinewidth\":1,\"tickcolor\":\"rgb(36,36,36)\",\"ticks\":\"outside\"}},\"type\":\"scatter3d\"}],\"scattercarpet\":[{\"marker\":{\"colorbar\":{\"outlinewidth\":1,\"tickcolor\":\"rgb(36,36,36)\",\"ticks\":\"outside\"}},\"type\":\"scattercarpet\"}],\"scattergeo\":[{\"marker\":{\"colorbar\":{\"outlinewidth\":1,\"tickcolor\":\"rgb(36,36,36)\",\"ticks\":\"outside\"}},\"type\":\"scattergeo\"}],\"scattergl\":[{\"marker\":{\"colorbar\":{\"outlinewidth\":1,\"tickcolor\":\"rgb(36,36,36)\",\"ticks\":\"outside\"}},\"type\":\"scattergl\"}],\"scattermapbox\":[{\"marker\":{\"colorbar\":{\"outlinewidth\":1,\"tickcolor\":\"rgb(36,36,36)\",\"ticks\":\"outside\"}},\"type\":\"scattermapbox\"}],\"scatterpolargl\":[{\"marker\":{\"colorbar\":{\"outlinewidth\":1,\"tickcolor\":\"rgb(36,36,36)\",\"ticks\":\"outside\"}},\"type\":\"scatterpolargl\"}],\"scatterpolar\":[{\"marker\":{\"colorbar\":{\"outlinewidth\":1,\"tickcolor\":\"rgb(36,36,36)\",\"ticks\":\"outside\"}},\"type\":\"scatterpolar\"}],\"scatter\":[{\"marker\":{\"colorbar\":{\"outlinewidth\":1,\"tickcolor\":\"rgb(36,36,36)\",\"ticks\":\"outside\"}},\"type\":\"scatter\"}],\"scatterternary\":[{\"marker\":{\"colorbar\":{\"outlinewidth\":1,\"tickcolor\":\"rgb(36,36,36)\",\"ticks\":\"outside\"}},\"type\":\"scatterternary\"}],\"surface\":[{\"colorbar\":{\"outlinewidth\":1,\"tickcolor\":\"rgb(36,36,36)\",\"ticks\":\"outside\"},\"colorscale\":[[0.0,\"#440154\"],[0.1111111111111111,\"#482878\"],[0.2222222222222222,\"#3e4989\"],[0.3333333333333333,\"#31688e\"],[0.4444444444444444,\"#26828e\"],[0.5555555555555556,\"#1f9e89\"],[0.6666666666666666,\"#35b779\"],[0.7777777777777778,\"#6ece58\"],[0.8888888888888888,\"#b5de2b\"],[1.0,\"#fde725\"]],\"type\":\"surface\"}],\"table\":[{\"cells\":{\"fill\":{\"color\":\"rgb(237,237,237)\"},\"line\":{\"color\":\"white\"}},\"header\":{\"fill\":{\"color\":\"rgb(217,217,217)\"},\"line\":{\"color\":\"white\"}},\"type\":\"table\"}]},\"layout\":{\"annotationdefaults\":{\"arrowhead\":0,\"arrowwidth\":1},\"autotypenumbers\":\"strict\",\"coloraxis\":{\"colorbar\":{\"outlinewidth\":1,\"tickcolor\":\"rgb(36,36,36)\",\"ticks\":\"outside\"}},\"colorscale\":{\"diverging\":[[0.0,\"rgb(103,0,31)\"],[0.1,\"rgb(178,24,43)\"],[0.2,\"rgb(214,96,77)\"],[0.3,\"rgb(244,165,130)\"],[0.4,\"rgb(253,219,199)\"],[0.5,\"rgb(247,247,247)\"],[0.6,\"rgb(209,229,240)\"],[0.7,\"rgb(146,197,222)\"],[0.8,\"rgb(67,147,195)\"],[0.9,\"rgb(33,102,172)\"],[1.0,\"rgb(5,48,97)\"]],\"sequential\":[[0.0,\"#440154\"],[0.1111111111111111,\"#482878\"],[0.2222222222222222,\"#3e4989\"],[0.3333333333333333,\"#31688e\"],[0.4444444444444444,\"#26828e\"],[0.5555555555555556,\"#1f9e89\"],[0.6666666666666666,\"#35b779\"],[0.7777777777777778,\"#6ece58\"],[0.8888888888888888,\"#b5de2b\"],[1.0,\"#fde725\"]],\"sequentialminus\":[[0.0,\"#440154\"],[0.1111111111111111,\"#482878\"],[0.2222222222222222,\"#3e4989\"],[0.3333333333333333,\"#31688e\"],[0.4444444444444444,\"#26828e\"],[0.5555555555555556,\"#1f9e89\"],[0.6666666666666666,\"#35b779\"],[0.7777777777777778,\"#6ece58\"],[0.8888888888888888,\"#b5de2b\"],[1.0,\"#fde725\"]]},\"colorway\":[\"#1F77B4\",\"#FF7F0E\",\"#2CA02C\",\"#D62728\",\"#9467BD\",\"#8C564B\",\"#E377C2\",\"#7F7F7F\",\"#BCBD22\",\"#17BECF\"],\"font\":{\"color\":\"rgb(36,36,36)\"},\"geo\":{\"bgcolor\":\"white\",\"lakecolor\":\"white\",\"landcolor\":\"white\",\"showlakes\":true,\"showland\":true,\"subunitcolor\":\"white\"},\"hoverlabel\":{\"align\":\"left\"},\"hovermode\":\"closest\",\"mapbox\":{\"style\":\"light\"},\"paper_bgcolor\":\"white\",\"plot_bgcolor\":\"white\",\"polar\":{\"angularaxis\":{\"gridcolor\":\"rgb(232,232,232)\",\"linecolor\":\"rgb(36,36,36)\",\"showgrid\":false,\"showline\":true,\"ticks\":\"outside\"},\"bgcolor\":\"white\",\"radialaxis\":{\"gridcolor\":\"rgb(232,232,232)\",\"linecolor\":\"rgb(36,36,36)\",\"showgrid\":false,\"showline\":true,\"ticks\":\"outside\"}},\"scene\":{\"xaxis\":{\"backgroundcolor\":\"white\",\"gridcolor\":\"rgb(232,232,232)\",\"gridwidth\":2,\"linecolor\":\"rgb(36,36,36)\",\"showbackground\":true,\"showgrid\":false,\"showline\":true,\"ticks\":\"outside\",\"zeroline\":false,\"zerolinecolor\":\"rgb(36,36,36)\"},\"yaxis\":{\"backgroundcolor\":\"white\",\"gridcolor\":\"rgb(232,232,232)\",\"gridwidth\":2,\"linecolor\":\"rgb(36,36,36)\",\"showbackground\":true,\"showgrid\":false,\"showline\":true,\"ticks\":\"outside\",\"zeroline\":false,\"zerolinecolor\":\"rgb(36,36,36)\"},\"zaxis\":{\"backgroundcolor\":\"white\",\"gridcolor\":\"rgb(232,232,232)\",\"gridwidth\":2,\"linecolor\":\"rgb(36,36,36)\",\"showbackground\":true,\"showgrid\":false,\"showline\":true,\"ticks\":\"outside\",\"zeroline\":false,\"zerolinecolor\":\"rgb(36,36,36)\"}},\"shapedefaults\":{\"fillcolor\":\"black\",\"line\":{\"width\":0},\"opacity\":0.3},\"ternary\":{\"aaxis\":{\"gridcolor\":\"rgb(232,232,232)\",\"linecolor\":\"rgb(36,36,36)\",\"showgrid\":false,\"showline\":true,\"ticks\":\"outside\"},\"baxis\":{\"gridcolor\":\"rgb(232,232,232)\",\"linecolor\":\"rgb(36,36,36)\",\"showgrid\":false,\"showline\":true,\"ticks\":\"outside\"},\"bgcolor\":\"white\",\"caxis\":{\"gridcolor\":\"rgb(232,232,232)\",\"linecolor\":\"rgb(36,36,36)\",\"showgrid\":false,\"showline\":true,\"ticks\":\"outside\"}},\"title\":{\"x\":0.05},\"xaxis\":{\"automargin\":true,\"gridcolor\":\"rgb(232,232,232)\",\"linecolor\":\"rgb(36,36,36)\",\"showgrid\":false,\"showline\":true,\"ticks\":\"outside\",\"title\":{\"standoff\":15},\"zeroline\":false,\"zerolinecolor\":\"rgb(36,36,36)\"},\"yaxis\":{\"automargin\":true,\"gridcolor\":\"rgb(232,232,232)\",\"linecolor\":\"rgb(36,36,36)\",\"showgrid\":false,\"showline\":true,\"ticks\":\"outside\",\"title\":{\"standoff\":15},\"zeroline\":false,\"zerolinecolor\":\"rgb(36,36,36)\"}}},\"xaxis\":{\"anchor\":\"y\",\"domain\":[0.0,1.0],\"title\":{\"text\":\"PC1\"}},\"yaxis\":{\"anchor\":\"x\",\"domain\":[0.0,1.0],\"title\":{\"text\":\"PC2\"}},\"legend\":{\"title\":{\"text\":\"taxon\"},\"tracegroupgap\":0,\"itemsizing\":\"constant\"},\"margin\":{\"t\":60},\"height\":600,\"width\":900},                        {\"responsive\": true}                    ).then(function(){\n",
              "                            \n",
              "var gd = document.getElementById('e302bcc2-88b5-484d-90c4-0a9c9d3b1a54');\n",
              "var x = new MutationObserver(function (mutations, observer) {{\n",
              "        var display = window.getComputedStyle(gd).display;\n",
              "        if (!display || display === 'none') {{\n",
              "            console.log([gd, 'removed!']);\n",
              "            Plotly.purge(gd);\n",
              "            observer.disconnect();\n",
              "        }}\n",
              "}});\n",
              "\n",
              "// Listen for the removal of the full notebook cells\n",
              "var notebookContainer = gd.closest('#notebook-container');\n",
              "if (notebookContainer) {{\n",
              "    x.observe(notebookContainer, {childList: true});\n",
              "}}\n",
              "\n",
              "// Listen for the clearing of the current output cell\n",
              "var outputEl = gd.closest('.output');\n",
              "if (outputEl) {{\n",
              "    x.observe(outputEl, {childList: true});\n",
              "}}\n",
              "\n",
              "                        })                };                            </script>        </div>\n",
              "</body>\n",
              "</html>"
            ]
          },
          "metadata": {}
        }
      ]
    },
    {
      "cell_type": "markdown",
      "source": [
        "By colouring the points according to taxon we can now see that PC1 is pulling apart samples according to whether they are _Anopheles gambiae_ or _coluzzii_, which is what we might expect of samples collected in the same place at a similar time but that are **reproductively isolated** as they are different species.\n",
        "  \n",
        "These plotly plots are interactive, if we hover over a sample's point we can see a lot of useful metadata (compare this to the simple plotly express plot we made earlier)."
      ],
      "metadata": {
        "id": "8uL-oZEt-H2R"
      }
    },
    {
      "cell_type": "markdown",
      "source": [
        "## Practical exercise  \n",
        "  \n",
        "Run the same analysis on the Central African republic sample set, but this time look at the \"2L\" chromosome arm region instead of \"3L\". Keep all the other parameters the same. Is the PC1 _vs._ PC2 scatter plot different when we look at \"2L\"? If so, what might be causing this?"
      ],
      "metadata": {
        "id": "tKAS9bYBV79l"
      }
    },
    {
      "cell_type": "code",
      "source": [
        "# region_ex1 = \"2L\"\n",
        "# n_snps_ex1 = ???\n",
        "# sample_sets_ex1 = ???\n",
        "\n",
        "# pca_ex1_df, evr_ex1 = ag3.pca(region=region_ex1, n_snps=n_snps_ex1, sample_sets=sample_sets_ex1)"
      ],
      "metadata": {
        "id": "Ed8r0eFsWv-P"
      },
      "execution_count": 19,
      "outputs": []
    },
    {
      "cell_type": "code",
      "source": [
        "# ag3.plot_pca_coords(\n",
        "#     pca_ex1_df,\n",
        "#     color=\"taxon\",\n",
        "# )"
      ],
      "metadata": {
        "id": "Z_NRtFoeW9CL"
      },
      "execution_count": 20,
      "outputs": []
    },
    {
      "cell_type": "markdown",
      "source": [
        "## Analysis output - `evr` - variance (how many PCs should I look at?)"
      ],
      "metadata": {
        "id": "GT5Tnsvh3x-R"
      }
    },
    {
      "cell_type": "markdown",
      "source": [
        "Let's now have a look at the `evr` output. We can see that this is an array of 20 floats (numbers with decimal points). These are the percentage of variance in the dataset explained by each of our 20 principal components."
      ],
      "metadata": {
        "id": "aPPfdnq0cCZm"
      }
    },
    {
      "cell_type": "code",
      "source": [
        "evr"
      ],
      "metadata": {
        "colab": {
          "base_uri": "https://localhost:8080/"
        },
        "id": "M2Xxgz12cCqI",
        "outputId": "b637a056-26c4-45a2-e07f-82bfce76a422"
      },
      "execution_count": 21,
      "outputs": [
        {
          "output_type": "execute_result",
          "data": {
            "text/plain": [
              "array([0.02522884, 0.01857756, 0.01526379, 0.01505552, 0.01497684,\n",
              "       0.01483036, 0.01463106, 0.01450839, 0.01448038, 0.01442636,\n",
              "       0.01439619, 0.01432505, 0.01430594, 0.01427412, 0.01422587,\n",
              "       0.01418706, 0.01414932, 0.01412117, 0.01410817, 0.01407575],\n",
              "      dtype=float32)"
            ]
          },
          "metadata": {},
          "execution_count": 21
        }
      ]
    },
    {
      "cell_type": "markdown",
      "source": [
        "\n",
        "If we look at our scatter plot of the 3L chromosome arm, it is clear that some of the _An. gambiae_ samples spread out along PC2. How do we know whether this is meaningful or just random noise? Should we also investigate the higher principal components _e.g._ PC3 _vs._ PC4? One way to get an intuition for this is to examine the variance explained by each of the components.\n",
        "  \n",
        "The easiest was to do this is to plot our `evr` array in the form of a bar chart. We have a handy function in `malariagen_data` to do this for us. Again, this is an interactive plot and hovering the pointer over a bar will reveal the exact explained variance percentage."
      ],
      "metadata": {
        "id": "dVAFzdX6M3N_"
      }
    },
    {
      "cell_type": "code",
      "source": [
        "ag3.plot_pca_variance(evr)"
      ],
      "metadata": {
        "colab": {
          "base_uri": "https://localhost:8080/",
          "height": 417
        },
        "id": "x_ll2PsYPNFK",
        "outputId": "2866fe52-ecb1-4d54-e9bf-8ae2b18caa7f"
      },
      "execution_count": 22,
      "outputs": [
        {
          "output_type": "display_data",
          "data": {
            "text/html": [
              "<html>\n",
              "<head><meta charset=\"utf-8\" /></head>\n",
              "<body>\n",
              "    <div>            <script src=\"https://cdnjs.cloudflare.com/ajax/libs/mathjax/2.7.5/MathJax.js?config=TeX-AMS-MML_SVG\"></script><script type=\"text/javascript\">if (window.MathJax) {MathJax.Hub.Config({SVG: {font: \"STIX-Web\"}});}</script>                <script type=\"text/javascript\">window.PlotlyConfig = {MathJaxConfig: 'local'};</script>\n",
              "        <script src=\"https://cdn.plot.ly/plotly-2.8.3.min.js\"></script>                <div id=\"b6652b28-258d-4c49-bba8-32c329e28b51\" class=\"plotly-graph-div\" style=\"height:400px; width:900px;\"></div>            <script type=\"text/javascript\">                                    window.PLOTLYENV=window.PLOTLYENV || {};                                    if (document.getElementById(\"b6652b28-258d-4c49-bba8-32c329e28b51\")) {                    Plotly.newPlot(                        \"b6652b28-258d-4c49-bba8-32c329e28b51\",                        [{\"alignmentgroup\":\"True\",\"hovertemplate\":\"Principal component=%{x}<br>Explained variance (%)=%{y}<extra></extra>\",\"legendgroup\":\"\",\"marker\":{\"color\":\"#1F77B4\",\"pattern\":{\"shape\":\"\"}},\"name\":\"\",\"offsetgroup\":\"\",\"orientation\":\"v\",\"showlegend\":false,\"textposition\":\"auto\",\"x\":[\"1\",\"2\",\"3\",\"4\",\"5\",\"6\",\"7\",\"8\",\"9\",\"10\",\"11\",\"12\",\"13\",\"14\",\"15\",\"16\",\"17\",\"18\",\"19\",\"20\"],\"xaxis\":\"x\",\"y\":[2.522883653640747,1.8577561378479004,1.526379108428955,1.5055519342422485,1.4976836442947388,1.483035683631897,1.4631060361862183,1.4508394002914429,1.448038101196289,1.4426356554031372,1.439618706703186,1.4325048923492432,1.4305938482284546,1.4274122714996338,1.4225866794586182,1.418705940246582,1.4149316549301147,1.4121166467666626,1.4108171463012695,1.4075753688812256],\"yaxis\":\"y\",\"type\":\"bar\"}],                        {\"template\":{\"data\":{\"barpolar\":[{\"marker\":{\"line\":{\"color\":\"white\",\"width\":0.5},\"pattern\":{\"fillmode\":\"overlay\",\"size\":10,\"solidity\":0.2}},\"type\":\"barpolar\"}],\"bar\":[{\"error_x\":{\"color\":\"rgb(36,36,36)\"},\"error_y\":{\"color\":\"rgb(36,36,36)\"},\"marker\":{\"line\":{\"color\":\"white\",\"width\":0.5},\"pattern\":{\"fillmode\":\"overlay\",\"size\":10,\"solidity\":0.2}},\"type\":\"bar\"}],\"carpet\":[{\"aaxis\":{\"endlinecolor\":\"rgb(36,36,36)\",\"gridcolor\":\"white\",\"linecolor\":\"white\",\"minorgridcolor\":\"white\",\"startlinecolor\":\"rgb(36,36,36)\"},\"baxis\":{\"endlinecolor\":\"rgb(36,36,36)\",\"gridcolor\":\"white\",\"linecolor\":\"white\",\"minorgridcolor\":\"white\",\"startlinecolor\":\"rgb(36,36,36)\"},\"type\":\"carpet\"}],\"choropleth\":[{\"colorbar\":{\"outlinewidth\":1,\"tickcolor\":\"rgb(36,36,36)\",\"ticks\":\"outside\"},\"type\":\"choropleth\"}],\"contourcarpet\":[{\"colorbar\":{\"outlinewidth\":1,\"tickcolor\":\"rgb(36,36,36)\",\"ticks\":\"outside\"},\"type\":\"contourcarpet\"}],\"contour\":[{\"colorbar\":{\"outlinewidth\":1,\"tickcolor\":\"rgb(36,36,36)\",\"ticks\":\"outside\"},\"colorscale\":[[0.0,\"#440154\"],[0.1111111111111111,\"#482878\"],[0.2222222222222222,\"#3e4989\"],[0.3333333333333333,\"#31688e\"],[0.4444444444444444,\"#26828e\"],[0.5555555555555556,\"#1f9e89\"],[0.6666666666666666,\"#35b779\"],[0.7777777777777778,\"#6ece58\"],[0.8888888888888888,\"#b5de2b\"],[1.0,\"#fde725\"]],\"type\":\"contour\"}],\"heatmapgl\":[{\"colorbar\":{\"outlinewidth\":1,\"tickcolor\":\"rgb(36,36,36)\",\"ticks\":\"outside\"},\"colorscale\":[[0.0,\"#440154\"],[0.1111111111111111,\"#482878\"],[0.2222222222222222,\"#3e4989\"],[0.3333333333333333,\"#31688e\"],[0.4444444444444444,\"#26828e\"],[0.5555555555555556,\"#1f9e89\"],[0.6666666666666666,\"#35b779\"],[0.7777777777777778,\"#6ece58\"],[0.8888888888888888,\"#b5de2b\"],[1.0,\"#fde725\"]],\"type\":\"heatmapgl\"}],\"heatmap\":[{\"colorbar\":{\"outlinewidth\":1,\"tickcolor\":\"rgb(36,36,36)\",\"ticks\":\"outside\"},\"colorscale\":[[0.0,\"#440154\"],[0.1111111111111111,\"#482878\"],[0.2222222222222222,\"#3e4989\"],[0.3333333333333333,\"#31688e\"],[0.4444444444444444,\"#26828e\"],[0.5555555555555556,\"#1f9e89\"],[0.6666666666666666,\"#35b779\"],[0.7777777777777778,\"#6ece58\"],[0.8888888888888888,\"#b5de2b\"],[1.0,\"#fde725\"]],\"type\":\"heatmap\"}],\"histogram2dcontour\":[{\"colorbar\":{\"outlinewidth\":1,\"tickcolor\":\"rgb(36,36,36)\",\"ticks\":\"outside\"},\"colorscale\":[[0.0,\"#440154\"],[0.1111111111111111,\"#482878\"],[0.2222222222222222,\"#3e4989\"],[0.3333333333333333,\"#31688e\"],[0.4444444444444444,\"#26828e\"],[0.5555555555555556,\"#1f9e89\"],[0.6666666666666666,\"#35b779\"],[0.7777777777777778,\"#6ece58\"],[0.8888888888888888,\"#b5de2b\"],[1.0,\"#fde725\"]],\"type\":\"histogram2dcontour\"}],\"histogram2d\":[{\"colorbar\":{\"outlinewidth\":1,\"tickcolor\":\"rgb(36,36,36)\",\"ticks\":\"outside\"},\"colorscale\":[[0.0,\"#440154\"],[0.1111111111111111,\"#482878\"],[0.2222222222222222,\"#3e4989\"],[0.3333333333333333,\"#31688e\"],[0.4444444444444444,\"#26828e\"],[0.5555555555555556,\"#1f9e89\"],[0.6666666666666666,\"#35b779\"],[0.7777777777777778,\"#6ece58\"],[0.8888888888888888,\"#b5de2b\"],[1.0,\"#fde725\"]],\"type\":\"histogram2d\"}],\"histogram\":[{\"marker\":{\"line\":{\"color\":\"white\",\"width\":0.6}},\"type\":\"histogram\"}],\"mesh3d\":[{\"colorbar\":{\"outlinewidth\":1,\"tickcolor\":\"rgb(36,36,36)\",\"ticks\":\"outside\"},\"type\":\"mesh3d\"}],\"parcoords\":[{\"line\":{\"colorbar\":{\"outlinewidth\":1,\"tickcolor\":\"rgb(36,36,36)\",\"ticks\":\"outside\"}},\"type\":\"parcoords\"}],\"pie\":[{\"automargin\":true,\"type\":\"pie\"}],\"scatter3d\":[{\"line\":{\"colorbar\":{\"outlinewidth\":1,\"tickcolor\":\"rgb(36,36,36)\",\"ticks\":\"outside\"}},\"marker\":{\"colorbar\":{\"outlinewidth\":1,\"tickcolor\":\"rgb(36,36,36)\",\"ticks\":\"outside\"}},\"type\":\"scatter3d\"}],\"scattercarpet\":[{\"marker\":{\"colorbar\":{\"outlinewidth\":1,\"tickcolor\":\"rgb(36,36,36)\",\"ticks\":\"outside\"}},\"type\":\"scattercarpet\"}],\"scattergeo\":[{\"marker\":{\"colorbar\":{\"outlinewidth\":1,\"tickcolor\":\"rgb(36,36,36)\",\"ticks\":\"outside\"}},\"type\":\"scattergeo\"}],\"scattergl\":[{\"marker\":{\"colorbar\":{\"outlinewidth\":1,\"tickcolor\":\"rgb(36,36,36)\",\"ticks\":\"outside\"}},\"type\":\"scattergl\"}],\"scattermapbox\":[{\"marker\":{\"colorbar\":{\"outlinewidth\":1,\"tickcolor\":\"rgb(36,36,36)\",\"ticks\":\"outside\"}},\"type\":\"scattermapbox\"}],\"scatterpolargl\":[{\"marker\":{\"colorbar\":{\"outlinewidth\":1,\"tickcolor\":\"rgb(36,36,36)\",\"ticks\":\"outside\"}},\"type\":\"scatterpolargl\"}],\"scatterpolar\":[{\"marker\":{\"colorbar\":{\"outlinewidth\":1,\"tickcolor\":\"rgb(36,36,36)\",\"ticks\":\"outside\"}},\"type\":\"scatterpolar\"}],\"scatter\":[{\"marker\":{\"colorbar\":{\"outlinewidth\":1,\"tickcolor\":\"rgb(36,36,36)\",\"ticks\":\"outside\"}},\"type\":\"scatter\"}],\"scatterternary\":[{\"marker\":{\"colorbar\":{\"outlinewidth\":1,\"tickcolor\":\"rgb(36,36,36)\",\"ticks\":\"outside\"}},\"type\":\"scatterternary\"}],\"surface\":[{\"colorbar\":{\"outlinewidth\":1,\"tickcolor\":\"rgb(36,36,36)\",\"ticks\":\"outside\"},\"colorscale\":[[0.0,\"#440154\"],[0.1111111111111111,\"#482878\"],[0.2222222222222222,\"#3e4989\"],[0.3333333333333333,\"#31688e\"],[0.4444444444444444,\"#26828e\"],[0.5555555555555556,\"#1f9e89\"],[0.6666666666666666,\"#35b779\"],[0.7777777777777778,\"#6ece58\"],[0.8888888888888888,\"#b5de2b\"],[1.0,\"#fde725\"]],\"type\":\"surface\"}],\"table\":[{\"cells\":{\"fill\":{\"color\":\"rgb(237,237,237)\"},\"line\":{\"color\":\"white\"}},\"header\":{\"fill\":{\"color\":\"rgb(217,217,217)\"},\"line\":{\"color\":\"white\"}},\"type\":\"table\"}]},\"layout\":{\"annotationdefaults\":{\"arrowhead\":0,\"arrowwidth\":1},\"autotypenumbers\":\"strict\",\"coloraxis\":{\"colorbar\":{\"outlinewidth\":1,\"tickcolor\":\"rgb(36,36,36)\",\"ticks\":\"outside\"}},\"colorscale\":{\"diverging\":[[0.0,\"rgb(103,0,31)\"],[0.1,\"rgb(178,24,43)\"],[0.2,\"rgb(214,96,77)\"],[0.3,\"rgb(244,165,130)\"],[0.4,\"rgb(253,219,199)\"],[0.5,\"rgb(247,247,247)\"],[0.6,\"rgb(209,229,240)\"],[0.7,\"rgb(146,197,222)\"],[0.8,\"rgb(67,147,195)\"],[0.9,\"rgb(33,102,172)\"],[1.0,\"rgb(5,48,97)\"]],\"sequential\":[[0.0,\"#440154\"],[0.1111111111111111,\"#482878\"],[0.2222222222222222,\"#3e4989\"],[0.3333333333333333,\"#31688e\"],[0.4444444444444444,\"#26828e\"],[0.5555555555555556,\"#1f9e89\"],[0.6666666666666666,\"#35b779\"],[0.7777777777777778,\"#6ece58\"],[0.8888888888888888,\"#b5de2b\"],[1.0,\"#fde725\"]],\"sequentialminus\":[[0.0,\"#440154\"],[0.1111111111111111,\"#482878\"],[0.2222222222222222,\"#3e4989\"],[0.3333333333333333,\"#31688e\"],[0.4444444444444444,\"#26828e\"],[0.5555555555555556,\"#1f9e89\"],[0.6666666666666666,\"#35b779\"],[0.7777777777777778,\"#6ece58\"],[0.8888888888888888,\"#b5de2b\"],[1.0,\"#fde725\"]]},\"colorway\":[\"#1F77B4\",\"#FF7F0E\",\"#2CA02C\",\"#D62728\",\"#9467BD\",\"#8C564B\",\"#E377C2\",\"#7F7F7F\",\"#BCBD22\",\"#17BECF\"],\"font\":{\"color\":\"rgb(36,36,36)\"},\"geo\":{\"bgcolor\":\"white\",\"lakecolor\":\"white\",\"landcolor\":\"white\",\"showlakes\":true,\"showland\":true,\"subunitcolor\":\"white\"},\"hoverlabel\":{\"align\":\"left\"},\"hovermode\":\"closest\",\"mapbox\":{\"style\":\"light\"},\"paper_bgcolor\":\"white\",\"plot_bgcolor\":\"white\",\"polar\":{\"angularaxis\":{\"gridcolor\":\"rgb(232,232,232)\",\"linecolor\":\"rgb(36,36,36)\",\"showgrid\":false,\"showline\":true,\"ticks\":\"outside\"},\"bgcolor\":\"white\",\"radialaxis\":{\"gridcolor\":\"rgb(232,232,232)\",\"linecolor\":\"rgb(36,36,36)\",\"showgrid\":false,\"showline\":true,\"ticks\":\"outside\"}},\"scene\":{\"xaxis\":{\"backgroundcolor\":\"white\",\"gridcolor\":\"rgb(232,232,232)\",\"gridwidth\":2,\"linecolor\":\"rgb(36,36,36)\",\"showbackground\":true,\"showgrid\":false,\"showline\":true,\"ticks\":\"outside\",\"zeroline\":false,\"zerolinecolor\":\"rgb(36,36,36)\"},\"yaxis\":{\"backgroundcolor\":\"white\",\"gridcolor\":\"rgb(232,232,232)\",\"gridwidth\":2,\"linecolor\":\"rgb(36,36,36)\",\"showbackground\":true,\"showgrid\":false,\"showline\":true,\"ticks\":\"outside\",\"zeroline\":false,\"zerolinecolor\":\"rgb(36,36,36)\"},\"zaxis\":{\"backgroundcolor\":\"white\",\"gridcolor\":\"rgb(232,232,232)\",\"gridwidth\":2,\"linecolor\":\"rgb(36,36,36)\",\"showbackground\":true,\"showgrid\":false,\"showline\":true,\"ticks\":\"outside\",\"zeroline\":false,\"zerolinecolor\":\"rgb(36,36,36)\"}},\"shapedefaults\":{\"fillcolor\":\"black\",\"line\":{\"width\":0},\"opacity\":0.3},\"ternary\":{\"aaxis\":{\"gridcolor\":\"rgb(232,232,232)\",\"linecolor\":\"rgb(36,36,36)\",\"showgrid\":false,\"showline\":true,\"ticks\":\"outside\"},\"baxis\":{\"gridcolor\":\"rgb(232,232,232)\",\"linecolor\":\"rgb(36,36,36)\",\"showgrid\":false,\"showline\":true,\"ticks\":\"outside\"},\"bgcolor\":\"white\",\"caxis\":{\"gridcolor\":\"rgb(232,232,232)\",\"linecolor\":\"rgb(36,36,36)\",\"showgrid\":false,\"showline\":true,\"ticks\":\"outside\"}},\"title\":{\"x\":0.05},\"xaxis\":{\"automargin\":true,\"gridcolor\":\"rgb(232,232,232)\",\"linecolor\":\"rgb(36,36,36)\",\"showgrid\":false,\"showline\":true,\"ticks\":\"outside\",\"title\":{\"standoff\":15},\"zeroline\":false,\"zerolinecolor\":\"rgb(36,36,36)\"},\"yaxis\":{\"automargin\":true,\"gridcolor\":\"rgb(232,232,232)\",\"linecolor\":\"rgb(36,36,36)\",\"showgrid\":false,\"showline\":true,\"ticks\":\"outside\",\"title\":{\"standoff\":15},\"zeroline\":false,\"zerolinecolor\":\"rgb(36,36,36)\"}}},\"xaxis\":{\"anchor\":\"y\",\"domain\":[0.0,1.0],\"title\":{\"text\":\"Principal component\"}},\"yaxis\":{\"anchor\":\"x\",\"domain\":[0.0,1.0],\"title\":{\"text\":\"Explained variance (%)\"}},\"legend\":{\"tracegroupgap\":0},\"margin\":{\"t\":60},\"barmode\":\"relative\",\"height\":400,\"width\":900},                        {\"responsive\": true}                    ).then(function(){\n",
              "                            \n",
              "var gd = document.getElementById('b6652b28-258d-4c49-bba8-32c329e28b51');\n",
              "var x = new MutationObserver(function (mutations, observer) {{\n",
              "        var display = window.getComputedStyle(gd).display;\n",
              "        if (!display || display === 'none') {{\n",
              "            console.log([gd, 'removed!']);\n",
              "            Plotly.purge(gd);\n",
              "            observer.disconnect();\n",
              "        }}\n",
              "}});\n",
              "\n",
              "// Listen for the removal of the full notebook cells\n",
              "var notebookContainer = gd.closest('#notebook-container');\n",
              "if (notebookContainer) {{\n",
              "    x.observe(notebookContainer, {childList: true});\n",
              "}}\n",
              "\n",
              "// Listen for the clearing of the current output cell\n",
              "var outputEl = gd.closest('.output');\n",
              "if (outputEl) {{\n",
              "    x.observe(outputEl, {childList: true});\n",
              "}}\n",
              "\n",
              "                        })                };                            </script>        </div>\n",
              "</body>\n",
              "</html>"
            ]
          },
          "metadata": {}
        }
      ]
    },
    {
      "cell_type": "markdown",
      "source": [
        "The first principal component explains around 2.5% of the variance, whereas all of the subsequent principal components explain around 1.5% of the variance. The **absolute magnitude of these values is less important** as this will change depending of what dataset we analyse. What is more important, however, is the fact that PC1 relatively explains much more variance than all the subsequent PCs. In other words, there is a big step down from PC1 to PC2, then the variance explained flattens off. This is a good indication that PC1 is capturing some real structure in the data, and the rest of the PCs are probably random noise.\n",
        "\n",
        "There are various statistical methods for formally testing whether a principal component conveys a real signal of population structure or is just random noise (for example see [Patterson _et al._ 2006](https://doi.org/10.1371/journal.pgen.0020190) and [Forkman _et al._ 2019](https://doi.org/10.1007/s13253-019-00355-5)). However, **for exploratory analyses, looking at the differences in variance explained between the adjacent PCs, and ignoring the tail of PCs where the variance flattens off, is not a bad rule of thumb.**"
      ],
      "metadata": {
        "id": "-V7fia52d7he"
      }
    },
    {
      "cell_type": "markdown",
      "source": [
        "## Interpretation - PCA and genetic distance"
      ],
      "metadata": {
        "id": "WkAU-wEcv_E8"
      }
    },
    {
      "cell_type": "markdown",
      "source": [
        "In our scatter plot of PC1 and PC2, the _An. coluzzii_ individuals all cluster close together. Similarly, most of the _An. gambiae_ individuals cluster close together. It can be tempting to interpret this in the following way, **which would be wrong**:\n",
        "\n",
        "_“The individuals within each cluster are genetically nearly identical to each other.”_\n",
        "\n",
        "Similarly, it can be tempting to draw the following conclusion, **which would also be wrong**:\n",
        "\n",
        "_“The two clusters of individuals are genetically very different from each other.”_\n",
        "\n",
        "What is wrong with these statements?\n",
        "\n",
        "In short, PCA does not tell you anything about the absolute magnitude of genetic distance between individuals. All it can tell you is something about **relative genetic distance**. The PCA tells us that the _An. coluzzii_ individuals are more closely related to each other than to the _An. gambiae_ individuals, and vice versa. However, it does not tell us how much more, and there may still be a lot of genetic diversity within each of these clusters.  \n",
        "   \n",
        "**The key point is that all individuals within each cluster are related (or unrelated) to each other by a similar degree.**"
      ],
      "metadata": {
        "id": "RjqflNlOv_Ti"
      }
    },
    {
      "cell_type": "markdown",
      "source": [
        "We can see this in action if we compare these two PCA plots. The first is analysis of just the _An. gambiae_ samples from Burkina Faso. The second is both the _An. gambiae_ and _An. coluzzii_ samples from the same country."
      ],
      "metadata": {
        "id": "vQH4ApsFay2Q"
      }
    },
    {
      "cell_type": "code",
      "source": [
        "pcr_bfg_df, evr_bfg = ag3.pca(\n",
        "    region=region,\n",
        "    n_snps=n_snps,\n",
        "    sample_sets=[\"AG1000G-BF-A\", \"AG1000G-BF-B\", \"AG1000G-BF-C\"],\n",
        "    sample_query=\"taxon == 'gambiae' and country == 'Burkina Faso'\",\n",
        ")\n",
        "\n",
        "ag3.plot_pca_coords(\n",
        "    pcr_bfg_df,\n",
        "    color=\"taxon\",\n",
        "    title=\"Burkina Faso just An. gambiae\"\n",
        ")"
      ],
      "metadata": {
        "colab": {
          "base_uri": "https://localhost:8080/",
          "height": 713,
          "referenced_widgets": [
            "6aece421c3c146c99cf93dd4b013197b",
            "7a508f3f3b2c4f40841b91e0bfaa9ee0",
            "6985518931f5448f871f0e40e7aaa84d",
            "22409fa0c9294e69bd8fd3f4c4cc9a54",
            "9cdbaf3780074bb6ab37e28403960863",
            "f6d57242c756412c8b235fc7f25cbfc9",
            "35f8de3dfdef43b58cf1b3ce610d0d17",
            "8480604d48894c4389221ae34343b8e6",
            "023809306461408093dd01b9ba0044c6",
            "d6f150f7543141ecb4f347ab937fdcb9",
            "cdb6919d21764a09b6b062abdc2c66fc",
            "10e17dd527494a45ba2021a2da59d70d",
            "68c437c0dabb4b6188c0b18ce1ae4605",
            "763389b4b02648f38816a5cdc0b2a929",
            "7a4d2119d13f44c18bf3ab9b583f10e0",
            "a29724a7e3e54b9e93ebf07853692f0d",
            "f056f7067928446e80ab38b4b559f0e8",
            "02f874d746cd4f7dbe93a247e2b868b9",
            "7638930f0a774828abd74d857cfab060",
            "8d5778bb576d4c5f9f5d18f3cbd99b43",
            "593e04d52cdf402fb3b7e0ae95cca99d",
            "f25abdb415a743b58e2bbf0fedc004c8",
            "57116b36e11b4fd9b1bff274647e1476",
            "c31367272b664842b637dd8a34629ca8",
            "4fb0dcd0dfa649d9953830601bef908c",
            "b7e3d32657624d30b23612eee246c481",
            "26c6f81045cd4c5f831040b21717a0b2",
            "86bbc8d9944945f3b00a69717113ebb0",
            "baf2e5538811481db60f3fd475b153e1",
            "b9294ab28e8948439b2251f470f15081",
            "d22dbca73ede48a8862bf1acaa038bed",
            "9ea397c4e8e8417a84a283acc93e427d",
            "fd6b5145599247a6bdc8f9f599dd55ea"
          ]
        },
        "id": "YTSO11MIns_T",
        "outputId": "1fb0c54d-9d2a-43a0-ce45-a66e21b9b6f9"
      },
      "execution_count": 23,
      "outputs": [
        {
          "output_type": "display_data",
          "data": {
            "text/plain": [
              "Load sample metadata:   0%|          | 0/3 [00:00<?, ?it/s]"
            ],
            "application/vnd.jupyter.widget-view+json": {
              "version_major": 2,
              "version_minor": 0,
              "model_id": "6aece421c3c146c99cf93dd4b013197b"
            }
          },
          "metadata": {}
        },
        {
          "output_type": "display_data",
          "data": {
            "text/plain": [
              "Compute SNP allele counts:   0%|          | 0/3182 [00:00<?, ?it/s]"
            ],
            "application/vnd.jupyter.widget-view+json": {
              "version_major": 2,
              "version_minor": 0,
              "model_id": "10e17dd527494a45ba2021a2da59d70d"
            }
          },
          "metadata": {}
        },
        {
          "output_type": "display_data",
          "data": {
            "text/plain": [
              "Load SNP genotypes:   0%|          | 0/2924 [00:00<?, ?it/s]"
            ],
            "application/vnd.jupyter.widget-view+json": {
              "version_major": 2,
              "version_minor": 0,
              "model_id": "57116b36e11b4fd9b1bff274647e1476"
            }
          },
          "metadata": {}
        },
        {
          "output_type": "display_data",
          "data": {
            "text/html": [
              "<html>\n",
              "<head><meta charset=\"utf-8\" /></head>\n",
              "<body>\n",
              "    <div>            <script src=\"https://cdnjs.cloudflare.com/ajax/libs/mathjax/2.7.5/MathJax.js?config=TeX-AMS-MML_SVG\"></script><script type=\"text/javascript\">if (window.MathJax) {MathJax.Hub.Config({SVG: {font: \"STIX-Web\"}});}</script>                <script type=\"text/javascript\">window.PlotlyConfig = {MathJaxConfig: 'local'};</script>\n",
              "        <script src=\"https://cdn.plot.ly/plotly-2.8.3.min.js\"></script>                <div id=\"c066446e-1dc1-4aea-8f7e-418d7a876522\" class=\"plotly-graph-div\" style=\"height:600px; width:900px;\"></div>            <script type=\"text/javascript\">                                    window.PLOTLYENV=window.PLOTLYENV || {};                                    if (document.getElementById(\"c066446e-1dc1-4aea-8f7e-418d7a876522\")) {                    Plotly.newPlot(                        \"c066446e-1dc1-4aea-8f7e-418d7a876522\",                        [{\"customdata\":[[\"BF17-23\",\"AG1000G-BF-B\",\"gambiae\",\"Burkina Faso\",\"BF-09\",\"Hauts-Bassins\",\"Houet\",\"Pala\",2014,7],[\"BF10-5\",\"AG1000G-BF-A\",\"gambiae\",\"Burkina Faso\",\"BF-09\",\"Hauts-Bassins\",\"Houet\",\"Pala\",2012,7],[\"BF24-29\",\"AG1000G-BF-B\",\"gambiae\",\"Burkina Faso\",\"BF-09\",\"Hauts-Bassins\",\"Houet\",\"Souroukoudinga\",2014,7],[\"BF13-8\",\"AG1000G-BF-B\",\"gambiae\",\"Burkina Faso\",\"BF-09\",\"Hauts-Bassins\",\"Houet\",\"Souroukoudinga\",2014,7],[\"BF14-22\",\"AG1000G-BF-B\",\"gambiae\",\"Burkina Faso\",\"BF-09\",\"Hauts-Bassins\",\"Houet\",\"Bana Village\",2014,7],[\"BF3-45\",\"AG1000G-BF-A\",\"gambiae\",\"Burkina Faso\",\"BF-09\",\"Hauts-Bassins\",\"Houet\",\"Bana Village\",2012,7],[\"BF12-32\",\"AG1000G-BF-A\",\"gambiae\",\"Burkina Faso\",\"BF-09\",\"Hauts-Bassins\",\"Houet\",\"Pala\",2012,7],[\"BF10-13\",\"AG1000G-BF-A\",\"gambiae\",\"Burkina Faso\",\"BF-09\",\"Hauts-Bassins\",\"Houet\",\"Pala\",2012,7],[\"BF12-31\",\"AG1000G-BF-A\",\"gambiae\",\"Burkina Faso\",\"BF-09\",\"Hauts-Bassins\",\"Houet\",\"Pala\",2012,7],[\"BF13-14\",\"AG1000G-BF-B\",\"gambiae\",\"Burkina Faso\",\"BF-09\",\"Hauts-Bassins\",\"Houet\",\"Souroukoudinga\",2014,7],[\"BF8-2\",\"AG1000G-BF-A\",\"gambiae\",\"Burkina Faso\",\"BF-09\",\"Hauts-Bassins\",\"Houet\",\"Souroukoudinga\",2012,7],[\"BFPala 48.3\",\"AG1000G-BF-A\",\"gambiae\",\"Burkina Faso\",\"BF-09\",\"Hauts-Bassins\",\"Houet\",\"Pala\",2012,7],[\"BF2-15\",\"AG1000G-BF-A\",\"gambiae\",\"Burkina Faso\",\"BF-09\",\"Hauts-Bassins\",\"Houet\",\"Souroukoudinga\",2012,7],[\"BF11-11\",\"AG1000G-BF-A\",\"gambiae\",\"Burkina Faso\",\"BF-09\",\"Hauts-Bassins\",\"Houet\",\"Souroukoudinga\",2012,7],[\"BF3-37\",\"AG1000G-BF-A\",\"gambiae\",\"Burkina Faso\",\"BF-09\",\"Hauts-Bassins\",\"Houet\",\"Bana Village\",2012,7],[\"BF3-46\",\"AG1000G-BF-A\",\"gambiae\",\"Burkina Faso\",\"BF-09\",\"Hauts-Bassins\",\"Houet\",\"Bana Village\",2012,7],[\"BF17-22\",\"AG1000G-BF-B\",\"gambiae\",\"Burkina Faso\",\"BF-09\",\"Hauts-Bassins\",\"Houet\",\"Pala\",2014,7],[\"BF14-4\",\"AG1000G-BF-B\",\"gambiae\",\"Burkina Faso\",\"BF-09\",\"Hauts-Bassins\",\"Houet\",\"Bana Village\",2014,7],[5072,\"AG1000G-BF-C\",\"gambiae\",\"Burkina Faso\",\"BF-07\",\"Centre-Sud\",\"Bazega\",\"Monomtenga\",2004,7],[\"BF11-3\",\"AG1000G-BF-A\",\"gambiae\",\"Burkina Faso\",\"BF-09\",\"Hauts-Bassins\",\"Houet\",\"Souroukoudinga\",2012,7],[\"BF17-4\",\"AG1000G-BF-B\",\"gambiae\",\"Burkina Faso\",\"BF-09\",\"Hauts-Bassins\",\"Houet\",\"Pala\",2014,7],[\"BF8-1\",\"AG1000G-BF-A\",\"gambiae\",\"Burkina Faso\",\"BF-09\",\"Hauts-Bassins\",\"Houet\",\"Souroukoudinga\",2012,7],[\"BF3-33\",\"AG1000G-BF-A\",\"gambiae\",\"Burkina Faso\",\"BF-09\",\"Hauts-Bassins\",\"Houet\",\"Bana Village\",2012,7],[\"BF3-30\",\"AG1000G-BF-A\",\"gambiae\",\"Burkina Faso\",\"BF-09\",\"Hauts-Bassins\",\"Houet\",\"Bana Village\",2012,7],[\"BF3-47\",\"AG1000G-BF-A\",\"gambiae\",\"Burkina Faso\",\"BF-09\",\"Hauts-Bassins\",\"Houet\",\"Bana Village\",2012,7],[\"BF12-8\",\"AG1000G-BF-A\",\"gambiae\",\"Burkina Faso\",\"BF-09\",\"Hauts-Bassins\",\"Houet\",\"Pala\",2012,7],[\"BFPala 36.2\",\"AG1000G-BF-A\",\"gambiae\",\"Burkina Faso\",\"BF-09\",\"Hauts-Bassins\",\"Houet\",\"Pala\",2012,7],[\"BF26-60\",\"AG1000G-BF-B\",\"gambiae\",\"Burkina Faso\",\"BF-09\",\"Hauts-Bassins\",\"Houet\",\"Pala\",2014,7],[5057,\"AG1000G-BF-C\",\"gambiae\",\"Burkina Faso\",\"BF-07\",\"Centre-Sud\",\"Bazega\",\"Monomtenga\",2004,7],[\"BF18-2\",\"AG1000G-BF-B\",\"gambiae\",\"Burkina Faso\",\"BF-09\",\"Hauts-Bassins\",\"Houet\",\"Bana Village\",2014,7],[6729,\"AG1000G-BF-C\",\"gambiae\",\"Burkina Faso\",\"BF-07\",\"Centre-Sud\",\"Bazega\",\"Monomtenga\",2004,7],[\"BF11-28\",\"AG1000G-BF-A\",\"gambiae\",\"Burkina Faso\",\"BF-09\",\"Hauts-Bassins\",\"Houet\",\"Souroukoudinga\",2012,7],[\"BF13-3\",\"AG1000G-BF-B\",\"gambiae\",\"Burkina Faso\",\"BF-09\",\"Hauts-Bassins\",\"Houet\",\"Souroukoudinga\",2014,7],[\"BFPala 48.2\",\"AG1000G-BF-A\",\"gambiae\",\"Burkina Faso\",\"BF-09\",\"Hauts-Bassins\",\"Houet\",\"Pala\",2012,7],[\"BF17-21\",\"AG1000G-BF-B\",\"gambiae\",\"Burkina Faso\",\"BF-09\",\"Hauts-Bassins\",\"Houet\",\"Pala\",2014,7],[\"BF12-17\",\"AG1000G-BF-A\",\"gambiae\",\"Burkina Faso\",\"BF-09\",\"Hauts-Bassins\",\"Houet\",\"Pala\",2012,7],[\"BF18-41\",\"AG1000G-BF-B\",\"gambiae\",\"Burkina Faso\",\"BF-09\",\"Hauts-Bassins\",\"Houet\",\"Bana Village\",2014,7],[\"BF10-2\",\"AG1000G-BF-A\",\"gambiae\",\"Burkina Faso\",\"BF-09\",\"Hauts-Bassins\",\"Houet\",\"Pala\",2012,7],[\"BF11-8\",\"AG1000G-BF-A\",\"gambiae\",\"Burkina Faso\",\"BF-09\",\"Hauts-Bassins\",\"Houet\",\"Souroukoudinga\",2012,7],[\"BF17-24\",\"AG1000G-BF-B\",\"gambiae\",\"Burkina Faso\",\"BF-09\",\"Hauts-Bassins\",\"Houet\",\"Pala\",2014,7],[\"BF3-40\",\"AG1000G-BF-A\",\"gambiae\",\"Burkina Faso\",\"BF-09\",\"Hauts-Bassins\",\"Houet\",\"Bana Village\",2012,7],[\"BF13-2\",\"AG1000G-BF-B\",\"gambiae\",\"Burkina Faso\",\"BF-09\",\"Hauts-Bassins\",\"Houet\",\"Souroukoudinga\",2014,7],[\"BF12-2\",\"AG1000G-BF-A\",\"gambiae\",\"Burkina Faso\",\"BF-09\",\"Hauts-Bassins\",\"Houet\",\"Pala\",2012,7],[5098,\"AG1000G-BF-C\",\"gambiae\",\"Burkina Faso\",\"BF-07\",\"Centre-Sud\",\"Bazega\",\"Monomtenga\",2004,7],[\"BF3-60\",\"AG1000G-BF-A\",\"gambiae\",\"Burkina Faso\",\"BF-09\",\"Hauts-Bassins\",\"Houet\",\"Pala\",2012,7],[\"BF11-29\",\"AG1000G-BF-A\",\"gambiae\",\"Burkina Faso\",\"BF-09\",\"Hauts-Bassins\",\"Houet\",\"Souroukoudinga\",2012,7],[\"BF8-6\",\"AG1000G-BF-A\",\"gambiae\",\"Burkina Faso\",\"BF-09\",\"Hauts-Bassins\",\"Houet\",\"Souroukoudinga\",2012,7],[\"BF24-28\",\"AG1000G-BF-B\",\"gambiae\",\"Burkina Faso\",\"BF-09\",\"Hauts-Bassins\",\"Houet\",\"Souroukoudinga\",2014,7],[\"BF13-18\",\"AG1000G-BF-B\",\"gambiae\",\"Burkina Faso\",\"BF-09\",\"Hauts-Bassins\",\"Houet\",\"Souroukoudinga\",2014,7],[\"BF3-32\",\"AG1000G-BF-A\",\"gambiae\",\"Burkina Faso\",\"BF-09\",\"Hauts-Bassins\",\"Houet\",\"Bana Village\",2012,7],[\"BF12-3\",\"AG1000G-BF-A\",\"gambiae\",\"Burkina Faso\",\"BF-09\",\"Hauts-Bassins\",\"Houet\",\"Pala\",2012,7],[\"BF11-9\",\"AG1000G-BF-A\",\"gambiae\",\"Burkina Faso\",\"BF-09\",\"Hauts-Bassins\",\"Houet\",\"Souroukoudinga\",2012,7],[6712,\"AG1000G-BF-C\",\"gambiae\",\"Burkina Faso\",\"BF-07\",\"Centre-Sud\",\"Bazega\",\"Monomtenga\",2004,7],[\"BF3-42\",\"AG1000G-BF-A\",\"gambiae\",\"Burkina Faso\",\"BF-09\",\"Hauts-Bassins\",\"Houet\",\"Bana Village\",2012,7],[\"BF12-20\",\"AG1000G-BF-A\",\"gambiae\",\"Burkina Faso\",\"BF-09\",\"Hauts-Bassins\",\"Houet\",\"Pala\",2012,7],[\"BF17-3\",\"AG1000G-BF-B\",\"gambiae\",\"Burkina Faso\",\"BF-09\",\"Hauts-Bassins\",\"Houet\",\"Pala\",2014,7],[\"BF10-1\",\"AG1000G-BF-A\",\"gambiae\",\"Burkina Faso\",\"BF-09\",\"Hauts-Bassins\",\"Houet\",\"Pala\",2012,7],[\"BF6-8\",\"AG1000G-BF-A\",\"gambiae\",\"Burkina Faso\",\"BF-09\",\"Hauts-Bassins\",\"Houet\",\"Bana Village\",2012,7],[\"BF3-48\",\"AG1000G-BF-A\",\"gambiae\",\"Burkina Faso\",\"BF-09\",\"Hauts-Bassins\",\"Houet\",\"Bana Village\",2012,7],[\"BFSour 59.2\",\"AG1000G-BF-A\",\"gambiae\",\"Burkina Faso\",\"BF-09\",\"Hauts-Bassins\",\"Houet\",\"Souroukoudinga\",2012,7],[\"BF22-57\",\"AG1000G-BF-B\",\"gambiae\",\"Burkina Faso\",\"BF-09\",\"Hauts-Bassins\",\"Houet\",\"Bana Village\",2014,7],[\"BF11-7\",\"AG1000G-BF-A\",\"gambiae\",\"Burkina Faso\",\"BF-09\",\"Hauts-Bassins\",\"Houet\",\"Souroukoudinga\",2012,7],[\"BF2-16\",\"AG1000G-BF-A\",\"gambiae\",\"Burkina Faso\",\"BF-09\",\"Hauts-Bassins\",\"Houet\",\"Souroukoudinga\",2012,7],[\"BF17-18\",\"AG1000G-BF-B\",\"gambiae\",\"Burkina Faso\",\"BF-09\",\"Hauts-Bassins\",\"Houet\",\"Pala\",2014,7],[\"BF3-31\",\"AG1000G-BF-A\",\"gambiae\",\"Burkina Faso\",\"BF-09\",\"Hauts-Bassins\",\"Houet\",\"Bana Village\",2012,7],[\"BF12-25\",\"AG1000G-BF-A\",\"gambiae\",\"Burkina Faso\",\"BF-09\",\"Hauts-Bassins\",\"Houet\",\"Pala\",2012,7],[5038,\"AG1000G-BF-C\",\"gambiae\",\"Burkina Faso\",\"BF-07\",\"Centre-Sud\",\"Bazega\",\"Monomtenga\",2004,7],[\"BF2-4\",\"AG1000G-BF-A\",\"gambiae\",\"Burkina Faso\",\"BF-09\",\"Hauts-Bassins\",\"Houet\",\"Pala\",2012,7],[\"BF14-23\",\"AG1000G-BF-B\",\"gambiae\",\"Burkina Faso\",\"BF-09\",\"Hauts-Bassins\",\"Houet\",\"Bana Village\",2014,7],[\"BFSour 57.2\",\"AG1000G-BF-A\",\"gambiae\",\"Burkina Faso\",\"BF-09\",\"Hauts-Bassins\",\"Houet\",\"Souroukoudinga\",2012,7],[\"BF10-4\",\"AG1000G-BF-A\",\"gambiae\",\"Burkina Faso\",\"BF-09\",\"Hauts-Bassins\",\"Houet\",\"Pala\",2012,7],[\"BF12-13\",\"AG1000G-BF-A\",\"gambiae\",\"Burkina Faso\",\"BF-09\",\"Hauts-Bassins\",\"Houet\",\"Pala\",2012,7],[\"BF3-44\",\"AG1000G-BF-A\",\"gambiae\",\"Burkina Faso\",\"BF-09\",\"Hauts-Bassins\",\"Houet\",\"Bana Village\",2012,7],[\"BF3-66\",\"AG1000G-BF-A\",\"gambiae\",\"Burkina Faso\",\"BF-09\",\"Hauts-Bassins\",\"Houet\",\"Pala\",2012,7],[6777,\"AG1000G-BF-C\",\"gambiae\",\"Burkina Faso\",\"BF-07\",\"Centre-Sud\",\"Bazega\",\"Monomtenga\",2004,8],[\"BF3-38\",\"AG1000G-BF-A\",\"gambiae\",\"Burkina Faso\",\"BF-09\",\"Hauts-Bassins\",\"Houet\",\"Bana Village\",2012,7],[\"BF8-7\",\"AG1000G-BF-A\",\"gambiae\",\"Burkina Faso\",\"BF-09\",\"Hauts-Bassins\",\"Houet\",\"Souroukoudinga\",2012,7],[\"BF14-19\",\"AG1000G-BF-B\",\"gambiae\",\"Burkina Faso\",\"BF-09\",\"Hauts-Bassins\",\"Houet\",\"Bana Village\",2014,7],[\"BF3-65\",\"AG1000G-BF-A\",\"gambiae\",\"Burkina Faso\",\"BF-09\",\"Hauts-Bassins\",\"Houet\",\"Pala\",2012,7],[\"BF12-18\",\"AG1000G-BF-A\",\"gambiae\",\"Burkina Faso\",\"BF-09\",\"Hauts-Bassins\",\"Houet\",\"Pala\",2012,7],[\"BF17-20\",\"AG1000G-BF-B\",\"gambiae\",\"Burkina Faso\",\"BF-09\",\"Hauts-Bassins\",\"Houet\",\"Pala\",2014,7],[6775,\"AG1000G-BF-C\",\"gambiae\",\"Burkina Faso\",\"BF-07\",\"Centre-Sud\",\"Bazega\",\"Monomtenga\",2004,8],[\"BF24-27\",\"AG1000G-BF-B\",\"gambiae\",\"Burkina Faso\",\"BF-09\",\"Hauts-Bassins\",\"Houet\",\"Souroukoudinga\",2014,7],[\"BF10-8\",\"AG1000G-BF-A\",\"gambiae\",\"Burkina Faso\",\"BF-09\",\"Hauts-Bassins\",\"Houet\",\"Pala\",2012,7],[\"BF16-1\",\"AG1000G-BF-B\",\"gambiae\",\"Burkina Faso\",\"BF-09\",\"Hauts-Bassins\",\"Houet\",\"Pala\",2014,7],[\"BFBana 16.1\",\"AG1000G-BF-A\",\"gambiae\",\"Burkina Faso\",\"BF-09\",\"Hauts-Bassins\",\"Houet\",\"Bana Village\",2012,7],[\"BF11-17\",\"AG1000G-BF-A\",\"gambiae\",\"Burkina Faso\",\"BF-09\",\"Hauts-Bassins\",\"Houet\",\"Souroukoudinga\",2012,7],[\"BF3-54\",\"AG1000G-BF-A\",\"gambiae\",\"Burkina Faso\",\"BF-09\",\"Hauts-Bassins\",\"Houet\",\"Pala\",2012,7],[\"BF18-39\",\"AG1000G-BF-B\",\"gambiae\",\"Burkina Faso\",\"BF-09\",\"Hauts-Bassins\",\"Houet\",\"Bana Village\",2014,7],[\"BF17-1\",\"AG1000G-BF-B\",\"gambiae\",\"Burkina Faso\",\"BF-09\",\"Hauts-Bassins\",\"Houet\",\"Pala\",2014,7],[\"BFSour 54.1\",\"AG1000G-BF-A\",\"gambiae\",\"Burkina Faso\",\"BF-09\",\"Hauts-Bassins\",\"Houet\",\"Souroukoudinga\",2012,7],[\"BF12-29\",\"AG1000G-BF-A\",\"gambiae\",\"Burkina Faso\",\"BF-09\",\"Hauts-Bassins\",\"Houet\",\"Pala\",2012,7],[\"BF10-12\",\"AG1000G-BF-A\",\"gambiae\",\"Burkina Faso\",\"BF-09\",\"Hauts-Bassins\",\"Houet\",\"Pala\",2012,7],[\"BFPala 36.4\",\"AG1000G-BF-A\",\"gambiae\",\"Burkina Faso\",\"BF-09\",\"Hauts-Bassins\",\"Houet\",\"Pala\",2012,7],[\"BF4-10\",\"AG1000G-BF-A\",\"gambiae\",\"Burkina Faso\",\"BF-09\",\"Hauts-Bassins\",\"Houet\",\"Bana Village\",2012,7],[\"BF14-17\",\"AG1000G-BF-B\",\"gambiae\",\"Burkina Faso\",\"BF-09\",\"Hauts-Bassins\",\"Houet\",\"Bana Village\",2014,7],[5089,\"AG1000G-BF-C\",\"gambiae\",\"Burkina Faso\",\"BF-07\",\"Centre-Sud\",\"Bazega\",\"Monomtenga\",2004,7],[\"BF10-10\",\"AG1000G-BF-A\",\"gambiae\",\"Burkina Faso\",\"BF-09\",\"Hauts-Bassins\",\"Houet\",\"Pala\",2012,7],[\"BF3-59\",\"AG1000G-BF-A\",\"gambiae\",\"Burkina Faso\",\"BF-09\",\"Hauts-Bassins\",\"Houet\",\"Pala\",2012,7],[\"BF12-7\",\"AG1000G-BF-A\",\"gambiae\",\"Burkina Faso\",\"BF-09\",\"Hauts-Bassins\",\"Houet\",\"Pala\",2012,7],[\"BF11-30\",\"AG1000G-BF-A\",\"gambiae\",\"Burkina Faso\",\"BF-09\",\"Hauts-Bassins\",\"Houet\",\"Souroukoudinga\",2012,7],[\"BF3-56\",\"AG1000G-BF-A\",\"gambiae\",\"Burkina Faso\",\"BF-09\",\"Hauts-Bassins\",\"Houet\",\"Pala\",2012,7],[\"BF10-7\",\"AG1000G-BF-A\",\"gambiae\",\"Burkina Faso\",\"BF-09\",\"Hauts-Bassins\",\"Houet\",\"Pala\",2012,7],[\"BF3-22\",\"AG1000G-BF-A\",\"gambiae\",\"Burkina Faso\",\"BF-09\",\"Hauts-Bassins\",\"Houet\",\"Bana Village\",2012,7],[\"BF10-3\",\"AG1000G-BF-A\",\"gambiae\",\"Burkina Faso\",\"BF-09\",\"Hauts-Bassins\",\"Houet\",\"Pala\",2012,7],[\"BF11-12\",\"AG1000G-BF-A\",\"gambiae\",\"Burkina Faso\",\"BF-09\",\"Hauts-Bassins\",\"Houet\",\"Souroukoudinga\",2012,7],[\"BF16-2\",\"AG1000G-BF-B\",\"gambiae\",\"Burkina Faso\",\"BF-09\",\"Hauts-Bassins\",\"Houet\",\"Pala\",2014,7],[\"BF12-26\",\"AG1000G-BF-A\",\"gambiae\",\"Burkina Faso\",\"BF-09\",\"Hauts-Bassins\",\"Houet\",\"Pala\",2012,7],[\"BF12-14\",\"AG1000G-BF-A\",\"gambiae\",\"Burkina Faso\",\"BF-09\",\"Hauts-Bassins\",\"Houet\",\"Pala\",2012,7],[\"BF13-31\",\"AG1000G-BF-B\",\"gambiae\",\"Burkina Faso\",\"BF-09\",\"Hauts-Bassins\",\"Houet\",\"Souroukoudinga\",2014,7],[\"BF13-32\",\"AG1000G-BF-B\",\"gambiae\",\"Burkina Faso\",\"BF-09\",\"Hauts-Bassins\",\"Houet\",\"Souroukoudinga\",2014,7],[\"BF12-24\",\"AG1000G-BF-A\",\"gambiae\",\"Burkina Faso\",\"BF-09\",\"Hauts-Bassins\",\"Houet\",\"Pala\",2012,7],[\"BF3-23\",\"AG1000G-BF-A\",\"gambiae\",\"Burkina Faso\",\"BF-09\",\"Hauts-Bassins\",\"Houet\",\"Bana Village\",2012,7],[\"BF3-34\",\"AG1000G-BF-A\",\"gambiae\",\"Burkina Faso\",\"BF-09\",\"Hauts-Bassins\",\"Houet\",\"Bana Village\",2012,7],[\"BFSour 59.1\",\"AG1000G-BF-A\",\"gambiae\",\"Burkina Faso\",\"BF-09\",\"Hauts-Bassins\",\"Houet\",\"Souroukoudinga\",2012,7],[\"BF24-30\",\"AG1000G-BF-B\",\"gambiae\",\"Burkina Faso\",\"BF-09\",\"Hauts-Bassins\",\"Houet\",\"Souroukoudinga\",2014,7],[\"BF6-7\",\"AG1000G-BF-A\",\"gambiae\",\"Burkina Faso\",\"BF-09\",\"Hauts-Bassins\",\"Houet\",\"Bana Village\",2012,7],[\"BF2-17\",\"AG1000G-BF-A\",\"gambiae\",\"Burkina Faso\",\"BF-09\",\"Hauts-Bassins\",\"Houet\",\"Souroukoudinga\",2012,7],[\"BF3-64\",\"AG1000G-BF-A\",\"gambiae\",\"Burkina Faso\",\"BF-09\",\"Hauts-Bassins\",\"Houet\",\"Pala\",2012,7],[\"BF11-15\",\"AG1000G-BF-A\",\"gambiae\",\"Burkina Faso\",\"BF-09\",\"Hauts-Bassins\",\"Houet\",\"Souroukoudinga\",2012,7],[\"BF13-4\",\"AG1000G-BF-B\",\"gambiae\",\"Burkina Faso\",\"BF-09\",\"Hauts-Bassins\",\"Houet\",\"Souroukoudinga\",2014,7],[\"BF3-21\",\"AG1000G-BF-A\",\"gambiae\",\"Burkina Faso\",\"BF-09\",\"Hauts-Bassins\",\"Houet\",\"Bana Village\",2012,7],[\"BF13-33\",\"AG1000G-BF-B\",\"gambiae\",\"Burkina Faso\",\"BF-09\",\"Hauts-Bassins\",\"Houet\",\"Souroukoudinga\",2014,7],[\"BF18-8\",\"AG1000G-BF-B\",\"gambiae\",\"Burkina Faso\",\"BF-09\",\"Hauts-Bassins\",\"Houet\",\"Bana Village\",2014,7],[\"BF4-4\",\"AG1000G-BF-A\",\"gambiae\",\"Burkina Faso\",\"BF-09\",\"Hauts-Bassins\",\"Houet\",\"Bana Village\",2012,7],[\"BF17-5\",\"AG1000G-BF-B\",\"gambiae\",\"Burkina Faso\",\"BF-09\",\"Hauts-Bassins\",\"Houet\",\"Pala\",2014,7],[\"BFSour 54.2\",\"AG1000G-BF-A\",\"gambiae\",\"Burkina Faso\",\"BF-09\",\"Hauts-Bassins\",\"Houet\",\"Souroukoudinga\",2012,7],[\"BF16-3\",\"AG1000G-BF-B\",\"gambiae\",\"Burkina Faso\",\"BF-09\",\"Hauts-Bassins\",\"Houet\",\"Pala\",2014,7],[\"BFPala 48.1\",\"AG1000G-BF-A\",\"gambiae\",\"Burkina Faso\",\"BF-09\",\"Hauts-Bassins\",\"Houet\",\"Pala\",2012,7],[\"BF14-3\",\"AG1000G-BF-B\",\"gambiae\",\"Burkina Faso\",\"BF-09\",\"Hauts-Bassins\",\"Houet\",\"Bana Village\",2014,7],[\"BFPala 36.1\",\"AG1000G-BF-A\",\"gambiae\",\"Burkina Faso\",\"BF-09\",\"Hauts-Bassins\",\"Houet\",\"Pala\",2012,7],[6779,\"AG1000G-BF-C\",\"gambiae\",\"Burkina Faso\",\"BF-07\",\"Centre-Sud\",\"Bazega\",\"Monomtenga\",2004,8],[\"BFPala 58.3\",\"AG1000G-BF-A\",\"gambiae\",\"Burkina Faso\",\"BF-09\",\"Hauts-Bassins\",\"Houet\",\"Pala\",2012,7],[\"BF10-9\",\"AG1000G-BF-A\",\"gambiae\",\"Burkina Faso\",\"BF-09\",\"Hauts-Bassins\",\"Houet\",\"Pala\",2012,7],[\"BF12-23\",\"AG1000G-BF-A\",\"gambiae\",\"Burkina Faso\",\"BF-09\",\"Hauts-Bassins\",\"Houet\",\"Pala\",2012,7],[\"BF8-5\",\"AG1000G-BF-A\",\"gambiae\",\"Burkina Faso\",\"BF-09\",\"Hauts-Bassins\",\"Houet\",\"Souroukoudinga\",2012,7],[\"BFPala 58.2\",\"AG1000G-BF-A\",\"gambiae\",\"Burkina Faso\",\"BF-09\",\"Hauts-Bassins\",\"Houet\",\"Pala\",2012,7],[6755,\"AG1000G-BF-C\",\"gambiae\",\"Burkina Faso\",\"BF-07\",\"Centre-Sud\",\"Bazega\",\"Monomtenga\",2004,8],[\"BF13-6\",\"AG1000G-BF-B\",\"gambiae\",\"Burkina Faso\",\"BF-09\",\"Hauts-Bassins\",\"Houet\",\"Souroukoudinga\",2014,7],[\"BF3-61\",\"AG1000G-BF-A\",\"gambiae\",\"Burkina Faso\",\"BF-09\",\"Hauts-Bassins\",\"Houet\",\"Pala\",2012,7],[5091,\"AG1000G-BF-C\",\"gambiae\",\"Burkina Faso\",\"BF-07\",\"Centre-Sud\",\"Bazega\",\"Monomtenga\",2004,7],[\"BF2-6\",\"AG1000G-BF-A\",\"gambiae\",\"Burkina Faso\",\"BF-09\",\"Hauts-Bassins\",\"Houet\",\"Pala\",2012,7],[\"BFPala 36.3\",\"AG1000G-BF-A\",\"gambiae\",\"Burkina Faso\",\"BF-09\",\"Hauts-Bassins\",\"Houet\",\"Pala\",2012,7],[\"BF13-42\",\"AG1000G-BF-B\",\"gambiae\",\"Burkina Faso\",\"BF-09\",\"Hauts-Bassins\",\"Houet\",\"Souroukoudinga\",2014,7],[\"BF18-18\",\"AG1000G-BF-B\",\"gambiae\",\"Burkina Faso\",\"BF-09\",\"Hauts-Bassins\",\"Houet\",\"Bana Village\",2014,7],[\"BF18-7\",\"AG1000G-BF-B\",\"gambiae\",\"Burkina Faso\",\"BF-09\",\"Hauts-Bassins\",\"Houet\",\"Bana Village\",2014,7],[\"BF16-7\",\"AG1000G-BF-B\",\"gambiae\",\"Burkina Faso\",\"BF-09\",\"Hauts-Bassins\",\"Houet\",\"Pala\",2014,7],[\"BF12-22\",\"AG1000G-BF-A\",\"gambiae\",\"Burkina Faso\",\"BF-09\",\"Hauts-Bassins\",\"Houet\",\"Pala\",2012,7],[\"BF11-20\",\"AG1000G-BF-A\",\"gambiae\",\"Burkina Faso\",\"BF-09\",\"Hauts-Bassins\",\"Houet\",\"Souroukoudinga\",2012,7],[\"BF17-17\",\"AG1000G-BF-B\",\"gambiae\",\"Burkina Faso\",\"BF-09\",\"Hauts-Bassins\",\"Houet\",\"Pala\",2014,7],[1403,\"AG1000G-BF-C\",\"gambiae\",\"Burkina Faso\",\"BF-07\",\"Centre-Sud\",\"Bazega\",\"Monomtenga\",2004,6],[\"BF8-3\",\"AG1000G-BF-A\",\"gambiae\",\"Burkina Faso\",\"BF-09\",\"Hauts-Bassins\",\"Houet\",\"Souroukoudinga\",2012,7],[\"BF11-14\",\"AG1000G-BF-A\",\"gambiae\",\"Burkina Faso\",\"BF-09\",\"Hauts-Bassins\",\"Houet\",\"Souroukoudinga\",2012,7],[\"BF18-43\",\"AG1000G-BF-B\",\"gambiae\",\"Burkina Faso\",\"BF-09\",\"Hauts-Bassins\",\"Houet\",\"Bana Village\",2014,7],[\"BF2-14\",\"AG1000G-BF-A\",\"gambiae\",\"Burkina Faso\",\"BF-09\",\"Hauts-Bassins\",\"Houet\",\"Souroukoudinga\",2012,7],[\"BF12-28\",\"AG1000G-BF-A\",\"gambiae\",\"Burkina Faso\",\"BF-09\",\"Hauts-Bassins\",\"Houet\",\"Pala\",2012,7],[\"BF22-59\",\"AG1000G-BF-B\",\"gambiae\",\"Burkina Faso\",\"BF-09\",\"Hauts-Bassins\",\"Houet\",\"Bana Village\",2014,7]],\"hovertemplate\":\"<b>%{hovertext}</b><br><br>taxon=%{customdata[2]}<br>PC1=%{x}<br>PC2=%{y}<br>partner_sample_id=%{customdata[0]}<br>sample_set=%{customdata[1]}<br>country=%{customdata[3]}<br>admin1_iso=%{customdata[4]}<br>admin1_name=%{customdata[5]}<br>admin2_name=%{customdata[6]}<br>location=%{customdata[7]}<br>year=%{customdata[8]}<br>month=%{customdata[9]}<extra></extra>\",\"hovertext\":[\"AB0473-C\",\"AB0176-Cx\",\"AB0526-C\",\"AB0531-C\",\"AB0439-C\",\"AB0158-Cx\",\"AB0281-Cx\",\"AB0284-C\",\"AB0280-Cx\",\"AB0532-C\",\"AB0144-C\",\"AB0203-C\",\"AB0134-C\",\"AB0235-C\",\"AB0150-Cx\",\"AB0159-C\",\"AB0472-C\",\"AB0433-C\",\"AB0318-C\",\"AB0228-C\",\"AB0466-C\",\"AB0143-Cx\",\"AB0129-C\",\"AB0126-Cx\",\"AB0160-Cx\",\"AB0261-Cx\",\"AB0198-C\",\"AB0477-C\",\"AB0299-C\",\"AB0373-C\",\"AB0312-C\",\"AB0251-C\",\"AB0529-C\",\"AB0202-Cx\",\"AB0471-C\",\"AB0268-C\",\"AB0388-C\",\"AB0173-C\",\"AB0232-Cx\",\"AB0474-C\",\"AB0153-C\",\"AB0528-C\",\"AB0255-C\",\"AB0303-C\",\"AB0166-C\",\"AB0252-C\",\"AB0147-C\",\"AB0525-C\",\"AB0533-C\",\"AB0128-C\",\"AB0256-C\",\"AB0233-C\",\"AB0309-C\",\"AB0155-Cx\",\"AB0270-C\",\"AB0465-C\",\"AB0172-Cx\",\"AB0104-Cx\",\"AB0161-C\",\"AB0208-C\",\"AB0378-C\",\"AB0231-C\",\"AB0135-C\",\"AB0469-C\",\"AB0127-C\",\"AB0274-C\",\"AB0298-C\",\"AB0085-Cx\",\"AB0440-C\",\"AB0225-C\",\"AB0175-Cx\",\"AB0264-C\",\"AB0157-Cx\",\"AB0171-Cx\",\"AB0315-C\",\"AB0151-Cx\",\"AB0148-Cx\",\"AB0436-C\",\"AB0170-C\",\"AB0269-Cx\",\"AB0470-C\",\"AB0314-C\",\"AB0524-C\",\"AB0178-C\",\"AB0458-C\",\"AB0211-C\",\"AB0241-C\",\"AB0162-C\",\"AB0386-C\",\"AB0463-C\",\"AB0217-C\",\"AB0278-C\",\"AB0283-C\",\"AB0200-C\",\"AB0116-C\",\"AB0435-C\",\"AB0301-C\",\"AB0180-Cx\",\"AB0165-C\",\"AB0260-C\",\"AB0253-C\",\"AB0164-C\",\"AB0177-C\",\"AB0118-C\",\"AB0174-C\",\"AB0236-Cx\",\"AB0459-C\",\"AB0275-C\",\"AB0265-C\",\"AB0536-C\",\"AB0537-C\",\"AB0273-Cx\",\"AB0119-C\",\"AB0130-Cx\",\"AB0207-C\",\"AB0527-C\",\"AB0103-C\",\"AB0136-Cx\",\"AB0169-C\",\"AB0239-C\",\"AB0530-C\",\"AB0117-C\",\"AB0538-C\",\"AB0375-C\",\"AB0096-C\",\"AB0467-C\",\"AB0218-C\",\"AB0460-C\",\"AB0201-Cx\",\"AB0432-C\",\"AB0197-C\",\"AB0316-C\",\"AB0206-C\",\"AB0179-Cx\",\"AB0272-Cx\",\"AB0146-Cx\",\"AB0205-C\",\"AB0313-C\",\"AB0504-C\",\"AB0167-C\",\"AB0302-C\",\"AB0086-Cx\",\"AB0199-C\",\"AB0517-C\",\"AB0381-C\",\"AB0374-C\",\"AB0462-C\",\"AB0271-Cx\",\"AB0244-C\",\"AB0468-C\",\"AB0325-C\",\"AB0145-C\",\"AB0238-C\",\"AB0389-C\",\"AB0133-C\",\"AB0277-C\",\"AB0379-C\"],\"legendgroup\":\"gambiae\",\"marker\":{\"color\":\"#636EFA\",\"opacity\":0.9,\"symbol\":\"circle\",\"size\":10},\"mode\":\"markers\",\"name\":\"gambiae\",\"orientation\":\"v\",\"showlegend\":true,\"x\":[-10.909830820779693,8.871041742836024,2.10087175569468,-3.0243101501219303,-12.625004291730878,-17.418383057397286,-14.973494527874385,5.381226696600502,0.5943704233710334,-1.3639402714978726,-13.379701342201072,6.052531370741308,6.049749539313948,-10.645189813428658,-12.314139377583993,-13.406778474353526,-10.00582544960972,-6.685788857609655,-3.3092040455334653,-10.561488639085713,-1.198709716067119,-11.99595277926624,-10.87811742653343,-7.076032575445556,-3.834868292090848,1.8899095630220222,-14.897865422405598,-7.836937688723297,-1.3189230337158642,-15.905500439611242,-0.5985551647691114,-10.231780718429503,-15.488497653977822,9.864151186393793,-0.2564850773886018,5.081937814233729,-13.204208876378136,-13.914053813629284,1.7019939577224346,-10.336550795183564,-18.795638063050326,-6.4698268148018405,-18.365646317193153,7.62912581112168,-13.88251519093177,-1.636320329516077,-1.1386054628814826,-6.262850339059428,-2.674612988959921,-8.365424705508204,6.0435473877628425,6.064282618202428,11.249625796733921,3.6392179937464384,-1.5928723290918674,6.450998933445362,-14.508693445131055,-12.30044354271795,-16.081766060035232,-9.470836011754285,-4.649268965801285,-7.187737359767113,-1.3513155918822033,-5.568609921297142,-8.518466284070863,-3.150761145366023,-10.933242400356221,2.4362241729813743,-13.164004267003067,8.292730379260506,0.8740813086583126,-10.232860707293309,-18.812033436156263,3.6666938798870845,11.727922152899396,2.060779700231369,1.8475805426512357,-14.793525517781369,-2.494078450553005,-14.00026015444972,2.255385261165811,-2.7658712970255417,-13.04453383230802,-17.287181037021547,-12.545074745944078,-9.995939089728537,-1.691426429704161,-0.21561924971541213,4.228322262752709,-3.030271037369962,-15.588972270703325,6.171477640080343,5.504298943967283,-0.09594229809414623,1.5471941682970511,-5.356341251461404,-3.0975063041806585,-6.246435168467876,-10.233596371782028,-14.288275988046102,-13.835681423162868,0.028929909426447242,-6.197285557619483,0.5499512308925069,5.7285300664713255,-7.522038371609788,-9.463293590481005,1.631910032532521,-12.941617006814353,-13.593296454780003,-12.493016804696394,-9.97836685650759,7.5231558460263575,2.323480537414417,-5.1035115269819995,5.665473731898455,3.9082111107220454,-13.01468483532802,5.79749539143746,-3.647596988069167,3.4567287055254434,7.025947560893888,-7.824207890160089,-12.675532844024376,-9.811962588758497,-5.746642467545173,3.927018182329949,6.205117073318357,-17.002132050965187,-5.781729179609734,-7.294734936955995,-8.125462766185468,-11.255572223246565,-7.867954273228605,11.066547526836535,-6.109704344337962,-4.90280569935974,-0.04040144683810265,-4.232294351845201,6.998007982395057,8.537313408803671,-11.133547349488678,-0.8444697976023599,-12.479436152404851,-8.892282366085006,-15.770658636671975,-7.133264438497265,-2.8966725944622906,-15.12913288600813,-8.619392303906555,648.3473701486232,-4.601226717033234,-12.306713705793731,-5.714446957385692,6.58065881730573,-9.94608204522729,-2.2617159093920103],\"xaxis\":\"x\",\"y\":[-6.135617084501896,-6.052722415611471,0.19127369773109182,-7.743500347387156,-2.907311826606965,-21.091515277067653,-7.83330973784878,-10.00570362140658,-0.9930621147814414,-6.77105874455384,-2.830126908897772,-27.20695829950304,-0.6035845997659897,-1.2456948817434226,-8.798367678768349,-7.0842973016665995,-13.468084349112686,-7.142006436140587,-7.052773152531056,-3.8062569385857046,-10.013430123538937,-2.7886794200561162,-18.749209666240553,-12.772494587619253,-11.025800448345677,15.233064834628992,-1.4939818481433829,-12.91658007507353,-8.407367383950131,3.8258347807018733,-8.568067845377033,-4.891428347509559,-13.923279319330227,-11.913840421605904,398.13570466481457,5.110357379880857,-5.050156490872684,-2.00713457630888,-9.223661974070385,319.2599294618462,-0.9942775011695035,1.0120576472316136,62.93706214376211,-7.04486168054206,-15.43735469037452,-17.642507335876886,-5.1370424937043095,-9.065171020861124,-19.506599999209335,-13.216345596650203,-4.931907938153504,-16.43826132491247,-16.52049294980575,-8.91170633568211,-1.218240973928098,-13.622752425886963,-14.565994094446705,-3.3468470139866304,-15.217101007424166,-15.615651314947254,-2.8906762619446837,1.6533375011297724,-3.341381809127099,-5.96503359040664,-1.6374739985343023,-12.683010821444537,-9.126333394598905,-8.723785398282358,-7.556006726593061,-0.4452528840066696,-10.309533356893885,-3.408449347014029,-1.3559378871147443,0.0917068540102246,-7.169409960147334,-5.905817854347887,-8.364009049916833,-11.463334370227374,-10.373178188148271,-12.591014818213244,-22.24224511135806,-4.554024318746628,-16.866666272068965,7.300085345975979,187.52373073819302,1.2448747406396778,-6.568692607301987,-14.288303673731278,-2.453316955501821,-15.152360598247828,-0.0899855241120937,3.1228434304468715,-5.52538020154133,-15.890947783620003,-6.7212069298991715,-3.1113555600607787,-9.29478618043463,-3.790470506493155,-8.121165508876418,0.5817440757181389,-4.807656915902854,-8.6353235565733,-26.3475878177145,-8.352748380321046,7.295677543161494,-12.902077185215294,-10.619959388264702,-0.9871328383044737,2.3131376153145062,2.1886264401589095,-5.852705167776778,-10.339411959981542,-10.543023312076691,-4.848479723999237,-14.167972955545022,-9.05418522238719,3.855579402949493,-5.94606752829547,-8.88166643574562,-0.619978889220401,-7.785368958866786,-3.263992445008996,0.06918764808558553,0.45826237216770593,-9.222058758628243,-4.568150457506664,-16.9856099319127,-3.8995988968788526,-23.76685721162043,-6.970096303648899,-5.87418461671434,-6.715874416762695,-6.046434699099086,-16.33338740240695,-15.46310515840533,-8.485454568417616,-9.463381300071026,-13.8374359296033,-6.4591238260751584,62.18704685729201,-16.64943322007717,-5.459316129691459,-18.111193624748267,-14.636592888897532,-4.844571219794411,-3.4611399765932767,116.60587609334648,-5.173033515531549,2.5148824992039094,-10.702360825019305,6.882967331856966,-4.603960738271264,-7.435742856523147,-5.085358760796284,-13.729518667893947,-19.928856037594894,3.7398220097985426],\"yaxis\":\"y\",\"type\":\"scatter\"}],                        {\"template\":{\"data\":{\"barpolar\":[{\"marker\":{\"line\":{\"color\":\"white\",\"width\":0.5},\"pattern\":{\"fillmode\":\"overlay\",\"size\":10,\"solidity\":0.2}},\"type\":\"barpolar\"}],\"bar\":[{\"error_x\":{\"color\":\"rgb(36,36,36)\"},\"error_y\":{\"color\":\"rgb(36,36,36)\"},\"marker\":{\"line\":{\"color\":\"white\",\"width\":0.5},\"pattern\":{\"fillmode\":\"overlay\",\"size\":10,\"solidity\":0.2}},\"type\":\"bar\"}],\"carpet\":[{\"aaxis\":{\"endlinecolor\":\"rgb(36,36,36)\",\"gridcolor\":\"white\",\"linecolor\":\"white\",\"minorgridcolor\":\"white\",\"startlinecolor\":\"rgb(36,36,36)\"},\"baxis\":{\"endlinecolor\":\"rgb(36,36,36)\",\"gridcolor\":\"white\",\"linecolor\":\"white\",\"minorgridcolor\":\"white\",\"startlinecolor\":\"rgb(36,36,36)\"},\"type\":\"carpet\"}],\"choropleth\":[{\"colorbar\":{\"outlinewidth\":1,\"tickcolor\":\"rgb(36,36,36)\",\"ticks\":\"outside\"},\"type\":\"choropleth\"}],\"contourcarpet\":[{\"colorbar\":{\"outlinewidth\":1,\"tickcolor\":\"rgb(36,36,36)\",\"ticks\":\"outside\"},\"type\":\"contourcarpet\"}],\"contour\":[{\"colorbar\":{\"outlinewidth\":1,\"tickcolor\":\"rgb(36,36,36)\",\"ticks\":\"outside\"},\"colorscale\":[[0.0,\"#440154\"],[0.1111111111111111,\"#482878\"],[0.2222222222222222,\"#3e4989\"],[0.3333333333333333,\"#31688e\"],[0.4444444444444444,\"#26828e\"],[0.5555555555555556,\"#1f9e89\"],[0.6666666666666666,\"#35b779\"],[0.7777777777777778,\"#6ece58\"],[0.8888888888888888,\"#b5de2b\"],[1.0,\"#fde725\"]],\"type\":\"contour\"}],\"heatmapgl\":[{\"colorbar\":{\"outlinewidth\":1,\"tickcolor\":\"rgb(36,36,36)\",\"ticks\":\"outside\"},\"colorscale\":[[0.0,\"#440154\"],[0.1111111111111111,\"#482878\"],[0.2222222222222222,\"#3e4989\"],[0.3333333333333333,\"#31688e\"],[0.4444444444444444,\"#26828e\"],[0.5555555555555556,\"#1f9e89\"],[0.6666666666666666,\"#35b779\"],[0.7777777777777778,\"#6ece58\"],[0.8888888888888888,\"#b5de2b\"],[1.0,\"#fde725\"]],\"type\":\"heatmapgl\"}],\"heatmap\":[{\"colorbar\":{\"outlinewidth\":1,\"tickcolor\":\"rgb(36,36,36)\",\"ticks\":\"outside\"},\"colorscale\":[[0.0,\"#440154\"],[0.1111111111111111,\"#482878\"],[0.2222222222222222,\"#3e4989\"],[0.3333333333333333,\"#31688e\"],[0.4444444444444444,\"#26828e\"],[0.5555555555555556,\"#1f9e89\"],[0.6666666666666666,\"#35b779\"],[0.7777777777777778,\"#6ece58\"],[0.8888888888888888,\"#b5de2b\"],[1.0,\"#fde725\"]],\"type\":\"heatmap\"}],\"histogram2dcontour\":[{\"colorbar\":{\"outlinewidth\":1,\"tickcolor\":\"rgb(36,36,36)\",\"ticks\":\"outside\"},\"colorscale\":[[0.0,\"#440154\"],[0.1111111111111111,\"#482878\"],[0.2222222222222222,\"#3e4989\"],[0.3333333333333333,\"#31688e\"],[0.4444444444444444,\"#26828e\"],[0.5555555555555556,\"#1f9e89\"],[0.6666666666666666,\"#35b779\"],[0.7777777777777778,\"#6ece58\"],[0.8888888888888888,\"#b5de2b\"],[1.0,\"#fde725\"]],\"type\":\"histogram2dcontour\"}],\"histogram2d\":[{\"colorbar\":{\"outlinewidth\":1,\"tickcolor\":\"rgb(36,36,36)\",\"ticks\":\"outside\"},\"colorscale\":[[0.0,\"#440154\"],[0.1111111111111111,\"#482878\"],[0.2222222222222222,\"#3e4989\"],[0.3333333333333333,\"#31688e\"],[0.4444444444444444,\"#26828e\"],[0.5555555555555556,\"#1f9e89\"],[0.6666666666666666,\"#35b779\"],[0.7777777777777778,\"#6ece58\"],[0.8888888888888888,\"#b5de2b\"],[1.0,\"#fde725\"]],\"type\":\"histogram2d\"}],\"histogram\":[{\"marker\":{\"line\":{\"color\":\"white\",\"width\":0.6}},\"type\":\"histogram\"}],\"mesh3d\":[{\"colorbar\":{\"outlinewidth\":1,\"tickcolor\":\"rgb(36,36,36)\",\"ticks\":\"outside\"},\"type\":\"mesh3d\"}],\"parcoords\":[{\"line\":{\"colorbar\":{\"outlinewidth\":1,\"tickcolor\":\"rgb(36,36,36)\",\"ticks\":\"outside\"}},\"type\":\"parcoords\"}],\"pie\":[{\"automargin\":true,\"type\":\"pie\"}],\"scatter3d\":[{\"line\":{\"colorbar\":{\"outlinewidth\":1,\"tickcolor\":\"rgb(36,36,36)\",\"ticks\":\"outside\"}},\"marker\":{\"colorbar\":{\"outlinewidth\":1,\"tickcolor\":\"rgb(36,36,36)\",\"ticks\":\"outside\"}},\"type\":\"scatter3d\"}],\"scattercarpet\":[{\"marker\":{\"colorbar\":{\"outlinewidth\":1,\"tickcolor\":\"rgb(36,36,36)\",\"ticks\":\"outside\"}},\"type\":\"scattercarpet\"}],\"scattergeo\":[{\"marker\":{\"colorbar\":{\"outlinewidth\":1,\"tickcolor\":\"rgb(36,36,36)\",\"ticks\":\"outside\"}},\"type\":\"scattergeo\"}],\"scattergl\":[{\"marker\":{\"colorbar\":{\"outlinewidth\":1,\"tickcolor\":\"rgb(36,36,36)\",\"ticks\":\"outside\"}},\"type\":\"scattergl\"}],\"scattermapbox\":[{\"marker\":{\"colorbar\":{\"outlinewidth\":1,\"tickcolor\":\"rgb(36,36,36)\",\"ticks\":\"outside\"}},\"type\":\"scattermapbox\"}],\"scatterpolargl\":[{\"marker\":{\"colorbar\":{\"outlinewidth\":1,\"tickcolor\":\"rgb(36,36,36)\",\"ticks\":\"outside\"}},\"type\":\"scatterpolargl\"}],\"scatterpolar\":[{\"marker\":{\"colorbar\":{\"outlinewidth\":1,\"tickcolor\":\"rgb(36,36,36)\",\"ticks\":\"outside\"}},\"type\":\"scatterpolar\"}],\"scatter\":[{\"marker\":{\"colorbar\":{\"outlinewidth\":1,\"tickcolor\":\"rgb(36,36,36)\",\"ticks\":\"outside\"}},\"type\":\"scatter\"}],\"scatterternary\":[{\"marker\":{\"colorbar\":{\"outlinewidth\":1,\"tickcolor\":\"rgb(36,36,36)\",\"ticks\":\"outside\"}},\"type\":\"scatterternary\"}],\"surface\":[{\"colorbar\":{\"outlinewidth\":1,\"tickcolor\":\"rgb(36,36,36)\",\"ticks\":\"outside\"},\"colorscale\":[[0.0,\"#440154\"],[0.1111111111111111,\"#482878\"],[0.2222222222222222,\"#3e4989\"],[0.3333333333333333,\"#31688e\"],[0.4444444444444444,\"#26828e\"],[0.5555555555555556,\"#1f9e89\"],[0.6666666666666666,\"#35b779\"],[0.7777777777777778,\"#6ece58\"],[0.8888888888888888,\"#b5de2b\"],[1.0,\"#fde725\"]],\"type\":\"surface\"}],\"table\":[{\"cells\":{\"fill\":{\"color\":\"rgb(237,237,237)\"},\"line\":{\"color\":\"white\"}},\"header\":{\"fill\":{\"color\":\"rgb(217,217,217)\"},\"line\":{\"color\":\"white\"}},\"type\":\"table\"}]},\"layout\":{\"annotationdefaults\":{\"arrowhead\":0,\"arrowwidth\":1},\"autotypenumbers\":\"strict\",\"coloraxis\":{\"colorbar\":{\"outlinewidth\":1,\"tickcolor\":\"rgb(36,36,36)\",\"ticks\":\"outside\"}},\"colorscale\":{\"diverging\":[[0.0,\"rgb(103,0,31)\"],[0.1,\"rgb(178,24,43)\"],[0.2,\"rgb(214,96,77)\"],[0.3,\"rgb(244,165,130)\"],[0.4,\"rgb(253,219,199)\"],[0.5,\"rgb(247,247,247)\"],[0.6,\"rgb(209,229,240)\"],[0.7,\"rgb(146,197,222)\"],[0.8,\"rgb(67,147,195)\"],[0.9,\"rgb(33,102,172)\"],[1.0,\"rgb(5,48,97)\"]],\"sequential\":[[0.0,\"#440154\"],[0.1111111111111111,\"#482878\"],[0.2222222222222222,\"#3e4989\"],[0.3333333333333333,\"#31688e\"],[0.4444444444444444,\"#26828e\"],[0.5555555555555556,\"#1f9e89\"],[0.6666666666666666,\"#35b779\"],[0.7777777777777778,\"#6ece58\"],[0.8888888888888888,\"#b5de2b\"],[1.0,\"#fde725\"]],\"sequentialminus\":[[0.0,\"#440154\"],[0.1111111111111111,\"#482878\"],[0.2222222222222222,\"#3e4989\"],[0.3333333333333333,\"#31688e\"],[0.4444444444444444,\"#26828e\"],[0.5555555555555556,\"#1f9e89\"],[0.6666666666666666,\"#35b779\"],[0.7777777777777778,\"#6ece58\"],[0.8888888888888888,\"#b5de2b\"],[1.0,\"#fde725\"]]},\"colorway\":[\"#1F77B4\",\"#FF7F0E\",\"#2CA02C\",\"#D62728\",\"#9467BD\",\"#8C564B\",\"#E377C2\",\"#7F7F7F\",\"#BCBD22\",\"#17BECF\"],\"font\":{\"color\":\"rgb(36,36,36)\"},\"geo\":{\"bgcolor\":\"white\",\"lakecolor\":\"white\",\"landcolor\":\"white\",\"showlakes\":true,\"showland\":true,\"subunitcolor\":\"white\"},\"hoverlabel\":{\"align\":\"left\"},\"hovermode\":\"closest\",\"mapbox\":{\"style\":\"light\"},\"paper_bgcolor\":\"white\",\"plot_bgcolor\":\"white\",\"polar\":{\"angularaxis\":{\"gridcolor\":\"rgb(232,232,232)\",\"linecolor\":\"rgb(36,36,36)\",\"showgrid\":false,\"showline\":true,\"ticks\":\"outside\"},\"bgcolor\":\"white\",\"radialaxis\":{\"gridcolor\":\"rgb(232,232,232)\",\"linecolor\":\"rgb(36,36,36)\",\"showgrid\":false,\"showline\":true,\"ticks\":\"outside\"}},\"scene\":{\"xaxis\":{\"backgroundcolor\":\"white\",\"gridcolor\":\"rgb(232,232,232)\",\"gridwidth\":2,\"linecolor\":\"rgb(36,36,36)\",\"showbackground\":true,\"showgrid\":false,\"showline\":true,\"ticks\":\"outside\",\"zeroline\":false,\"zerolinecolor\":\"rgb(36,36,36)\"},\"yaxis\":{\"backgroundcolor\":\"white\",\"gridcolor\":\"rgb(232,232,232)\",\"gridwidth\":2,\"linecolor\":\"rgb(36,36,36)\",\"showbackground\":true,\"showgrid\":false,\"showline\":true,\"ticks\":\"outside\",\"zeroline\":false,\"zerolinecolor\":\"rgb(36,36,36)\"},\"zaxis\":{\"backgroundcolor\":\"white\",\"gridcolor\":\"rgb(232,232,232)\",\"gridwidth\":2,\"linecolor\":\"rgb(36,36,36)\",\"showbackground\":true,\"showgrid\":false,\"showline\":true,\"ticks\":\"outside\",\"zeroline\":false,\"zerolinecolor\":\"rgb(36,36,36)\"}},\"shapedefaults\":{\"fillcolor\":\"black\",\"line\":{\"width\":0},\"opacity\":0.3},\"ternary\":{\"aaxis\":{\"gridcolor\":\"rgb(232,232,232)\",\"linecolor\":\"rgb(36,36,36)\",\"showgrid\":false,\"showline\":true,\"ticks\":\"outside\"},\"baxis\":{\"gridcolor\":\"rgb(232,232,232)\",\"linecolor\":\"rgb(36,36,36)\",\"showgrid\":false,\"showline\":true,\"ticks\":\"outside\"},\"bgcolor\":\"white\",\"caxis\":{\"gridcolor\":\"rgb(232,232,232)\",\"linecolor\":\"rgb(36,36,36)\",\"showgrid\":false,\"showline\":true,\"ticks\":\"outside\"}},\"title\":{\"x\":0.05},\"xaxis\":{\"automargin\":true,\"gridcolor\":\"rgb(232,232,232)\",\"linecolor\":\"rgb(36,36,36)\",\"showgrid\":false,\"showline\":true,\"ticks\":\"outside\",\"title\":{\"standoff\":15},\"zeroline\":false,\"zerolinecolor\":\"rgb(36,36,36)\"},\"yaxis\":{\"automargin\":true,\"gridcolor\":\"rgb(232,232,232)\",\"linecolor\":\"rgb(36,36,36)\",\"showgrid\":false,\"showline\":true,\"ticks\":\"outside\",\"title\":{\"standoff\":15},\"zeroline\":false,\"zerolinecolor\":\"rgb(36,36,36)\"}}},\"xaxis\":{\"anchor\":\"y\",\"domain\":[0.0,1.0],\"title\":{\"text\":\"PC1\"}},\"yaxis\":{\"anchor\":\"x\",\"domain\":[0.0,1.0],\"title\":{\"text\":\"PC2\"}},\"legend\":{\"title\":{\"text\":\"taxon\"},\"tracegroupgap\":0,\"itemsizing\":\"constant\"},\"title\":{\"text\":\"Burkina Faso just An. gambiae\"},\"height\":600,\"width\":900},                        {\"responsive\": true}                    ).then(function(){\n",
              "                            \n",
              "var gd = document.getElementById('c066446e-1dc1-4aea-8f7e-418d7a876522');\n",
              "var x = new MutationObserver(function (mutations, observer) {{\n",
              "        var display = window.getComputedStyle(gd).display;\n",
              "        if (!display || display === 'none') {{\n",
              "            console.log([gd, 'removed!']);\n",
              "            Plotly.purge(gd);\n",
              "            observer.disconnect();\n",
              "        }}\n",
              "}});\n",
              "\n",
              "// Listen for the removal of the full notebook cells\n",
              "var notebookContainer = gd.closest('#notebook-container');\n",
              "if (notebookContainer) {{\n",
              "    x.observe(notebookContainer, {childList: true});\n",
              "}}\n",
              "\n",
              "// Listen for the clearing of the current output cell\n",
              "var outputEl = gd.closest('.output');\n",
              "if (outputEl) {{\n",
              "    x.observe(outputEl, {childList: true});\n",
              "}}\n",
              "\n",
              "                        })                };                            </script>        </div>\n",
              "</body>\n",
              "</html>"
            ]
          },
          "metadata": {}
        }
      ]
    },
    {
      "cell_type": "code",
      "source": [
        "pcr_bf_df, evr_bfg = ag3.pca(\n",
        "    region=region,\n",
        "    n_snps=n_snps,\n",
        "    sample_sets=[\"AG1000G-BF-A\", \"AG1000G-BF-B\", \"AG1000G-BF-C\"],\n",
        "    sample_query=\"taxon in ['gambiae', 'coluzzii'] and country == 'Burkina Faso'\",\n",
        ")\n",
        "\n",
        "ag3.plot_pca_coords(\n",
        "    pcr_bf_df,\n",
        "    color=\"taxon\",\n",
        "    title=\"Burkina Faso, An. gambiae and coluzzii\"\n",
        ")"
      ],
      "metadata": {
        "colab": {
          "base_uri": "https://localhost:8080/",
          "height": 681,
          "referenced_widgets": [
            "d1d31dfadd074d258545fac974942a68",
            "6067ef748d974667b9d2e5c2088799f7",
            "3d9e43eb6ce946989f040bb20057b624",
            "e7134c1ae02143378f9ac054b90acbb4",
            "ed0b14a722c2476a99cc9b79424bebeb",
            "b021f753e1114229930fa18292899951",
            "9a8c7893d320445d959da7e5f03b7e45",
            "95d2bb5d13cb4f4c829e7f995a2d065e",
            "d1b8263899104a248a50a5fcece60ecf",
            "0bb88b68fa07453c96bd30e7cae5fd27",
            "87e55aefe5084ff0a6d5fd99714e6718",
            "2d75bb4ace334423b06b26df599f2195",
            "59c681d0153f41ef8825ee8f0f8588a0",
            "3b5fdd95c1574f8dbf8f9004c3e43ae1",
            "704da1a04c0a48309b4ac936c8d294ce",
            "64729d23349242a3b59d471a9f94bf88",
            "774d53ce9aaa4012adb43f45c05d532b",
            "30acc43c0ce04a29897248c4c147696e",
            "c37f4402d1864d539161fe0487b8d1a3",
            "49fc1aaf0d5a4d01b9e0453cfb3a318e",
            "53a27afb58364e2a83cbd5be23110915",
            "090fc7925c334a75a4ca98181a5c8864"
          ]
        },
        "id": "dnb1XB5NrR9I",
        "outputId": "a8c79c6c-4037-4e35-de72-5689cf9b4bfc"
      },
      "execution_count": 24,
      "outputs": [
        {
          "output_type": "display_data",
          "data": {
            "text/plain": [
              "Compute SNP allele counts:   0%|          | 0/3182 [00:00<?, ?it/s]"
            ],
            "application/vnd.jupyter.widget-view+json": {
              "version_major": 2,
              "version_minor": 0,
              "model_id": "d1d31dfadd074d258545fac974942a68"
            }
          },
          "metadata": {}
        },
        {
          "output_type": "display_data",
          "data": {
            "text/plain": [
              "Load SNP genotypes:   0%|          | 0/2924 [00:00<?, ?it/s]"
            ],
            "application/vnd.jupyter.widget-view+json": {
              "version_major": 2,
              "version_minor": 0,
              "model_id": "2d75bb4ace334423b06b26df599f2195"
            }
          },
          "metadata": {}
        },
        {
          "output_type": "display_data",
          "data": {
            "text/html": [
              "<html>\n",
              "<head><meta charset=\"utf-8\" /></head>\n",
              "<body>\n",
              "    <div>            <script src=\"https://cdnjs.cloudflare.com/ajax/libs/mathjax/2.7.5/MathJax.js?config=TeX-AMS-MML_SVG\"></script><script type=\"text/javascript\">if (window.MathJax) {MathJax.Hub.Config({SVG: {font: \"STIX-Web\"}});}</script>                <script type=\"text/javascript\">window.PlotlyConfig = {MathJaxConfig: 'local'};</script>\n",
              "        <script src=\"https://cdn.plot.ly/plotly-2.8.3.min.js\"></script>                <div id=\"e8722c76-8a4d-473a-a0ac-8efe01cc414a\" class=\"plotly-graph-div\" style=\"height:600px; width:900px;\"></div>            <script type=\"text/javascript\">                                    window.PLOTLYENV=window.PLOTLYENV || {};                                    if (document.getElementById(\"e8722c76-8a4d-473a-a0ac-8efe01cc414a\")) {                    Plotly.newPlot(                        \"e8722c76-8a4d-473a-a0ac-8efe01cc414a\",                        [{\"customdata\":[[\"BF12-32\",\"AG1000G-BF-A\",\"gambiae\",\"Burkina Faso\",\"BF-09\",\"Hauts-Bassins\",\"Houet\",\"Pala\",2012,7],[\"BF11-3\",\"AG1000G-BF-A\",\"gambiae\",\"Burkina Faso\",\"BF-09\",\"Hauts-Bassins\",\"Houet\",\"Souroukoudinga\",2012,7],[\"BF11-28\",\"AG1000G-BF-A\",\"gambiae\",\"Burkina Faso\",\"BF-09\",\"Hauts-Bassins\",\"Houet\",\"Souroukoudinga\",2012,7],[\"BF13-31\",\"AG1000G-BF-B\",\"gambiae\",\"Burkina Faso\",\"BF-09\",\"Hauts-Bassins\",\"Houet\",\"Souroukoudinga\",2014,7],[\"BF3-30\",\"AG1000G-BF-A\",\"gambiae\",\"Burkina Faso\",\"BF-09\",\"Hauts-Bassins\",\"Houet\",\"Bana Village\",2012,7],[5057,\"AG1000G-BF-C\",\"gambiae\",\"Burkina Faso\",\"BF-07\",\"Centre-Sud\",\"Bazega\",\"Monomtenga\",2004,7],[\"BF18-39\",\"AG1000G-BF-B\",\"gambiae\",\"Burkina Faso\",\"BF-09\",\"Hauts-Bassins\",\"Houet\",\"Bana Village\",2014,7],[\"BF10-8\",\"AG1000G-BF-A\",\"gambiae\",\"Burkina Faso\",\"BF-09\",\"Hauts-Bassins\",\"Houet\",\"Pala\",2012,7],[\"BF16-7\",\"AG1000G-BF-B\",\"gambiae\",\"Burkina Faso\",\"BF-09\",\"Hauts-Bassins\",\"Houet\",\"Pala\",2014,7],[\"BF14-19\",\"AG1000G-BF-B\",\"gambiae\",\"Burkina Faso\",\"BF-09\",\"Hauts-Bassins\",\"Houet\",\"Bana Village\",2014,7],[\"BFPala 48.3\",\"AG1000G-BF-A\",\"gambiae\",\"Burkina Faso\",\"BF-09\",\"Hauts-Bassins\",\"Houet\",\"Pala\",2012,7],[\"BF10-5\",\"AG1000G-BF-A\",\"gambiae\",\"Burkina Faso\",\"BF-09\",\"Hauts-Bassins\",\"Houet\",\"Pala\",2012,7],[\"BF13-4\",\"AG1000G-BF-B\",\"gambiae\",\"Burkina Faso\",\"BF-09\",\"Hauts-Bassins\",\"Houet\",\"Souroukoudinga\",2014,7],[\"BF13-18\",\"AG1000G-BF-B\",\"gambiae\",\"Burkina Faso\",\"BF-09\",\"Hauts-Bassins\",\"Houet\",\"Souroukoudinga\",2014,7],[\"BFBana 16.1\",\"AG1000G-BF-A\",\"gambiae\",\"Burkina Faso\",\"BF-09\",\"Hauts-Bassins\",\"Houet\",\"Bana Village\",2012,7],[\"BF3-46\",\"AG1000G-BF-A\",\"gambiae\",\"Burkina Faso\",\"BF-09\",\"Hauts-Bassins\",\"Houet\",\"Bana Village\",2012,7],[\"BF2-17\",\"AG1000G-BF-A\",\"gambiae\",\"Burkina Faso\",\"BF-09\",\"Hauts-Bassins\",\"Houet\",\"Souroukoudinga\",2012,7],[\"BF3-40\",\"AG1000G-BF-A\",\"gambiae\",\"Burkina Faso\",\"BF-09\",\"Hauts-Bassins\",\"Houet\",\"Bana Village\",2012,7],[6712,\"AG1000G-BF-C\",\"gambiae\",\"Burkina Faso\",\"BF-07\",\"Centre-Sud\",\"Bazega\",\"Monomtenga\",2004,7],[\"BF3-45\",\"AG1000G-BF-A\",\"gambiae\",\"Burkina Faso\",\"BF-09\",\"Hauts-Bassins\",\"Houet\",\"Bana Village\",2012,7],[\"BF12-20\",\"AG1000G-BF-A\",\"gambiae\",\"Burkina Faso\",\"BF-09\",\"Hauts-Bassins\",\"Houet\",\"Pala\",2012,7],[5089,\"AG1000G-BF-C\",\"gambiae\",\"Burkina Faso\",\"BF-07\",\"Centre-Sud\",\"Bazega\",\"Monomtenga\",2004,7],[\"BF12-13\",\"AG1000G-BF-A\",\"gambiae\",\"Burkina Faso\",\"BF-09\",\"Hauts-Bassins\",\"Houet\",\"Pala\",2012,7],[\"BF3-54\",\"AG1000G-BF-A\",\"gambiae\",\"Burkina Faso\",\"BF-09\",\"Hauts-Bassins\",\"Houet\",\"Pala\",2012,7],[\"BF3-60\",\"AG1000G-BF-A\",\"gambiae\",\"Burkina Faso\",\"BF-09\",\"Hauts-Bassins\",\"Houet\",\"Pala\",2012,7],[\"BF13-2\",\"AG1000G-BF-B\",\"gambiae\",\"Burkina Faso\",\"BF-09\",\"Hauts-Bassins\",\"Houet\",\"Souroukoudinga\",2014,7],[\"BF13-32\",\"AG1000G-BF-B\",\"gambiae\",\"Burkina Faso\",\"BF-09\",\"Hauts-Bassins\",\"Houet\",\"Souroukoudinga\",2014,7],[\"BF17-3\",\"AG1000G-BF-B\",\"gambiae\",\"Burkina Faso\",\"BF-09\",\"Hauts-Bassins\",\"Houet\",\"Pala\",2014,7],[\"BF10-10\",\"AG1000G-BF-A\",\"gambiae\",\"Burkina Faso\",\"BF-09\",\"Hauts-Bassins\",\"Houet\",\"Pala\",2012,7],[\"BF6-8\",\"AG1000G-BF-A\",\"gambiae\",\"Burkina Faso\",\"BF-09\",\"Hauts-Bassins\",\"Houet\",\"Bana Village\",2012,7],[\"BF12-28\",\"AG1000G-BF-A\",\"gambiae\",\"Burkina Faso\",\"BF-09\",\"Hauts-Bassins\",\"Houet\",\"Pala\",2012,7],[\"BF12-24\",\"AG1000G-BF-A\",\"gambiae\",\"Burkina Faso\",\"BF-09\",\"Hauts-Bassins\",\"Houet\",\"Pala\",2012,7],[\"BF10-3\",\"AG1000G-BF-A\",\"gambiae\",\"Burkina Faso\",\"BF-09\",\"Hauts-Bassins\",\"Houet\",\"Pala\",2012,7],[\"BF4-10\",\"AG1000G-BF-A\",\"gambiae\",\"Burkina Faso\",\"BF-09\",\"Hauts-Bassins\",\"Houet\",\"Bana Village\",2012,7],[\"BF11-29\",\"AG1000G-BF-A\",\"gambiae\",\"Burkina Faso\",\"BF-09\",\"Hauts-Bassins\",\"Houet\",\"Souroukoudinga\",2012,7],[\"BF10-2\",\"AG1000G-BF-A\",\"gambiae\",\"Burkina Faso\",\"BF-09\",\"Hauts-Bassins\",\"Houet\",\"Pala\",2012,7],[\"BF4-4\",\"AG1000G-BF-A\",\"gambiae\",\"Burkina Faso\",\"BF-09\",\"Hauts-Bassins\",\"Houet\",\"Bana Village\",2012,7],[\"BF3-64\",\"AG1000G-BF-A\",\"gambiae\",\"Burkina Faso\",\"BF-09\",\"Hauts-Bassins\",\"Houet\",\"Pala\",2012,7],[\"BF3-34\",\"AG1000G-BF-A\",\"gambiae\",\"Burkina Faso\",\"BF-09\",\"Hauts-Bassins\",\"Houet\",\"Bana Village\",2012,7],[\"BF6-7\",\"AG1000G-BF-A\",\"gambiae\",\"Burkina Faso\",\"BF-09\",\"Hauts-Bassins\",\"Houet\",\"Bana Village\",2012,7],[6779,\"AG1000G-BF-C\",\"gambiae\",\"Burkina Faso\",\"BF-07\",\"Centre-Sud\",\"Bazega\",\"Monomtenga\",2004,8],[\"BF3-61\",\"AG1000G-BF-A\",\"gambiae\",\"Burkina Faso\",\"BF-09\",\"Hauts-Bassins\",\"Houet\",\"Pala\",2012,7],[\"BF18-2\",\"AG1000G-BF-B\",\"gambiae\",\"Burkina Faso\",\"BF-09\",\"Hauts-Bassins\",\"Houet\",\"Bana Village\",2014,7],[\"BFPala 36.3\",\"AG1000G-BF-A\",\"gambiae\",\"Burkina Faso\",\"BF-09\",\"Hauts-Bassins\",\"Houet\",\"Pala\",2012,7],[\"BF3-38\",\"AG1000G-BF-A\",\"gambiae\",\"Burkina Faso\",\"BF-09\",\"Hauts-Bassins\",\"Houet\",\"Bana Village\",2012,7],[\"BF13-8\",\"AG1000G-BF-B\",\"gambiae\",\"Burkina Faso\",\"BF-09\",\"Hauts-Bassins\",\"Houet\",\"Souroukoudinga\",2014,7],[\"BF10-13\",\"AG1000G-BF-A\",\"gambiae\",\"Burkina Faso\",\"BF-09\",\"Hauts-Bassins\",\"Houet\",\"Pala\",2012,7],[\"BF12-26\",\"AG1000G-BF-A\",\"gambiae\",\"Burkina Faso\",\"BF-09\",\"Hauts-Bassins\",\"Houet\",\"Pala\",2012,7],[\"BF3-42\",\"AG1000G-BF-A\",\"gambiae\",\"Burkina Faso\",\"BF-09\",\"Hauts-Bassins\",\"Houet\",\"Bana Village\",2012,7],[\"BFSour 54.2\",\"AG1000G-BF-A\",\"gambiae\",\"Burkina Faso\",\"BF-09\",\"Hauts-Bassins\",\"Houet\",\"Souroukoudinga\",2012,7],[5072,\"AG1000G-BF-C\",\"gambiae\",\"Burkina Faso\",\"BF-07\",\"Centre-Sud\",\"Bazega\",\"Monomtenga\",2004,7],[\"BF10-9\",\"AG1000G-BF-A\",\"gambiae\",\"Burkina Faso\",\"BF-09\",\"Hauts-Bassins\",\"Houet\",\"Pala\",2012,7],[\"BF10-12\",\"AG1000G-BF-A\",\"gambiae\",\"Burkina Faso\",\"BF-09\",\"Hauts-Bassins\",\"Houet\",\"Pala\",2012,7],[\"BF24-27\",\"AG1000G-BF-B\",\"gambiae\",\"Burkina Faso\",\"BF-09\",\"Hauts-Bassins\",\"Houet\",\"Souroukoudinga\",2014,7],[\"BFPala 36.2\",\"AG1000G-BF-A\",\"gambiae\",\"Burkina Faso\",\"BF-09\",\"Hauts-Bassins\",\"Houet\",\"Pala\",2012,7],[\"BF12-29\",\"AG1000G-BF-A\",\"gambiae\",\"Burkina Faso\",\"BF-09\",\"Hauts-Bassins\",\"Houet\",\"Pala\",2012,7],[\"BF11-11\",\"AG1000G-BF-A\",\"gambiae\",\"Burkina Faso\",\"BF-09\",\"Hauts-Bassins\",\"Houet\",\"Souroukoudinga\",2012,7],[\"BF12-23\",\"AG1000G-BF-A\",\"gambiae\",\"Burkina Faso\",\"BF-09\",\"Hauts-Bassins\",\"Houet\",\"Pala\",2012,7],[\"BF3-65\",\"AG1000G-BF-A\",\"gambiae\",\"Burkina Faso\",\"BF-09\",\"Hauts-Bassins\",\"Houet\",\"Pala\",2012,7],[\"BF14-22\",\"AG1000G-BF-B\",\"gambiae\",\"Burkina Faso\",\"BF-09\",\"Hauts-Bassins\",\"Houet\",\"Bana Village\",2014,7],[\"BFPala 58.3\",\"AG1000G-BF-A\",\"gambiae\",\"Burkina Faso\",\"BF-09\",\"Hauts-Bassins\",\"Houet\",\"Pala\",2012,7],[\"BF10-7\",\"AG1000G-BF-A\",\"gambiae\",\"Burkina Faso\",\"BF-09\",\"Hauts-Bassins\",\"Houet\",\"Pala\",2012,7],[\"BFSour 54.1\",\"AG1000G-BF-A\",\"gambiae\",\"Burkina Faso\",\"BF-09\",\"Hauts-Bassins\",\"Houet\",\"Souroukoudinga\",2012,7],[\"BF17-20\",\"AG1000G-BF-B\",\"gambiae\",\"Burkina Faso\",\"BF-09\",\"Hauts-Bassins\",\"Houet\",\"Pala\",2014,7],[\"BF12-18\",\"AG1000G-BF-A\",\"gambiae\",\"Burkina Faso\",\"BF-09\",\"Hauts-Bassins\",\"Houet\",\"Pala\",2012,7],[\"BF18-7\",\"AG1000G-BF-B\",\"gambiae\",\"Burkina Faso\",\"BF-09\",\"Hauts-Bassins\",\"Houet\",\"Bana Village\",2014,7],[\"BF17-24\",\"AG1000G-BF-B\",\"gambiae\",\"Burkina Faso\",\"BF-09\",\"Hauts-Bassins\",\"Houet\",\"Pala\",2014,7],[\"BF10-4\",\"AG1000G-BF-A\",\"gambiae\",\"Burkina Faso\",\"BF-09\",\"Hauts-Bassins\",\"Houet\",\"Pala\",2012,7],[\"BF17-18\",\"AG1000G-BF-B\",\"gambiae\",\"Burkina Faso\",\"BF-09\",\"Hauts-Bassins\",\"Houet\",\"Pala\",2014,7],[\"BF13-42\",\"AG1000G-BF-B\",\"gambiae\",\"Burkina Faso\",\"BF-09\",\"Hauts-Bassins\",\"Houet\",\"Souroukoudinga\",2014,7],[\"BF3-59\",\"AG1000G-BF-A\",\"gambiae\",\"Burkina Faso\",\"BF-09\",\"Hauts-Bassins\",\"Houet\",\"Pala\",2012,7],[\"BF3-32\",\"AG1000G-BF-A\",\"gambiae\",\"Burkina Faso\",\"BF-09\",\"Hauts-Bassins\",\"Houet\",\"Bana Village\",2012,7],[\"BF3-23\",\"AG1000G-BF-A\",\"gambiae\",\"Burkina Faso\",\"BF-09\",\"Hauts-Bassins\",\"Houet\",\"Bana Village\",2012,7],[\"BF12-31\",\"AG1000G-BF-A\",\"gambiae\",\"Burkina Faso\",\"BF-09\",\"Hauts-Bassins\",\"Houet\",\"Pala\",2012,7],[\"BF14-4\",\"AG1000G-BF-B\",\"gambiae\",\"Burkina Faso\",\"BF-09\",\"Hauts-Bassins\",\"Houet\",\"Bana Village\",2014,7],[\"BF12-7\",\"AG1000G-BF-A\",\"gambiae\",\"Burkina Faso\",\"BF-09\",\"Hauts-Bassins\",\"Houet\",\"Pala\",2012,7],[\"BF8-5\",\"AG1000G-BF-A\",\"gambiae\",\"Burkina Faso\",\"BF-09\",\"Hauts-Bassins\",\"Houet\",\"Souroukoudinga\",2012,7],[\"BFPala 36.1\",\"AG1000G-BF-A\",\"gambiae\",\"Burkina Faso\",\"BF-09\",\"Hauts-Bassins\",\"Houet\",\"Pala\",2012,7],[\"BF2-16\",\"AG1000G-BF-A\",\"gambiae\",\"Burkina Faso\",\"BF-09\",\"Hauts-Bassins\",\"Houet\",\"Souroukoudinga\",2012,7],[\"BF17-22\",\"AG1000G-BF-B\",\"gambiae\",\"Burkina Faso\",\"BF-09\",\"Hauts-Bassins\",\"Houet\",\"Pala\",2014,7],[\"BF18-43\",\"AG1000G-BF-B\",\"gambiae\",\"Burkina Faso\",\"BF-09\",\"Hauts-Bassins\",\"Houet\",\"Bana Village\",2014,7],[\"BF11-15\",\"AG1000G-BF-A\",\"gambiae\",\"Burkina Faso\",\"BF-09\",\"Hauts-Bassins\",\"Houet\",\"Souroukoudinga\",2012,7],[\"BF3-21\",\"AG1000G-BF-A\",\"gambiae\",\"Burkina Faso\",\"BF-09\",\"Hauts-Bassins\",\"Houet\",\"Bana Village\",2012,7],[6729,\"AG1000G-BF-C\",\"gambiae\",\"Burkina Faso\",\"BF-07\",\"Centre-Sud\",\"Bazega\",\"Monomtenga\",2004,7],[\"BF11-20\",\"AG1000G-BF-A\",\"gambiae\",\"Burkina Faso\",\"BF-09\",\"Hauts-Bassins\",\"Houet\",\"Souroukoudinga\",2012,7],[\"BF2-4\",\"AG1000G-BF-A\",\"gambiae\",\"Burkina Faso\",\"BF-09\",\"Hauts-Bassins\",\"Houet\",\"Pala\",2012,7],[\"BFPala 48.2\",\"AG1000G-BF-A\",\"gambiae\",\"Burkina Faso\",\"BF-09\",\"Hauts-Bassins\",\"Houet\",\"Pala\",2012,7],[\"BF16-2\",\"AG1000G-BF-B\",\"gambiae\",\"Burkina Faso\",\"BF-09\",\"Hauts-Bassins\",\"Houet\",\"Pala\",2014,7],[\"BF14-17\",\"AG1000G-BF-B\",\"gambiae\",\"Burkina Faso\",\"BF-09\",\"Hauts-Bassins\",\"Houet\",\"Bana Village\",2014,7],[\"BF17-1\",\"AG1000G-BF-B\",\"gambiae\",\"Burkina Faso\",\"BF-09\",\"Hauts-Bassins\",\"Houet\",\"Pala\",2014,7],[\"BFPala 36.4\",\"AG1000G-BF-A\",\"gambiae\",\"Burkina Faso\",\"BF-09\",\"Hauts-Bassins\",\"Houet\",\"Pala\",2012,7],[\"BF3-33\",\"AG1000G-BF-A\",\"gambiae\",\"Burkina Faso\",\"BF-09\",\"Hauts-Bassins\",\"Houet\",\"Bana Village\",2012,7],[\"BF3-47\",\"AG1000G-BF-A\",\"gambiae\",\"Burkina Faso\",\"BF-09\",\"Hauts-Bassins\",\"Houet\",\"Bana Village\",2012,7],[\"BF12-2\",\"AG1000G-BF-A\",\"gambiae\",\"Burkina Faso\",\"BF-09\",\"Hauts-Bassins\",\"Houet\",\"Pala\",2012,7],[\"BF22-59\",\"AG1000G-BF-B\",\"gambiae\",\"Burkina Faso\",\"BF-09\",\"Hauts-Bassins\",\"Houet\",\"Bana Village\",2014,7],[6777,\"AG1000G-BF-C\",\"gambiae\",\"Burkina Faso\",\"BF-07\",\"Centre-Sud\",\"Bazega\",\"Monomtenga\",2004,8],[\"BF3-22\",\"AG1000G-BF-A\",\"gambiae\",\"Burkina Faso\",\"BF-09\",\"Hauts-Bassins\",\"Houet\",\"Bana Village\",2012,7],[\"BFSour 57.2\",\"AG1000G-BF-A\",\"gambiae\",\"Burkina Faso\",\"BF-09\",\"Hauts-Bassins\",\"Houet\",\"Souroukoudinga\",2012,7],[6775,\"AG1000G-BF-C\",\"gambiae\",\"Burkina Faso\",\"BF-07\",\"Centre-Sud\",\"Bazega\",\"Monomtenga\",2004,8],[\"BF14-23\",\"AG1000G-BF-B\",\"gambiae\",\"Burkina Faso\",\"BF-09\",\"Hauts-Bassins\",\"Houet\",\"Bana Village\",2014,7],[\"BF11-17\",\"AG1000G-BF-A\",\"gambiae\",\"Burkina Faso\",\"BF-09\",\"Hauts-Bassins\",\"Houet\",\"Souroukoudinga\",2012,7],[\"BF3-48\",\"AG1000G-BF-A\",\"gambiae\",\"Burkina Faso\",\"BF-09\",\"Hauts-Bassins\",\"Houet\",\"Bana Village\",2012,7],[\"BF11-14\",\"AG1000G-BF-A\",\"gambiae\",\"Burkina Faso\",\"BF-09\",\"Hauts-Bassins\",\"Houet\",\"Souroukoudinga\",2012,7],[\"BF11-7\",\"AG1000G-BF-A\",\"gambiae\",\"Burkina Faso\",\"BF-09\",\"Hauts-Bassins\",\"Houet\",\"Souroukoudinga\",2012,7],[5091,\"AG1000G-BF-C\",\"gambiae\",\"Burkina Faso\",\"BF-07\",\"Centre-Sud\",\"Bazega\",\"Monomtenga\",2004,7],[\"BF17-23\",\"AG1000G-BF-B\",\"gambiae\",\"Burkina Faso\",\"BF-09\",\"Hauts-Bassins\",\"Houet\",\"Pala\",2014,7],[\"BF3-66\",\"AG1000G-BF-A\",\"gambiae\",\"Burkina Faso\",\"BF-09\",\"Hauts-Bassins\",\"Houet\",\"Pala\",2012,7],[\"BF13-6\",\"AG1000G-BF-B\",\"gambiae\",\"Burkina Faso\",\"BF-09\",\"Hauts-Bassins\",\"Houet\",\"Souroukoudinga\",2014,7],[\"BF3-56\",\"AG1000G-BF-A\",\"gambiae\",\"Burkina Faso\",\"BF-09\",\"Hauts-Bassins\",\"Houet\",\"Pala\",2012,7],[\"BF22-57\",\"AG1000G-BF-B\",\"gambiae\",\"Burkina Faso\",\"BF-09\",\"Hauts-Bassins\",\"Houet\",\"Bana Village\",2014,7],[\"BF12-8\",\"AG1000G-BF-A\",\"gambiae\",\"Burkina Faso\",\"BF-09\",\"Hauts-Bassins\",\"Houet\",\"Pala\",2012,7],[\"BF2-15\",\"AG1000G-BF-A\",\"gambiae\",\"Burkina Faso\",\"BF-09\",\"Hauts-Bassins\",\"Houet\",\"Souroukoudinga\",2012,7],[\"BF17-4\",\"AG1000G-BF-B\",\"gambiae\",\"Burkina Faso\",\"BF-09\",\"Hauts-Bassins\",\"Houet\",\"Pala\",2014,7],[\"BF13-14\",\"AG1000G-BF-B\",\"gambiae\",\"Burkina Faso\",\"BF-09\",\"Hauts-Bassins\",\"Houet\",\"Souroukoudinga\",2014,7],[\"BF17-5\",\"AG1000G-BF-B\",\"gambiae\",\"Burkina Faso\",\"BF-09\",\"Hauts-Bassins\",\"Houet\",\"Pala\",2014,7],[\"BF2-14\",\"AG1000G-BF-A\",\"gambiae\",\"Burkina Faso\",\"BF-09\",\"Hauts-Bassins\",\"Houet\",\"Souroukoudinga\",2012,7],[\"BF18-41\",\"AG1000G-BF-B\",\"gambiae\",\"Burkina Faso\",\"BF-09\",\"Hauts-Bassins\",\"Houet\",\"Bana Village\",2014,7],[5098,\"AG1000G-BF-C\",\"gambiae\",\"Burkina Faso\",\"BF-07\",\"Centre-Sud\",\"Bazega\",\"Monomtenga\",2004,7],[\"BF26-60\",\"AG1000G-BF-B\",\"gambiae\",\"Burkina Faso\",\"BF-09\",\"Hauts-Bassins\",\"Houet\",\"Pala\",2014,7],[\"BF13-33\",\"AG1000G-BF-B\",\"gambiae\",\"Burkina Faso\",\"BF-09\",\"Hauts-Bassins\",\"Houet\",\"Souroukoudinga\",2014,7],[\"BF24-29\",\"AG1000G-BF-B\",\"gambiae\",\"Burkina Faso\",\"BF-09\",\"Hauts-Bassins\",\"Houet\",\"Souroukoudinga\",2014,7],[\"BF18-8\",\"AG1000G-BF-B\",\"gambiae\",\"Burkina Faso\",\"BF-09\",\"Hauts-Bassins\",\"Houet\",\"Bana Village\",2014,7],[\"BF18-18\",\"AG1000G-BF-B\",\"gambiae\",\"Burkina Faso\",\"BF-09\",\"Hauts-Bassins\",\"Houet\",\"Bana Village\",2014,7],[\"BFSour 59.1\",\"AG1000G-BF-A\",\"gambiae\",\"Burkina Faso\",\"BF-09\",\"Hauts-Bassins\",\"Houet\",\"Souroukoudinga\",2012,7],[\"BF8-7\",\"AG1000G-BF-A\",\"gambiae\",\"Burkina Faso\",\"BF-09\",\"Hauts-Bassins\",\"Houet\",\"Souroukoudinga\",2012,7],[\"BF11-12\",\"AG1000G-BF-A\",\"gambiae\",\"Burkina Faso\",\"BF-09\",\"Hauts-Bassins\",\"Houet\",\"Souroukoudinga\",2012,7],[\"BF2-6\",\"AG1000G-BF-A\",\"gambiae\",\"Burkina Faso\",\"BF-09\",\"Hauts-Bassins\",\"Houet\",\"Pala\",2012,7],[\"BFPala 58.2\",\"AG1000G-BF-A\",\"gambiae\",\"Burkina Faso\",\"BF-09\",\"Hauts-Bassins\",\"Houet\",\"Pala\",2012,7],[\"BF8-2\",\"AG1000G-BF-A\",\"gambiae\",\"Burkina Faso\",\"BF-09\",\"Hauts-Bassins\",\"Houet\",\"Souroukoudinga\",2012,7],[\"BF12-17\",\"AG1000G-BF-A\",\"gambiae\",\"Burkina Faso\",\"BF-09\",\"Hauts-Bassins\",\"Houet\",\"Pala\",2012,7],[\"BF3-31\",\"AG1000G-BF-A\",\"gambiae\",\"Burkina Faso\",\"BF-09\",\"Hauts-Bassins\",\"Houet\",\"Bana Village\",2012,7],[\"BF24-28\",\"AG1000G-BF-B\",\"gambiae\",\"Burkina Faso\",\"BF-09\",\"Hauts-Bassins\",\"Houet\",\"Souroukoudinga\",2014,7],[\"BF24-30\",\"AG1000G-BF-B\",\"gambiae\",\"Burkina Faso\",\"BF-09\",\"Hauts-Bassins\",\"Houet\",\"Souroukoudinga\",2014,7],[\"BF11-8\",\"AG1000G-BF-A\",\"gambiae\",\"Burkina Faso\",\"BF-09\",\"Hauts-Bassins\",\"Houet\",\"Souroukoudinga\",2012,7],[\"BF8-6\",\"AG1000G-BF-A\",\"gambiae\",\"Burkina Faso\",\"BF-09\",\"Hauts-Bassins\",\"Houet\",\"Souroukoudinga\",2012,7],[\"BF17-17\",\"AG1000G-BF-B\",\"gambiae\",\"Burkina Faso\",\"BF-09\",\"Hauts-Bassins\",\"Houet\",\"Pala\",2014,7],[\"BF16-1\",\"AG1000G-BF-B\",\"gambiae\",\"Burkina Faso\",\"BF-09\",\"Hauts-Bassins\",\"Houet\",\"Pala\",2014,7],[\"BF12-22\",\"AG1000G-BF-A\",\"gambiae\",\"Burkina Faso\",\"BF-09\",\"Hauts-Bassins\",\"Houet\",\"Pala\",2012,7],[6755,\"AG1000G-BF-C\",\"gambiae\",\"Burkina Faso\",\"BF-07\",\"Centre-Sud\",\"Bazega\",\"Monomtenga\",2004,8],[5038,\"AG1000G-BF-C\",\"gambiae\",\"Burkina Faso\",\"BF-07\",\"Centre-Sud\",\"Bazega\",\"Monomtenga\",2004,7],[\"BF16-3\",\"AG1000G-BF-B\",\"gambiae\",\"Burkina Faso\",\"BF-09\",\"Hauts-Bassins\",\"Houet\",\"Pala\",2014,7],[\"BF3-37\",\"AG1000G-BF-A\",\"gambiae\",\"Burkina Faso\",\"BF-09\",\"Hauts-Bassins\",\"Houet\",\"Bana Village\",2012,7],[\"BF8-3\",\"AG1000G-BF-A\",\"gambiae\",\"Burkina Faso\",\"BF-09\",\"Hauts-Bassins\",\"Houet\",\"Souroukoudinga\",2012,7],[\"BF12-25\",\"AG1000G-BF-A\",\"gambiae\",\"Burkina Faso\",\"BF-09\",\"Hauts-Bassins\",\"Houet\",\"Pala\",2012,7],[\"BF3-44\",\"AG1000G-BF-A\",\"gambiae\",\"Burkina Faso\",\"BF-09\",\"Hauts-Bassins\",\"Houet\",\"Bana Village\",2012,7],[\"BF8-1\",\"AG1000G-BF-A\",\"gambiae\",\"Burkina Faso\",\"BF-09\",\"Hauts-Bassins\",\"Houet\",\"Souroukoudinga\",2012,7],[\"BF14-3\",\"AG1000G-BF-B\",\"gambiae\",\"Burkina Faso\",\"BF-09\",\"Hauts-Bassins\",\"Houet\",\"Bana Village\",2014,7],[\"BF17-21\",\"AG1000G-BF-B\",\"gambiae\",\"Burkina Faso\",\"BF-09\",\"Hauts-Bassins\",\"Houet\",\"Pala\",2014,7],[\"BF12-14\",\"AG1000G-BF-A\",\"gambiae\",\"Burkina Faso\",\"BF-09\",\"Hauts-Bassins\",\"Houet\",\"Pala\",2012,7],[\"BF11-30\",\"AG1000G-BF-A\",\"gambiae\",\"Burkina Faso\",\"BF-09\",\"Hauts-Bassins\",\"Houet\",\"Souroukoudinga\",2012,7],[\"BF11-9\",\"AG1000G-BF-A\",\"gambiae\",\"Burkina Faso\",\"BF-09\",\"Hauts-Bassins\",\"Houet\",\"Souroukoudinga\",2012,7],[\"BF12-3\",\"AG1000G-BF-A\",\"gambiae\",\"Burkina Faso\",\"BF-09\",\"Hauts-Bassins\",\"Houet\",\"Pala\",2012,7],[\"BFPala 48.1\",\"AG1000G-BF-A\",\"gambiae\",\"Burkina Faso\",\"BF-09\",\"Hauts-Bassins\",\"Houet\",\"Pala\",2012,7],[1403,\"AG1000G-BF-C\",\"gambiae\",\"Burkina Faso\",\"BF-07\",\"Centre-Sud\",\"Bazega\",\"Monomtenga\",2004,6],[\"BF10-1\",\"AG1000G-BF-A\",\"gambiae\",\"Burkina Faso\",\"BF-09\",\"Hauts-Bassins\",\"Houet\",\"Pala\",2012,7],[\"BFSour 59.2\",\"AG1000G-BF-A\",\"gambiae\",\"Burkina Faso\",\"BF-09\",\"Hauts-Bassins\",\"Houet\",\"Souroukoudinga\",2012,7],[\"BF13-3\",\"AG1000G-BF-B\",\"gambiae\",\"Burkina Faso\",\"BF-09\",\"Hauts-Bassins\",\"Houet\",\"Souroukoudinga\",2014,7]],\"hovertemplate\":\"<b>%{hovertext}</b><br><br>taxon=%{customdata[2]}<br>PC1=%{x}<br>PC2=%{y}<br>partner_sample_id=%{customdata[0]}<br>sample_set=%{customdata[1]}<br>country=%{customdata[3]}<br>admin1_iso=%{customdata[4]}<br>admin1_name=%{customdata[5]}<br>admin2_name=%{customdata[6]}<br>location=%{customdata[7]}<br>year=%{customdata[8]}<br>month=%{customdata[9]}<extra></extra>\",\"hovertext\":[\"AB0281-Cx\",\"AB0228-C\",\"AB0251-C\",\"AB0536-C\",\"AB0126-Cx\",\"AB0299-C\",\"AB0386-C\",\"AB0178-C\",\"AB0462-C\",\"AB0436-C\",\"AB0203-C\",\"AB0176-Cx\",\"AB0530-C\",\"AB0533-C\",\"AB0211-C\",\"AB0159-C\",\"AB0136-Cx\",\"AB0153-C\",\"AB0309-C\",\"AB0158-Cx\",\"AB0270-C\",\"AB0301-C\",\"AB0264-C\",\"AB0162-C\",\"AB0166-C\",\"AB0528-C\",\"AB0537-C\",\"AB0465-C\",\"AB0180-Cx\",\"AB0104-Cx\",\"AB0277-C\",\"AB0273-Cx\",\"AB0174-C\",\"AB0116-C\",\"AB0252-C\",\"AB0173-C\",\"AB0096-C\",\"AB0169-C\",\"AB0130-Cx\",\"AB0103-C\",\"AB0316-C\",\"AB0167-C\",\"AB0373-C\",\"AB0199-C\",\"AB0151-Cx\",\"AB0531-C\",\"AB0284-C\",\"AB0275-C\",\"AB0155-Cx\",\"AB0218-C\",\"AB0318-C\",\"AB0179-Cx\",\"AB0283-C\",\"AB0524-C\",\"AB0198-C\",\"AB0278-C\",\"AB0235-C\",\"AB0272-Cx\",\"AB0170-C\",\"AB0439-C\",\"AB0206-C\",\"AB0177-C\",\"AB0217-C\",\"AB0470-C\",\"AB0269-Cx\",\"AB0374-C\",\"AB0474-C\",\"AB0175-Cx\",\"AB0469-C\",\"AB0517-C\",\"AB0165-C\",\"AB0128-C\",\"AB0119-C\",\"AB0280-Cx\",\"AB0433-C\",\"AB0260-C\",\"AB0146-Cx\",\"AB0197-C\",\"AB0135-C\",\"AB0472-C\",\"AB0389-C\",\"AB0239-C\",\"AB0117-C\",\"AB0312-C\",\"AB0244-C\",\"AB0085-Cx\",\"AB0202-Cx\",\"AB0459-C\",\"AB0435-C\",\"AB0463-C\",\"AB0200-C\",\"AB0129-C\",\"AB0160-Cx\",\"AB0255-C\",\"AB0379-C\",\"AB0315-C\",\"AB0118-C\",\"AB0225-C\",\"AB0314-C\",\"AB0440-C\",\"AB0241-C\",\"AB0161-C\",\"AB0238-C\",\"AB0231-C\",\"AB0302-C\",\"AB0473-C\",\"AB0171-Cx\",\"AB0504-C\",\"AB0164-C\",\"AB0378-C\",\"AB0261-Cx\",\"AB0134-C\",\"AB0466-C\",\"AB0532-C\",\"AB0467-C\",\"AB0133-C\",\"AB0388-C\",\"AB0303-C\",\"AB0477-C\",\"AB0538-C\",\"AB0526-C\",\"AB0375-C\",\"AB0381-C\",\"AB0207-C\",\"AB0148-Cx\",\"AB0236-Cx\",\"AB0086-Cx\",\"AB0205-C\",\"AB0144-C\",\"AB0268-C\",\"AB0127-C\",\"AB0525-C\",\"AB0527-C\",\"AB0232-Cx\",\"AB0147-C\",\"AB0468-C\",\"AB0458-C\",\"AB0271-Cx\",\"AB0313-C\",\"AB0298-C\",\"AB0460-C\",\"AB0150-Cx\",\"AB0145-C\",\"AB0274-C\",\"AB0157-Cx\",\"AB0143-Cx\",\"AB0432-C\",\"AB0471-C\",\"AB0265-C\",\"AB0253-C\",\"AB0233-C\",\"AB0256-C\",\"AB0201-Cx\",\"AB0325-C\",\"AB0172-Cx\",\"AB0208-C\",\"AB0529-C\"],\"legendgroup\":\"gambiae\",\"marker\":{\"color\":\"#636EFA\",\"opacity\":0.9,\"symbol\":\"circle\",\"size\":10},\"mode\":\"markers\",\"name\":\"gambiae\",\"orientation\":\"v\",\"showlegend\":true,\"x\":[42.97398157949375,43.41379487535273,39.33128682322854,49.682879977324475,54.15679110295579,43.35435898050375,48.11847861526725,42.64280844532644,52.95913310434825,43.763431416139184,53.11867770128003,47.53957030980198,36.62260470991677,43.751034231466335,48.33038156850399,47.78643381537927,49.95629249056828,46.001168367489456,43.893986673750184,55.66935164768516,44.598882291327804,47.59358718573322,45.950117233301405,48.08445929014377,43.068245256374446,46.20503881917852,44.8286584960704,51.30149006159498,45.11985294955312,51.16513831354218,49.86272821686428,48.958307212565394,49.15679673699297,42.19031593689427,49.56617357849215,44.13783108829948,45.13158689477795,47.97154830353364,43.78871640358232,46.259467743744,40.03105159501127,52.33494198496327,51.41622377712574,48.46058113835667,53.479387515655375,42.40767554077395,46.82577729080002,44.13681216991575,47.91195126179614,43.11046339774011,42.176745606639145,40.82128830917062,42.94184555939438,55.3842821393402,48.42265619537959,44.50033957333941,45.149548632705056,48.13585113851393,41.331487011037886,52.00283441338944,44.1392153990519,53.97183681768249,45.662043959219375,51.925075342043144,48.33508287870028,43.68022290613209,42.142223416736066,41.777233880339,43.076390403710654,46.824521427249955,42.5546578009887,39.4628991705886,45.55463990897879,51.10631720313573,42.99435585843813,43.385080779376146,52.19880480480986,46.754484836489894,43.46346526302179,49.174101916142234,44.6913030049683,47.99588333375693,52.68483710378461,45.636701919989164,41.08334054405384,45.5648219482517,46.605968448664555,52.31749772933071,47.11069348050262,47.2747145727506,46.546576419625325,46.413052746903574,48.21287613124118,51.73172549489841,32.86626594938015,44.919931081228725,46.696473215334755,46.14298501799892,41.898654511805454,44.313866862287114,50.2630232679764,49.4273808812043,46.06916964520134,46.33719894942148,44.005313518691096,46.077585604339234,55.442763862921346,49.810470226107256,48.84891703604772,49.04973619113966,50.80072813998635,51.94421942564272,44.79552602809418,42.376626054054256,41.09651835603057,46.26068270469831,45.63243974362021,45.57187503435262,51.280069427825126,47.79960735259878,45.195957762232126,49.203506105300264,42.09714148075394,56.57904161793253,47.83113880621361,41.731597420966466,51.016999746317815,44.3503917557911,50.49339474478326,45.71880142622914,44.090730146685125,43.338993095777425,47.63318637107694,47.82624929544589,44.01814258138791,44.00883309276888,53.81463283707426,43.4433123376037,48.15037532199054,44.838933903251366,48.10106845014577,46.47214634946723,46.08899512884487,45.33021221329432,50.16307903625426,49.973346627626256,50.23115265683576,46.05652744739594,46.29180887153716,39.353871134611744,48.63989101904119,48.88399009568152,50.24384603438756,75.3508670962519,45.78525855606409,46.08721691755999,44.024490200229735],\"xaxis\":\"x\",\"y\":[-5.574204177625677,-13.308501781600285,-2.5875132750634133,1.3972052208506898,-2.9924507195602335,5.376795761974499,-6.044256932457024,-10.869226124912016,-15.225145939597283,11.591905358010981,-2.0199999686770527,-8.70564021148033,-16.03298262862379,-12.601238288090398,-15.426257294682728,-0.09801500785198192,-0.920037254962228,-12.04682375601129,8.144146626533761,-6.18625167060389,5.256784720125559,-8.137197007766131,-12.69721803870446,-3.9834550367886505,-14.181901485743905,-17.49925792382265,-4.084463623378927,-9.416271692168499,-5.5782337194809815,-8.105117807831029,-3.5445893101260935,-1.8708548946782093,-20.42688309424513,-0.2873257205016282,-4.245521461971325,5.910216675387042,-5.705888092565208,-10.640077092522995,4.476232341453674,-13.591880445766556,-14.703989046619151,-17.69397882452748,3.675941287281467,5.500957945294884,-13.068453796156962,2.5712881425559235,-7.323608977448062,-7.176785830491524,-1.6806452648793355,-12.218039660993714,-16.001894483681447,7.078813993977306,3.8295250496431805,0.9683237618317762,-10.473748474603594,-23.06177730656536,3.8244369016146678,-13.603714932249062,12.267322475356172,-1.121033992918051,-4.944304910424032,-4.685541462494398,-11.210135065183302,-3.0688984494383975,4.451793749282215,0.7790530820082449,0.5188178042187656,-4.79038128224332,8.389334198553234,-18.96422222376332,2.8992850045409524,-15.035485874062973,8.884877626789407,-4.297226888752424,1.3596177765199222,7.218023030964,7.82881149834337,4.025007948673156,-1.8816046850696644,-5.800903333885981,-8.222625356060323,4.485236137391912,-19.374769614334994,-8.018891848679077,-20.032398088922207,-18.632826141468847,-17.720468987960714,-4.693360728947536,-0.9302719415987459,1.9170164951351492,6.265626602521024,-6.995298834203297,-15.263404410265906,4.779788129661556,-13.226682729108395,-14.295695447636492,-7.536249351014187,-0.4245939022013021,0.4487638389627614,-5.201621499455353,-4.108803686588162,-5.478895101997066,2.8665048308917687,-15.949078254423226,-14.04805763431241,1.9538419107378786,3.738567190522236,-6.868808095046818,-5.099372646721893,-9.83382609268175,-10.042179783390136,-6.809150679917563,-18.433785073646874,-0.36587592059152474,-5.139134797710617,-14.707937532238613,4.64413114137005,2.781295963752127,2.283533834034401,7.57726970150909,-21.039274746933927,7.043641606991105,-4.163601755427226,2.466221855012874,-10.956817821309135,-7.775396763395772,-12.803540803122981,4.160693509739099,0.7470864277900464,10.741762971497696,3.396331121781559,2.970075577952171,-12.348169487700723,-3.002690609378676,-0.3737529148121759,3.0545306513039465,-11.191345514610155,0.25211565028133087,-5.028178835874114,4.702022175667052,-8.251136994652374,-17.71487956175187,-19.278187860904552,-10.241791253997102,-15.943565752907986,-19.56251004962008,-12.119863333006473,-6.134733039159432,-5.399404239899429,-2.8030778522633795,3.132304669657783,-10.358813180322274,-2.7136647376969925,685.8492636953154,-6.189476181130949,7.100115778967034,-9.682634558427294],\"yaxis\":\"y\",\"type\":\"scatter\"},{\"customdata\":[[\"BFBana 6.1\",\"AG1000G-BF-A\",\"coluzzii\",\"Burkina Faso\",\"BF-09\",\"Hauts-Bassins\",\"Houet\",\"Bana Village\",2012,7],[\"BF13-38\",\"AG1000G-BF-B\",\"coluzzii\",\"Burkina Faso\",\"BF-09\",\"Hauts-Bassins\",\"Houet\",\"Souroukoudinga\",2014,7],[\"BF2-20\",\"AG1000G-BF-A\",\"coluzzii\",\"Burkina Faso\",\"BF-09\",\"Hauts-Bassins\",\"Houet\",\"Souroukoudinga\",2012,7],[\"BF11-23\",\"AG1000G-BF-A\",\"coluzzii\",\"Burkina Faso\",\"BF-09\",\"Hauts-Bassins\",\"Houet\",\"Souroukoudinga\",2012,7],[\"BF14-11\",\"AG1000G-BF-B\",\"coluzzii\",\"Burkina Faso\",\"BF-09\",\"Hauts-Bassins\",\"Houet\",\"Bana Village\",2014,7],[\"BFSour 55.2\",\"AG1000G-BF-A\",\"coluzzii\",\"Burkina Faso\",\"BF-09\",\"Hauts-Bassins\",\"Houet\",\"Souroukoudinga\",2012,7],[\"BF4-1\",\"AG1000G-BF-A\",\"coluzzii\",\"Burkina Faso\",\"BF-09\",\"Hauts-Bassins\",\"Houet\",\"Bana Village\",2012,7],[\"BFBana 17.2\",\"AG1000G-BF-A\",\"coluzzii\",\"Burkina Faso\",\"BF-09\",\"Hauts-Bassins\",\"Houet\",\"Bana Village\",2012,7],[\"BF2-21\",\"AG1000G-BF-A\",\"coluzzii\",\"Burkina Faso\",\"BF-09\",\"Hauts-Bassins\",\"Houet\",\"Souroukoudinga\",2012,7],[\"BF3-10\",\"AG1000G-BF-A\",\"coluzzii\",\"Burkina Faso\",\"BF-09\",\"Hauts-Bassins\",\"Houet\",\"Bana Village\",2012,7],[\"BF14-21\",\"AG1000G-BF-B\",\"coluzzii\",\"Burkina Faso\",\"BF-09\",\"Hauts-Bassins\",\"Houet\",\"Bana Village\",2014,7],[\"BF11-2\",\"AG1000G-BF-A\",\"coluzzii\",\"Burkina Faso\",\"BF-09\",\"Hauts-Bassins\",\"Houet\",\"Souroukoudinga\",2012,7],[\"BF14-20\",\"AG1000G-BF-B\",\"coluzzii\",\"Burkina Faso\",\"BF-09\",\"Hauts-Bassins\",\"Houet\",\"Bana Village\",2014,7],[\"BF18-28\",\"AG1000G-BF-B\",\"coluzzii\",\"Burkina Faso\",\"BF-09\",\"Hauts-Bassins\",\"Houet\",\"Bana Village\",2014,7],[\"BFSour 54.3\",\"AG1000G-BF-A\",\"coluzzii\",\"Burkina Faso\",\"BF-09\",\"Hauts-Bassins\",\"Houet\",\"Souroukoudinga\",2012,7],[\"BFSour 46.2\",\"AG1000G-BF-A\",\"coluzzii\",\"Burkina Faso\",\"BF-09\",\"Hauts-Bassins\",\"Houet\",\"Souroukoudinga\",2012,7],[\"BF11-27\",\"AG1000G-BF-A\",\"coluzzii\",\"Burkina Faso\",\"BF-09\",\"Hauts-Bassins\",\"Houet\",\"Souroukoudinga\",2012,7],[\"BF12-10\",\"AG1000G-BF-A\",\"coluzzii\",\"Burkina Faso\",\"BF-09\",\"Hauts-Bassins\",\"Houet\",\"Pala\",2012,7],[\"BF18-3\",\"AG1000G-BF-B\",\"coluzzii\",\"Burkina Faso\",\"BF-09\",\"Hauts-Bassins\",\"Houet\",\"Bana Village\",2014,7],[\"BF3-26\",\"AG1000G-BF-A\",\"coluzzii\",\"Burkina Faso\",\"BF-09\",\"Hauts-Bassins\",\"Houet\",\"Bana Village\",2012,7],[\"BF3-19\",\"AG1000G-BF-A\",\"coluzzii\",\"Burkina Faso\",\"BF-09\",\"Hauts-Bassins\",\"Houet\",\"Bana Village\",2012,7],[\"BF4-8\",\"AG1000G-BF-A\",\"coluzzii\",\"Burkina Faso\",\"BF-09\",\"Hauts-Bassins\",\"Houet\",\"Bana Village\",2012,7],[\"BFSour 55.3\",\"AG1000G-BF-A\",\"coluzzii\",\"Burkina Faso\",\"BF-09\",\"Hauts-Bassins\",\"Houet\",\"Souroukoudinga\",2012,7],[\"BF18-44\",\"AG1000G-BF-B\",\"coluzzii\",\"Burkina Faso\",\"BF-09\",\"Hauts-Bassins\",\"Houet\",\"Bana Village\",2014,7],[\"BF12-33\",\"AG1000G-BF-A\",\"coluzzii\",\"Burkina Faso\",\"BF-09\",\"Hauts-Bassins\",\"Houet\",\"Pala\",2012,7],[\"BF18-5\",\"AG1000G-BF-B\",\"coluzzii\",\"Burkina Faso\",\"BF-09\",\"Hauts-Bassins\",\"Houet\",\"Bana Village\",2014,7],[\"BF3-12\",\"AG1000G-BF-A\",\"coluzzii\",\"Burkina Faso\",\"BF-09\",\"Hauts-Bassins\",\"Houet\",\"Bana Village\",2012,7],[\"BF18-37\",\"AG1000G-BF-B\",\"coluzzii\",\"Burkina Faso\",\"BF-09\",\"Hauts-Bassins\",\"Houet\",\"Bana Village\",2014,7],[\"BF14-16\",\"AG1000G-BF-B\",\"coluzzii\",\"Burkina Faso\",\"BF-09\",\"Hauts-Bassins\",\"Houet\",\"Bana Village\",2014,7],[\"BF14-10\",\"AG1000G-BF-B\",\"coluzzii\",\"Burkina Faso\",\"BF-09\",\"Hauts-Bassins\",\"Houet\",\"Bana Village\",2014,7],[\"BFSour 46.1\",\"AG1000G-BF-A\",\"coluzzii\",\"Burkina Faso\",\"BF-09\",\"Hauts-Bassins\",\"Houet\",\"Souroukoudinga\",2012,7],[\"BF9-2\",\"AG1000G-BF-A\",\"coluzzii\",\"Burkina Faso\",\"BF-09\",\"Hauts-Bassins\",\"Houet\",\"Bana Village\",2012,7],[\"BFSour 47.1\",\"AG1000G-BF-A\",\"coluzzii\",\"Burkina Faso\",\"BF-09\",\"Hauts-Bassins\",\"Houet\",\"Souroukoudinga\",2012,7],[\"BFBana 18.2\",\"AG1000G-BF-A\",\"coluzzii\",\"Burkina Faso\",\"BF-09\",\"Hauts-Bassins\",\"Houet\",\"Bana Village\",2012,7],[\"BF6-3\",\"AG1000G-BF-A\",\"coluzzii\",\"Burkina Faso\",\"BF-09\",\"Hauts-Bassins\",\"Houet\",\"Bana Village\",2012,7],[\"BFBana5.1\",\"AG1000G-BF-A\",\"coluzzii\",\"Burkina Faso\",\"BF-09\",\"Hauts-Bassins\",\"Houet\",\"Bana Village\",2012,7],[\"BF18-36\",\"AG1000G-BF-B\",\"coluzzii\",\"Burkina Faso\",\"BF-09\",\"Hauts-Bassins\",\"Houet\",\"Bana Village\",2014,7],[\"BF11-19\",\"AG1000G-BF-A\",\"coluzzii\",\"Burkina Faso\",\"BF-09\",\"Hauts-Bassins\",\"Houet\",\"Souroukoudinga\",2012,7],[\"BF24-26\",\"AG1000G-BF-B\",\"coluzzii\",\"Burkina Faso\",\"BF-09\",\"Hauts-Bassins\",\"Houet\",\"Souroukoudinga\",2014,7],[\"BF11-4\",\"AG1000G-BF-A\",\"coluzzii\",\"Burkina Faso\",\"BF-09\",\"Hauts-Bassins\",\"Houet\",\"Souroukoudinga\",2012,7],[\"BF11-16\",\"AG1000G-BF-A\",\"coluzzii\",\"Burkina Faso\",\"BF-09\",\"Hauts-Bassins\",\"Houet\",\"Souroukoudinga\",2012,7],[\"BFSour 59.3\",\"AG1000G-BF-A\",\"coluzzii\",\"Burkina Faso\",\"BF-09\",\"Hauts-Bassins\",\"Houet\",\"Souroukoudinga\",2012,7],[\"BF18-35\",\"AG1000G-BF-B\",\"coluzzii\",\"Burkina Faso\",\"BF-09\",\"Hauts-Bassins\",\"Houet\",\"Bana Village\",2014,7],[\"BF12-4\",\"AG1000G-BF-A\",\"coluzzii\",\"Burkina Faso\",\"BF-09\",\"Hauts-Bassins\",\"Houet\",\"Pala\",2012,7],[\"BF9-1\",\"AG1000G-BF-A\",\"coluzzii\",\"Burkina Faso\",\"BF-09\",\"Hauts-Bassins\",\"Houet\",\"Bana Village\",2012,7],[\"BF13-13\",\"AG1000G-BF-B\",\"coluzzii\",\"Burkina Faso\",\"BF-09\",\"Hauts-Bassins\",\"Houet\",\"Souroukoudinga\",2014,7],[\"BFBana 7.1\",\"AG1000G-BF-A\",\"coluzzii\",\"Burkina Faso\",\"BF-09\",\"Hauts-Bassins\",\"Houet\",\"Bana Village\",2012,7],[\"BF14-18\",\"AG1000G-BF-B\",\"coluzzii\",\"Burkina Faso\",\"BF-09\",\"Hauts-Bassins\",\"Houet\",\"Bana Village\",2014,7],[\"BFBana 18.1\",\"AG1000G-BF-A\",\"coluzzii\",\"Burkina Faso\",\"BF-09\",\"Hauts-Bassins\",\"Houet\",\"Bana Village\",2012,7],[\"BFBana 14.2\",\"AG1000G-BF-A\",\"coluzzii\",\"Burkina Faso\",\"BF-09\",\"Hauts-Bassins\",\"Houet\",\"Bana Village\",2012,7],[\"BF14-12\",\"AG1000G-BF-B\",\"coluzzii\",\"Burkina Faso\",\"BF-09\",\"Hauts-Bassins\",\"Houet\",\"Bana Village\",2014,7],[\"BF18-9\",\"AG1000G-BF-B\",\"coluzzii\",\"Burkina Faso\",\"BF-09\",\"Hauts-Bassins\",\"Houet\",\"Bana Village\",2014,7],[\"BF2-13\",\"AG1000G-BF-A\",\"coluzzii\",\"Burkina Faso\",\"BF-09\",\"Hauts-Bassins\",\"Houet\",\"Souroukoudinga\",2012,7],[\"BF12-6\",\"AG1000G-BF-A\",\"coluzzii\",\"Burkina Faso\",\"BF-09\",\"Hauts-Bassins\",\"Houet\",\"Pala\",2012,7],[\"BF12-9\",\"AG1000G-BF-A\",\"coluzzii\",\"Burkina Faso\",\"BF-09\",\"Hauts-Bassins\",\"Houet\",\"Pala\",2012,7],[\"BF18-46\",\"AG1000G-BF-B\",\"coluzzii\",\"Burkina Faso\",\"BF-09\",\"Hauts-Bassins\",\"Houet\",\"Bana Village\",2014,7],[\"BF18-33\",\"AG1000G-BF-B\",\"coluzzii\",\"Burkina Faso\",\"BF-09\",\"Hauts-Bassins\",\"Houet\",\"Bana Village\",2014,7],[\"BF3-27\",\"AG1000G-BF-A\",\"coluzzii\",\"Burkina Faso\",\"BF-09\",\"Hauts-Bassins\",\"Houet\",\"Bana Village\",2012,7],[\"BF18-38\",\"AG1000G-BF-B\",\"coluzzii\",\"Burkina Faso\",\"BF-09\",\"Hauts-Bassins\",\"Houet\",\"Bana Village\",2014,7],[\"BF20-54\",\"AG1000G-BF-B\",\"coluzzii\",\"Burkina Faso\",\"BF-09\",\"Hauts-Bassins\",\"Houet\",\"Bana Village\",2014,7],[\"BF18-21\",\"AG1000G-BF-B\",\"coluzzii\",\"Burkina Faso\",\"BF-09\",\"Hauts-Bassins\",\"Houet\",\"Bana Village\",2014,7],[\"BF18-1\",\"AG1000G-BF-B\",\"coluzzii\",\"Burkina Faso\",\"BF-09\",\"Hauts-Bassins\",\"Houet\",\"Bana Village\",2014,7],[\"BF3-3\",\"AG1000G-BF-A\",\"coluzzii\",\"Burkina Faso\",\"BF-09\",\"Hauts-Bassins\",\"Houet\",\"Bana Village\",2012,7],[\"BFSour 56.1\",\"AG1000G-BF-A\",\"coluzzii\",\"Burkina Faso\",\"BF-09\",\"Hauts-Bassins\",\"Houet\",\"Souroukoudinga\",2012,7],[\"BF23-6\",\"AG1000G-BF-B\",\"coluzzii\",\"Burkina Faso\",\"BF-09\",\"Hauts-Bassins\",\"Houet\",\"Bana Village\",2014,7],[\"BF11-6\",\"AG1000G-BF-A\",\"coluzzii\",\"Burkina Faso\",\"BF-09\",\"Hauts-Bassins\",\"Houet\",\"Souroukoudinga\",2012,7],[\"BF3-25\",\"AG1000G-BF-A\",\"coluzzii\",\"Burkina Faso\",\"BF-09\",\"Hauts-Bassins\",\"Houet\",\"Bana Village\",2012,7],[\"BF14-9\",\"AG1000G-BF-B\",\"coluzzii\",\"Burkina Faso\",\"BF-09\",\"Hauts-Bassins\",\"Houet\",\"Bana Village\",2014,7],[\"BFBana 14.1\",\"AG1000G-BF-A\",\"coluzzii\",\"Burkina Faso\",\"BF-09\",\"Hauts-Bassins\",\"Houet\",\"Bana Village\",2012,7],[\"BF11-18\",\"AG1000G-BF-A\",\"coluzzii\",\"Burkina Faso\",\"BF-09\",\"Hauts-Bassins\",\"Houet\",\"Souroukoudinga\",2012,7],[\"BF11-25\",\"AG1000G-BF-A\",\"coluzzii\",\"Burkina Faso\",\"BF-09\",\"Hauts-Bassins\",\"Houet\",\"Souroukoudinga\",2012,7],[\"BF20-59\",\"AG1000G-BF-B\",\"coluzzii\",\"Burkina Faso\",\"BF-09\",\"Hauts-Bassins\",\"Houet\",\"Bana Village\",2014,7],[\"BF18-25\",\"AG1000G-BF-B\",\"coluzzii\",\"Burkina Faso\",\"BF-09\",\"Hauts-Bassins\",\"Houet\",\"Bana Village\",2014,7],[\"BF18-4\",\"AG1000G-BF-B\",\"coluzzii\",\"Burkina Faso\",\"BF-09\",\"Hauts-Bassins\",\"Houet\",\"Bana Village\",2014,7],[\"BFBana 6.2\",\"AG1000G-BF-A\",\"coluzzii\",\"Burkina Faso\",\"BF-09\",\"Hauts-Bassins\",\"Houet\",\"Bana Village\",2012,7],[\"BF18-22\",\"AG1000G-BF-B\",\"coluzzii\",\"Burkina Faso\",\"BF-09\",\"Hauts-Bassins\",\"Houet\",\"Bana Village\",2014,7],[\"BF4-6\",\"AG1000G-BF-A\",\"coluzzii\",\"Burkina Faso\",\"BF-09\",\"Hauts-Bassins\",\"Houet\",\"Bana Village\",2012,7],[\"BF11-22\",\"AG1000G-BF-A\",\"coluzzii\",\"Burkina Faso\",\"BF-09\",\"Hauts-Bassins\",\"Houet\",\"Souroukoudinga\",2012,7],[\"BF18-16\",\"AG1000G-BF-B\",\"coluzzii\",\"Burkina Faso\",\"BF-09\",\"Hauts-Bassins\",\"Houet\",\"Bana Village\",2014,7],[\"BF18-31\",\"AG1000G-BF-B\",\"coluzzii\",\"Burkina Faso\",\"BF-09\",\"Hauts-Bassins\",\"Houet\",\"Bana Village\",2014,7],[\"BF18-6\",\"AG1000G-BF-B\",\"coluzzii\",\"Burkina Faso\",\"BF-09\",\"Hauts-Bassins\",\"Houet\",\"Bana Village\",2014,7],[\"BF24-56\",\"AG1000G-BF-B\",\"coluzzii\",\"Burkina Faso\",\"BF-09\",\"Hauts-Bassins\",\"Houet\",\"Souroukoudinga\",2014,7],[\"BF18-10\",\"AG1000G-BF-B\",\"coluzzii\",\"Burkina Faso\",\"BF-09\",\"Hauts-Bassins\",\"Houet\",\"Bana Village\",2014,7],[\"BF14-8\",\"AG1000G-BF-B\",\"coluzzii\",\"Burkina Faso\",\"BF-09\",\"Hauts-Bassins\",\"Houet\",\"Bana Village\",2014,7],[\"BF4-5\",\"AG1000G-BF-A\",\"coluzzii\",\"Burkina Faso\",\"BF-09\",\"Hauts-Bassins\",\"Houet\",\"Bana Village\",2012,7],[\"BF24-55\",\"AG1000G-BF-B\",\"coluzzii\",\"Burkina Faso\",\"BF-09\",\"Hauts-Bassins\",\"Houet\",\"Souroukoudinga\",2014,7],[\"BF18-29\",\"AG1000G-BF-B\",\"coluzzii\",\"Burkina Faso\",\"BF-09\",\"Hauts-Bassins\",\"Houet\",\"Bana Village\",2014,7],[\"BF3-8\",\"AG1000G-BF-A\",\"coluzzii\",\"Burkina Faso\",\"BF-09\",\"Hauts-Bassins\",\"Houet\",\"Bana Village\",2012,7],[\"BF3-28\",\"AG1000G-BF-A\",\"coluzzii\",\"Burkina Faso\",\"BF-09\",\"Hauts-Bassins\",\"Houet\",\"Bana Village\",2012,7],[\"BF12-16\",\"AG1000G-BF-A\",\"coluzzii\",\"Burkina Faso\",\"BF-09\",\"Hauts-Bassins\",\"Houet\",\"Pala\",2012,7],[\"BF22-50\",\"AG1000G-BF-B\",\"coluzzii\",\"Burkina Faso\",\"BF-09\",\"Hauts-Bassins\",\"Houet\",\"Bana Village\",2014,7],[\"BF2-19\",\"AG1000G-BF-A\",\"coluzzii\",\"Burkina Faso\",\"BF-09\",\"Hauts-Bassins\",\"Houet\",\"Souroukoudinga\",2012,7],[\"BFSour 57.3\",\"AG1000G-BF-A\",\"coluzzii\",\"Burkina Faso\",\"BF-09\",\"Hauts-Bassins\",\"Houet\",\"Souroukoudinga\",2012,7],[\"BF12-5\",\"AG1000G-BF-A\",\"coluzzii\",\"Burkina Faso\",\"BF-09\",\"Hauts-Bassins\",\"Houet\",\"Pala\",2012,7],[\"BF4-7\",\"AG1000G-BF-A\",\"coluzzii\",\"Burkina Faso\",\"BF-09\",\"Hauts-Bassins\",\"Houet\",\"Bana Village\",2012,7],[\"BFBana 4.3\",\"AG1000G-BF-A\",\"coluzzii\",\"Burkina Faso\",\"BF-09\",\"Hauts-Bassins\",\"Houet\",\"Bana Village\",2012,7],[\"BF18-34\",\"AG1000G-BF-B\",\"coluzzii\",\"Burkina Faso\",\"BF-09\",\"Hauts-Bassins\",\"Houet\",\"Bana Village\",2014,7],[\"BF18-42\",\"AG1000G-BF-B\",\"coluzzii\",\"Burkina Faso\",\"BF-09\",\"Hauts-Bassins\",\"Houet\",\"Bana Village\",2014,7],[\"BF18-24\",\"AG1000G-BF-B\",\"coluzzii\",\"Burkina Faso\",\"BF-09\",\"Hauts-Bassins\",\"Houet\",\"Bana Village\",2014,7],[\"BF6-2\",\"AG1000G-BF-A\",\"coluzzii\",\"Burkina Faso\",\"BF-09\",\"Hauts-Bassins\",\"Houet\",\"Bana Village\",2012,7],[\"BF2-23\",\"AG1000G-BF-A\",\"coluzzii\",\"Burkina Faso\",\"BF-09\",\"Hauts-Bassins\",\"Houet\",\"Souroukoudinga\",2012,7],[\"BFBana 19.2\",\"AG1000G-BF-A\",\"coluzzii\",\"Burkina Faso\",\"BF-09\",\"Hauts-Bassins\",\"Houet\",\"Bana Village\",2012,7],[\"BF18-26\",\"AG1000G-BF-B\",\"coluzzii\",\"Burkina Faso\",\"BF-09\",\"Hauts-Bassins\",\"Houet\",\"Bana Village\",2014,7],[\"BF12-15\",\"AG1000G-BF-A\",\"coluzzii\",\"Burkina Faso\",\"BF-09\",\"Hauts-Bassins\",\"Houet\",\"Pala\",2012,7],[\"BF2-18\",\"AG1000G-BF-A\",\"coluzzii\",\"Burkina Faso\",\"BF-09\",\"Hauts-Bassins\",\"Houet\",\"Souroukoudinga\",2012,7],[\"BF11-26\",\"AG1000G-BF-A\",\"coluzzii\",\"Burkina Faso\",\"BF-09\",\"Hauts-Bassins\",\"Houet\",\"Souroukoudinga\",2012,7],[\"BF18-14\",\"AG1000G-BF-B\",\"coluzzii\",\"Burkina Faso\",\"BF-09\",\"Hauts-Bassins\",\"Houet\",\"Bana Village\",2014,7],[\"BF20-56\",\"AG1000G-BF-B\",\"coluzzii\",\"Burkina Faso\",\"BF-09\",\"Hauts-Bassins\",\"Houet\",\"Bana Village\",2014,7],[\"BF3-5\",\"AG1000G-BF-A\",\"coluzzii\",\"Burkina Faso\",\"BF-09\",\"Hauts-Bassins\",\"Houet\",\"Bana Village\",2012,7],[\"BF11-10\",\"AG1000G-BF-A\",\"coluzzii\",\"Burkina Faso\",\"BF-09\",\"Hauts-Bassins\",\"Houet\",\"Souroukoudinga\",2012,7],[\"BFBana 4.2\",\"AG1000G-BF-A\",\"coluzzii\",\"Burkina Faso\",\"BF-09\",\"Hauts-Bassins\",\"Houet\",\"Bana Village\",2012,7],[\"BF18-32\",\"AG1000G-BF-B\",\"coluzzii\",\"Burkina Faso\",\"BF-09\",\"Hauts-Bassins\",\"Houet\",\"Bana Village\",2014,7],[\"BF3-13\",\"AG1000G-BF-A\",\"coluzzii\",\"Burkina Faso\",\"BF-09\",\"Hauts-Bassins\",\"Houet\",\"Bana Village\",2012,7],[\"BF12-27\",\"AG1000G-BF-A\",\"coluzzii\",\"Burkina Faso\",\"BF-09\",\"Hauts-Bassins\",\"Houet\",\"Pala\",2012,7],[\"BF18-23\",\"AG1000G-BF-B\",\"coluzzii\",\"Burkina Faso\",\"BF-09\",\"Hauts-Bassins\",\"Houet\",\"Bana Village\",2014,7],[\"BFBana 16.2\",\"AG1000G-BF-A\",\"coluzzii\",\"Burkina Faso\",\"BF-09\",\"Hauts-Bassins\",\"Houet\",\"Bana Village\",2012,7],[\"BFBana 17.3\",\"AG1000G-BF-A\",\"coluzzii\",\"Burkina Faso\",\"BF-09\",\"Hauts-Bassins\",\"Houet\",\"Bana Village\",2012,7],[\"BFBana 5.2\",\"AG1000G-BF-A\",\"coluzzii\",\"Burkina Faso\",\"BF-09\",\"Hauts-Bassins\",\"Houet\",\"Bana Village\",2012,7],[\"BFBana 8.2\",\"AG1000G-BF-A\",\"coluzzii\",\"Burkina Faso\",\"BF-09\",\"Hauts-Bassins\",\"Houet\",\"Bana Village\",2012,7],[\"BF3-17\",\"AG1000G-BF-A\",\"coluzzii\",\"Burkina Faso\",\"BF-09\",\"Hauts-Bassins\",\"Houet\",\"Bana Village\",2012,7],[\"BF6-1\",\"AG1000G-BF-A\",\"coluzzii\",\"Burkina Faso\",\"BF-09\",\"Hauts-Bassins\",\"Houet\",\"Bana Village\",2012,7],[\"BFBana 8.1\",\"AG1000G-BF-A\",\"coluzzii\",\"Burkina Faso\",\"BF-09\",\"Hauts-Bassins\",\"Houet\",\"Bana Village\",2012,7],[\"BF11-13\",\"AG1000G-BF-A\",\"coluzzii\",\"Burkina Faso\",\"BF-09\",\"Hauts-Bassins\",\"Houet\",\"Souroukoudinga\",2012,7],[\"BF12-30\",\"AG1000G-BF-A\",\"coluzzii\",\"Burkina Faso\",\"BF-09\",\"Hauts-Bassins\",\"Houet\",\"Pala\",2012,7],[\"BF18-13\",\"AG1000G-BF-B\",\"coluzzii\",\"Burkina Faso\",\"BF-09\",\"Hauts-Bassins\",\"Houet\",\"Bana Village\",2014,7],[\"BF18-12\",\"AG1000G-BF-B\",\"coluzzii\",\"Burkina Faso\",\"BF-09\",\"Hauts-Bassins\",\"Houet\",\"Bana Village\",2014,7],[\"BF3-18\",\"AG1000G-BF-A\",\"coluzzii\",\"Burkina Faso\",\"BF-09\",\"Hauts-Bassins\",\"Houet\",\"Bana Village\",2012,7],[\"BF18-15\",\"AG1000G-BF-B\",\"coluzzii\",\"Burkina Faso\",\"BF-09\",\"Hauts-Bassins\",\"Houet\",\"Bana Village\",2014,7],[\"BF13-1\",\"AG1000G-BF-B\",\"coluzzii\",\"Burkina Faso\",\"BF-09\",\"Hauts-Bassins\",\"Houet\",\"Souroukoudinga\",2014,7],[\"BFBana 7.2\",\"AG1000G-BF-A\",\"coluzzii\",\"Burkina Faso\",\"BF-09\",\"Hauts-Bassins\",\"Houet\",\"Bana Village\",2012,7],[\"BF18-45\",\"AG1000G-BF-B\",\"coluzzii\",\"Burkina Faso\",\"BF-09\",\"Hauts-Bassins\",\"Houet\",\"Bana Village\",2014,7],[\"BFSour 57.1\",\"AG1000G-BF-A\",\"coluzzii\",\"Burkina Faso\",\"BF-09\",\"Hauts-Bassins\",\"Houet\",\"Souroukoudinga\",2012,7],[\"BF9-3\",\"AG1000G-BF-A\",\"coluzzii\",\"Burkina Faso\",\"BF-09\",\"Hauts-Bassins\",\"Houet\",\"Bana Village\",2012,7],[\"BF22-15\",\"AG1000G-BF-B\",\"coluzzii\",\"Burkina Faso\",\"BF-09\",\"Hauts-Bassins\",\"Houet\",\"Bana Village\",2014,7],[\"BFPala 58.1\",\"AG1000G-BF-A\",\"coluzzii\",\"Burkina Faso\",\"BF-09\",\"Hauts-Bassins\",\"Houet\",\"Pala\",2012,7]],\"hovertemplate\":\"<b>%{hovertext}</b><br><br>taxon=%{customdata[2]}<br>PC1=%{x}<br>PC2=%{y}<br>partner_sample_id=%{customdata[0]}<br>sample_set=%{customdata[1]}<br>country=%{customdata[3]}<br>admin1_iso=%{customdata[4]}<br>admin1_name=%{customdata[5]}<br>admin2_name=%{customdata[6]}<br>location=%{customdata[7]}<br>year=%{customdata[8]}<br>month=%{customdata[9]}<extra></extra>\",\"hovertext\":[\"AB0185-Cx\",\"AB0508-C\",\"AB0139-C\",\"AB0247-C\",\"AB0399-C\",\"AB0221-C\",\"AB0095-Cx\",\"AB0191-Cx\",\"AB0140-C\",\"AB0090-C\",\"AB0409-C\",\"AB0227-Cx\",\"AB0408-C\",\"AB0360-C\",\"AB0219-Cx\",\"AB0215-C\",\"AB0250-Cx\",\"AB0263-C\",\"AB0327-C\",\"AB0122-C\",\"AB0113-C\",\"AB0115-C\",\"AB0222-C\",\"AB0371-C\",\"AB0282-Cx\",\"AB0329-C\",\"AB0091-C\",\"AB0368-C\",\"AB0403-C\",\"AB0398-C\",\"AB0214-C\",\"AB0110-C\",\"AB0216-C\",\"AB0194-C\",\"AB0101-C\",\"AB0183-C\",\"AB0367-C\",\"AB0243-C\",\"AB0523-C\",\"AB0229-C\",\"AB0240-C\",\"AB0213-C\",\"AB0366-C\",\"AB0257-C\",\"AB0109-C\",\"AB0505-C\",\"AB0187-C\",\"AB0404-C\",\"AB0193-C\",\"AB0210-C\",\"AB0400-C\",\"AB0331-C\",\"AB0132-C\",\"AB0259-Cx\",\"AB0262-Cx\",\"AB0352-C\",\"AB0364-C\",\"AB0123-C\",\"AB0369-C\",\"AB0410-C\",\"AB0354-C\",\"AB0326-C\",\"AB0087-C\",\"AB0223-C\",\"AB0351-C\",\"AB0230-Cx\",\"AB0121-C\",\"AB0397-C\",\"AB0209-C\",\"AB0242-C\",\"AB0248-C\",\"AB0413-C\",\"AB0358-C\",\"AB0328-C\",\"AB0186-C\",\"AB0355-C\",\"AB0098-Cx\",\"AB0246-C\",\"AB0341-C\",\"AB0362-C\",\"AB0330-C\",\"AB0510-C\",\"AB0332-C\",\"AB0396-C\",\"AB0097-Cx\",\"AB0509-C\",\"AB0361-C\",\"AB0089-Cx\",\"AB0124-C\",\"AB0267-C\",\"AB0348-C\",\"AB0138-Cx\",\"AB0226-C\",\"AB0258-Cx\",\"AB0114-C\",\"AB0182-C\",\"AB0365-C\",\"AB0370-C\",\"AB0357-C\",\"AB0100-C\",\"AB0142-C\",\"AB0196-C\",\"AB0359-C\",\"AB0266-Cx\",\"AB0137-Cx\",\"AB0249-Cx\",\"AB0339-C\",\"AB0411-C\",\"AB0088-C\",\"AB0234-C\",\"AB0181-C\",\"AB0363-C\",\"AB0092-C\",\"AB0276-C\",\"AB0356-C\",\"AB0212-C\",\"AB0192-C\",\"AB0184-C\",\"AB0190-C\",\"AB0094-Cx\",\"AB0099-Cx\",\"AB0189-C\",\"AB0237-C\",\"AB0279-C\",\"AB0338-C\",\"AB0334-C\",\"AB0112-C\",\"AB0340-C\",\"AB0503-C\",\"AB0188-C\",\"AB0372-C\",\"AB0224-C\",\"AB0111-C\",\"AB0337-C\",\"AB0204-C\"],\"legendgroup\":\"coluzzii\",\"marker\":{\"color\":\"#EF553B\",\"opacity\":0.9,\"symbol\":\"circle\",\"size\":10},\"mode\":\"markers\",\"name\":\"coluzzii\",\"orientation\":\"v\",\"showlegend\":true,\"x\":[-56.58439763166746,-51.67943747528227,-51.07719110925214,-56.07932166966444,-55.25110492986407,-48.816639278423956,-52.89285084111155,-50.92271217041184,-60.30085686594643,-50.36077568876691,-55.88241366169965,-55.01409096598084,-54.756768109480625,-57.904645499068764,-51.54228492006594,-57.679465376131766,-53.636843522755555,-51.830998490878336,-53.777992612890145,-53.915623241892455,-54.63860579984171,-52.154728392197015,-59.29695972737911,-54.15384510633693,-53.43581467919081,-57.97192287621418,-57.5288405416723,-52.66954212036677,-59.384642675991444,-53.09266533332454,-57.209739919731305,-54.285568643260554,-57.51269228099934,-52.590205729725376,-52.18950535554901,-55.83312896083981,-51.26056231077782,-57.60652007206246,-57.76572937811,-56.679012184233486,-53.986624969183495,-55.73577477913052,-54.156213957338785,-56.925266972614864,-53.16872892923385,-51.65256273585182,-54.43402063994721,-55.32761901333212,-52.41625343282098,-56.02535956505955,-51.87370964510204,-51.782714333700895,-52.08760934448151,-55.11859562415353,-55.36415303457481,-55.708305508591685,-58.75603335743469,-54.58248610299684,-56.95568543870842,-47.67875985331519,-56.71209061929417,-54.080128179753,-62.07442049854485,-56.929617021698334,-51.540280797882204,-57.4308350054791,-51.55527565044465,-58.58830982117265,-52.433239940981835,-52.85292332358491,-55.92549874358095,-56.280838123871476,-55.30691025218943,-58.057805197085,-52.777029537219185,-54.77367795503493,-54.373740580145956,-52.044122319247094,-57.2173297710479,-49.9230522522242,-52.8656966489929,-55.07863258092648,-58.14663473402909,-50.2524159519445,-57.488591046222695,-57.862441216087994,-54.25361340882564,-63.59385097921946,-52.69730040272048,-54.108569387389615,-57.98508341751473,-53.494526917144334,-52.28179500499272,-58.25837567180576,-52.82385750557298,-52.580164331976455,-54.83200881444257,-52.915957593373605,-53.48932645839333,-53.99141488790206,-55.20048337664331,-52.17541854225792,-53.29934325902506,-55.75601281518911,-60.56830524847251,-56.62922193389626,-48.17893115229274,-56.342945141419115,-52.236711455124365,-53.571565311719446,-50.051148652391824,-53.072835912673725,-55.40594138726459,-51.29890089917949,-55.81179010601061,-52.746994754261294,-53.113117405224514,-55.89023206335294,-54.254969184226,-57.07220015705645,-51.082688449753825,-53.53615366632955,-50.53420847108454,-55.435233872466455,-52.43282514286458,-56.55304806555982,-54.5309781504992,-55.22506230738918,-52.60409107039483,-52.17262028822777,-54.88299296270077,-52.765509127967846,-54.279684919152615,-53.790201653969746,-55.43634265403998],\"xaxis\":\"x\",\"y\":[10.897254230039712,-1.1240172149545322,-11.343672779225681,7.589319290134276,5.832164226492075,-12.00737166605366,-12.525077994899625,4.208937967936768,8.477160446037924,-7.4697920349870905,-0.9886828856239662,-13.155936328382817,10.166116393065044,9.461383097754112,10.461960717193726,-4.206094468092175,-11.589761301399347,-10.374603727646884,12.372426198455937,6.501540041565318,1.0081315714723837,-9.51720607168351,1.1724381879687757,3.0738010237744335,-10.40746971566911,-2.2296459468266154,1.5946327609874538,11.542545044813382,3.926121644650932,-4.934442678672015,-12.321672122507541,3.535497780514461,-0.7077855895803373,2.9921100592912784,0.10945677126613185,13.798651324915031,13.528656339322811,-10.27651207542016,-11.098823055875446,-10.916145092239345,-2.304736561703286,9.251810555842885,-9.715933078846325,11.408263184387843,-5.8338190320256444,-7.948719014469262,6.40823406343106,4.6931631073138504,11.42607645179271,8.599892814759668,-6.926162204491221,7.905681562648602,14.852960422804944,13.830099317568829,13.762689403979898,-1.421572289621215,11.405244613903665,9.092907487758898,1.9883865321145435,-1.7491547482937184,-7.540813476481045,10.791940724236284,8.50255555249753,7.798926032021345,-8.570987001287747,-11.744153371563979,-1.062292310879202,-3.292887478131272,-10.922508095367537,-7.528830886970489,8.344420058661093,5.744307499594827,-9.143973109383928,-10.151892421238772,11.83607378267729,6.616962071044675,-9.141301820361159,-1.8199716450191796,0.516533967069313,-12.057853835438479,-0.7556575798370068,-9.738300022321447,12.12670458496917,-11.978920053432342,14.289237466785313,10.923040821928248,15.005748356270779,-9.477786273235987,13.356900611985335,3.763890681619307,7.536650398655208,-5.21222659799713,6.262729333846176,13.897346554752703,16.213199891519267,-3.3975474321187162,9.6872145876268,6.913136509146052,6.56362741076737,7.900765215779911,1.1335191070618635,14.453534778768526,-11.375948008179336,-0.48273148475002037,13.26411748951557,-7.389735363635371,3.885013789618622,13.440292577884966,11.274482961160334,-11.07938741838243,14.789994239705047,2.3648747535329244,11.033286989005573,-4.190492212057783,-0.5427840831354251,15.014065609310082,3.225187297309383,-4.5140910158359215,-2.1994951946064054,-9.653942429105209,7.5467001096543616,2.4945628899166854,2.823985753518382,7.112724208357731,4.709124958320958,5.115029327288408,-1.390232825096871,15.26608399108583,-4.5894151805972685,11.489199117486447,12.94821343214107,-7.794798590782614,2.0676946504245075,-2.9866647346198407,-4.2908797724496415],\"yaxis\":\"y\",\"type\":\"scatter\"}],                        {\"template\":{\"data\":{\"barpolar\":[{\"marker\":{\"line\":{\"color\":\"white\",\"width\":0.5},\"pattern\":{\"fillmode\":\"overlay\",\"size\":10,\"solidity\":0.2}},\"type\":\"barpolar\"}],\"bar\":[{\"error_x\":{\"color\":\"rgb(36,36,36)\"},\"error_y\":{\"color\":\"rgb(36,36,36)\"},\"marker\":{\"line\":{\"color\":\"white\",\"width\":0.5},\"pattern\":{\"fillmode\":\"overlay\",\"size\":10,\"solidity\":0.2}},\"type\":\"bar\"}],\"carpet\":[{\"aaxis\":{\"endlinecolor\":\"rgb(36,36,36)\",\"gridcolor\":\"white\",\"linecolor\":\"white\",\"minorgridcolor\":\"white\",\"startlinecolor\":\"rgb(36,36,36)\"},\"baxis\":{\"endlinecolor\":\"rgb(36,36,36)\",\"gridcolor\":\"white\",\"linecolor\":\"white\",\"minorgridcolor\":\"white\",\"startlinecolor\":\"rgb(36,36,36)\"},\"type\":\"carpet\"}],\"choropleth\":[{\"colorbar\":{\"outlinewidth\":1,\"tickcolor\":\"rgb(36,36,36)\",\"ticks\":\"outside\"},\"type\":\"choropleth\"}],\"contourcarpet\":[{\"colorbar\":{\"outlinewidth\":1,\"tickcolor\":\"rgb(36,36,36)\",\"ticks\":\"outside\"},\"type\":\"contourcarpet\"}],\"contour\":[{\"colorbar\":{\"outlinewidth\":1,\"tickcolor\":\"rgb(36,36,36)\",\"ticks\":\"outside\"},\"colorscale\":[[0.0,\"#440154\"],[0.1111111111111111,\"#482878\"],[0.2222222222222222,\"#3e4989\"],[0.3333333333333333,\"#31688e\"],[0.4444444444444444,\"#26828e\"],[0.5555555555555556,\"#1f9e89\"],[0.6666666666666666,\"#35b779\"],[0.7777777777777778,\"#6ece58\"],[0.8888888888888888,\"#b5de2b\"],[1.0,\"#fde725\"]],\"type\":\"contour\"}],\"heatmapgl\":[{\"colorbar\":{\"outlinewidth\":1,\"tickcolor\":\"rgb(36,36,36)\",\"ticks\":\"outside\"},\"colorscale\":[[0.0,\"#440154\"],[0.1111111111111111,\"#482878\"],[0.2222222222222222,\"#3e4989\"],[0.3333333333333333,\"#31688e\"],[0.4444444444444444,\"#26828e\"],[0.5555555555555556,\"#1f9e89\"],[0.6666666666666666,\"#35b779\"],[0.7777777777777778,\"#6ece58\"],[0.8888888888888888,\"#b5de2b\"],[1.0,\"#fde725\"]],\"type\":\"heatmapgl\"}],\"heatmap\":[{\"colorbar\":{\"outlinewidth\":1,\"tickcolor\":\"rgb(36,36,36)\",\"ticks\":\"outside\"},\"colorscale\":[[0.0,\"#440154\"],[0.1111111111111111,\"#482878\"],[0.2222222222222222,\"#3e4989\"],[0.3333333333333333,\"#31688e\"],[0.4444444444444444,\"#26828e\"],[0.5555555555555556,\"#1f9e89\"],[0.6666666666666666,\"#35b779\"],[0.7777777777777778,\"#6ece58\"],[0.8888888888888888,\"#b5de2b\"],[1.0,\"#fde725\"]],\"type\":\"heatmap\"}],\"histogram2dcontour\":[{\"colorbar\":{\"outlinewidth\":1,\"tickcolor\":\"rgb(36,36,36)\",\"ticks\":\"outside\"},\"colorscale\":[[0.0,\"#440154\"],[0.1111111111111111,\"#482878\"],[0.2222222222222222,\"#3e4989\"],[0.3333333333333333,\"#31688e\"],[0.4444444444444444,\"#26828e\"],[0.5555555555555556,\"#1f9e89\"],[0.6666666666666666,\"#35b779\"],[0.7777777777777778,\"#6ece58\"],[0.8888888888888888,\"#b5de2b\"],[1.0,\"#fde725\"]],\"type\":\"histogram2dcontour\"}],\"histogram2d\":[{\"colorbar\":{\"outlinewidth\":1,\"tickcolor\":\"rgb(36,36,36)\",\"ticks\":\"outside\"},\"colorscale\":[[0.0,\"#440154\"],[0.1111111111111111,\"#482878\"],[0.2222222222222222,\"#3e4989\"],[0.3333333333333333,\"#31688e\"],[0.4444444444444444,\"#26828e\"],[0.5555555555555556,\"#1f9e89\"],[0.6666666666666666,\"#35b779\"],[0.7777777777777778,\"#6ece58\"],[0.8888888888888888,\"#b5de2b\"],[1.0,\"#fde725\"]],\"type\":\"histogram2d\"}],\"histogram\":[{\"marker\":{\"line\":{\"color\":\"white\",\"width\":0.6}},\"type\":\"histogram\"}],\"mesh3d\":[{\"colorbar\":{\"outlinewidth\":1,\"tickcolor\":\"rgb(36,36,36)\",\"ticks\":\"outside\"},\"type\":\"mesh3d\"}],\"parcoords\":[{\"line\":{\"colorbar\":{\"outlinewidth\":1,\"tickcolor\":\"rgb(36,36,36)\",\"ticks\":\"outside\"}},\"type\":\"parcoords\"}],\"pie\":[{\"automargin\":true,\"type\":\"pie\"}],\"scatter3d\":[{\"line\":{\"colorbar\":{\"outlinewidth\":1,\"tickcolor\":\"rgb(36,36,36)\",\"ticks\":\"outside\"}},\"marker\":{\"colorbar\":{\"outlinewidth\":1,\"tickcolor\":\"rgb(36,36,36)\",\"ticks\":\"outside\"}},\"type\":\"scatter3d\"}],\"scattercarpet\":[{\"marker\":{\"colorbar\":{\"outlinewidth\":1,\"tickcolor\":\"rgb(36,36,36)\",\"ticks\":\"outside\"}},\"type\":\"scattercarpet\"}],\"scattergeo\":[{\"marker\":{\"colorbar\":{\"outlinewidth\":1,\"tickcolor\":\"rgb(36,36,36)\",\"ticks\":\"outside\"}},\"type\":\"scattergeo\"}],\"scattergl\":[{\"marker\":{\"colorbar\":{\"outlinewidth\":1,\"tickcolor\":\"rgb(36,36,36)\",\"ticks\":\"outside\"}},\"type\":\"scattergl\"}],\"scattermapbox\":[{\"marker\":{\"colorbar\":{\"outlinewidth\":1,\"tickcolor\":\"rgb(36,36,36)\",\"ticks\":\"outside\"}},\"type\":\"scattermapbox\"}],\"scatterpolargl\":[{\"marker\":{\"colorbar\":{\"outlinewidth\":1,\"tickcolor\":\"rgb(36,36,36)\",\"ticks\":\"outside\"}},\"type\":\"scatterpolargl\"}],\"scatterpolar\":[{\"marker\":{\"colorbar\":{\"outlinewidth\":1,\"tickcolor\":\"rgb(36,36,36)\",\"ticks\":\"outside\"}},\"type\":\"scatterpolar\"}],\"scatter\":[{\"marker\":{\"colorbar\":{\"outlinewidth\":1,\"tickcolor\":\"rgb(36,36,36)\",\"ticks\":\"outside\"}},\"type\":\"scatter\"}],\"scatterternary\":[{\"marker\":{\"colorbar\":{\"outlinewidth\":1,\"tickcolor\":\"rgb(36,36,36)\",\"ticks\":\"outside\"}},\"type\":\"scatterternary\"}],\"surface\":[{\"colorbar\":{\"outlinewidth\":1,\"tickcolor\":\"rgb(36,36,36)\",\"ticks\":\"outside\"},\"colorscale\":[[0.0,\"#440154\"],[0.1111111111111111,\"#482878\"],[0.2222222222222222,\"#3e4989\"],[0.3333333333333333,\"#31688e\"],[0.4444444444444444,\"#26828e\"],[0.5555555555555556,\"#1f9e89\"],[0.6666666666666666,\"#35b779\"],[0.7777777777777778,\"#6ece58\"],[0.8888888888888888,\"#b5de2b\"],[1.0,\"#fde725\"]],\"type\":\"surface\"}],\"table\":[{\"cells\":{\"fill\":{\"color\":\"rgb(237,237,237)\"},\"line\":{\"color\":\"white\"}},\"header\":{\"fill\":{\"color\":\"rgb(217,217,217)\"},\"line\":{\"color\":\"white\"}},\"type\":\"table\"}]},\"layout\":{\"annotationdefaults\":{\"arrowhead\":0,\"arrowwidth\":1},\"autotypenumbers\":\"strict\",\"coloraxis\":{\"colorbar\":{\"outlinewidth\":1,\"tickcolor\":\"rgb(36,36,36)\",\"ticks\":\"outside\"}},\"colorscale\":{\"diverging\":[[0.0,\"rgb(103,0,31)\"],[0.1,\"rgb(178,24,43)\"],[0.2,\"rgb(214,96,77)\"],[0.3,\"rgb(244,165,130)\"],[0.4,\"rgb(253,219,199)\"],[0.5,\"rgb(247,247,247)\"],[0.6,\"rgb(209,229,240)\"],[0.7,\"rgb(146,197,222)\"],[0.8,\"rgb(67,147,195)\"],[0.9,\"rgb(33,102,172)\"],[1.0,\"rgb(5,48,97)\"]],\"sequential\":[[0.0,\"#440154\"],[0.1111111111111111,\"#482878\"],[0.2222222222222222,\"#3e4989\"],[0.3333333333333333,\"#31688e\"],[0.4444444444444444,\"#26828e\"],[0.5555555555555556,\"#1f9e89\"],[0.6666666666666666,\"#35b779\"],[0.7777777777777778,\"#6ece58\"],[0.8888888888888888,\"#b5de2b\"],[1.0,\"#fde725\"]],\"sequentialminus\":[[0.0,\"#440154\"],[0.1111111111111111,\"#482878\"],[0.2222222222222222,\"#3e4989\"],[0.3333333333333333,\"#31688e\"],[0.4444444444444444,\"#26828e\"],[0.5555555555555556,\"#1f9e89\"],[0.6666666666666666,\"#35b779\"],[0.7777777777777778,\"#6ece58\"],[0.8888888888888888,\"#b5de2b\"],[1.0,\"#fde725\"]]},\"colorway\":[\"#1F77B4\",\"#FF7F0E\",\"#2CA02C\",\"#D62728\",\"#9467BD\",\"#8C564B\",\"#E377C2\",\"#7F7F7F\",\"#BCBD22\",\"#17BECF\"],\"font\":{\"color\":\"rgb(36,36,36)\"},\"geo\":{\"bgcolor\":\"white\",\"lakecolor\":\"white\",\"landcolor\":\"white\",\"showlakes\":true,\"showland\":true,\"subunitcolor\":\"white\"},\"hoverlabel\":{\"align\":\"left\"},\"hovermode\":\"closest\",\"mapbox\":{\"style\":\"light\"},\"paper_bgcolor\":\"white\",\"plot_bgcolor\":\"white\",\"polar\":{\"angularaxis\":{\"gridcolor\":\"rgb(232,232,232)\",\"linecolor\":\"rgb(36,36,36)\",\"showgrid\":false,\"showline\":true,\"ticks\":\"outside\"},\"bgcolor\":\"white\",\"radialaxis\":{\"gridcolor\":\"rgb(232,232,232)\",\"linecolor\":\"rgb(36,36,36)\",\"showgrid\":false,\"showline\":true,\"ticks\":\"outside\"}},\"scene\":{\"xaxis\":{\"backgroundcolor\":\"white\",\"gridcolor\":\"rgb(232,232,232)\",\"gridwidth\":2,\"linecolor\":\"rgb(36,36,36)\",\"showbackground\":true,\"showgrid\":false,\"showline\":true,\"ticks\":\"outside\",\"zeroline\":false,\"zerolinecolor\":\"rgb(36,36,36)\"},\"yaxis\":{\"backgroundcolor\":\"white\",\"gridcolor\":\"rgb(232,232,232)\",\"gridwidth\":2,\"linecolor\":\"rgb(36,36,36)\",\"showbackground\":true,\"showgrid\":false,\"showline\":true,\"ticks\":\"outside\",\"zeroline\":false,\"zerolinecolor\":\"rgb(36,36,36)\"},\"zaxis\":{\"backgroundcolor\":\"white\",\"gridcolor\":\"rgb(232,232,232)\",\"gridwidth\":2,\"linecolor\":\"rgb(36,36,36)\",\"showbackground\":true,\"showgrid\":false,\"showline\":true,\"ticks\":\"outside\",\"zeroline\":false,\"zerolinecolor\":\"rgb(36,36,36)\"}},\"shapedefaults\":{\"fillcolor\":\"black\",\"line\":{\"width\":0},\"opacity\":0.3},\"ternary\":{\"aaxis\":{\"gridcolor\":\"rgb(232,232,232)\",\"linecolor\":\"rgb(36,36,36)\",\"showgrid\":false,\"showline\":true,\"ticks\":\"outside\"},\"baxis\":{\"gridcolor\":\"rgb(232,232,232)\",\"linecolor\":\"rgb(36,36,36)\",\"showgrid\":false,\"showline\":true,\"ticks\":\"outside\"},\"bgcolor\":\"white\",\"caxis\":{\"gridcolor\":\"rgb(232,232,232)\",\"linecolor\":\"rgb(36,36,36)\",\"showgrid\":false,\"showline\":true,\"ticks\":\"outside\"}},\"title\":{\"x\":0.05},\"xaxis\":{\"automargin\":true,\"gridcolor\":\"rgb(232,232,232)\",\"linecolor\":\"rgb(36,36,36)\",\"showgrid\":false,\"showline\":true,\"ticks\":\"outside\",\"title\":{\"standoff\":15},\"zeroline\":false,\"zerolinecolor\":\"rgb(36,36,36)\"},\"yaxis\":{\"automargin\":true,\"gridcolor\":\"rgb(232,232,232)\",\"linecolor\":\"rgb(36,36,36)\",\"showgrid\":false,\"showline\":true,\"ticks\":\"outside\",\"title\":{\"standoff\":15},\"zeroline\":false,\"zerolinecolor\":\"rgb(36,36,36)\"}}},\"xaxis\":{\"anchor\":\"y\",\"domain\":[0.0,1.0],\"title\":{\"text\":\"PC1\"}},\"yaxis\":{\"anchor\":\"x\",\"domain\":[0.0,1.0],\"title\":{\"text\":\"PC2\"}},\"legend\":{\"title\":{\"text\":\"taxon\"},\"tracegroupgap\":0,\"itemsizing\":\"constant\"},\"title\":{\"text\":\"Burkina Faso, An. gambiae and coluzzii\"},\"height\":600,\"width\":900},                        {\"responsive\": true}                    ).then(function(){\n",
              "                            \n",
              "var gd = document.getElementById('e8722c76-8a4d-473a-a0ac-8efe01cc414a');\n",
              "var x = new MutationObserver(function (mutations, observer) {{\n",
              "        var display = window.getComputedStyle(gd).display;\n",
              "        if (!display || display === 'none') {{\n",
              "            console.log([gd, 'removed!']);\n",
              "            Plotly.purge(gd);\n",
              "            observer.disconnect();\n",
              "        }}\n",
              "}});\n",
              "\n",
              "// Listen for the removal of the full notebook cells\n",
              "var notebookContainer = gd.closest('#notebook-container');\n",
              "if (notebookContainer) {{\n",
              "    x.observe(notebookContainer, {childList: true});\n",
              "}}\n",
              "\n",
              "// Listen for the clearing of the current output cell\n",
              "var outputEl = gd.closest('.output');\n",
              "if (outputEl) {{\n",
              "    x.observe(outputEl, {childList: true});\n",
              "}}\n",
              "\n",
              "                        })                };                            </script>        </div>\n",
              "</body>\n",
              "</html>"
            ]
          },
          "metadata": {}
        }
      ]
    },
    {
      "cell_type": "markdown",
      "source": [
        "As we can see from these two plots, the distance between the points is relative. In the first plot, _An. gambiae_ samples are spread across PC2 and and a single sample, AB0325-C, is driving clustering on PC1. However, in the second plot the same samples are much more tightly clustered with PC1 now being driven by taxon and the _gambiae_ outlier sample, AB0325-C, is now driving PC2."
      ],
      "metadata": {
        "id": "pg6Dc0OAZwB1"
      }
    },
    {
      "cell_type": "markdown",
      "source": [
        "## Run PCA analysis - East African _An. arabiensis_"
      ],
      "metadata": {
        "id": "xnwT3clAv_eZ"
      }
    },
    {
      "cell_type": "markdown",
      "source": [
        "We can also combine data from multiple countries to perform a broader analysis of population structure. Let’s run a PCA of some _An. arabiensis_ mosquitoes from East Africa. This is a larger set of samples, so may take a little longer to run.\n",
        "  \n",
        "We'll use the `sample_query` parameter to just analyse _An. arabiensis_ from Tanzania, Kenya and Malawi. "
      ],
      "metadata": {
        "id": "aPTvQLe-NOWT"
      }
    },
    {
      "cell_type": "code",
      "source": [
        "pca_ea_df, evr_ea = ag3.pca(\n",
        "    region=\"3L\",\n",
        "    n_snps=n_snps,\n",
        "    sample_sets=\"3.0\",\n",
        "    sample_query=\"taxon == 'arabiensis' and country in ['Tanzania', 'Kenya', 'Malawi']\",\n",
        ")\n"
      ],
      "metadata": {
        "id": "yhvc3QzbNOrA",
        "colab": {
          "base_uri": "https://localhost:8080/",
          "height": 113,
          "referenced_widgets": [
            "32c16550ea5b40e2a176310c2d321b12",
            "df82bd39c1c448e68f7ed24a7d99d696",
            "45fcc26a73154371841ab0f61f06ded4",
            "1e9994d410224adf81ddff4ace04cbc0",
            "7cf1c1e4694a4eec97f22f442c7db27b",
            "4ba86050e1d043d797a608f8314ee406",
            "f7c0b7110bd744149cccba3194e5835d",
            "412e527505e34ad88cda39853998f4e6",
            "46c344f6eee5491aa4651b339619b507",
            "329cd01af73b4098b960ab47bd37828d",
            "a480712029fe4548abfc81fb29cb1914",
            "aa5bc97a8a1f4af1829827efc235a924",
            "98837008524c40db81de5b2f117bfa4a",
            "943add9ca9ad434c8ab1bd37cb9d0636",
            "bcffb65ceb0c4712976a6652df92e086",
            "f0e35b8edf55445481a2b62a30822a61",
            "ea3b37aecd284155b9283001045304f0",
            "b9a01e3c510e4a6aa621fbf459d45db7",
            "2182a055bbf74288a4ec92f0857f2149",
            "84a5e4d185e640a78f786164b368ac90",
            "c5d2407e6d02460990f12b6e138244e9",
            "b1bfbb87399e438ab18fcbf3443e22b9",
            "83d8cd94dc5c44b0b657a0520390f290",
            "62bf2ba9cf554fc7b891a1d2cfc72a50",
            "656b82e5f9314c9f97e93a44e8a244d9",
            "9bd5abbc456d493999df4aeb946c961b",
            "8a69eebdeb80455080b621a27d9d662b",
            "c08687bc94254a80a76df7572afa1cf4",
            "1b0a0ba84aef4a06a212ecf369019ff2",
            "e597bbbc318c427195a5abdd8196fd80",
            "95f629313b9043f8ab1438ca96eb5928",
            "0a03ca477a81450a8c5cdd7b68161484",
            "68c045836c494c6fa379971b4e0699fa"
          ]
        },
        "outputId": "307d1eee-3cbc-44cc-c2a6-b645ab269225"
      },
      "execution_count": 25,
      "outputs": [
        {
          "output_type": "display_data",
          "data": {
            "text/plain": [
              "Load sample metadata:   0%|          | 0/28 [00:00<?, ?it/s]"
            ],
            "application/vnd.jupyter.widget-view+json": {
              "version_major": 2,
              "version_minor": 0,
              "model_id": "32c16550ea5b40e2a176310c2d321b12"
            }
          },
          "metadata": {}
        },
        {
          "output_type": "display_data",
          "data": {
            "text/plain": [
              "Compute SNP allele counts:   0%|          | 0/5440 [00:00<?, ?it/s]"
            ],
            "application/vnd.jupyter.widget-view+json": {
              "version_major": 2,
              "version_minor": 0,
              "model_id": "aa5bc97a8a1f4af1829827efc235a924"
            }
          },
          "metadata": {}
        },
        {
          "output_type": "display_data",
          "data": {
            "text/plain": [
              "Load SNP genotypes:   0%|          | 0/5032 [00:00<?, ?it/s]"
            ],
            "application/vnd.jupyter.widget-view+json": {
              "version_major": 2,
              "version_minor": 0,
              "model_id": "83d8cd94dc5c44b0b657a0520390f290"
            }
          },
          "metadata": {}
        }
      ]
    },
    {
      "cell_type": "code",
      "source": [
        "ag3.plot_pca_coords(\n",
        "    pca_ea_df,\n",
        "    color=\"country\",\n",
        ")"
      ],
      "metadata": {
        "id": "6LNx4cKUzlEl",
        "colab": {
          "base_uri": "https://localhost:8080/",
          "height": 617
        },
        "outputId": "7830de51-b4d0-44ab-ec7e-871edf1b2b15"
      },
      "execution_count": 26,
      "outputs": [
        {
          "output_type": "display_data",
          "data": {
            "text/html": [
              "<html>\n",
              "<head><meta charset=\"utf-8\" /></head>\n",
              "<body>\n",
              "    <div>            <script src=\"https://cdnjs.cloudflare.com/ajax/libs/mathjax/2.7.5/MathJax.js?config=TeX-AMS-MML_SVG\"></script><script type=\"text/javascript\">if (window.MathJax) {MathJax.Hub.Config({SVG: {font: \"STIX-Web\"}});}</script>                <script type=\"text/javascript\">window.PlotlyConfig = {MathJaxConfig: 'local'};</script>\n",
              "        <script src=\"https://cdn.plot.ly/plotly-2.8.3.min.js\"></script>                <div id=\"ffac8cc8-d2ac-44e6-b500-83337828be98\" class=\"plotly-graph-div\" style=\"height:600px; width:900px;\"></div>            <script type=\"text/javascript\">                                    window.PLOTLYENV=window.PLOTLYENV || {};                                    if (document.getElementById(\"ffac8cc8-d2ac-44e6-b500-83337828be98\")) {                    Plotly.newPlot(                        \"ffac8cc8-d2ac-44e6-b500-83337828be98\",                        [{\"customdata\":[[\"ME235M\",\"AG1000G-MW\",\"arabiensis\",\"Malawi\",\"MW-S\",\"Southern Region\",\"Chikwawa\",\"Chikhwawa\",2015,5],[\"ME237Y\",\"AG1000G-MW\",\"arabiensis\",\"Malawi\",\"MW-S\",\"Southern Region\",\"Chikwawa\",\"Chikhwawa\",2015,5],[\"ME237L\",\"AG1000G-MW\",\"arabiensis\",\"Malawi\",\"MW-S\",\"Southern Region\",\"Chikwawa\",\"Chikhwawa\",2015,5],[\"ME234X\",\"AG1000G-MW\",\"arabiensis\",\"Malawi\",\"MW-S\",\"Southern Region\",\"Chikwawa\",\"Chikhwawa\",2015,5],[\"ME2352\",\"AG1000G-MW\",\"arabiensis\",\"Malawi\",\"MW-S\",\"Southern Region\",\"Chikwawa\",\"Chikhwawa\",2015,5],[\"ME237Z\",\"AG1000G-MW\",\"arabiensis\",\"Malawi\",\"MW-S\",\"Southern Region\",\"Chikwawa\",\"Chikhwawa\",2015,5],[\"ME2355\",\"AG1000G-MW\",\"arabiensis\",\"Malawi\",\"MW-S\",\"Southern Region\",\"Chikwawa\",\"Chikhwawa\",2015,5],[\"ME234O\",\"AG1000G-MW\",\"arabiensis\",\"Malawi\",\"MW-S\",\"Southern Region\",\"Chikwawa\",\"Chikhwawa\",2015,5],[\"ME234G\",\"AG1000G-MW\",\"arabiensis\",\"Malawi\",\"MW-S\",\"Southern Region\",\"Chikwawa\",\"Chikhwawa\",2015,5],[\"ME2368\",\"AG1000G-MW\",\"arabiensis\",\"Malawi\",\"MW-S\",\"Southern Region\",\"Chikwawa\",\"Chikhwawa\",2015,5],[\"ME236C\",\"AG1000G-MW\",\"arabiensis\",\"Malawi\",\"MW-S\",\"Southern Region\",\"Chikwawa\",\"Chikhwawa\",2015,5],[\"ME234H\",\"AG1000G-MW\",\"arabiensis\",\"Malawi\",\"MW-S\",\"Southern Region\",\"Chikwawa\",\"Chikhwawa\",2015,5],[\"ME234K\",\"AG1000G-MW\",\"arabiensis\",\"Malawi\",\"MW-S\",\"Southern Region\",\"Chikwawa\",\"Chikhwawa\",2015,5],[\"ME236E\",\"AG1000G-MW\",\"arabiensis\",\"Malawi\",\"MW-S\",\"Southern Region\",\"Chikwawa\",\"Chikhwawa\",2015,5],[\"ME235N\",\"AG1000G-MW\",\"arabiensis\",\"Malawi\",\"MW-S\",\"Southern Region\",\"Chikwawa\",\"Chikhwawa\",2015,5],[\"ME235L\",\"AG1000G-MW\",\"arabiensis\",\"Malawi\",\"MW-S\",\"Southern Region\",\"Chikwawa\",\"Chikhwawa\",2015,5],[\"ME236A\",\"AG1000G-MW\",\"arabiensis\",\"Malawi\",\"MW-S\",\"Southern Region\",\"Chikwawa\",\"Chikhwawa\",2015,5],[\"ME235C\",\"AG1000G-MW\",\"arabiensis\",\"Malawi\",\"MW-S\",\"Southern Region\",\"Chikwawa\",\"Chikhwawa\",2015,5],[\"ME232R\",\"AG1000G-MW\",\"arabiensis\",\"Malawi\",\"MW-S\",\"Southern Region\",\"Chikwawa\",\"Chikhwawa\",2015,5],[\"ME236Q\",\"AG1000G-MW\",\"arabiensis\",\"Malawi\",\"MW-S\",\"Southern Region\",\"Chikwawa\",\"Chikhwawa\",2015,5],[\"ME2356\",\"AG1000G-MW\",\"arabiensis\",\"Malawi\",\"MW-S\",\"Southern Region\",\"Chikwawa\",\"Chikhwawa\",2015,5],[\"ME236B\",\"AG1000G-MW\",\"arabiensis\",\"Malawi\",\"MW-S\",\"Southern Region\",\"Chikwawa\",\"Chikhwawa\",2015,5],[\"ME235A\",\"AG1000G-MW\",\"arabiensis\",\"Malawi\",\"MW-S\",\"Southern Region\",\"Chikwawa\",\"Chikhwawa\",2015,5],[\"ME2367\",\"AG1000G-MW\",\"arabiensis\",\"Malawi\",\"MW-S\",\"Southern Region\",\"Chikwawa\",\"Chikhwawa\",2015,5],[\"ME237X\",\"AG1000G-MW\",\"arabiensis\",\"Malawi\",\"MW-S\",\"Southern Region\",\"Chikwawa\",\"Chikhwawa\",2015,5],[\"ME236P\",\"AG1000G-MW\",\"arabiensis\",\"Malawi\",\"MW-S\",\"Southern Region\",\"Chikwawa\",\"Chikhwawa\",2015,5],[\"ME234Z\",\"AG1000G-MW\",\"arabiensis\",\"Malawi\",\"MW-S\",\"Southern Region\",\"Chikwawa\",\"Chikhwawa\",2015,5],[\"ME236K\",\"AG1000G-MW\",\"arabiensis\",\"Malawi\",\"MW-S\",\"Southern Region\",\"Chikwawa\",\"Chikhwawa\",2015,5],[\"ME2382\",\"AG1000G-MW\",\"arabiensis\",\"Malawi\",\"MW-S\",\"Southern Region\",\"Chikwawa\",\"Chikhwawa\",2015,5],[\"ME237M\",\"AG1000G-MW\",\"arabiensis\",\"Malawi\",\"MW-S\",\"Southern Region\",\"Chikwawa\",\"Chikhwawa\",2015,5],[\"ME232W\",\"AG1000G-MW\",\"arabiensis\",\"Malawi\",\"MW-S\",\"Southern Region\",\"Chikwawa\",\"Chikhwawa\",2015,5],[\"ME2348\",\"AG1000G-MW\",\"arabiensis\",\"Malawi\",\"MW-S\",\"Southern Region\",\"Chikwawa\",\"Chikhwawa\",2015,5],[\"ME2369\",\"AG1000G-MW\",\"arabiensis\",\"Malawi\",\"MW-S\",\"Southern Region\",\"Chikwawa\",\"Chikhwawa\",2015,5],[\"ME232S\",\"AG1000G-MW\",\"arabiensis\",\"Malawi\",\"MW-S\",\"Southern Region\",\"Chikwawa\",\"Chikhwawa\",2015,5],[\"ME234D\",\"AG1000G-MW\",\"arabiensis\",\"Malawi\",\"MW-S\",\"Southern Region\",\"Chikwawa\",\"Chikhwawa\",2015,5],[\"ME234J\",\"AG1000G-MW\",\"arabiensis\",\"Malawi\",\"MW-S\",\"Southern Region\",\"Chikwawa\",\"Chikhwawa\",2015,5],[\"ME232M\",\"AG1000G-MW\",\"arabiensis\",\"Malawi\",\"MW-S\",\"Southern Region\",\"Chikwawa\",\"Chikhwawa\",2015,5],[\"ME234E\",\"AG1000G-MW\",\"arabiensis\",\"Malawi\",\"MW-S\",\"Southern Region\",\"Chikwawa\",\"Chikhwawa\",2015,5],[\"ME2345\",\"AG1000G-MW\",\"arabiensis\",\"Malawi\",\"MW-S\",\"Southern Region\",\"Chikwawa\",\"Chikhwawa\",2015,5],[\"ME234R\",\"AG1000G-MW\",\"arabiensis\",\"Malawi\",\"MW-S\",\"Southern Region\",\"Chikwawa\",\"Chikhwawa\",2015,5],[\"ME234P\",\"AG1000G-MW\",\"arabiensis\",\"Malawi\",\"MW-S\",\"Southern Region\",\"Chikwawa\",\"Chikhwawa\",2015,5]],\"hovertemplate\":\"<b>%{hovertext}</b><br><br>country=%{customdata[3]}<br>PC1=%{x}<br>PC2=%{y}<br>partner_sample_id=%{customdata[0]}<br>sample_set=%{customdata[1]}<br>taxon=%{customdata[2]}<br>admin1_iso=%{customdata[4]}<br>admin1_name=%{customdata[5]}<br>admin2_name=%{customdata[6]}<br>location=%{customdata[7]}<br>year=%{customdata[8]}<br>month=%{customdata[9]}<extra></extra>\",\"hovertext\":[\"AZ0175-C\",\"AZ0200-C\",\"AZ0191-C\",\"AZ0164-C\",\"AZ0166-C\",\"AZ0201-C\",\"AZ0167-C\",\"AZ0159-C\",\"AZ0155-C\",\"AZ0180-C\",\"AZ0184-C\",\"AZ0156-C\",\"AZ0158-C\",\"AZ0185-C\",\"AZ0176-C\",\"AZ0174-C\",\"AZ0182-C\",\"AZ0172-C\",\"AZ0246-C\",\"AZ0188-C\",\"AZ0168-C\",\"AZ0183-C\",\"AZ0170-C\",\"AZ0179-C\",\"AZ0199-C\",\"AZ0187-C\",\"AZ0165-C\",\"AZ0186-C\",\"AZ0202-C\",\"AZ0192-C\",\"AZ0251-C\",\"AZ0226-C\",\"AZ0181-C\",\"AZ0247-C\",\"AZ0152-C\",\"AZ0157-C\",\"AZ0242-C\",\"AZ0153-C\",\"AZ0223-C\",\"AZ0161-C\",\"AZ0160-C\"],\"legendgroup\":\"Malawi\",\"marker\":{\"color\":\"#1F77B4\",\"opacity\":0.9,\"symbol\":\"circle\",\"size\":10},\"mode\":\"markers\",\"name\":\"Malawi\",\"orientation\":\"v\",\"showlegend\":true,\"x\":[136.0766719446995,155.84924504476825,145.75606055987026,139.191153099108,141.1757256919437,141.7085202482978,143.23472858252,137.64181516221743,139.34556849047934,140.62196756927747,144.8336578435269,139.16068522855426,150.8655612420912,142.71992661260077,143.59941243790138,152.2040667883798,145.28187160744073,148.51631956456723,138.07237693802477,148.83893875386232,145.46571553312276,144.23720558124649,147.0398227349505,154.24040277233902,152.34091131156094,143.9654823949809,137.562438770781,145.4365204957082,145.44642976040674,144.15100808688064,147.21973461338922,143.9868927836631,154.19177281434068,132.68103874777543,159.19820270702044,139.61926343839852,147.70775674880375,140.90015084084393,148.95345712720112,144.86050760341206,152.86594671732243],\"xaxis\":\"x\",\"y\":[16.437431142157486,-10.088064808875277,-4.209671089722398,-9.060544681208855,-5.581970116918053,-4.790705890123505,0.3536443754757057,5.922696067790221,-7.52935598326351,7.128981020193298,13.864531788953935,-1.3624875387167459,-2.489563051218304,-0.5630826045721312,-4.328633270744904,1.3135153171688387,0.5571398161507977,-0.7960319476370841,-2.156435194184429,2.9179701122276853,1.6650946860818021,10.345751716530756,7.274391784344307,-7.790549929129051,-3.094874432378397,-5.323764961186443,3.362807830806762,5.4469988835914025,-7.170534492683664,0.9509811606604921,-0.519708474009474,-11.079482814293515,5.5829832068199625,4.0855041645314945,0.5814575118635092,-0.29157303452528804,-0.07651659042730785,-0.5494279264938946,-0.9198054281817898,5.18601725286279,-5.469445776409377],\"yaxis\":\"y\",\"type\":\"scatter\"},{\"customdata\":[[\"Plate_E_F12\",\"AG1000G-TZ\",\"arabiensis\",\"Tanzania\",\"TZ-05\",\"Kagera\",\"Sengerema\",\"Muleba\",2015,6],[\"M_385_l\",\"AG1000G-TZ\",\"arabiensis\",\"Tanzania\",\"TZ-26\",\"Manyara\",\"Moshi\",\"Moshi\",2012,8],[\"Plate_C_H5\",\"AG1000G-TZ\",\"arabiensis\",\"Tanzania\",\"TZ-05\",\"Kagera\",\"Sengerema\",\"Muleba\",2015,6],[\"T_25s\",\"AG1000G-TZ\",\"arabiensis\",\"Tanzania\",\"TZ-13\",\"Mara\",\"Tarime\",\"Tarime\",2012,8],[\"T_8s\",\"AG1000G-TZ\",\"arabiensis\",\"Tanzania\",\"TZ-13\",\"Mara\",\"Tarime\",\"Tarime\",2012,8],[\"Plate_C_E1\",\"AG1000G-TZ\",\"arabiensis\",\"Tanzania\",\"TZ-05\",\"Kagera\",\"Sengerema\",\"Muleba\",2015,6],[\"M_276_l\",\"AG1000G-TZ\",\"arabiensis\",\"Tanzania\",\"TZ-26\",\"Manyara\",\"Moshi\",\"Moshi\",2012,8],[\"T_29s\",\"AG1000G-TZ\",\"arabiensis\",\"Tanzania\",\"TZ-13\",\"Mara\",\"Tarime\",\"Tarime\",2012,8],[\"Plate_C_B6\",\"AG1000G-TZ\",\"arabiensis\",\"Tanzania\",\"TZ-05\",\"Kagera\",\"Sengerema\",\"Muleba\",2015,6],[\"Plate_F_E5\",\"AG1000G-TZ\",\"arabiensis\",\"Tanzania\",\"TZ-05\",\"Kagera\",\"Sengerema\",\"Muleba\",2015,3],[\"M_647_d\",\"AG1000G-TZ\",\"arabiensis\",\"Tanzania\",\"TZ-26\",\"Manyara\",\"Moshi\",\"Moshi\",2012,8],[\"T_2s\",\"AG1000G-TZ\",\"arabiensis\",\"Tanzania\",\"TZ-13\",\"Mara\",\"Tarime\",\"Tarime\",2012,8],[\"Plate_C_A2\",\"AG1000G-TZ\",\"arabiensis\",\"Tanzania\",\"TZ-05\",\"Kagera\",\"Sengerema\",\"Muleba\",2015,6],[\"M_383_l\",\"AG1000G-TZ\",\"arabiensis\",\"Tanzania\",\"TZ-26\",\"Manyara\",\"Moshi\",\"Moshi\",2012,8],[\"Plate_A_A12\",\"AG1000G-TZ\",\"arabiensis\",\"Tanzania\",\"TZ-05\",\"Kagera\",\"Sengerema\",\"Muleba\",2015,4],[\"M_332_l\",\"AG1000G-TZ\",\"arabiensis\",\"Tanzania\",\"TZ-26\",\"Manyara\",\"Moshi\",\"Moshi\",2012,8],[\"Plate_D_B8\",\"AG1000G-TZ\",\"arabiensis\",\"Tanzania\",\"TZ-05\",\"Kagera\",\"Sengerema\",\"Muleba\",2015,6],[\"M_266_l\",\"AG1000G-TZ\",\"arabiensis\",\"Tanzania\",\"TZ-26\",\"Manyara\",\"Moshi\",\"Moshi\",2012,8],[\"T_13s\",\"AG1000G-TZ\",\"arabiensis\",\"Tanzania\",\"TZ-13\",\"Mara\",\"Tarime\",\"Tarime\",2012,8],[\"Plate_F_B4\",\"AG1000G-TZ\",\"arabiensis\",\"Tanzania\",\"TZ-05\",\"Kagera\",\"Sengerema\",\"Muleba\",2015,3],[\"Plate_E_C1\",\"AG1000G-TZ\",\"arabiensis\",\"Tanzania\",\"TZ-05\",\"Kagera\",\"Sengerema\",\"Muleba\",2015,6],[\"T_30s\",\"AG1000G-TZ\",\"arabiensis\",\"Tanzania\",\"TZ-13\",\"Mara\",\"Tarime\",\"Tarime\",2012,8],[\"T_50s\",\"AG1000G-TZ\",\"arabiensis\",\"Tanzania\",\"TZ-13\",\"Mara\",\"Tarime\",\"Tarime\",2012,8],[\"M_638_d\",\"AG1000G-TZ\",\"arabiensis\",\"Tanzania\",\"TZ-26\",\"Manyara\",\"Moshi\",\"Moshi\",2012,8],[\"Plate_F_B6\",\"AG1000G-TZ\",\"arabiensis\",\"Tanzania\",\"TZ-05\",\"Kagera\",\"Sengerema\",\"Muleba\",2015,3],[\"Plate_A_H12\",\"AG1000G-TZ\",\"arabiensis\",\"Tanzania\",\"TZ-05\",\"Kagera\",\"Sengerema\",\"Muleba\",2015,4],[\"Plate_D_F2\",\"AG1000G-TZ\",\"arabiensis\",\"Tanzania\",\"TZ-05\",\"Kagera\",\"Sengerema\",\"Muleba\",2015,6],[\"Plate_A_B5\",\"AG1000G-TZ\",\"arabiensis\",\"Tanzania\",\"TZ-05\",\"Kagera\",\"Sengerema\",\"Muleba\",2015,3],[\"M_712_d\",\"AG1000G-TZ\",\"arabiensis\",\"Tanzania\",\"TZ-26\",\"Manyara\",\"Moshi\",\"Moshi\",2012,8],[\"Plate_F_A5\",\"AG1000G-TZ\",\"arabiensis\",\"Tanzania\",\"TZ-05\",\"Kagera\",\"Sengerema\",\"Muleba\",2015,3],[\"T_5s\",\"AG1000G-TZ\",\"arabiensis\",\"Tanzania\",\"TZ-13\",\"Mara\",\"Tarime\",\"Tarime\",2012,8],[\"T_7s\",\"AG1000G-TZ\",\"arabiensis\",\"Tanzania\",\"TZ-13\",\"Mara\",\"Tarime\",\"Tarime\",2012,8],[\"Plate_B_H2\",\"AG1000G-TZ\",\"arabiensis\",\"Tanzania\",\"TZ-05\",\"Kagera\",\"Sengerema\",\"Muleba\",2015,6],[\"Plate_B_H10\",\"AG1000G-TZ\",\"arabiensis\",\"Tanzania\",\"TZ-05\",\"Kagera\",\"Sengerema\",\"Muleba\",2015,6],[\"Plate_B_F2\",\"AG1000G-TZ\",\"arabiensis\",\"Tanzania\",\"TZ-05\",\"Kagera\",\"Sengerema\",\"Muleba\",2015,6],[\"Plate_B_G10\",\"AG1000G-TZ\",\"arabiensis\",\"Tanzania\",\"TZ-05\",\"Kagera\",\"Sengerema\",\"Muleba\",2015,6],[\"Plate_B_H1\",\"AG1000G-TZ\",\"arabiensis\",\"Tanzania\",\"TZ-05\",\"Kagera\",\"Sengerema\",\"Muleba\",2015,6],[\"Plate_F_H5\",\"AG1000G-TZ\",\"arabiensis\",\"Tanzania\",\"TZ-05\",\"Kagera\",\"Sengerema\",\"Muleba\",2015,3],[\"Plate_A_H5\",\"AG1000G-TZ\",\"arabiensis\",\"Tanzania\",\"TZ-05\",\"Kagera\",\"Sengerema\",\"Muleba\",2015,3],[\"T_45s\",\"AG1000G-TZ\",\"arabiensis\",\"Tanzania\",\"TZ-13\",\"Mara\",\"Tarime\",\"Tarime\",2012,8],[\"Plate_F_B7\",\"AG1000G-TZ\",\"arabiensis\",\"Tanzania\",\"TZ-05\",\"Kagera\",\"Sengerema\",\"Muleba\",2015,3],[\"Plate_D_A2\",\"AG1000G-TZ\",\"arabiensis\",\"Tanzania\",\"TZ-05\",\"Kagera\",\"Sengerema\",\"Muleba\",2015,6],[\"T_33s\",\"AG1000G-TZ\",\"arabiensis\",\"Tanzania\",\"TZ-13\",\"Mara\",\"Tarime\",\"Tarime\",2012,8],[\"Plate_B_A1\",\"AG1000G-TZ\",\"arabiensis\",\"Tanzania\",\"TZ-05\",\"Kagera\",\"Sengerema\",\"Muleba\",2015,6],[\"T_32s\",\"AG1000G-TZ\",\"arabiensis\",\"Tanzania\",\"TZ-13\",\"Mara\",\"Tarime\",\"Tarime\",2012,8],[\"Plate_B_F10\",\"AG1000G-TZ\",\"arabiensis\",\"Tanzania\",\"TZ-05\",\"Kagera\",\"Sengerema\",\"Muleba\",2015,6],[\"Plate_F_E6\",\"AG1000G-TZ\",\"arabiensis\",\"Tanzania\",\"TZ-05\",\"Kagera\",\"Sengerema\",\"Muleba\",2015,3],[\"T_39s\",\"AG1000G-TZ\",\"arabiensis\",\"Tanzania\",\"TZ-13\",\"Mara\",\"Tarime\",\"Tarime\",2012,8],[\"M_718_d\",\"AG1000G-TZ\",\"arabiensis\",\"Tanzania\",\"TZ-26\",\"Manyara\",\"Moshi\",\"Moshi\",2012,8],[\"Plate_C_E5\",\"AG1000G-TZ\",\"arabiensis\",\"Tanzania\",\"TZ-05\",\"Kagera\",\"Sengerema\",\"Muleba\",2015,6],[\"M_380_l\",\"AG1000G-TZ\",\"arabiensis\",\"Tanzania\",\"TZ-26\",\"Manyara\",\"Moshi\",\"Moshi\",2012,8],[\"T_15s\",\"AG1000G-TZ\",\"arabiensis\",\"Tanzania\",\"TZ-13\",\"Mara\",\"Tarime\",\"Tarime\",2012,8],[\"Plate_B_G2\",\"AG1000G-TZ\",\"arabiensis\",\"Tanzania\",\"TZ-05\",\"Kagera\",\"Sengerema\",\"Muleba\",2015,6],[\"Plate_E_H5\",\"AG1000G-TZ\",\"arabiensis\",\"Tanzania\",\"TZ-05\",\"Kagera\",\"Sengerema\",\"Muleba\",2015,6],[\"Plate_D_E2\",\"AG1000G-TZ\",\"arabiensis\",\"Tanzania\",\"TZ-05\",\"Kagera\",\"Sengerema\",\"Muleba\",2015,6],[\"Plate_A_B12\",\"AG1000G-TZ\",\"arabiensis\",\"Tanzania\",\"TZ-05\",\"Kagera\",\"Sengerema\",\"Muleba\",2015,4],[\"Plate_C_A5\",\"AG1000G-TZ\",\"arabiensis\",\"Tanzania\",\"TZ-05\",\"Kagera\",\"Sengerema\",\"Muleba\",2015,6],[\"T_37s\",\"AG1000G-TZ\",\"arabiensis\",\"Tanzania\",\"TZ-13\",\"Mara\",\"Tarime\",\"Tarime\",2012,8],[\"Plate_F_C5\",\"AG1000G-TZ\",\"arabiensis\",\"Tanzania\",\"TZ-05\",\"Kagera\",\"Sengerema\",\"Muleba\",2015,3],[\"M_387_l\",\"AG1000G-TZ\",\"arabiensis\",\"Tanzania\",\"TZ-26\",\"Manyara\",\"Moshi\",\"Moshi\",2012,8],[\"M_717_d\",\"AG1000G-TZ\",\"arabiensis\",\"Tanzania\",\"TZ-26\",\"Manyara\",\"Moshi\",\"Moshi\",2012,8],[\"Plate_C_A1\",\"AG1000G-TZ\",\"arabiensis\",\"Tanzania\",\"TZ-05\",\"Kagera\",\"Sengerema\",\"Muleba\",2015,6],[\"Plate_B_A10\",\"AG1000G-TZ\",\"arabiensis\",\"Tanzania\",\"TZ-05\",\"Kagera\",\"Sengerema\",\"Muleba\",2015,6],[\"Plate_B_F12\",\"AG1000G-TZ\",\"arabiensis\",\"Tanzania\",\"TZ-05\",\"Kagera\",\"Sengerema\",\"Muleba\",2015,6],[\"Plate_A_B6\",\"AG1000G-TZ\",\"arabiensis\",\"Tanzania\",\"TZ-05\",\"Kagera\",\"Sengerema\",\"Muleba\",2015,4],[\"Plate_F_E4\",\"AG1000G-TZ\",\"arabiensis\",\"Tanzania\",\"TZ-05\",\"Kagera\",\"Sengerema\",\"Muleba\",2015,3],[\"T_31s\",\"AG1000G-TZ\",\"arabiensis\",\"Tanzania\",\"TZ-13\",\"Mara\",\"Tarime\",\"Tarime\",2012,8],[\"M_653_d\",\"AG1000G-TZ\",\"arabiensis\",\"Tanzania\",\"TZ-26\",\"Manyara\",\"Moshi\",\"Moshi\",2012,8],[\"Plate_A_F5\",\"AG1000G-TZ\",\"arabiensis\",\"Tanzania\",\"TZ-05\",\"Kagera\",\"Sengerema\",\"Muleba\",2015,3],[\"Plate_C_A6\",\"AG1000G-TZ\",\"arabiensis\",\"Tanzania\",\"TZ-05\",\"Kagera\",\"Sengerema\",\"Muleba\",2015,6],[\"Plate_F_G4\",\"AG1000G-TZ\",\"arabiensis\",\"Tanzania\",\"TZ-05\",\"Kagera\",\"Sengerema\",\"Muleba\",2015,3],[\"T_42s\",\"AG1000G-TZ\",\"arabiensis\",\"Tanzania\",\"TZ-13\",\"Mara\",\"Tarime\",\"Tarime\",2012,8],[\"M_696_d\",\"AG1000G-TZ\",\"arabiensis\",\"Tanzania\",\"TZ-26\",\"Manyara\",\"Moshi\",\"Moshi\",2012,8],[\"Plate_B_A11\",\"AG1000G-TZ\",\"arabiensis\",\"Tanzania\",\"TZ-05\",\"Kagera\",\"Sengerema\",\"Muleba\",2015,6],[\"T_38s\",\"AG1000G-TZ\",\"arabiensis\",\"Tanzania\",\"TZ-13\",\"Mara\",\"Tarime\",\"Tarime\",2012,8],[\"Plate_F_D5\",\"AG1000G-TZ\",\"arabiensis\",\"Tanzania\",\"TZ-05\",\"Kagera\",\"Sengerema\",\"Muleba\",2015,3],[\"M_307_l\",\"AG1000G-TZ\",\"arabiensis\",\"Tanzania\",\"TZ-26\",\"Manyara\",\"Moshi\",\"Moshi\",2012,8],[\"Plate_B_B10\",\"AG1000G-TZ\",\"arabiensis\",\"Tanzania\",\"TZ-05\",\"Kagera\",\"Sengerema\",\"Muleba\",2015,6],[\"T_10s\",\"AG1000G-TZ\",\"arabiensis\",\"Tanzania\",\"TZ-13\",\"Mara\",\"Tarime\",\"Tarime\",2012,8],[\"Plate_A_D2\",\"AG1000G-TZ\",\"arabiensis\",\"Tanzania\",\"TZ-05\",\"Kagera\",\"Sengerema\",\"Muleba\",2015,3],[\"Plate_E_H1\",\"AG1000G-TZ\",\"arabiensis\",\"Tanzania\",\"TZ-05\",\"Kagera\",\"Sengerema\",\"Muleba\",2015,6],[\"Plate_A_G1\",\"AG1000G-TZ\",\"arabiensis\",\"Tanzania\",\"TZ-05\",\"Kagera\",\"Sengerema\",\"Muleba\",2015,3],[\"Plate_B_B11\",\"AG1000G-TZ\",\"arabiensis\",\"Tanzania\",\"TZ-05\",\"Kagera\",\"Sengerema\",\"Muleba\",2015,6],[\"Plate_A_H1\",\"AG1000G-TZ\",\"arabiensis\",\"Tanzania\",\"TZ-05\",\"Kagera\",\"Sengerema\",\"Muleba\",2015,3],[\"M_28\",\"AG1000G-TZ\",\"arabiensis\",\"Tanzania\",\"TZ-25\",\"Tanga\",\"Mkinga\",\"Muheza\",2013,1],[\"Plate_B_B4\",\"AG1000G-TZ\",\"arabiensis\",\"Tanzania\",\"TZ-05\",\"Kagera\",\"Sengerema\",\"Muleba\",2015,6],[\"Plate_A_H2\",\"AG1000G-TZ\",\"arabiensis\",\"Tanzania\",\"TZ-05\",\"Kagera\",\"Sengerema\",\"Muleba\",2015,3],[\"Plate_A_B1\",\"AG1000G-TZ\",\"arabiensis\",\"Tanzania\",\"TZ-05\",\"Kagera\",\"Sengerema\",\"Muleba\",2015,3],[\"Plate_F_B5\",\"AG1000G-TZ\",\"arabiensis\",\"Tanzania\",\"TZ-05\",\"Kagera\",\"Sengerema\",\"Muleba\",2015,3],[\"Plate_A_G2\",\"AG1000G-TZ\",\"arabiensis\",\"Tanzania\",\"TZ-05\",\"Kagera\",\"Sengerema\",\"Muleba\",2015,3],[\"Plate_C_D6\",\"AG1000G-TZ\",\"arabiensis\",\"Tanzania\",\"TZ-05\",\"Kagera\",\"Sengerema\",\"Muleba\",2015,6],[\"Plate_D_A3\",\"AG1000G-TZ\",\"arabiensis\",\"Tanzania\",\"TZ-05\",\"Kagera\",\"Sengerema\",\"Muleba\",2015,6],[\"Plate_C_D1\",\"AG1000G-TZ\",\"arabiensis\",\"Tanzania\",\"TZ-05\",\"Kagera\",\"Sengerema\",\"Muleba\",2015,6],[\"Plate_A_F12\",\"AG1000G-TZ\",\"arabiensis\",\"Tanzania\",\"TZ-05\",\"Kagera\",\"Sengerema\",\"Muleba\",2015,4],[\"Plate_C_E6\",\"AG1000G-TZ\",\"arabiensis\",\"Tanzania\",\"TZ-05\",\"Kagera\",\"Sengerema\",\"Muleba\",2015,6],[\"Plate_E_B1\",\"AG1000G-TZ\",\"arabiensis\",\"Tanzania\",\"TZ-05\",\"Kagera\",\"Sengerema\",\"Muleba\",2015,6],[\"M_721_d\",\"AG1000G-TZ\",\"arabiensis\",\"Tanzania\",\"TZ-26\",\"Manyara\",\"Moshi\",\"Moshi\",2012,8],[\"Plate_F_C4\",\"AG1000G-TZ\",\"arabiensis\",\"Tanzania\",\"TZ-05\",\"Kagera\",\"Sengerema\",\"Muleba\",2015,3],[\"Plate_F_A12\",\"AG1000G-TZ\",\"arabiensis\",\"Tanzania\",\"TZ-05\",\"Kagera\",\"Sengerema\",\"Muleba\",2015,3],[\"M_711_d\",\"AG1000G-TZ\",\"arabiensis\",\"Tanzania\",\"TZ-26\",\"Manyara\",\"Moshi\",\"Moshi\",2012,8],[\"M_340_l\",\"AG1000G-TZ\",\"arabiensis\",\"Tanzania\",\"TZ-26\",\"Manyara\",\"Moshi\",\"Moshi\",2012,8],[\"T_16s\",\"AG1000G-TZ\",\"arabiensis\",\"Tanzania\",\"TZ-13\",\"Mara\",\"Tarime\",\"Tarime\",2012,8],[\"Plate_C_F6\",\"AG1000G-TZ\",\"arabiensis\",\"Tanzania\",\"TZ-05\",\"Kagera\",\"Sengerema\",\"Muleba\",2015,6],[\"T_41s\",\"AG1000G-TZ\",\"arabiensis\",\"Tanzania\",\"TZ-13\",\"Mara\",\"Tarime\",\"Tarime\",2012,8],[\"Plate_A_C12\",\"AG1000G-TZ\",\"arabiensis\",\"Tanzania\",\"TZ-05\",\"Kagera\",\"Sengerema\",\"Muleba\",2015,4],[\"Plate_F_F4\",\"AG1000G-TZ\",\"arabiensis\",\"Tanzania\",\"TZ-05\",\"Kagera\",\"Sengerema\",\"Muleba\",2015,3],[\"Plate_D_H2\",\"AG1000G-TZ\",\"arabiensis\",\"Tanzania\",\"TZ-05\",\"Kagera\",\"Sengerema\",\"Muleba\",2015,6],[\"Plate_E_E1\",\"AG1000G-TZ\",\"arabiensis\",\"Tanzania\",\"TZ-05\",\"Kagera\",\"Sengerema\",\"Muleba\",2015,6],[\"Plate_B_E2\",\"AG1000G-TZ\",\"arabiensis\",\"Tanzania\",\"TZ-05\",\"Kagera\",\"Sengerema\",\"Muleba\",2015,6],[\"Plate_B_A3\",\"AG1000G-TZ\",\"arabiensis\",\"Tanzania\",\"TZ-05\",\"Kagera\",\"Sengerema\",\"Muleba\",2015,6],[\"Plate_F_D6\",\"AG1000G-TZ\",\"arabiensis\",\"Tanzania\",\"TZ-05\",\"Kagera\",\"Sengerema\",\"Muleba\",2015,3],[\"Plate_B_C11\",\"AG1000G-TZ\",\"arabiensis\",\"Tanzania\",\"TZ-05\",\"Kagera\",\"Sengerema\",\"Muleba\",2015,6],[\"M_644_d\",\"AG1000G-TZ\",\"arabiensis\",\"Tanzania\",\"TZ-26\",\"Manyara\",\"Moshi\",\"Moshi\",2012,8],[\"Plate_C_C5\",\"AG1000G-TZ\",\"arabiensis\",\"Tanzania\",\"TZ-05\",\"Kagera\",\"Sengerema\",\"Muleba\",2015,6],[\"Plate_C_C1\",\"AG1000G-TZ\",\"arabiensis\",\"Tanzania\",\"TZ-05\",\"Kagera\",\"Sengerema\",\"Muleba\",2015,6],[\"Plate_A_F6\",\"AG1000G-TZ\",\"arabiensis\",\"Tanzania\",\"TZ-05\",\"Kagera\",\"Sengerema\",\"Muleba\",2015,4],[\"T_48s\",\"AG1000G-TZ\",\"arabiensis\",\"Tanzania\",\"TZ-13\",\"Mara\",\"Tarime\",\"Tarime\",2012,8],[\"T_11s\",\"AG1000G-TZ\",\"arabiensis\",\"Tanzania\",\"TZ-13\",\"Mara\",\"Tarime\",\"Tarime\",2012,8],[\"Plate_E_G1\",\"AG1000G-TZ\",\"arabiensis\",\"Tanzania\",\"TZ-05\",\"Kagera\",\"Sengerema\",\"Muleba\",2015,6],[\"Plate_E_H10\",\"AG1000G-TZ\",\"arabiensis\",\"Tanzania\",\"TZ-05\",\"Kagera\",\"Sengerema\",\"Muleba\",2015,6],[\"T_46s\",\"AG1000G-TZ\",\"arabiensis\",\"Tanzania\",\"TZ-13\",\"Mara\",\"Tarime\",\"Tarime\",2012,8],[\"Plate_C_G5\",\"AG1000G-TZ\",\"arabiensis\",\"Tanzania\",\"TZ-05\",\"Kagera\",\"Sengerema\",\"Muleba\",2015,6],[\"Plate_A_A5\",\"AG1000G-TZ\",\"arabiensis\",\"Tanzania\",\"TZ-05\",\"Kagera\",\"Sengerema\",\"Muleba\",2015,3],[\"T_12s\",\"AG1000G-TZ\",\"arabiensis\",\"Tanzania\",\"TZ-13\",\"Mara\",\"Tarime\",\"Tarime\",2012,8],[\"Plate_C_H1\",\"AG1000G-TZ\",\"arabiensis\",\"Tanzania\",\"TZ-05\",\"Kagera\",\"Sengerema\",\"Muleba\",2015,6],[\"M_704_d\",\"AG1000G-TZ\",\"arabiensis\",\"Tanzania\",\"TZ-26\",\"Manyara\",\"Moshi\",\"Moshi\",2012,8],[\"M_636_d\",\"AG1000G-TZ\",\"arabiensis\",\"Tanzania\",\"TZ-26\",\"Manyara\",\"Moshi\",\"Moshi\",2012,8],[\"Plate_C_F1\",\"AG1000G-TZ\",\"arabiensis\",\"Tanzania\",\"TZ-05\",\"Kagera\",\"Sengerema\",\"Muleba\",2015,6],[\"Plate_D_D8\",\"AG1000G-TZ\",\"arabiensis\",\"Tanzania\",\"TZ-05\",\"Kagera\",\"Sengerema\",\"Muleba\",2015,6],[\"Plate_D_B1\",\"AG1000G-TZ\",\"arabiensis\",\"Tanzania\",\"TZ-05\",\"Kagera\",\"Sengerema\",\"Muleba\",2015,6],[\"M_376_l\",\"AG1000G-TZ\",\"arabiensis\",\"Tanzania\",\"TZ-26\",\"Manyara\",\"Moshi\",\"Moshi\",2012,8],[\"T_27s\",\"AG1000G-TZ\",\"arabiensis\",\"Tanzania\",\"TZ-13\",\"Mara\",\"Tarime\",\"Tarime\",2012,8],[\"M_360_l\",\"AG1000G-TZ\",\"arabiensis\",\"Tanzania\",\"TZ-26\",\"Manyara\",\"Moshi\",\"Moshi\",2012,8],[\"T_49s\",\"AG1000G-TZ\",\"arabiensis\",\"Tanzania\",\"TZ-13\",\"Mara\",\"Tarime\",\"Tarime\",2012,8],[\"T_9s\",\"AG1000G-TZ\",\"arabiensis\",\"Tanzania\",\"TZ-13\",\"Mara\",\"Tarime\",\"Tarime\",2012,8],[\"Plate_E_A2\",\"AG1000G-TZ\",\"arabiensis\",\"Tanzania\",\"TZ-05\",\"Kagera\",\"Sengerema\",\"Muleba\",2015,6],[\"Plate_B_D10\",\"AG1000G-TZ\",\"arabiensis\",\"Tanzania\",\"TZ-05\",\"Kagera\",\"Sengerema\",\"Muleba\",2015,6],[\"M_726_d\",\"AG1000G-TZ\",\"arabiensis\",\"Tanzania\",\"TZ-26\",\"Manyara\",\"Moshi\",\"Moshi\",2012,8],[\"Plate_B_D1\",\"AG1000G-TZ\",\"arabiensis\",\"Tanzania\",\"TZ-05\",\"Kagera\",\"Sengerema\",\"Muleba\",2015,6],[\"Plate_A_G6\",\"AG1000G-TZ\",\"arabiensis\",\"Tanzania\",\"TZ-05\",\"Kagera\",\"Sengerema\",\"Muleba\",2015,4],[\"M_709_d\",\"AG1000G-TZ\",\"arabiensis\",\"Tanzania\",\"TZ-26\",\"Manyara\",\"Moshi\",\"Moshi\",2012,8],[\"Plate_C_B5\",\"AG1000G-TZ\",\"arabiensis\",\"Tanzania\",\"TZ-05\",\"Kagera\",\"Sengerema\",\"Muleba\",2015,6],[\"Plate_D_F8\",\"AG1000G-TZ\",\"arabiensis\",\"Tanzania\",\"TZ-05\",\"Kagera\",\"Sengerema\",\"Muleba\",2015,6],[\"Plate_E_H9\",\"AG1000G-TZ\",\"arabiensis\",\"Tanzania\",\"TZ-05\",\"Kagera\",\"Sengerema\",\"Muleba\",2015,6],[\"Plate_E_A1\",\"AG1000G-TZ\",\"arabiensis\",\"Tanzania\",\"TZ-05\",\"Kagera\",\"Sengerema\",\"Muleba\",2015,6],[\"T_43s\",\"AG1000G-TZ\",\"arabiensis\",\"Tanzania\",\"TZ-13\",\"Mara\",\"Tarime\",\"Tarime\",2012,8],[\"M_748_d\",\"AG1000G-TZ\",\"arabiensis\",\"Tanzania\",\"TZ-26\",\"Manyara\",\"Moshi\",\"Moshi\",2012,8],[\"Plate_B_C4\",\"AG1000G-TZ\",\"arabiensis\",\"Tanzania\",\"TZ-05\",\"Kagera\",\"Sengerema\",\"Muleba\",2015,6],[\"T_3s\",\"AG1000G-TZ\",\"arabiensis\",\"Tanzania\",\"TZ-13\",\"Mara\",\"Tarime\",\"Tarime\",2012,8],[\"Plate_B_D2\",\"AG1000G-TZ\",\"arabiensis\",\"Tanzania\",\"TZ-05\",\"Kagera\",\"Sengerema\",\"Muleba\",2015,6],[\"M_348_l\",\"AG1000G-TZ\",\"arabiensis\",\"Tanzania\",\"TZ-26\",\"Manyara\",\"Moshi\",\"Moshi\",2012,8],[\"Plate_D_G2\",\"AG1000G-TZ\",\"arabiensis\",\"Tanzania\",\"TZ-05\",\"Kagera\",\"Sengerema\",\"Muleba\",2015,6],[\"Plate_B_E10\",\"AG1000G-TZ\",\"arabiensis\",\"Tanzania\",\"TZ-05\",\"Kagera\",\"Sengerema\",\"Muleba\",2015,6],[\"M_720_d\",\"AG1000G-TZ\",\"arabiensis\",\"Tanzania\",\"TZ-26\",\"Manyara\",\"Moshi\",\"Moshi\",2012,8],[\"Plate_D_C2\",\"AG1000G-TZ\",\"arabiensis\",\"Tanzania\",\"TZ-05\",\"Kagera\",\"Sengerema\",\"Muleba\",2015,6],[\"M_715_d\",\"AG1000G-TZ\",\"arabiensis\",\"Tanzania\",\"TZ-26\",\"Manyara\",\"Moshi\",\"Moshi\",2012,8],[\"M_681_d\",\"AG1000G-TZ\",\"arabiensis\",\"Tanzania\",\"TZ-26\",\"Manyara\",\"Moshi\",\"Moshi\",2012,8],[\"Plate_F_G5\",\"AG1000G-TZ\",\"arabiensis\",\"Tanzania\",\"TZ-05\",\"Kagera\",\"Sengerema\",\"Muleba\",2015,3],[\"M_394_l\",\"AG1000G-TZ\",\"arabiensis\",\"Tanzania\",\"TZ-26\",\"Manyara\",\"Moshi\",\"Moshi\",2012,8],[\"T_22s\",\"AG1000G-TZ\",\"arabiensis\",\"Tanzania\",\"TZ-13\",\"Mara\",\"Tarime\",\"Tarime\",2012,8],[\"Plate_C_B1\",\"AG1000G-TZ\",\"arabiensis\",\"Tanzania\",\"TZ-05\",\"Kagera\",\"Sengerema\",\"Muleba\",2015,6],[\"T_1s\",\"AG1000G-TZ\",\"arabiensis\",\"Tanzania\",\"TZ-13\",\"Mara\",\"Tarime\",\"Tarime\",2012,8],[\"T_18s\",\"AG1000G-TZ\",\"arabiensis\",\"Tanzania\",\"TZ-13\",\"Mara\",\"Tarime\",\"Tarime\",2012,8],[\"Plate_B_C1\",\"AG1000G-TZ\",\"arabiensis\",\"Tanzania\",\"TZ-05\",\"Kagera\",\"Sengerema\",\"Muleba\",2015,6],[\"Plate_C_C6\",\"AG1000G-TZ\",\"arabiensis\",\"Tanzania\",\"TZ-05\",\"Kagera\",\"Sengerema\",\"Muleba\",2015,6],[\"Plate_E_E2\",\"AG1000G-TZ\",\"arabiensis\",\"Tanzania\",\"TZ-05\",\"Kagera\",\"Sengerema\",\"Muleba\",2015,6],[\"M_286_l\",\"AG1000G-TZ\",\"arabiensis\",\"Tanzania\",\"TZ-26\",\"Manyara\",\"Moshi\",\"Moshi\",2012,8],[\"Plate_A_D1\",\"AG1000G-TZ\",\"arabiensis\",\"Tanzania\",\"TZ-05\",\"Kagera\",\"Sengerema\",\"Muleba\",2015,3],[\"Plate_E_F8\",\"AG1000G-TZ\",\"arabiensis\",\"Tanzania\",\"TZ-05\",\"Kagera\",\"Sengerema\",\"Muleba\",2015,6],[\"T_4s\",\"AG1000G-TZ\",\"arabiensis\",\"Tanzania\",\"TZ-13\",\"Mara\",\"Tarime\",\"Tarime\",2012,8],[\"Plate_C_D2\",\"AG1000G-TZ\",\"arabiensis\",\"Tanzania\",\"TZ-05\",\"Kagera\",\"Sengerema\",\"Muleba\",2015,6],[\"Plate_B_G1\",\"AG1000G-TZ\",\"arabiensis\",\"Tanzania\",\"TZ-05\",\"Kagera\",\"Sengerema\",\"Muleba\",2015,6],[\"Plate_F_F5\",\"AG1000G-TZ\",\"arabiensis\",\"Tanzania\",\"TZ-05\",\"Kagera\",\"Sengerema\",\"Muleba\",2015,3],[\"M_260_l\",\"AG1000G-TZ\",\"arabiensis\",\"Tanzania\",\"TZ-26\",\"Manyara\",\"Moshi\",\"Moshi\",2012,8],[\"T_19s\",\"AG1000G-TZ\",\"arabiensis\",\"Tanzania\",\"TZ-13\",\"Mara\",\"Tarime\",\"Tarime\",2012,8],[\"Plate_A_G5\",\"AG1000G-TZ\",\"arabiensis\",\"Tanzania\",\"TZ-05\",\"Kagera\",\"Sengerema\",\"Muleba\",2015,3],[\"M_349_l\",\"AG1000G-TZ\",\"arabiensis\",\"Tanzania\",\"TZ-26\",\"Manyara\",\"Moshi\",\"Moshi\",2012,8],[\"T_24s\",\"AG1000G-TZ\",\"arabiensis\",\"Tanzania\",\"TZ-13\",\"Mara\",\"Tarime\",\"Tarime\",2012,8],[\"Plate_A_C2\",\"AG1000G-TZ\",\"arabiensis\",\"Tanzania\",\"TZ-05\",\"Kagera\",\"Sengerema\",\"Muleba\",2015,3],[\"Plate_A_G12\",\"AG1000G-TZ\",\"arabiensis\",\"Tanzania\",\"TZ-05\",\"Kagera\",\"Sengerema\",\"Muleba\",2015,4],[\"Plate_F_A6\",\"AG1000G-TZ\",\"arabiensis\",\"Tanzania\",\"TZ-05\",\"Kagera\",\"Sengerema\",\"Muleba\",2015,3],[\"Plate_E_F3\",\"AG1000G-TZ\",\"arabiensis\",\"Tanzania\",\"TZ-05\",\"Kagera\",\"Sengerema\",\"Muleba\",2015,6],[\"Plate_F_H6\",\"AG1000G-TZ\",\"arabiensis\",\"Tanzania\",\"TZ-05\",\"Kagera\",\"Sengerema\",\"Muleba\",2015,3],[\"Plate_D_A8\",\"AG1000G-TZ\",\"arabiensis\",\"Tanzania\",\"TZ-05\",\"Kagera\",\"Sengerema\",\"Muleba\",2015,6],[\"Plate_F_G6\",\"AG1000G-TZ\",\"arabiensis\",\"Tanzania\",\"TZ-05\",\"Kagera\",\"Sengerema\",\"Muleba\",2015,3],[\"Plate_E_G5\",\"AG1000G-TZ\",\"arabiensis\",\"Tanzania\",\"TZ-05\",\"Kagera\",\"Sengerema\",\"Muleba\",2015,6],[\"Plate_B_C3\",\"AG1000G-TZ\",\"arabiensis\",\"Tanzania\",\"TZ-05\",\"Kagera\",\"Sengerema\",\"Muleba\",2015,6],[\"Plate_B_F4\",\"AG1000G-TZ\",\"arabiensis\",\"Tanzania\",\"TZ-05\",\"Kagera\",\"Sengerema\",\"Muleba\",2015,6],[\"T_47s\",\"AG1000G-TZ\",\"arabiensis\",\"Tanzania\",\"TZ-13\",\"Mara\",\"Tarime\",\"Tarime\",2012,8],[\"Plate_E_A9\",\"AG1000G-TZ\",\"arabiensis\",\"Tanzania\",\"TZ-05\",\"Kagera\",\"Sengerema\",\"Muleba\",2015,6],[\"T_17s\",\"AG1000G-TZ\",\"arabiensis\",\"Tanzania\",\"TZ-13\",\"Mara\",\"Tarime\",\"Tarime\",2012,8],[\"M_757_d\",\"AG1000G-TZ\",\"arabiensis\",\"Tanzania\",\"TZ-26\",\"Manyara\",\"Moshi\",\"Moshi\",2012,8],[\"T_40s\",\"AG1000G-TZ\",\"arabiensis\",\"Tanzania\",\"TZ-13\",\"Mara\",\"Tarime\",\"Tarime\",2012,8],[\"Plate_B_C2\",\"AG1000G-TZ\",\"arabiensis\",\"Tanzania\",\"TZ-05\",\"Kagera\",\"Sengerema\",\"Muleba\",2015,6],[\"T_14s\",\"AG1000G-TZ\",\"arabiensis\",\"Tanzania\",\"TZ-13\",\"Mara\",\"Tarime\",\"Tarime\",2012,8],[\"Plate_F_D4\",\"AG1000G-TZ\",\"arabiensis\",\"Tanzania\",\"TZ-05\",\"Kagera\",\"Sengerema\",\"Muleba\",2015,3],[\"Plate_A_F1\",\"AG1000G-TZ\",\"arabiensis\",\"Tanzania\",\"TZ-05\",\"Kagera\",\"Sengerema\",\"Muleba\",2015,3],[\"T_20s\",\"AG1000G-TZ\",\"arabiensis\",\"Tanzania\",\"TZ-13\",\"Mara\",\"Tarime\",\"Tarime\",2012,8],[\"Plate_A_C6\",\"AG1000G-TZ\",\"arabiensis\",\"Tanzania\",\"TZ-05\",\"Kagera\",\"Sengerema\",\"Muleba\",2015,4],[\"T_21s\",\"AG1000G-TZ\",\"arabiensis\",\"Tanzania\",\"TZ-13\",\"Mara\",\"Tarime\",\"Tarime\",2012,8],[\"Plate_E_D2\",\"AG1000G-TZ\",\"arabiensis\",\"Tanzania\",\"TZ-05\",\"Kagera\",\"Sengerema\",\"Muleba\",2015,6],[\"M_261_l\",\"AG1000G-TZ\",\"arabiensis\",\"Tanzania\",\"TZ-26\",\"Manyara\",\"Moshi\",\"Moshi\",2012,8],[\"Plate_E_B2\",\"AG1000G-TZ\",\"arabiensis\",\"Tanzania\",\"TZ-05\",\"Kagera\",\"Sengerema\",\"Muleba\",2015,6],[\"M_691_d\",\"AG1000G-TZ\",\"arabiensis\",\"Tanzania\",\"TZ-26\",\"Manyara\",\"Moshi\",\"Moshi\",2012,8],[\"T_26s\",\"AG1000G-TZ\",\"arabiensis\",\"Tanzania\",\"TZ-13\",\"Mara\",\"Tarime\",\"Tarime\",2012,8],[\"Plate_A_E5\",\"AG1000G-TZ\",\"arabiensis\",\"Tanzania\",\"TZ-05\",\"Kagera\",\"Sengerema\",\"Muleba\",2015,3],[\"Plate_D_E6\",\"AG1000G-TZ\",\"arabiensis\",\"Tanzania\",\"TZ-05\",\"Kagera\",\"Sengerema\",\"Muleba\",2015,6],[\"T_6s\",\"AG1000G-TZ\",\"arabiensis\",\"Tanzania\",\"TZ-13\",\"Mara\",\"Tarime\",\"Tarime\",2012,8],[\"T_23s\",\"AG1000G-TZ\",\"arabiensis\",\"Tanzania\",\"TZ-13\",\"Mara\",\"Tarime\",\"Tarime\",2012,8],[\"Plate_B_B1\",\"AG1000G-TZ\",\"arabiensis\",\"Tanzania\",\"TZ-05\",\"Kagera\",\"Sengerema\",\"Muleba\",2015,6],[\"M_330_l\",\"AG1000G-TZ\",\"arabiensis\",\"Tanzania\",\"TZ-26\",\"Manyara\",\"Moshi\",\"Moshi\",2012,8],[\"T_28s\",\"AG1000G-TZ\",\"arabiensis\",\"Tanzania\",\"TZ-13\",\"Mara\",\"Tarime\",\"Tarime\",2012,8],[\"Plate_D_A1\",\"AG1000G-TZ\",\"arabiensis\",\"Tanzania\",\"TZ-05\",\"Kagera\",\"Sengerema\",\"Muleba\",2015,6],[\"Plate_E_E5\",\"AG1000G-TZ\",\"arabiensis\",\"Tanzania\",\"TZ-05\",\"Kagera\",\"Sengerema\",\"Muleba\",2015,6],[\"Plate_D_F1\",\"AG1000G-TZ\",\"arabiensis\",\"Tanzania\",\"TZ-05\",\"Kagera\",\"Sengerema\",\"Muleba\",2015,6],[\"Plate_C_G1\",\"AG1000G-TZ\",\"arabiensis\",\"Tanzania\",\"TZ-05\",\"Kagera\",\"Sengerema\",\"Muleba\",2015,6],[\"Plate_F_F6\",\"AG1000G-TZ\",\"arabiensis\",\"Tanzania\",\"TZ-05\",\"Kagera\",\"Sengerema\",\"Muleba\",2015,3],[\"M_650_d\",\"AG1000G-TZ\",\"arabiensis\",\"Tanzania\",\"TZ-26\",\"Manyara\",\"Moshi\",\"Moshi\",2012,8],[\"Plate_B_C10\",\"AG1000G-TZ\",\"arabiensis\",\"Tanzania\",\"TZ-05\",\"Kagera\",\"Sengerema\",\"Muleba\",2015,6],[\"M_381_l\",\"AG1000G-TZ\",\"arabiensis\",\"Tanzania\",\"TZ-26\",\"Manyara\",\"Moshi\",\"Moshi\",2012,8],[\"Plate_E_C2\",\"AG1000G-TZ\",\"arabiensis\",\"Tanzania\",\"TZ-05\",\"Kagera\",\"Sengerema\",\"Muleba\",2015,6],[\"Plate_B_D4\",\"AG1000G-TZ\",\"arabiensis\",\"Tanzania\",\"TZ-05\",\"Kagera\",\"Sengerema\",\"Muleba\",2015,6],[\"Plate_A_E1\",\"AG1000G-TZ\",\"arabiensis\",\"Tanzania\",\"TZ-05\",\"Kagera\",\"Sengerema\",\"Muleba\",2015,3],[\"T_44s\",\"AG1000G-TZ\",\"arabiensis\",\"Tanzania\",\"TZ-13\",\"Mara\",\"Tarime\",\"Tarime\",2012,8],[\"Plate_C_C2\",\"AG1000G-TZ\",\"arabiensis\",\"Tanzania\",\"TZ-05\",\"Kagera\",\"Sengerema\",\"Muleba\",2015,6]],\"hovertemplate\":\"<b>%{hovertext}</b><br><br>country=%{customdata[3]}<br>PC1=%{x}<br>PC2=%{y}<br>partner_sample_id=%{customdata[0]}<br>sample_set=%{customdata[1]}<br>taxon=%{customdata[2]}<br>admin1_iso=%{customdata[4]}<br>admin1_name=%{customdata[5]}<br>admin2_name=%{customdata[6]}<br>location=%{customdata[7]}<br>year=%{customdata[8]}<br>month=%{customdata[9]}<extra></extra>\",\"hovertext\":[\"BL0126-C\",\"BL0257-C\",\"BL0151-C\",\"BL0320-C\",\"BL0303-C\",\"BL0198-C\",\"BL0266-C\",\"BL0324-C\",\"BL0153-C\",\"BL0087-C\",\"BL0271-C\",\"BL0297-C\",\"BL0202-C\",\"BL0253-C\",\"BL0216-C\",\"BL0252-C\",\"BL0060-C\",\"BL0261-C\",\"BL0308-C\",\"BL0081-C\",\"BL0235-C\",\"BL0325-C\",\"BL0345-C\",\"BL0276-C\",\"BL0092-C\",\"BL0222-C\",\"BL0166-C\",\"BL0183-C\",\"BL0291-C\",\"BL0083-C\",\"BL0300-C\",\"BL0302-C\",\"BL0072-C\",\"BL0230-C\",\"BL0070-C\",\"BL0229-C\",\"BL0177-C\",\"BL0090-C\",\"BL0187-C\",\"BL0340-C\",\"BL0099-C\",\"BL0163-C\",\"BL0328-C\",\"BL0170-C\",\"BL0327-C\",\"BL0228-C\",\"BL0094-C\",\"BL0334-C\",\"BL0285-C\",\"BL0149-C\",\"BL0251-C\",\"BL0310-C\",\"BL0071-C\",\"BL0136-C\",\"BL0165-C\",\"BL0217-C\",\"BL0146-C\",\"BL0332-C\",\"BL0085-C\",\"BL0247-C\",\"BL0280-C\",\"BL0194-C\",\"BL0223-C\",\"BL0118-C\",\"BL0189-C\",\"BL0048-C\",\"BL0326-C\",\"BL0272-C\",\"BL0185-C\",\"BL0152-C\",\"BL0050-C\",\"BL0337-C\",\"BL0282-C\",\"BL0231-C\",\"BL0333-C\",\"BL0086-C\",\"BL0263-C\",\"BL0224-C\",\"BL0305-C\",\"BL0213-C\",\"BL0239-C\",\"BL0210-C\",\"BL0232-C\",\"BL0211-C\",\"BL0373-C\",\"BL0073-C\",\"BL0215-C\",\"BL0205-C\",\"BL0084-C\",\"BL0214-C\",\"BL0155-C\",\"BL0169-C\",\"BL0197-C\",\"BL0221-C\",\"BL0156-C\",\"BL0234-C\",\"BL0288-C\",\"BL0082-C\",\"BL0127-C\",\"BL0290-C\",\"BL0260-C\",\"BL0311-C\",\"BL0157-C\",\"BL0336-C\",\"BL0218-C\",\"BL0049-C\",\"BL0168-C\",\"BL0236-C\",\"BL0069-C\",\"BL0178-C\",\"BL0093-C\",\"BL0233-C\",\"BL0273-C\",\"BL0148-C\",\"BL0196-C\",\"BL0192-C\",\"BL0343-C\",\"BL0306-C\",\"BL0238-C\",\"BL0145-C\",\"BL0341-C\",\"BL0150-C\",\"BL0182-C\",\"BL0307-C\",\"BL0201-C\",\"BL0281-C\",\"BL0275-C\",\"BL0199-C\",\"BL0061-C\",\"BL0159-C\",\"BL0255-C\",\"BL0322-C\",\"BL0259-C\",\"BL0344-C\",\"BL0304-C\",\"BL0240-C\",\"BL0226-C\",\"BL0284-C\",\"BL0173-C\",\"BL0193-C\",\"BL0278-C\",\"BL0147-C\",\"BL0062-C\",\"BL0141-C\",\"BL0129-C\",\"BL0338-C\",\"BL0294-C\",\"BL0074-C\",\"BL0298-C\",\"BL0068-C\",\"BL0254-C\",\"BL0167-C\",\"BL0227-C\",\"BL0286-C\",\"BL0164-C\",\"BL0292-C\",\"BL0287-C\",\"BL0089-C\",\"BL0258-C\",\"BL0317-C\",\"BL0195-C\",\"BL0296-C\",\"BL0313-C\",\"BL0172-C\",\"BL0154-C\",\"BL0244-C\",\"BL0269-C\",\"BL0207-C\",\"BL0139-C\",\"BL0299-C\",\"BL0204-C\",\"BL0176-C\",\"BL0088-C\",\"BL0264-C\",\"BL0314-C\",\"BL0186-C\",\"BL0256-C\",\"BL0319-C\",\"BL0212-C\",\"BL0113-C\",\"BL0091-C\",\"BL0131-C\",\"BL0097-C\",\"BL0059-C\",\"BL0096-C\",\"BL0135-C\",\"BL0180-C\",\"BL0076-C\",\"BL0342-C\",\"BL0140-C\",\"BL0312-C\",\"BL0293-C\",\"BL0335-C\",\"BL0067-C\",\"BL0309-C\",\"BL0047-C\",\"BL0209-C\",\"BL0315-C\",\"BL0190-C\",\"BL0316-C\",\"BL0243-C\",\"BL0267-C\",\"BL0241-C\",\"BL0283-C\",\"BL0321-C\",\"BL0184-C\",\"BL0055-C\",\"BL0301-C\",\"BL0318-C\",\"BL0171-C\",\"BL0246-C\",\"BL0323-C\",\"BL0158-C\",\"BL0133-C\",\"BL0161-C\",\"BL0200-C\",\"BL0095-C\",\"BL0277-C\",\"BL0225-C\",\"BL0250-CW\",\"BL0242-C\",\"BL0075-C\",\"BL0208-C\",\"BL0339-C\",\"BL0203-C\"],\"legendgroup\":\"Tanzania\",\"marker\":{\"color\":\"#FF7F0E\",\"opacity\":0.9,\"symbol\":\"circle\",\"size\":10},\"mode\":\"markers\",\"name\":\"Tanzania\",\"orientation\":\"v\",\"showlegend\":true,\"x\":[-15.145663803170109,-29.532717092235153,-24.082653605810805,-29.374381646664297,-26.445563110672122,-21.1759824813133,-28.981303980829164,-20.644384204553273,-21.93031076716449,-20.741767924214965,-28.970848347849813,-25.822917537802418,-19.82335878223536,-33.06633645038854,-28.985771718133662,-33.495683817497294,-16.40493001618324,-29.54287295870382,-30.586531170551993,-24.514792690106194,-20.177492781897183,-24.097182182985073,-22.605243895082193,-28.208903686416075,-27.813491808137503,-21.56300565368916,-23.76249312458855,-13.7916798566786,-28.224500288804347,-23.341604612250247,-28.051200317327368,-30.15345704191616,-24.134110212020424,-17.282826607381068,-24.625349952741388,-16.680752886343637,-22.189826738709133,-20.68088320692484,-19.334343783720712,-24.118535260839472,-20.751265359439486,-21.72730123990407,-10.770870027780802,-17.067681250372956,-23.87895806038349,-25.82583261881297,-29.083423646724025,-23.876993127567765,-38.03669111685588,-31.164557608267096,-27.05750794088587,-31.062173121910067,-24.949110826211257,-28.47248936470857,-17.758217010650714,-23.85621697089247,-30.87004763266445,-25.937580547371844,-25.67932713140815,-27.896373439102078,-30.118650227521773,-32.40969014748982,-23.02228812784095,-27.90124220784291,-26.360904653578206,-20.03309876232612,-26.379600941798277,-28.764097893754332,-16.554458777045326,-17.183448413502234,-23.296665076868344,-16.34857477677871,-28.986401209625665,-22.98924147485719,-21.10112463874267,-21.889492842940594,-28.74875674856931,-21.82884416630159,-23.26908096307014,-28.390511811239502,-30.459705904976232,-27.255442374422252,-28.36974088566236,-21.16652391874505,-34.271873548952755,-27.297237181283663,-25.322999912743764,-22.547520789369567,-19.919462705249586,-22.923571386533308,-26.807771308206277,-16.816435074109098,-29.495430665699715,-16.30922307271165,-18.357693163152256,-28.29462825813687,-25.039370215136593,-19.741365174902995,-22.964595951680792,-35.32154875425208,-24.7419127537515,-22.60308756670524,-21.125637050366237,-25.294842737961332,-27.46353405433393,-22.211042311721904,-18.060326343461703,-27.59430443813629,-23.080741550149984,-7.186360024394256,-28.819284429132903,-31.599914139610018,-30.179265971726036,-17.210334275230036,-18.247704368724175,-18.180280745359337,-25.44219459870596,-20.3015739311868,-23.803437508809527,-34.473374098268266,-26.454648484526924,-28.823161257143983,-25.405644292043256,-21.323728054522352,-44.82539929116436,-27.380264010711645,-25.343390556883456,-26.05499774575732,-21.524572495409867,-24.511224333096944,-28.980166949651778,-26.719671800558597,-27.479167384764324,-23.792382887947394,-28.115985998685538,-28.622684216599644,-28.968174995689665,-30.086083083756275,-31.59647598802261,-23.67517406186597,-31.730123498331846,-17.5951690456532,-14.17558867898905,-24.305114197393365,-27.059784707739627,-24.98263586301666,-32.29606099742141,-28.708481852261055,-27.639998475469298,-10.646645792178557,-36.50465246761397,-25.475288439132072,-22.932818613864043,-30.114074755993244,-28.052830014171935,-29.856968457080317,-25.96382678976213,-25.94510789913599,-30.3265706573442,-22.320791964040573,-16.989992817447614,-26.721309413939053,-22.767191723425668,-24.74705014539979,-19.032714193319578,-26.915784608897415,-36.64855528620983,-24.129774405323698,-16.49297363026369,-23.518008891066195,-36.529385045182174,-27.099655058301746,-26.32272100899977,-28.539952728252278,-18.44222855147401,-16.37919880105952,-26.909371470671967,-28.265048420169805,-17.36898054496955,-30.328168817404528,-31.44504509247855,-20.97347901468707,-15.934746283745106,-27.707829675050718,-26.5094373500896,-17.96010637543494,-27.373903637276346,-26.244432184220955,-26.4739833221116,-25.585206926804364,-22.739611181138347,-25.71787249326723,-19.765785983353716,-21.274289479934197,-24.84504990841107,-26.95131238195697,-18.26064515233163,-21.353886626833923,-14.119344001757899,-16.708945427646594,-29.73324396806163,-29.369439313299157,-22.65105823720299,-34.50430701799644,-17.159557895945344,-18.13232801922484,-23.769999396215535,-27.104523766982478,-18.303187545584446,-27.66462426150946,-26.744963389290135,-25.660184239911473,-24.22560957748876,-22.54501683717621,-29.832159634211802,-28.46285840335804,-28.814443847508947,-30.58282825502243,-15.148038517291136,-24.869996294433783,-23.767050004052717,-26.49402740257936,-20.240453703467338,-16.20808912365849,-23.141380697254398],\"xaxis\":\"x\",\"y\":[21.91859718257738,-0.11278541962817945,11.506492429187904,-11.869633558115645,5.050890583662563,-15.724880659994714,-12.440544591551644,17.715328132863387,10.789014178627312,-11.284147165088955,-19.5880517975518,-12.853107268612066,0.9813997897971465,-23.74640026332097,16.293064096515373,-13.721472404152289,19.37137415418953,-17.822581891665706,-1.803642563562855,-6.231157068000719,9.70223435161936,7.0409537073375565,2.351115453975983,-7.097313507068509,16.995979480515622,11.893640223538073,-7.044316619972657,-8.399909465572481,-5.257303673226959,4.204131834516825,2.679562181932986,-13.706870213654948,-9.985329351523077,10.572097840898124,-6.357042108208272,-4.861233869924527,-7.566149432091054,-2.5395749707516075,25.95718189916749,-7.682651820075366,-10.475921720149469,-5.3998398706381145,11.741654678189061,-18.97916457718266,-13.686354169898202,19.78801262671158,3.564030027878151,-12.20054501487004,-15.554521658227912,-23.34085799247837,-3.9423147139525705,-4.922977903048511,-16.489159210664212,-4.716038025465867,7.591830102249899,16.51112414837597,-10.113966409401748,-1.161614081349744,4.869865546815711,-21.354659132553405,-21.510710205067213,-24.865621976340844,6.95260565710746,6.737905910530688,-15.230185905498015,-3.071210707237102,2.6937677612708946,-10.194322184789018,9.411884696241156,3.0126496123674746,96.71793913994009,11.865301808594207,-16.295133291688696,-11.689620640780081,-10.346461106889029,-1.8595536059067026,-14.237359990256703,-12.901440065968078,-3.3894507304447314,2.0241245455133576,-3.358133759212114,18.451538499122726,-11.823746810920792,-5.466476136460373,-9.099255164436839,-12.923247234872655,-12.796827119579357,10.360998661843965,-8.956506090519417,-13.325739367496361,-9.695056220950121,3.3705553347855064,-5.515058828556196,-4.333336128569235,-3.1670650562211677,2.1550503589694836,-9.533242446262946,6.418316923765835,4.1454342912307975,-7.36481068205775,-8.178398620123184,-3.7657976053438835,7.995452829158207,0.034872014328434495,-20.174025415674475,7.088309544969063,2.9097761858736044,-5.773947989820849,17.37614876055424,-12.426703189870508,-2.5687767202103795,21.441344989193396,-11.760970782064174,14.074746897371787,-4.14641788388214,13.530814199751845,-5.500241026522649,-6.263795560036049,-14.35490685113956,-8.062574147611759,-2.1988182948932913,26.136341695147674,-0.05401126406601531,5.096061207229295,-16.556357692846923,-10.009972250610236,-19.97090473587165,-22.721637370101394,-6.940183144097625,-0.28706946261152044,-18.19229045825213,-12.279848050174259,-28.05225059600725,5.114306038633272,5.406166461840188,8.016498662272651,-5.866569163156828,-14.79342884469645,18.81657495029662,-4.487084320055747,-18.346520210723725,2.096052841342698,-7.31277209998121,-6.820195971144476,-27.383806328351927,389.49479474160523,-14.820170176339538,-0.05007160223504581,-6.862016815521132,8.475335970464052,-9.94344182160102,12.714034149299215,1.8827084247711037,-4.899105385703256,-15.286246158264529,-34.90786005307934,3.9493453004977077,-17.450958244912748,-7.925607866171013,12.516879804505225,9.361280856921022,2.4845925999629532,-10.315991179874489,3.156674334272475,20.94724372092707,-17.806322974680842,-8.980263272265933,-14.986676323541381,6.341997324332848,11.558387797768797,-47.6282027596591,-7.28925151814933,-13.273820398251729,-18.383407949629998,-13.118908573700793,4.598873067017065,-7.571939348941083,-4.777087178338803,9.071237890915647,3.0538875086712824,7.850364630433956,-8.229849328267914,25.147757323636633,-6.032153844430493,-10.094388948091252,7.765317432637037,-10.28972237579804,-10.569819967793533,-8.477352241444011,-5.695450706943416,12.988700095813122,-17.06236007285008,-5.764618376982378,2.693338177623033,1.499231538153328,72.70713575533843,18.776549329181332,0.1533659992290426,-19.016638416641193,-4.128239945905687,-6.166125440962919,-5.2408949189890315,-1.1350408439837558,-13.1924156956167,4.75181716851663,0.7035184232652636,14.083894727930446,-1.4355219666575967,3.3435340678570498,-5.206367905911431,-16.54442058347216,404.3943775545253,-5.11086857487918,1.171235260150239,-15.03305304286706,-2.8866055220817017,-8.586743129478128,-0.12807762448889903,0.9551149736415755,-7.761911112039229,8.181950597316355,5.2508389760542284,-7.613789532627198,-11.417855823843869,-6.4962163387902585],\"yaxis\":\"y\",\"type\":\"scatter\"},{\"customdata\":[[\"KIL48\",\"AG1000G-KE\",\"arabiensis\",\"Kenya\",\"KE-14\",\"Kilifi\",\"Kilifi\",\"Kilifi\",2012,-1],[\"KIL43\",\"AG1000G-KE\",\"arabiensis\",\"Kenya\",\"KE-14\",\"Kilifi\",\"Kilifi\",\"Kilifi\",2012,-1],[\"GF989\",\"AG1000G-KE\",\"arabiensis\",\"Kenya\",\"KE-14\",\"Kilifi\",\"Kilifi\",\"Kilifi\",2007,-1],[\"KIL54\",\"AG1000G-KE\",\"arabiensis\",\"Kenya\",\"KE-14\",\"Kilifi\",\"Kilifi\",\"Kilifi\",2012,-1],[\"KIL36\",\"AG1000G-KE\",\"arabiensis\",\"Kenya\",\"KE-14\",\"Kilifi\",\"Kilifi\",\"Kilifi\",2012,-1],[\"GF1014\",\"AG1000G-KE\",\"arabiensis\",\"Kenya\",\"KE-14\",\"Kilifi\",\"Kilifi\",\"Kilifi\",2007,-1],[\"KIL52\",\"AG1000G-KE\",\"arabiensis\",\"Kenya\",\"KE-14\",\"Kilifi\",\"Kilifi\",\"Kilifi\",2012,-1],[\"GF1013\",\"AG1000G-KE\",\"arabiensis\",\"Kenya\",\"KE-14\",\"Kilifi\",\"Kilifi\",\"Kilifi\",2007,-1],[\"KIL35\",\"AG1000G-KE\",\"arabiensis\",\"Kenya\",\"KE-14\",\"Kilifi\",\"Kilifi\",\"Kilifi\",2012,-1],[\"KIL55\",\"AG1000G-KE\",\"arabiensis\",\"Kenya\",\"KE-14\",\"Kilifi\",\"Kilifi\",\"Kilifi\",2012,-1],[\"KIL53\",\"AG1000G-KE\",\"arabiensis\",\"Kenya\",\"KE-14\",\"Kilifi\",\"Kilifi\",\"Kilifi\",2012,-1],[\"KIL44\",\"AG1000G-KE\",\"arabiensis\",\"Kenya\",\"KE-14\",\"Kilifi\",\"Kilifi\",\"Kilifi\",2012,-1],[\"KIL46\",\"AG1000G-KE\",\"arabiensis\",\"Kenya\",\"KE-14\",\"Kilifi\",\"Kilifi\",\"Kilifi\",2012,-1]],\"hovertemplate\":\"<b>%{hovertext}</b><br><br>country=%{customdata[3]}<br>PC1=%{x}<br>PC2=%{y}<br>partner_sample_id=%{customdata[0]}<br>sample_set=%{customdata[1]}<br>taxon=%{customdata[2]}<br>admin1_iso=%{customdata[4]}<br>admin1_name=%{customdata[5]}<br>admin2_name=%{customdata[6]}<br>location=%{customdata[7]}<br>year=%{customdata[8]}<br>month=%{customdata[9]}<extra></extra>\",\"hovertext\":[\"AK0057-Cx\",\"AK0054-C\",\"AK0284-C\",\"AK0043-C\",\"AK0047-C\",\"AK0299-C\",\"AK0041-C\",\"AK0298-C\",\"AK0046-C\",\"AK0044-C\",\"AK0042-C\",\"AK0055-C\",\"AK0056-C\"],\"legendgroup\":\"Kenya\",\"marker\":{\"color\":\"#2CA02C\",\"opacity\":0.9,\"symbol\":\"circle\",\"size\":10},\"mode\":\"markers\",\"name\":\"Kenya\",\"orientation\":\"v\",\"showlegend\":true,\"x\":[-25.582433926536023,-28.456909528350327,-24.16698784620593,-32.92048373585938,-29.96618910230771,-26.94192293344395,-27.544329147070584,-24.847961038070906,-33.819753748930474,-35.00435835667936,-34.476674741076145,-28.832100710696213,-28.641884365799395],\"xaxis\":\"x\",\"y\":[-19.27143511933214,-21.829433762726175,-15.694429917152897,-20.22312253004377,-11.657014762426213,2.5815025918490413,-6.2429757334360865,-2.761836491146026,-6.4180710500775255,-15.249008758472463,-30.154637595810286,-2.0983397067146417,-1.37670358595647],\"yaxis\":\"y\",\"type\":\"scatter\"}],                        {\"template\":{\"data\":{\"barpolar\":[{\"marker\":{\"line\":{\"color\":\"white\",\"width\":0.5},\"pattern\":{\"fillmode\":\"overlay\",\"size\":10,\"solidity\":0.2}},\"type\":\"barpolar\"}],\"bar\":[{\"error_x\":{\"color\":\"rgb(36,36,36)\"},\"error_y\":{\"color\":\"rgb(36,36,36)\"},\"marker\":{\"line\":{\"color\":\"white\",\"width\":0.5},\"pattern\":{\"fillmode\":\"overlay\",\"size\":10,\"solidity\":0.2}},\"type\":\"bar\"}],\"carpet\":[{\"aaxis\":{\"endlinecolor\":\"rgb(36,36,36)\",\"gridcolor\":\"white\",\"linecolor\":\"white\",\"minorgridcolor\":\"white\",\"startlinecolor\":\"rgb(36,36,36)\"},\"baxis\":{\"endlinecolor\":\"rgb(36,36,36)\",\"gridcolor\":\"white\",\"linecolor\":\"white\",\"minorgridcolor\":\"white\",\"startlinecolor\":\"rgb(36,36,36)\"},\"type\":\"carpet\"}],\"choropleth\":[{\"colorbar\":{\"outlinewidth\":1,\"tickcolor\":\"rgb(36,36,36)\",\"ticks\":\"outside\"},\"type\":\"choropleth\"}],\"contourcarpet\":[{\"colorbar\":{\"outlinewidth\":1,\"tickcolor\":\"rgb(36,36,36)\",\"ticks\":\"outside\"},\"type\":\"contourcarpet\"}],\"contour\":[{\"colorbar\":{\"outlinewidth\":1,\"tickcolor\":\"rgb(36,36,36)\",\"ticks\":\"outside\"},\"colorscale\":[[0.0,\"#440154\"],[0.1111111111111111,\"#482878\"],[0.2222222222222222,\"#3e4989\"],[0.3333333333333333,\"#31688e\"],[0.4444444444444444,\"#26828e\"],[0.5555555555555556,\"#1f9e89\"],[0.6666666666666666,\"#35b779\"],[0.7777777777777778,\"#6ece58\"],[0.8888888888888888,\"#b5de2b\"],[1.0,\"#fde725\"]],\"type\":\"contour\"}],\"heatmapgl\":[{\"colorbar\":{\"outlinewidth\":1,\"tickcolor\":\"rgb(36,36,36)\",\"ticks\":\"outside\"},\"colorscale\":[[0.0,\"#440154\"],[0.1111111111111111,\"#482878\"],[0.2222222222222222,\"#3e4989\"],[0.3333333333333333,\"#31688e\"],[0.4444444444444444,\"#26828e\"],[0.5555555555555556,\"#1f9e89\"],[0.6666666666666666,\"#35b779\"],[0.7777777777777778,\"#6ece58\"],[0.8888888888888888,\"#b5de2b\"],[1.0,\"#fde725\"]],\"type\":\"heatmapgl\"}],\"heatmap\":[{\"colorbar\":{\"outlinewidth\":1,\"tickcolor\":\"rgb(36,36,36)\",\"ticks\":\"outside\"},\"colorscale\":[[0.0,\"#440154\"],[0.1111111111111111,\"#482878\"],[0.2222222222222222,\"#3e4989\"],[0.3333333333333333,\"#31688e\"],[0.4444444444444444,\"#26828e\"],[0.5555555555555556,\"#1f9e89\"],[0.6666666666666666,\"#35b779\"],[0.7777777777777778,\"#6ece58\"],[0.8888888888888888,\"#b5de2b\"],[1.0,\"#fde725\"]],\"type\":\"heatmap\"}],\"histogram2dcontour\":[{\"colorbar\":{\"outlinewidth\":1,\"tickcolor\":\"rgb(36,36,36)\",\"ticks\":\"outside\"},\"colorscale\":[[0.0,\"#440154\"],[0.1111111111111111,\"#482878\"],[0.2222222222222222,\"#3e4989\"],[0.3333333333333333,\"#31688e\"],[0.4444444444444444,\"#26828e\"],[0.5555555555555556,\"#1f9e89\"],[0.6666666666666666,\"#35b779\"],[0.7777777777777778,\"#6ece58\"],[0.8888888888888888,\"#b5de2b\"],[1.0,\"#fde725\"]],\"type\":\"histogram2dcontour\"}],\"histogram2d\":[{\"colorbar\":{\"outlinewidth\":1,\"tickcolor\":\"rgb(36,36,36)\",\"ticks\":\"outside\"},\"colorscale\":[[0.0,\"#440154\"],[0.1111111111111111,\"#482878\"],[0.2222222222222222,\"#3e4989\"],[0.3333333333333333,\"#31688e\"],[0.4444444444444444,\"#26828e\"],[0.5555555555555556,\"#1f9e89\"],[0.6666666666666666,\"#35b779\"],[0.7777777777777778,\"#6ece58\"],[0.8888888888888888,\"#b5de2b\"],[1.0,\"#fde725\"]],\"type\":\"histogram2d\"}],\"histogram\":[{\"marker\":{\"line\":{\"color\":\"white\",\"width\":0.6}},\"type\":\"histogram\"}],\"mesh3d\":[{\"colorbar\":{\"outlinewidth\":1,\"tickcolor\":\"rgb(36,36,36)\",\"ticks\":\"outside\"},\"type\":\"mesh3d\"}],\"parcoords\":[{\"line\":{\"colorbar\":{\"outlinewidth\":1,\"tickcolor\":\"rgb(36,36,36)\",\"ticks\":\"outside\"}},\"type\":\"parcoords\"}],\"pie\":[{\"automargin\":true,\"type\":\"pie\"}],\"scatter3d\":[{\"line\":{\"colorbar\":{\"outlinewidth\":1,\"tickcolor\":\"rgb(36,36,36)\",\"ticks\":\"outside\"}},\"marker\":{\"colorbar\":{\"outlinewidth\":1,\"tickcolor\":\"rgb(36,36,36)\",\"ticks\":\"outside\"}},\"type\":\"scatter3d\"}],\"scattercarpet\":[{\"marker\":{\"colorbar\":{\"outlinewidth\":1,\"tickcolor\":\"rgb(36,36,36)\",\"ticks\":\"outside\"}},\"type\":\"scattercarpet\"}],\"scattergeo\":[{\"marker\":{\"colorbar\":{\"outlinewidth\":1,\"tickcolor\":\"rgb(36,36,36)\",\"ticks\":\"outside\"}},\"type\":\"scattergeo\"}],\"scattergl\":[{\"marker\":{\"colorbar\":{\"outlinewidth\":1,\"tickcolor\":\"rgb(36,36,36)\",\"ticks\":\"outside\"}},\"type\":\"scattergl\"}],\"scattermapbox\":[{\"marker\":{\"colorbar\":{\"outlinewidth\":1,\"tickcolor\":\"rgb(36,36,36)\",\"ticks\":\"outside\"}},\"type\":\"scattermapbox\"}],\"scatterpolargl\":[{\"marker\":{\"colorbar\":{\"outlinewidth\":1,\"tickcolor\":\"rgb(36,36,36)\",\"ticks\":\"outside\"}},\"type\":\"scatterpolargl\"}],\"scatterpolar\":[{\"marker\":{\"colorbar\":{\"outlinewidth\":1,\"tickcolor\":\"rgb(36,36,36)\",\"ticks\":\"outside\"}},\"type\":\"scatterpolar\"}],\"scatter\":[{\"marker\":{\"colorbar\":{\"outlinewidth\":1,\"tickcolor\":\"rgb(36,36,36)\",\"ticks\":\"outside\"}},\"type\":\"scatter\"}],\"scatterternary\":[{\"marker\":{\"colorbar\":{\"outlinewidth\":1,\"tickcolor\":\"rgb(36,36,36)\",\"ticks\":\"outside\"}},\"type\":\"scatterternary\"}],\"surface\":[{\"colorbar\":{\"outlinewidth\":1,\"tickcolor\":\"rgb(36,36,36)\",\"ticks\":\"outside\"},\"colorscale\":[[0.0,\"#440154\"],[0.1111111111111111,\"#482878\"],[0.2222222222222222,\"#3e4989\"],[0.3333333333333333,\"#31688e\"],[0.4444444444444444,\"#26828e\"],[0.5555555555555556,\"#1f9e89\"],[0.6666666666666666,\"#35b779\"],[0.7777777777777778,\"#6ece58\"],[0.8888888888888888,\"#b5de2b\"],[1.0,\"#fde725\"]],\"type\":\"surface\"}],\"table\":[{\"cells\":{\"fill\":{\"color\":\"rgb(237,237,237)\"},\"line\":{\"color\":\"white\"}},\"header\":{\"fill\":{\"color\":\"rgb(217,217,217)\"},\"line\":{\"color\":\"white\"}},\"type\":\"table\"}]},\"layout\":{\"annotationdefaults\":{\"arrowhead\":0,\"arrowwidth\":1},\"autotypenumbers\":\"strict\",\"coloraxis\":{\"colorbar\":{\"outlinewidth\":1,\"tickcolor\":\"rgb(36,36,36)\",\"ticks\":\"outside\"}},\"colorscale\":{\"diverging\":[[0.0,\"rgb(103,0,31)\"],[0.1,\"rgb(178,24,43)\"],[0.2,\"rgb(214,96,77)\"],[0.3,\"rgb(244,165,130)\"],[0.4,\"rgb(253,219,199)\"],[0.5,\"rgb(247,247,247)\"],[0.6,\"rgb(209,229,240)\"],[0.7,\"rgb(146,197,222)\"],[0.8,\"rgb(67,147,195)\"],[0.9,\"rgb(33,102,172)\"],[1.0,\"rgb(5,48,97)\"]],\"sequential\":[[0.0,\"#440154\"],[0.1111111111111111,\"#482878\"],[0.2222222222222222,\"#3e4989\"],[0.3333333333333333,\"#31688e\"],[0.4444444444444444,\"#26828e\"],[0.5555555555555556,\"#1f9e89\"],[0.6666666666666666,\"#35b779\"],[0.7777777777777778,\"#6ece58\"],[0.8888888888888888,\"#b5de2b\"],[1.0,\"#fde725\"]],\"sequentialminus\":[[0.0,\"#440154\"],[0.1111111111111111,\"#482878\"],[0.2222222222222222,\"#3e4989\"],[0.3333333333333333,\"#31688e\"],[0.4444444444444444,\"#26828e\"],[0.5555555555555556,\"#1f9e89\"],[0.6666666666666666,\"#35b779\"],[0.7777777777777778,\"#6ece58\"],[0.8888888888888888,\"#b5de2b\"],[1.0,\"#fde725\"]]},\"colorway\":[\"#1F77B4\",\"#FF7F0E\",\"#2CA02C\",\"#D62728\",\"#9467BD\",\"#8C564B\",\"#E377C2\",\"#7F7F7F\",\"#BCBD22\",\"#17BECF\"],\"font\":{\"color\":\"rgb(36,36,36)\"},\"geo\":{\"bgcolor\":\"white\",\"lakecolor\":\"white\",\"landcolor\":\"white\",\"showlakes\":true,\"showland\":true,\"subunitcolor\":\"white\"},\"hoverlabel\":{\"align\":\"left\"},\"hovermode\":\"closest\",\"mapbox\":{\"style\":\"light\"},\"paper_bgcolor\":\"white\",\"plot_bgcolor\":\"white\",\"polar\":{\"angularaxis\":{\"gridcolor\":\"rgb(232,232,232)\",\"linecolor\":\"rgb(36,36,36)\",\"showgrid\":false,\"showline\":true,\"ticks\":\"outside\"},\"bgcolor\":\"white\",\"radialaxis\":{\"gridcolor\":\"rgb(232,232,232)\",\"linecolor\":\"rgb(36,36,36)\",\"showgrid\":false,\"showline\":true,\"ticks\":\"outside\"}},\"scene\":{\"xaxis\":{\"backgroundcolor\":\"white\",\"gridcolor\":\"rgb(232,232,232)\",\"gridwidth\":2,\"linecolor\":\"rgb(36,36,36)\",\"showbackground\":true,\"showgrid\":false,\"showline\":true,\"ticks\":\"outside\",\"zeroline\":false,\"zerolinecolor\":\"rgb(36,36,36)\"},\"yaxis\":{\"backgroundcolor\":\"white\",\"gridcolor\":\"rgb(232,232,232)\",\"gridwidth\":2,\"linecolor\":\"rgb(36,36,36)\",\"showbackground\":true,\"showgrid\":false,\"showline\":true,\"ticks\":\"outside\",\"zeroline\":false,\"zerolinecolor\":\"rgb(36,36,36)\"},\"zaxis\":{\"backgroundcolor\":\"white\",\"gridcolor\":\"rgb(232,232,232)\",\"gridwidth\":2,\"linecolor\":\"rgb(36,36,36)\",\"showbackground\":true,\"showgrid\":false,\"showline\":true,\"ticks\":\"outside\",\"zeroline\":false,\"zerolinecolor\":\"rgb(36,36,36)\"}},\"shapedefaults\":{\"fillcolor\":\"black\",\"line\":{\"width\":0},\"opacity\":0.3},\"ternary\":{\"aaxis\":{\"gridcolor\":\"rgb(232,232,232)\",\"linecolor\":\"rgb(36,36,36)\",\"showgrid\":false,\"showline\":true,\"ticks\":\"outside\"},\"baxis\":{\"gridcolor\":\"rgb(232,232,232)\",\"linecolor\":\"rgb(36,36,36)\",\"showgrid\":false,\"showline\":true,\"ticks\":\"outside\"},\"bgcolor\":\"white\",\"caxis\":{\"gridcolor\":\"rgb(232,232,232)\",\"linecolor\":\"rgb(36,36,36)\",\"showgrid\":false,\"showline\":true,\"ticks\":\"outside\"}},\"title\":{\"x\":0.05},\"xaxis\":{\"automargin\":true,\"gridcolor\":\"rgb(232,232,232)\",\"linecolor\":\"rgb(36,36,36)\",\"showgrid\":false,\"showline\":true,\"ticks\":\"outside\",\"title\":{\"standoff\":15},\"zeroline\":false,\"zerolinecolor\":\"rgb(36,36,36)\"},\"yaxis\":{\"automargin\":true,\"gridcolor\":\"rgb(232,232,232)\",\"linecolor\":\"rgb(36,36,36)\",\"showgrid\":false,\"showline\":true,\"ticks\":\"outside\",\"title\":{\"standoff\":15},\"zeroline\":false,\"zerolinecolor\":\"rgb(36,36,36)\"}}},\"xaxis\":{\"anchor\":\"y\",\"domain\":[0.0,1.0],\"title\":{\"text\":\"PC1\"}},\"yaxis\":{\"anchor\":\"x\",\"domain\":[0.0,1.0],\"title\":{\"text\":\"PC2\"}},\"legend\":{\"title\":{\"text\":\"country\"},\"tracegroupgap\":0,\"itemsizing\":\"constant\"},\"margin\":{\"t\":60},\"height\":600,\"width\":900},                        {\"responsive\": true}                    ).then(function(){\n",
              "                            \n",
              "var gd = document.getElementById('ffac8cc8-d2ac-44e6-b500-83337828be98');\n",
              "var x = new MutationObserver(function (mutations, observer) {{\n",
              "        var display = window.getComputedStyle(gd).display;\n",
              "        if (!display || display === 'none') {{\n",
              "            console.log([gd, 'removed!']);\n",
              "            Plotly.purge(gd);\n",
              "            observer.disconnect();\n",
              "        }}\n",
              "}});\n",
              "\n",
              "// Listen for the removal of the full notebook cells\n",
              "var notebookContainer = gd.closest('#notebook-container');\n",
              "if (notebookContainer) {{\n",
              "    x.observe(notebookContainer, {childList: true});\n",
              "}}\n",
              "\n",
              "// Listen for the clearing of the current output cell\n",
              "var outputEl = gd.closest('.output');\n",
              "if (outputEl) {{\n",
              "    x.observe(outputEl, {childList: true});\n",
              "}}\n",
              "\n",
              "                        })                };                            </script>        </div>\n",
              "</body>\n",
              "</html>"
            ]
          },
          "metadata": {}
        }
      ]
    },
    {
      "cell_type": "markdown",
      "source": [
        "By colouring the points according to country we can see that PC1 is separating samples from Malawi away from Tanzania and Kenya. What we are looking at here is most likely **geographical isolation** between Malawi and the more northerly countries Tanzania and Kenya.\n",
        "  \n",
        "There are a couple of Tanzanian samples that are separated along PC2. However, by plotting the variance explained by each principal component we can see that after PC1 the tail flattens off straight away, so the PC2 result is probably just noise.\n"
      ],
      "metadata": {
        "id": "xwFwf9sOdIY1"
      }
    },
    {
      "cell_type": "code",
      "source": [
        "ag3.plot_pca_variance(evr_ea)"
      ],
      "metadata": {
        "id": "NoMd0Bamh7qA",
        "colab": {
          "base_uri": "https://localhost:8080/",
          "height": 417
        },
        "outputId": "0b3fe334-0ab1-4a72-cb9a-5be951c7528a"
      },
      "execution_count": 27,
      "outputs": [
        {
          "output_type": "display_data",
          "data": {
            "text/html": [
              "<html>\n",
              "<head><meta charset=\"utf-8\" /></head>\n",
              "<body>\n",
              "    <div>            <script src=\"https://cdnjs.cloudflare.com/ajax/libs/mathjax/2.7.5/MathJax.js?config=TeX-AMS-MML_SVG\"></script><script type=\"text/javascript\">if (window.MathJax) {MathJax.Hub.Config({SVG: {font: \"STIX-Web\"}});}</script>                <script type=\"text/javascript\">window.PlotlyConfig = {MathJaxConfig: 'local'};</script>\n",
              "        <script src=\"https://cdn.plot.ly/plotly-2.8.3.min.js\"></script>                <div id=\"05c7b926-44c1-4b51-96ca-a26a02c6f174\" class=\"plotly-graph-div\" style=\"height:400px; width:900px;\"></div>            <script type=\"text/javascript\">                                    window.PLOTLYENV=window.PLOTLYENV || {};                                    if (document.getElementById(\"05c7b926-44c1-4b51-96ca-a26a02c6f174\")) {                    Plotly.newPlot(                        \"05c7b926-44c1-4b51-96ca-a26a02c6f174\",                        [{\"alignmentgroup\":\"True\",\"hovertemplate\":\"Principal component=%{x}<br>Explained variance (%)=%{y}<extra></extra>\",\"legendgroup\":\"\",\"marker\":{\"color\":\"#1F77B4\",\"pattern\":{\"shape\":\"\"}},\"name\":\"\",\"offsetgroup\":\"\",\"orientation\":\"v\",\"showlegend\":false,\"textposition\":\"auto\",\"x\":[\"1\",\"2\",\"3\",\"4\",\"5\",\"6\",\"7\",\"8\",\"9\",\"10\",\"11\",\"12\",\"13\",\"14\",\"15\",\"16\",\"17\",\"18\",\"19\",\"20\"],\"xaxis\":\"x\",\"y\":[1.7429847717285156,0.6105377674102783,0.5908161401748657,0.5671038031578064,0.5579687356948853,0.5282456874847412,0.5225196480751038,0.514025866985321,0.5126802325248718,0.506698489189148,0.5038703680038452,0.4990861713886261,0.4949989318847656,0.49403291940689087,0.49216243624687195,0.4908766746520996,0.4858172833919525,0.4828333258628845,0.4799986779689789,0.4792051911354065],\"yaxis\":\"y\",\"type\":\"bar\"}],                        {\"template\":{\"data\":{\"barpolar\":[{\"marker\":{\"line\":{\"color\":\"white\",\"width\":0.5},\"pattern\":{\"fillmode\":\"overlay\",\"size\":10,\"solidity\":0.2}},\"type\":\"barpolar\"}],\"bar\":[{\"error_x\":{\"color\":\"rgb(36,36,36)\"},\"error_y\":{\"color\":\"rgb(36,36,36)\"},\"marker\":{\"line\":{\"color\":\"white\",\"width\":0.5},\"pattern\":{\"fillmode\":\"overlay\",\"size\":10,\"solidity\":0.2}},\"type\":\"bar\"}],\"carpet\":[{\"aaxis\":{\"endlinecolor\":\"rgb(36,36,36)\",\"gridcolor\":\"white\",\"linecolor\":\"white\",\"minorgridcolor\":\"white\",\"startlinecolor\":\"rgb(36,36,36)\"},\"baxis\":{\"endlinecolor\":\"rgb(36,36,36)\",\"gridcolor\":\"white\",\"linecolor\":\"white\",\"minorgridcolor\":\"white\",\"startlinecolor\":\"rgb(36,36,36)\"},\"type\":\"carpet\"}],\"choropleth\":[{\"colorbar\":{\"outlinewidth\":1,\"tickcolor\":\"rgb(36,36,36)\",\"ticks\":\"outside\"},\"type\":\"choropleth\"}],\"contourcarpet\":[{\"colorbar\":{\"outlinewidth\":1,\"tickcolor\":\"rgb(36,36,36)\",\"ticks\":\"outside\"},\"type\":\"contourcarpet\"}],\"contour\":[{\"colorbar\":{\"outlinewidth\":1,\"tickcolor\":\"rgb(36,36,36)\",\"ticks\":\"outside\"},\"colorscale\":[[0.0,\"#440154\"],[0.1111111111111111,\"#482878\"],[0.2222222222222222,\"#3e4989\"],[0.3333333333333333,\"#31688e\"],[0.4444444444444444,\"#26828e\"],[0.5555555555555556,\"#1f9e89\"],[0.6666666666666666,\"#35b779\"],[0.7777777777777778,\"#6ece58\"],[0.8888888888888888,\"#b5de2b\"],[1.0,\"#fde725\"]],\"type\":\"contour\"}],\"heatmapgl\":[{\"colorbar\":{\"outlinewidth\":1,\"tickcolor\":\"rgb(36,36,36)\",\"ticks\":\"outside\"},\"colorscale\":[[0.0,\"#440154\"],[0.1111111111111111,\"#482878\"],[0.2222222222222222,\"#3e4989\"],[0.3333333333333333,\"#31688e\"],[0.4444444444444444,\"#26828e\"],[0.5555555555555556,\"#1f9e89\"],[0.6666666666666666,\"#35b779\"],[0.7777777777777778,\"#6ece58\"],[0.8888888888888888,\"#b5de2b\"],[1.0,\"#fde725\"]],\"type\":\"heatmapgl\"}],\"heatmap\":[{\"colorbar\":{\"outlinewidth\":1,\"tickcolor\":\"rgb(36,36,36)\",\"ticks\":\"outside\"},\"colorscale\":[[0.0,\"#440154\"],[0.1111111111111111,\"#482878\"],[0.2222222222222222,\"#3e4989\"],[0.3333333333333333,\"#31688e\"],[0.4444444444444444,\"#26828e\"],[0.5555555555555556,\"#1f9e89\"],[0.6666666666666666,\"#35b779\"],[0.7777777777777778,\"#6ece58\"],[0.8888888888888888,\"#b5de2b\"],[1.0,\"#fde725\"]],\"type\":\"heatmap\"}],\"histogram2dcontour\":[{\"colorbar\":{\"outlinewidth\":1,\"tickcolor\":\"rgb(36,36,36)\",\"ticks\":\"outside\"},\"colorscale\":[[0.0,\"#440154\"],[0.1111111111111111,\"#482878\"],[0.2222222222222222,\"#3e4989\"],[0.3333333333333333,\"#31688e\"],[0.4444444444444444,\"#26828e\"],[0.5555555555555556,\"#1f9e89\"],[0.6666666666666666,\"#35b779\"],[0.7777777777777778,\"#6ece58\"],[0.8888888888888888,\"#b5de2b\"],[1.0,\"#fde725\"]],\"type\":\"histogram2dcontour\"}],\"histogram2d\":[{\"colorbar\":{\"outlinewidth\":1,\"tickcolor\":\"rgb(36,36,36)\",\"ticks\":\"outside\"},\"colorscale\":[[0.0,\"#440154\"],[0.1111111111111111,\"#482878\"],[0.2222222222222222,\"#3e4989\"],[0.3333333333333333,\"#31688e\"],[0.4444444444444444,\"#26828e\"],[0.5555555555555556,\"#1f9e89\"],[0.6666666666666666,\"#35b779\"],[0.7777777777777778,\"#6ece58\"],[0.8888888888888888,\"#b5de2b\"],[1.0,\"#fde725\"]],\"type\":\"histogram2d\"}],\"histogram\":[{\"marker\":{\"line\":{\"color\":\"white\",\"width\":0.6}},\"type\":\"histogram\"}],\"mesh3d\":[{\"colorbar\":{\"outlinewidth\":1,\"tickcolor\":\"rgb(36,36,36)\",\"ticks\":\"outside\"},\"type\":\"mesh3d\"}],\"parcoords\":[{\"line\":{\"colorbar\":{\"outlinewidth\":1,\"tickcolor\":\"rgb(36,36,36)\",\"ticks\":\"outside\"}},\"type\":\"parcoords\"}],\"pie\":[{\"automargin\":true,\"type\":\"pie\"}],\"scatter3d\":[{\"line\":{\"colorbar\":{\"outlinewidth\":1,\"tickcolor\":\"rgb(36,36,36)\",\"ticks\":\"outside\"}},\"marker\":{\"colorbar\":{\"outlinewidth\":1,\"tickcolor\":\"rgb(36,36,36)\",\"ticks\":\"outside\"}},\"type\":\"scatter3d\"}],\"scattercarpet\":[{\"marker\":{\"colorbar\":{\"outlinewidth\":1,\"tickcolor\":\"rgb(36,36,36)\",\"ticks\":\"outside\"}},\"type\":\"scattercarpet\"}],\"scattergeo\":[{\"marker\":{\"colorbar\":{\"outlinewidth\":1,\"tickcolor\":\"rgb(36,36,36)\",\"ticks\":\"outside\"}},\"type\":\"scattergeo\"}],\"scattergl\":[{\"marker\":{\"colorbar\":{\"outlinewidth\":1,\"tickcolor\":\"rgb(36,36,36)\",\"ticks\":\"outside\"}},\"type\":\"scattergl\"}],\"scattermapbox\":[{\"marker\":{\"colorbar\":{\"outlinewidth\":1,\"tickcolor\":\"rgb(36,36,36)\",\"ticks\":\"outside\"}},\"type\":\"scattermapbox\"}],\"scatterpolargl\":[{\"marker\":{\"colorbar\":{\"outlinewidth\":1,\"tickcolor\":\"rgb(36,36,36)\",\"ticks\":\"outside\"}},\"type\":\"scatterpolargl\"}],\"scatterpolar\":[{\"marker\":{\"colorbar\":{\"outlinewidth\":1,\"tickcolor\":\"rgb(36,36,36)\",\"ticks\":\"outside\"}},\"type\":\"scatterpolar\"}],\"scatter\":[{\"marker\":{\"colorbar\":{\"outlinewidth\":1,\"tickcolor\":\"rgb(36,36,36)\",\"ticks\":\"outside\"}},\"type\":\"scatter\"}],\"scatterternary\":[{\"marker\":{\"colorbar\":{\"outlinewidth\":1,\"tickcolor\":\"rgb(36,36,36)\",\"ticks\":\"outside\"}},\"type\":\"scatterternary\"}],\"surface\":[{\"colorbar\":{\"outlinewidth\":1,\"tickcolor\":\"rgb(36,36,36)\",\"ticks\":\"outside\"},\"colorscale\":[[0.0,\"#440154\"],[0.1111111111111111,\"#482878\"],[0.2222222222222222,\"#3e4989\"],[0.3333333333333333,\"#31688e\"],[0.4444444444444444,\"#26828e\"],[0.5555555555555556,\"#1f9e89\"],[0.6666666666666666,\"#35b779\"],[0.7777777777777778,\"#6ece58\"],[0.8888888888888888,\"#b5de2b\"],[1.0,\"#fde725\"]],\"type\":\"surface\"}],\"table\":[{\"cells\":{\"fill\":{\"color\":\"rgb(237,237,237)\"},\"line\":{\"color\":\"white\"}},\"header\":{\"fill\":{\"color\":\"rgb(217,217,217)\"},\"line\":{\"color\":\"white\"}},\"type\":\"table\"}]},\"layout\":{\"annotationdefaults\":{\"arrowhead\":0,\"arrowwidth\":1},\"autotypenumbers\":\"strict\",\"coloraxis\":{\"colorbar\":{\"outlinewidth\":1,\"tickcolor\":\"rgb(36,36,36)\",\"ticks\":\"outside\"}},\"colorscale\":{\"diverging\":[[0.0,\"rgb(103,0,31)\"],[0.1,\"rgb(178,24,43)\"],[0.2,\"rgb(214,96,77)\"],[0.3,\"rgb(244,165,130)\"],[0.4,\"rgb(253,219,199)\"],[0.5,\"rgb(247,247,247)\"],[0.6,\"rgb(209,229,240)\"],[0.7,\"rgb(146,197,222)\"],[0.8,\"rgb(67,147,195)\"],[0.9,\"rgb(33,102,172)\"],[1.0,\"rgb(5,48,97)\"]],\"sequential\":[[0.0,\"#440154\"],[0.1111111111111111,\"#482878\"],[0.2222222222222222,\"#3e4989\"],[0.3333333333333333,\"#31688e\"],[0.4444444444444444,\"#26828e\"],[0.5555555555555556,\"#1f9e89\"],[0.6666666666666666,\"#35b779\"],[0.7777777777777778,\"#6ece58\"],[0.8888888888888888,\"#b5de2b\"],[1.0,\"#fde725\"]],\"sequentialminus\":[[0.0,\"#440154\"],[0.1111111111111111,\"#482878\"],[0.2222222222222222,\"#3e4989\"],[0.3333333333333333,\"#31688e\"],[0.4444444444444444,\"#26828e\"],[0.5555555555555556,\"#1f9e89\"],[0.6666666666666666,\"#35b779\"],[0.7777777777777778,\"#6ece58\"],[0.8888888888888888,\"#b5de2b\"],[1.0,\"#fde725\"]]},\"colorway\":[\"#1F77B4\",\"#FF7F0E\",\"#2CA02C\",\"#D62728\",\"#9467BD\",\"#8C564B\",\"#E377C2\",\"#7F7F7F\",\"#BCBD22\",\"#17BECF\"],\"font\":{\"color\":\"rgb(36,36,36)\"},\"geo\":{\"bgcolor\":\"white\",\"lakecolor\":\"white\",\"landcolor\":\"white\",\"showlakes\":true,\"showland\":true,\"subunitcolor\":\"white\"},\"hoverlabel\":{\"align\":\"left\"},\"hovermode\":\"closest\",\"mapbox\":{\"style\":\"light\"},\"paper_bgcolor\":\"white\",\"plot_bgcolor\":\"white\",\"polar\":{\"angularaxis\":{\"gridcolor\":\"rgb(232,232,232)\",\"linecolor\":\"rgb(36,36,36)\",\"showgrid\":false,\"showline\":true,\"ticks\":\"outside\"},\"bgcolor\":\"white\",\"radialaxis\":{\"gridcolor\":\"rgb(232,232,232)\",\"linecolor\":\"rgb(36,36,36)\",\"showgrid\":false,\"showline\":true,\"ticks\":\"outside\"}},\"scene\":{\"xaxis\":{\"backgroundcolor\":\"white\",\"gridcolor\":\"rgb(232,232,232)\",\"gridwidth\":2,\"linecolor\":\"rgb(36,36,36)\",\"showbackground\":true,\"showgrid\":false,\"showline\":true,\"ticks\":\"outside\",\"zeroline\":false,\"zerolinecolor\":\"rgb(36,36,36)\"},\"yaxis\":{\"backgroundcolor\":\"white\",\"gridcolor\":\"rgb(232,232,232)\",\"gridwidth\":2,\"linecolor\":\"rgb(36,36,36)\",\"showbackground\":true,\"showgrid\":false,\"showline\":true,\"ticks\":\"outside\",\"zeroline\":false,\"zerolinecolor\":\"rgb(36,36,36)\"},\"zaxis\":{\"backgroundcolor\":\"white\",\"gridcolor\":\"rgb(232,232,232)\",\"gridwidth\":2,\"linecolor\":\"rgb(36,36,36)\",\"showbackground\":true,\"showgrid\":false,\"showline\":true,\"ticks\":\"outside\",\"zeroline\":false,\"zerolinecolor\":\"rgb(36,36,36)\"}},\"shapedefaults\":{\"fillcolor\":\"black\",\"line\":{\"width\":0},\"opacity\":0.3},\"ternary\":{\"aaxis\":{\"gridcolor\":\"rgb(232,232,232)\",\"linecolor\":\"rgb(36,36,36)\",\"showgrid\":false,\"showline\":true,\"ticks\":\"outside\"},\"baxis\":{\"gridcolor\":\"rgb(232,232,232)\",\"linecolor\":\"rgb(36,36,36)\",\"showgrid\":false,\"showline\":true,\"ticks\":\"outside\"},\"bgcolor\":\"white\",\"caxis\":{\"gridcolor\":\"rgb(232,232,232)\",\"linecolor\":\"rgb(36,36,36)\",\"showgrid\":false,\"showline\":true,\"ticks\":\"outside\"}},\"title\":{\"x\":0.05},\"xaxis\":{\"automargin\":true,\"gridcolor\":\"rgb(232,232,232)\",\"linecolor\":\"rgb(36,36,36)\",\"showgrid\":false,\"showline\":true,\"ticks\":\"outside\",\"title\":{\"standoff\":15},\"zeroline\":false,\"zerolinecolor\":\"rgb(36,36,36)\"},\"yaxis\":{\"automargin\":true,\"gridcolor\":\"rgb(232,232,232)\",\"linecolor\":\"rgb(36,36,36)\",\"showgrid\":false,\"showline\":true,\"ticks\":\"outside\",\"title\":{\"standoff\":15},\"zeroline\":false,\"zerolinecolor\":\"rgb(36,36,36)\"}}},\"xaxis\":{\"anchor\":\"y\",\"domain\":[0.0,1.0],\"title\":{\"text\":\"Principal component\"}},\"yaxis\":{\"anchor\":\"x\",\"domain\":[0.0,1.0],\"title\":{\"text\":\"Explained variance (%)\"}},\"legend\":{\"tracegroupgap\":0},\"margin\":{\"t\":60},\"barmode\":\"relative\",\"height\":400,\"width\":900},                        {\"responsive\": true}                    ).then(function(){\n",
              "                            \n",
              "var gd = document.getElementById('05c7b926-44c1-4b51-96ca-a26a02c6f174');\n",
              "var x = new MutationObserver(function (mutations, observer) {{\n",
              "        var display = window.getComputedStyle(gd).display;\n",
              "        if (!display || display === 'none') {{\n",
              "            console.log([gd, 'removed!']);\n",
              "            Plotly.purge(gd);\n",
              "            observer.disconnect();\n",
              "        }}\n",
              "}});\n",
              "\n",
              "// Listen for the removal of the full notebook cells\n",
              "var notebookContainer = gd.closest('#notebook-container');\n",
              "if (notebookContainer) {{\n",
              "    x.observe(notebookContainer, {childList: true});\n",
              "}}\n",
              "\n",
              "// Listen for the clearing of the current output cell\n",
              "var outputEl = gd.closest('.output');\n",
              "if (outputEl) {{\n",
              "    x.observe(outputEl, {childList: true});\n",
              "}}\n",
              "\n",
              "                        })                };                            </script>        </div>\n",
              "</body>\n",
              "</html>"
            ]
          },
          "metadata": {}
        }
      ]
    },
    {
      "cell_type": "markdown",
      "metadata": {
        "id": "AB3ri0crVgzT"
      },
      "source": [
        "## Practical exercise\n",
        "\n",
        "Run a PCA on _An. gambiae_ from Uganda. Is there population structure here? It might be useful to colour the plot points by location, how would we do that?"
      ]
    },
    {
      "cell_type": "code",
      "source": [
        "# sample_query_ex2 = (???)\n",
        "\n",
        "# pcr_ex2_df, evr_ex2 = ag3.pca(\n",
        "#     region=region,\n",
        "#     n_snps=n_snps,\n",
        "#     sample_sets=\"3.0\",\n",
        "#     sample_query=sample_query_ex2\n",
        "# )\n",
        "\n",
        "# color_ex2 = '???'\n",
        "\n",
        "# ag3.plot_pca_coords(\n",
        "#     pcr_ex2_df,\n",
        "#     color=color_ex2,\n",
        "# )"
      ],
      "metadata": {
        "id": "EVFjkA5YcSbI"
      },
      "execution_count": 28,
      "outputs": []
    },
    {
      "cell_type": "markdown",
      "metadata": {
        "id": "vTocz1Nf96vQ"
      },
      "source": [
        "## Well done!\n",
        "\n",
        "In this module we have run principal component analyses across different mosquito cohorts, learned how to plot variance and principal components, and interpret results to discover taxonomic and geographic population structure.\n"
      ]
    },
    {
      "cell_type": "markdown",
      "metadata": {
        "id": "1cwp4JmESlC9"
      },
      "source": [
        "## Practical exercises\n",
        "\n",
        "### English\n",
        "Open this notebook in Google Colab and run it for yourself from top to bottom. As you run through the notebook, cell by cell, think about what each cell is doing and look out for practical exercises.\n",
        "\n",
        "Have go at the practical exercises, but please don't worry if you don't have time to do them all during the practical session, and please ask the teaching assistants for help if you are stuck.\n",
        "\n",
        " Hint: To open the notebook in Google Colab, click the rocket icon at the top of the page, then select “Colab” from the drop-down menu.\n",
        "  \n",
        "### Français"
      ]
    },
    {
      "cell_type": "code",
      "execution_count": null,
      "metadata": {
        "id": "_bjfehRLSrVq"
      },
      "outputs": [],
      "source": [
        ""
      ]
    }
  ],
  "metadata": {
    "colab": {
      "collapsed_sections": [],
      "name": "Workshop 3 - Module 4 - Detecting population structure using PCA - 2022-05-03.ipynb",
      "provenance": []
    },
    "kernelspec": {
      "display_name": "Python 3",
      "name": "python3"
    },
    "language_info": {
      "name": "python"
    },
    "widgets": {
      "application/vnd.jupyter.widget-state+json": {
        "1ac5d228b913491cb96e0e193124bc92": {
          "model_module": "@jupyter-widgets/controls",
          "model_name": "HBoxModel",
          "model_module_version": "1.5.0",
          "state": {
            "_dom_classes": [],
            "_model_module": "@jupyter-widgets/controls",
            "_model_module_version": "1.5.0",
            "_model_name": "HBoxModel",
            "_view_count": null,
            "_view_module": "@jupyter-widgets/controls",
            "_view_module_version": "1.5.0",
            "_view_name": "HBoxView",
            "box_style": "",
            "children": [
              "IPY_MODEL_75171c62090346a0aa60343e6132fa74",
              "IPY_MODEL_4c45ab2cb28e4efeb56f49eea0193a26",
              "IPY_MODEL_a982f14c2a2e4c7788bfee1e2d46d1c0"
            ],
            "layout": "IPY_MODEL_521df1ea0826428cb9f3d0df5b6a5dd8"
          }
        },
        "75171c62090346a0aa60343e6132fa74": {
          "model_module": "@jupyter-widgets/controls",
          "model_name": "HTMLModel",
          "model_module_version": "1.5.0",
          "state": {
            "_dom_classes": [],
            "_model_module": "@jupyter-widgets/controls",
            "_model_module_version": "1.5.0",
            "_model_name": "HTMLModel",
            "_view_count": null,
            "_view_module": "@jupyter-widgets/controls",
            "_view_module_version": "1.5.0",
            "_view_name": "HTMLView",
            "description": "",
            "description_tooltip": null,
            "layout": "IPY_MODEL_0c146a3777a149a2abab2166985971dd",
            "placeholder": "​",
            "style": "IPY_MODEL_dc2f2dfc27e240cb8fe2ae28bc614983",
            "value": "Compute SNP allele counts: 100%"
          }
        },
        "4c45ab2cb28e4efeb56f49eea0193a26": {
          "model_module": "@jupyter-widgets/controls",
          "model_name": "FloatProgressModel",
          "model_module_version": "1.5.0",
          "state": {
            "_dom_classes": [],
            "_model_module": "@jupyter-widgets/controls",
            "_model_module_version": "1.5.0",
            "_model_name": "FloatProgressModel",
            "_view_count": null,
            "_view_module": "@jupyter-widgets/controls",
            "_view_module_version": "1.5.0",
            "_view_name": "ProgressView",
            "bar_style": "success",
            "description": "",
            "description_tooltip": null,
            "layout": "IPY_MODEL_ca11e2672c6f4e7ebc8f7a2709a7e9ae",
            "max": 774,
            "min": 0,
            "orientation": "horizontal",
            "style": "IPY_MODEL_739e6b994f4e46b6bc7e8b857250b6b5",
            "value": 774
          }
        },
        "a982f14c2a2e4c7788bfee1e2d46d1c0": {
          "model_module": "@jupyter-widgets/controls",
          "model_name": "HTMLModel",
          "model_module_version": "1.5.0",
          "state": {
            "_dom_classes": [],
            "_model_module": "@jupyter-widgets/controls",
            "_model_module_version": "1.5.0",
            "_model_name": "HTMLModel",
            "_view_count": null,
            "_view_module": "@jupyter-widgets/controls",
            "_view_module_version": "1.5.0",
            "_view_name": "HTMLView",
            "description": "",
            "description_tooltip": null,
            "layout": "IPY_MODEL_9d843b3623cb40b5a2bfaf61993ec8fe",
            "placeholder": "​",
            "style": "IPY_MODEL_cd746a393b0046dc9d69d8f0dbd4a359",
            "value": " 774/774 [00:13&lt;00:00, 59.40it/s]"
          }
        },
        "521df1ea0826428cb9f3d0df5b6a5dd8": {
          "model_module": "@jupyter-widgets/base",
          "model_name": "LayoutModel",
          "model_module_version": "1.2.0",
          "state": {
            "_model_module": "@jupyter-widgets/base",
            "_model_module_version": "1.2.0",
            "_model_name": "LayoutModel",
            "_view_count": null,
            "_view_module": "@jupyter-widgets/base",
            "_view_module_version": "1.2.0",
            "_view_name": "LayoutView",
            "align_content": null,
            "align_items": null,
            "align_self": null,
            "border": null,
            "bottom": null,
            "display": null,
            "flex": null,
            "flex_flow": null,
            "grid_area": null,
            "grid_auto_columns": null,
            "grid_auto_flow": null,
            "grid_auto_rows": null,
            "grid_column": null,
            "grid_gap": null,
            "grid_row": null,
            "grid_template_areas": null,
            "grid_template_columns": null,
            "grid_template_rows": null,
            "height": null,
            "justify_content": null,
            "justify_items": null,
            "left": null,
            "margin": null,
            "max_height": null,
            "max_width": null,
            "min_height": null,
            "min_width": null,
            "object_fit": null,
            "object_position": null,
            "order": null,
            "overflow": null,
            "overflow_x": null,
            "overflow_y": null,
            "padding": null,
            "right": null,
            "top": null,
            "visibility": null,
            "width": null
          }
        },
        "0c146a3777a149a2abab2166985971dd": {
          "model_module": "@jupyter-widgets/base",
          "model_name": "LayoutModel",
          "model_module_version": "1.2.0",
          "state": {
            "_model_module": "@jupyter-widgets/base",
            "_model_module_version": "1.2.0",
            "_model_name": "LayoutModel",
            "_view_count": null,
            "_view_module": "@jupyter-widgets/base",
            "_view_module_version": "1.2.0",
            "_view_name": "LayoutView",
            "align_content": null,
            "align_items": null,
            "align_self": null,
            "border": null,
            "bottom": null,
            "display": null,
            "flex": null,
            "flex_flow": null,
            "grid_area": null,
            "grid_auto_columns": null,
            "grid_auto_flow": null,
            "grid_auto_rows": null,
            "grid_column": null,
            "grid_gap": null,
            "grid_row": null,
            "grid_template_areas": null,
            "grid_template_columns": null,
            "grid_template_rows": null,
            "height": null,
            "justify_content": null,
            "justify_items": null,
            "left": null,
            "margin": null,
            "max_height": null,
            "max_width": null,
            "min_height": null,
            "min_width": null,
            "object_fit": null,
            "object_position": null,
            "order": null,
            "overflow": null,
            "overflow_x": null,
            "overflow_y": null,
            "padding": null,
            "right": null,
            "top": null,
            "visibility": null,
            "width": null
          }
        },
        "dc2f2dfc27e240cb8fe2ae28bc614983": {
          "model_module": "@jupyter-widgets/controls",
          "model_name": "DescriptionStyleModel",
          "model_module_version": "1.5.0",
          "state": {
            "_model_module": "@jupyter-widgets/controls",
            "_model_module_version": "1.5.0",
            "_model_name": "DescriptionStyleModel",
            "_view_count": null,
            "_view_module": "@jupyter-widgets/base",
            "_view_module_version": "1.2.0",
            "_view_name": "StyleView",
            "description_width": ""
          }
        },
        "ca11e2672c6f4e7ebc8f7a2709a7e9ae": {
          "model_module": "@jupyter-widgets/base",
          "model_name": "LayoutModel",
          "model_module_version": "1.2.0",
          "state": {
            "_model_module": "@jupyter-widgets/base",
            "_model_module_version": "1.2.0",
            "_model_name": "LayoutModel",
            "_view_count": null,
            "_view_module": "@jupyter-widgets/base",
            "_view_module_version": "1.2.0",
            "_view_name": "LayoutView",
            "align_content": null,
            "align_items": null,
            "align_self": null,
            "border": null,
            "bottom": null,
            "display": null,
            "flex": null,
            "flex_flow": null,
            "grid_area": null,
            "grid_auto_columns": null,
            "grid_auto_flow": null,
            "grid_auto_rows": null,
            "grid_column": null,
            "grid_gap": null,
            "grid_row": null,
            "grid_template_areas": null,
            "grid_template_columns": null,
            "grid_template_rows": null,
            "height": null,
            "justify_content": null,
            "justify_items": null,
            "left": null,
            "margin": null,
            "max_height": null,
            "max_width": null,
            "min_height": null,
            "min_width": null,
            "object_fit": null,
            "object_position": null,
            "order": null,
            "overflow": null,
            "overflow_x": null,
            "overflow_y": null,
            "padding": null,
            "right": null,
            "top": null,
            "visibility": null,
            "width": null
          }
        },
        "739e6b994f4e46b6bc7e8b857250b6b5": {
          "model_module": "@jupyter-widgets/controls",
          "model_name": "ProgressStyleModel",
          "model_module_version": "1.5.0",
          "state": {
            "_model_module": "@jupyter-widgets/controls",
            "_model_module_version": "1.5.0",
            "_model_name": "ProgressStyleModel",
            "_view_count": null,
            "_view_module": "@jupyter-widgets/base",
            "_view_module_version": "1.2.0",
            "_view_name": "StyleView",
            "bar_color": null,
            "description_width": ""
          }
        },
        "9d843b3623cb40b5a2bfaf61993ec8fe": {
          "model_module": "@jupyter-widgets/base",
          "model_name": "LayoutModel",
          "model_module_version": "1.2.0",
          "state": {
            "_model_module": "@jupyter-widgets/base",
            "_model_module_version": "1.2.0",
            "_model_name": "LayoutModel",
            "_view_count": null,
            "_view_module": "@jupyter-widgets/base",
            "_view_module_version": "1.2.0",
            "_view_name": "LayoutView",
            "align_content": null,
            "align_items": null,
            "align_self": null,
            "border": null,
            "bottom": null,
            "display": null,
            "flex": null,
            "flex_flow": null,
            "grid_area": null,
            "grid_auto_columns": null,
            "grid_auto_flow": null,
            "grid_auto_rows": null,
            "grid_column": null,
            "grid_gap": null,
            "grid_row": null,
            "grid_template_areas": null,
            "grid_template_columns": null,
            "grid_template_rows": null,
            "height": null,
            "justify_content": null,
            "justify_items": null,
            "left": null,
            "margin": null,
            "max_height": null,
            "max_width": null,
            "min_height": null,
            "min_width": null,
            "object_fit": null,
            "object_position": null,
            "order": null,
            "overflow": null,
            "overflow_x": null,
            "overflow_y": null,
            "padding": null,
            "right": null,
            "top": null,
            "visibility": null,
            "width": null
          }
        },
        "cd746a393b0046dc9d69d8f0dbd4a359": {
          "model_module": "@jupyter-widgets/controls",
          "model_name": "DescriptionStyleModel",
          "model_module_version": "1.5.0",
          "state": {
            "_model_module": "@jupyter-widgets/controls",
            "_model_module_version": "1.5.0",
            "_model_name": "DescriptionStyleModel",
            "_view_count": null,
            "_view_module": "@jupyter-widgets/base",
            "_view_module_version": "1.2.0",
            "_view_name": "StyleView",
            "description_width": ""
          }
        },
        "0d08b714c221461a83d53a959bcacf88": {
          "model_module": "@jupyter-widgets/controls",
          "model_name": "HBoxModel",
          "model_module_version": "1.5.0",
          "state": {
            "_dom_classes": [],
            "_model_module": "@jupyter-widgets/controls",
            "_model_module_version": "1.5.0",
            "_model_name": "HBoxModel",
            "_view_count": null,
            "_view_module": "@jupyter-widgets/controls",
            "_view_module_version": "1.5.0",
            "_view_name": "HBoxView",
            "box_style": "",
            "children": [
              "IPY_MODEL_f95e5988157e448e97c593a381ff9b6f",
              "IPY_MODEL_b2986b805b1b4dbd8188a500fb93622c",
              "IPY_MODEL_090bd83927a249308e5ce2d23c6c75e5"
            ],
            "layout": "IPY_MODEL_5bef6f14d8544703ac5db73d1de6a1b8"
          }
        },
        "f95e5988157e448e97c593a381ff9b6f": {
          "model_module": "@jupyter-widgets/controls",
          "model_name": "HTMLModel",
          "model_module_version": "1.5.0",
          "state": {
            "_dom_classes": [],
            "_model_module": "@jupyter-widgets/controls",
            "_model_module_version": "1.5.0",
            "_model_name": "HTMLModel",
            "_view_count": null,
            "_view_module": "@jupyter-widgets/controls",
            "_view_module_version": "1.5.0",
            "_view_name": "HTMLView",
            "description": "",
            "description_tooltip": null,
            "layout": "IPY_MODEL_41f8541555c74d5a8400eab5000ca51f",
            "placeholder": "​",
            "style": "IPY_MODEL_ded75433dc2a42649a2ccf2cfb7ffa71",
            "value": "Load SNP genotypes: 100%"
          }
        },
        "b2986b805b1b4dbd8188a500fb93622c": {
          "model_module": "@jupyter-widgets/controls",
          "model_name": "FloatProgressModel",
          "model_module_version": "1.5.0",
          "state": {
            "_dom_classes": [],
            "_model_module": "@jupyter-widgets/controls",
            "_model_module_version": "1.5.0",
            "_model_name": "FloatProgressModel",
            "_view_count": null,
            "_view_module": "@jupyter-widgets/controls",
            "_view_module_version": "1.5.0",
            "_view_name": "ProgressView",
            "bar_style": "success",
            "description": "",
            "description_tooltip": null,
            "layout": "IPY_MODEL_a7c5a91b57b74c99812429958b656e42",
            "max": 860,
            "min": 0,
            "orientation": "horizontal",
            "style": "IPY_MODEL_1fbb3ab382ee41b9884a71dfdd05e2bc",
            "value": 860
          }
        },
        "090bd83927a249308e5ce2d23c6c75e5": {
          "model_module": "@jupyter-widgets/controls",
          "model_name": "HTMLModel",
          "model_module_version": "1.5.0",
          "state": {
            "_dom_classes": [],
            "_model_module": "@jupyter-widgets/controls",
            "_model_module_version": "1.5.0",
            "_model_name": "HTMLModel",
            "_view_count": null,
            "_view_module": "@jupyter-widgets/controls",
            "_view_module_version": "1.5.0",
            "_view_name": "HTMLView",
            "description": "",
            "description_tooltip": null,
            "layout": "IPY_MODEL_f1297364e6ab48f8b69eb0d990efff51",
            "placeholder": "​",
            "style": "IPY_MODEL_f2f6f4ac14bf44489fad155c1d8fa321",
            "value": " 860/860 [00:05&lt;00:00, 147.18it/s]"
          }
        },
        "5bef6f14d8544703ac5db73d1de6a1b8": {
          "model_module": "@jupyter-widgets/base",
          "model_name": "LayoutModel",
          "model_module_version": "1.2.0",
          "state": {
            "_model_module": "@jupyter-widgets/base",
            "_model_module_version": "1.2.0",
            "_model_name": "LayoutModel",
            "_view_count": null,
            "_view_module": "@jupyter-widgets/base",
            "_view_module_version": "1.2.0",
            "_view_name": "LayoutView",
            "align_content": null,
            "align_items": null,
            "align_self": null,
            "border": null,
            "bottom": null,
            "display": null,
            "flex": null,
            "flex_flow": null,
            "grid_area": null,
            "grid_auto_columns": null,
            "grid_auto_flow": null,
            "grid_auto_rows": null,
            "grid_column": null,
            "grid_gap": null,
            "grid_row": null,
            "grid_template_areas": null,
            "grid_template_columns": null,
            "grid_template_rows": null,
            "height": null,
            "justify_content": null,
            "justify_items": null,
            "left": null,
            "margin": null,
            "max_height": null,
            "max_width": null,
            "min_height": null,
            "min_width": null,
            "object_fit": null,
            "object_position": null,
            "order": null,
            "overflow": null,
            "overflow_x": null,
            "overflow_y": null,
            "padding": null,
            "right": null,
            "top": null,
            "visibility": null,
            "width": null
          }
        },
        "41f8541555c74d5a8400eab5000ca51f": {
          "model_module": "@jupyter-widgets/base",
          "model_name": "LayoutModel",
          "model_module_version": "1.2.0",
          "state": {
            "_model_module": "@jupyter-widgets/base",
            "_model_module_version": "1.2.0",
            "_model_name": "LayoutModel",
            "_view_count": null,
            "_view_module": "@jupyter-widgets/base",
            "_view_module_version": "1.2.0",
            "_view_name": "LayoutView",
            "align_content": null,
            "align_items": null,
            "align_self": null,
            "border": null,
            "bottom": null,
            "display": null,
            "flex": null,
            "flex_flow": null,
            "grid_area": null,
            "grid_auto_columns": null,
            "grid_auto_flow": null,
            "grid_auto_rows": null,
            "grid_column": null,
            "grid_gap": null,
            "grid_row": null,
            "grid_template_areas": null,
            "grid_template_columns": null,
            "grid_template_rows": null,
            "height": null,
            "justify_content": null,
            "justify_items": null,
            "left": null,
            "margin": null,
            "max_height": null,
            "max_width": null,
            "min_height": null,
            "min_width": null,
            "object_fit": null,
            "object_position": null,
            "order": null,
            "overflow": null,
            "overflow_x": null,
            "overflow_y": null,
            "padding": null,
            "right": null,
            "top": null,
            "visibility": null,
            "width": null
          }
        },
        "ded75433dc2a42649a2ccf2cfb7ffa71": {
          "model_module": "@jupyter-widgets/controls",
          "model_name": "DescriptionStyleModel",
          "model_module_version": "1.5.0",
          "state": {
            "_model_module": "@jupyter-widgets/controls",
            "_model_module_version": "1.5.0",
            "_model_name": "DescriptionStyleModel",
            "_view_count": null,
            "_view_module": "@jupyter-widgets/base",
            "_view_module_version": "1.2.0",
            "_view_name": "StyleView",
            "description_width": ""
          }
        },
        "a7c5a91b57b74c99812429958b656e42": {
          "model_module": "@jupyter-widgets/base",
          "model_name": "LayoutModel",
          "model_module_version": "1.2.0",
          "state": {
            "_model_module": "@jupyter-widgets/base",
            "_model_module_version": "1.2.0",
            "_model_name": "LayoutModel",
            "_view_count": null,
            "_view_module": "@jupyter-widgets/base",
            "_view_module_version": "1.2.0",
            "_view_name": "LayoutView",
            "align_content": null,
            "align_items": null,
            "align_self": null,
            "border": null,
            "bottom": null,
            "display": null,
            "flex": null,
            "flex_flow": null,
            "grid_area": null,
            "grid_auto_columns": null,
            "grid_auto_flow": null,
            "grid_auto_rows": null,
            "grid_column": null,
            "grid_gap": null,
            "grid_row": null,
            "grid_template_areas": null,
            "grid_template_columns": null,
            "grid_template_rows": null,
            "height": null,
            "justify_content": null,
            "justify_items": null,
            "left": null,
            "margin": null,
            "max_height": null,
            "max_width": null,
            "min_height": null,
            "min_width": null,
            "object_fit": null,
            "object_position": null,
            "order": null,
            "overflow": null,
            "overflow_x": null,
            "overflow_y": null,
            "padding": null,
            "right": null,
            "top": null,
            "visibility": null,
            "width": null
          }
        },
        "1fbb3ab382ee41b9884a71dfdd05e2bc": {
          "model_module": "@jupyter-widgets/controls",
          "model_name": "ProgressStyleModel",
          "model_module_version": "1.5.0",
          "state": {
            "_model_module": "@jupyter-widgets/controls",
            "_model_module_version": "1.5.0",
            "_model_name": "ProgressStyleModel",
            "_view_count": null,
            "_view_module": "@jupyter-widgets/base",
            "_view_module_version": "1.2.0",
            "_view_name": "StyleView",
            "bar_color": null,
            "description_width": ""
          }
        },
        "f1297364e6ab48f8b69eb0d990efff51": {
          "model_module": "@jupyter-widgets/base",
          "model_name": "LayoutModel",
          "model_module_version": "1.2.0",
          "state": {
            "_model_module": "@jupyter-widgets/base",
            "_model_module_version": "1.2.0",
            "_model_name": "LayoutModel",
            "_view_count": null,
            "_view_module": "@jupyter-widgets/base",
            "_view_module_version": "1.2.0",
            "_view_name": "LayoutView",
            "align_content": null,
            "align_items": null,
            "align_self": null,
            "border": null,
            "bottom": null,
            "display": null,
            "flex": null,
            "flex_flow": null,
            "grid_area": null,
            "grid_auto_columns": null,
            "grid_auto_flow": null,
            "grid_auto_rows": null,
            "grid_column": null,
            "grid_gap": null,
            "grid_row": null,
            "grid_template_areas": null,
            "grid_template_columns": null,
            "grid_template_rows": null,
            "height": null,
            "justify_content": null,
            "justify_items": null,
            "left": null,
            "margin": null,
            "max_height": null,
            "max_width": null,
            "min_height": null,
            "min_width": null,
            "object_fit": null,
            "object_position": null,
            "order": null,
            "overflow": null,
            "overflow_x": null,
            "overflow_y": null,
            "padding": null,
            "right": null,
            "top": null,
            "visibility": null,
            "width": null
          }
        },
        "f2f6f4ac14bf44489fad155c1d8fa321": {
          "model_module": "@jupyter-widgets/controls",
          "model_name": "DescriptionStyleModel",
          "model_module_version": "1.5.0",
          "state": {
            "_model_module": "@jupyter-widgets/controls",
            "_model_module_version": "1.5.0",
            "_model_name": "DescriptionStyleModel",
            "_view_count": null,
            "_view_module": "@jupyter-widgets/base",
            "_view_module_version": "1.2.0",
            "_view_name": "StyleView",
            "description_width": ""
          }
        },
        "2acd7f61549343118555a6d921bb640c": {
          "model_module": "@jupyter-widgets/controls",
          "model_name": "HBoxModel",
          "model_module_version": "1.5.0",
          "state": {
            "_dom_classes": [],
            "_model_module": "@jupyter-widgets/controls",
            "_model_module_version": "1.5.0",
            "_model_name": "HBoxModel",
            "_view_count": null,
            "_view_module": "@jupyter-widgets/controls",
            "_view_module_version": "1.5.0",
            "_view_name": "HBoxView",
            "box_style": "",
            "children": [
              "IPY_MODEL_a9fe023e603d4e0ebd4599e698e93799",
              "IPY_MODEL_b7a9c0920c4a4206b431e1995b447d1f",
              "IPY_MODEL_24c20e188b5b4b96bec60c57d368f79d"
            ],
            "layout": "IPY_MODEL_35a5748d8f2a41c0a1e9cda250892108"
          }
        },
        "a9fe023e603d4e0ebd4599e698e93799": {
          "model_module": "@jupyter-widgets/controls",
          "model_name": "HTMLModel",
          "model_module_version": "1.5.0",
          "state": {
            "_dom_classes": [],
            "_model_module": "@jupyter-widgets/controls",
            "_model_module_version": "1.5.0",
            "_model_name": "HTMLModel",
            "_view_count": null,
            "_view_module": "@jupyter-widgets/controls",
            "_view_module_version": "1.5.0",
            "_view_name": "HTMLView",
            "description": "",
            "description_tooltip": null,
            "layout": "IPY_MODEL_fa12fbb4e8954805a02f89a22fe32647",
            "placeholder": "​",
            "style": "IPY_MODEL_73633949d5174f71940e9d087f3880a7",
            "value": "Load sample metadata: 100%"
          }
        },
        "b7a9c0920c4a4206b431e1995b447d1f": {
          "model_module": "@jupyter-widgets/controls",
          "model_name": "FloatProgressModel",
          "model_module_version": "1.5.0",
          "state": {
            "_dom_classes": [],
            "_model_module": "@jupyter-widgets/controls",
            "_model_module_version": "1.5.0",
            "_model_name": "FloatProgressModel",
            "_view_count": null,
            "_view_module": "@jupyter-widgets/controls",
            "_view_module_version": "1.5.0",
            "_view_name": "ProgressView",
            "bar_style": "success",
            "description": "",
            "description_tooltip": null,
            "layout": "IPY_MODEL_e8b87b5a9bb54994add7b2f4326af128",
            "max": 1,
            "min": 0,
            "orientation": "horizontal",
            "style": "IPY_MODEL_30ddd358c41a44de9a66594fba7e6a83",
            "value": 1
          }
        },
        "24c20e188b5b4b96bec60c57d368f79d": {
          "model_module": "@jupyter-widgets/controls",
          "model_name": "HTMLModel",
          "model_module_version": "1.5.0",
          "state": {
            "_dom_classes": [],
            "_model_module": "@jupyter-widgets/controls",
            "_model_module_version": "1.5.0",
            "_model_name": "HTMLModel",
            "_view_count": null,
            "_view_module": "@jupyter-widgets/controls",
            "_view_module_version": "1.5.0",
            "_view_name": "HTMLView",
            "description": "",
            "description_tooltip": null,
            "layout": "IPY_MODEL_0a4345e61d45428394ad20927611dbff",
            "placeholder": "​",
            "style": "IPY_MODEL_e6df1620f52c4dab9d59c31dcfdebd28",
            "value": " 1/1 [00:00&lt;00:00,  3.89it/s]"
          }
        },
        "35a5748d8f2a41c0a1e9cda250892108": {
          "model_module": "@jupyter-widgets/base",
          "model_name": "LayoutModel",
          "model_module_version": "1.2.0",
          "state": {
            "_model_module": "@jupyter-widgets/base",
            "_model_module_version": "1.2.0",
            "_model_name": "LayoutModel",
            "_view_count": null,
            "_view_module": "@jupyter-widgets/base",
            "_view_module_version": "1.2.0",
            "_view_name": "LayoutView",
            "align_content": null,
            "align_items": null,
            "align_self": null,
            "border": null,
            "bottom": null,
            "display": null,
            "flex": null,
            "flex_flow": null,
            "grid_area": null,
            "grid_auto_columns": null,
            "grid_auto_flow": null,
            "grid_auto_rows": null,
            "grid_column": null,
            "grid_gap": null,
            "grid_row": null,
            "grid_template_areas": null,
            "grid_template_columns": null,
            "grid_template_rows": null,
            "height": null,
            "justify_content": null,
            "justify_items": null,
            "left": null,
            "margin": null,
            "max_height": null,
            "max_width": null,
            "min_height": null,
            "min_width": null,
            "object_fit": null,
            "object_position": null,
            "order": null,
            "overflow": null,
            "overflow_x": null,
            "overflow_y": null,
            "padding": null,
            "right": null,
            "top": null,
            "visibility": null,
            "width": null
          }
        },
        "fa12fbb4e8954805a02f89a22fe32647": {
          "model_module": "@jupyter-widgets/base",
          "model_name": "LayoutModel",
          "model_module_version": "1.2.0",
          "state": {
            "_model_module": "@jupyter-widgets/base",
            "_model_module_version": "1.2.0",
            "_model_name": "LayoutModel",
            "_view_count": null,
            "_view_module": "@jupyter-widgets/base",
            "_view_module_version": "1.2.0",
            "_view_name": "LayoutView",
            "align_content": null,
            "align_items": null,
            "align_self": null,
            "border": null,
            "bottom": null,
            "display": null,
            "flex": null,
            "flex_flow": null,
            "grid_area": null,
            "grid_auto_columns": null,
            "grid_auto_flow": null,
            "grid_auto_rows": null,
            "grid_column": null,
            "grid_gap": null,
            "grid_row": null,
            "grid_template_areas": null,
            "grid_template_columns": null,
            "grid_template_rows": null,
            "height": null,
            "justify_content": null,
            "justify_items": null,
            "left": null,
            "margin": null,
            "max_height": null,
            "max_width": null,
            "min_height": null,
            "min_width": null,
            "object_fit": null,
            "object_position": null,
            "order": null,
            "overflow": null,
            "overflow_x": null,
            "overflow_y": null,
            "padding": null,
            "right": null,
            "top": null,
            "visibility": null,
            "width": null
          }
        },
        "73633949d5174f71940e9d087f3880a7": {
          "model_module": "@jupyter-widgets/controls",
          "model_name": "DescriptionStyleModel",
          "model_module_version": "1.5.0",
          "state": {
            "_model_module": "@jupyter-widgets/controls",
            "_model_module_version": "1.5.0",
            "_model_name": "DescriptionStyleModel",
            "_view_count": null,
            "_view_module": "@jupyter-widgets/base",
            "_view_module_version": "1.2.0",
            "_view_name": "StyleView",
            "description_width": ""
          }
        },
        "e8b87b5a9bb54994add7b2f4326af128": {
          "model_module": "@jupyter-widgets/base",
          "model_name": "LayoutModel",
          "model_module_version": "1.2.0",
          "state": {
            "_model_module": "@jupyter-widgets/base",
            "_model_module_version": "1.2.0",
            "_model_name": "LayoutModel",
            "_view_count": null,
            "_view_module": "@jupyter-widgets/base",
            "_view_module_version": "1.2.0",
            "_view_name": "LayoutView",
            "align_content": null,
            "align_items": null,
            "align_self": null,
            "border": null,
            "bottom": null,
            "display": null,
            "flex": null,
            "flex_flow": null,
            "grid_area": null,
            "grid_auto_columns": null,
            "grid_auto_flow": null,
            "grid_auto_rows": null,
            "grid_column": null,
            "grid_gap": null,
            "grid_row": null,
            "grid_template_areas": null,
            "grid_template_columns": null,
            "grid_template_rows": null,
            "height": null,
            "justify_content": null,
            "justify_items": null,
            "left": null,
            "margin": null,
            "max_height": null,
            "max_width": null,
            "min_height": null,
            "min_width": null,
            "object_fit": null,
            "object_position": null,
            "order": null,
            "overflow": null,
            "overflow_x": null,
            "overflow_y": null,
            "padding": null,
            "right": null,
            "top": null,
            "visibility": null,
            "width": null
          }
        },
        "30ddd358c41a44de9a66594fba7e6a83": {
          "model_module": "@jupyter-widgets/controls",
          "model_name": "ProgressStyleModel",
          "model_module_version": "1.5.0",
          "state": {
            "_model_module": "@jupyter-widgets/controls",
            "_model_module_version": "1.5.0",
            "_model_name": "ProgressStyleModel",
            "_view_count": null,
            "_view_module": "@jupyter-widgets/base",
            "_view_module_version": "1.2.0",
            "_view_name": "StyleView",
            "bar_color": null,
            "description_width": ""
          }
        },
        "0a4345e61d45428394ad20927611dbff": {
          "model_module": "@jupyter-widgets/base",
          "model_name": "LayoutModel",
          "model_module_version": "1.2.0",
          "state": {
            "_model_module": "@jupyter-widgets/base",
            "_model_module_version": "1.2.0",
            "_model_name": "LayoutModel",
            "_view_count": null,
            "_view_module": "@jupyter-widgets/base",
            "_view_module_version": "1.2.0",
            "_view_name": "LayoutView",
            "align_content": null,
            "align_items": null,
            "align_self": null,
            "border": null,
            "bottom": null,
            "display": null,
            "flex": null,
            "flex_flow": null,
            "grid_area": null,
            "grid_auto_columns": null,
            "grid_auto_flow": null,
            "grid_auto_rows": null,
            "grid_column": null,
            "grid_gap": null,
            "grid_row": null,
            "grid_template_areas": null,
            "grid_template_columns": null,
            "grid_template_rows": null,
            "height": null,
            "justify_content": null,
            "justify_items": null,
            "left": null,
            "margin": null,
            "max_height": null,
            "max_width": null,
            "min_height": null,
            "min_width": null,
            "object_fit": null,
            "object_position": null,
            "order": null,
            "overflow": null,
            "overflow_x": null,
            "overflow_y": null,
            "padding": null,
            "right": null,
            "top": null,
            "visibility": null,
            "width": null
          }
        },
        "e6df1620f52c4dab9d59c31dcfdebd28": {
          "model_module": "@jupyter-widgets/controls",
          "model_name": "DescriptionStyleModel",
          "model_module_version": "1.5.0",
          "state": {
            "_model_module": "@jupyter-widgets/controls",
            "_model_module_version": "1.5.0",
            "_model_name": "DescriptionStyleModel",
            "_view_count": null,
            "_view_module": "@jupyter-widgets/base",
            "_view_module_version": "1.2.0",
            "_view_name": "StyleView",
            "description_width": ""
          }
        },
        "6aece421c3c146c99cf93dd4b013197b": {
          "model_module": "@jupyter-widgets/controls",
          "model_name": "HBoxModel",
          "model_module_version": "1.5.0",
          "state": {
            "_dom_classes": [],
            "_model_module": "@jupyter-widgets/controls",
            "_model_module_version": "1.5.0",
            "_model_name": "HBoxModel",
            "_view_count": null,
            "_view_module": "@jupyter-widgets/controls",
            "_view_module_version": "1.5.0",
            "_view_name": "HBoxView",
            "box_style": "",
            "children": [
              "IPY_MODEL_7a508f3f3b2c4f40841b91e0bfaa9ee0",
              "IPY_MODEL_6985518931f5448f871f0e40e7aaa84d",
              "IPY_MODEL_22409fa0c9294e69bd8fd3f4c4cc9a54"
            ],
            "layout": "IPY_MODEL_9cdbaf3780074bb6ab37e28403960863"
          }
        },
        "7a508f3f3b2c4f40841b91e0bfaa9ee0": {
          "model_module": "@jupyter-widgets/controls",
          "model_name": "HTMLModel",
          "model_module_version": "1.5.0",
          "state": {
            "_dom_classes": [],
            "_model_module": "@jupyter-widgets/controls",
            "_model_module_version": "1.5.0",
            "_model_name": "HTMLModel",
            "_view_count": null,
            "_view_module": "@jupyter-widgets/controls",
            "_view_module_version": "1.5.0",
            "_view_name": "HTMLView",
            "description": "",
            "description_tooltip": null,
            "layout": "IPY_MODEL_f6d57242c756412c8b235fc7f25cbfc9",
            "placeholder": "​",
            "style": "IPY_MODEL_35f8de3dfdef43b58cf1b3ce610d0d17",
            "value": "Load sample metadata: 100%"
          }
        },
        "6985518931f5448f871f0e40e7aaa84d": {
          "model_module": "@jupyter-widgets/controls",
          "model_name": "FloatProgressModel",
          "model_module_version": "1.5.0",
          "state": {
            "_dom_classes": [],
            "_model_module": "@jupyter-widgets/controls",
            "_model_module_version": "1.5.0",
            "_model_name": "FloatProgressModel",
            "_view_count": null,
            "_view_module": "@jupyter-widgets/controls",
            "_view_module_version": "1.5.0",
            "_view_name": "ProgressView",
            "bar_style": "success",
            "description": "",
            "description_tooltip": null,
            "layout": "IPY_MODEL_8480604d48894c4389221ae34343b8e6",
            "max": 3,
            "min": 0,
            "orientation": "horizontal",
            "style": "IPY_MODEL_023809306461408093dd01b9ba0044c6",
            "value": 3
          }
        },
        "22409fa0c9294e69bd8fd3f4c4cc9a54": {
          "model_module": "@jupyter-widgets/controls",
          "model_name": "HTMLModel",
          "model_module_version": "1.5.0",
          "state": {
            "_dom_classes": [],
            "_model_module": "@jupyter-widgets/controls",
            "_model_module_version": "1.5.0",
            "_model_name": "HTMLModel",
            "_view_count": null,
            "_view_module": "@jupyter-widgets/controls",
            "_view_module_version": "1.5.0",
            "_view_name": "HTMLView",
            "description": "",
            "description_tooltip": null,
            "layout": "IPY_MODEL_d6f150f7543141ecb4f347ab937fdcb9",
            "placeholder": "​",
            "style": "IPY_MODEL_cdb6919d21764a09b6b062abdc2c66fc",
            "value": " 3/3 [00:00&lt;00:00,  4.60it/s]"
          }
        },
        "9cdbaf3780074bb6ab37e28403960863": {
          "model_module": "@jupyter-widgets/base",
          "model_name": "LayoutModel",
          "model_module_version": "1.2.0",
          "state": {
            "_model_module": "@jupyter-widgets/base",
            "_model_module_version": "1.2.0",
            "_model_name": "LayoutModel",
            "_view_count": null,
            "_view_module": "@jupyter-widgets/base",
            "_view_module_version": "1.2.0",
            "_view_name": "LayoutView",
            "align_content": null,
            "align_items": null,
            "align_self": null,
            "border": null,
            "bottom": null,
            "display": null,
            "flex": null,
            "flex_flow": null,
            "grid_area": null,
            "grid_auto_columns": null,
            "grid_auto_flow": null,
            "grid_auto_rows": null,
            "grid_column": null,
            "grid_gap": null,
            "grid_row": null,
            "grid_template_areas": null,
            "grid_template_columns": null,
            "grid_template_rows": null,
            "height": null,
            "justify_content": null,
            "justify_items": null,
            "left": null,
            "margin": null,
            "max_height": null,
            "max_width": null,
            "min_height": null,
            "min_width": null,
            "object_fit": null,
            "object_position": null,
            "order": null,
            "overflow": null,
            "overflow_x": null,
            "overflow_y": null,
            "padding": null,
            "right": null,
            "top": null,
            "visibility": null,
            "width": null
          }
        },
        "f6d57242c756412c8b235fc7f25cbfc9": {
          "model_module": "@jupyter-widgets/base",
          "model_name": "LayoutModel",
          "model_module_version": "1.2.0",
          "state": {
            "_model_module": "@jupyter-widgets/base",
            "_model_module_version": "1.2.0",
            "_model_name": "LayoutModel",
            "_view_count": null,
            "_view_module": "@jupyter-widgets/base",
            "_view_module_version": "1.2.0",
            "_view_name": "LayoutView",
            "align_content": null,
            "align_items": null,
            "align_self": null,
            "border": null,
            "bottom": null,
            "display": null,
            "flex": null,
            "flex_flow": null,
            "grid_area": null,
            "grid_auto_columns": null,
            "grid_auto_flow": null,
            "grid_auto_rows": null,
            "grid_column": null,
            "grid_gap": null,
            "grid_row": null,
            "grid_template_areas": null,
            "grid_template_columns": null,
            "grid_template_rows": null,
            "height": null,
            "justify_content": null,
            "justify_items": null,
            "left": null,
            "margin": null,
            "max_height": null,
            "max_width": null,
            "min_height": null,
            "min_width": null,
            "object_fit": null,
            "object_position": null,
            "order": null,
            "overflow": null,
            "overflow_x": null,
            "overflow_y": null,
            "padding": null,
            "right": null,
            "top": null,
            "visibility": null,
            "width": null
          }
        },
        "35f8de3dfdef43b58cf1b3ce610d0d17": {
          "model_module": "@jupyter-widgets/controls",
          "model_name": "DescriptionStyleModel",
          "model_module_version": "1.5.0",
          "state": {
            "_model_module": "@jupyter-widgets/controls",
            "_model_module_version": "1.5.0",
            "_model_name": "DescriptionStyleModel",
            "_view_count": null,
            "_view_module": "@jupyter-widgets/base",
            "_view_module_version": "1.2.0",
            "_view_name": "StyleView",
            "description_width": ""
          }
        },
        "8480604d48894c4389221ae34343b8e6": {
          "model_module": "@jupyter-widgets/base",
          "model_name": "LayoutModel",
          "model_module_version": "1.2.0",
          "state": {
            "_model_module": "@jupyter-widgets/base",
            "_model_module_version": "1.2.0",
            "_model_name": "LayoutModel",
            "_view_count": null,
            "_view_module": "@jupyter-widgets/base",
            "_view_module_version": "1.2.0",
            "_view_name": "LayoutView",
            "align_content": null,
            "align_items": null,
            "align_self": null,
            "border": null,
            "bottom": null,
            "display": null,
            "flex": null,
            "flex_flow": null,
            "grid_area": null,
            "grid_auto_columns": null,
            "grid_auto_flow": null,
            "grid_auto_rows": null,
            "grid_column": null,
            "grid_gap": null,
            "grid_row": null,
            "grid_template_areas": null,
            "grid_template_columns": null,
            "grid_template_rows": null,
            "height": null,
            "justify_content": null,
            "justify_items": null,
            "left": null,
            "margin": null,
            "max_height": null,
            "max_width": null,
            "min_height": null,
            "min_width": null,
            "object_fit": null,
            "object_position": null,
            "order": null,
            "overflow": null,
            "overflow_x": null,
            "overflow_y": null,
            "padding": null,
            "right": null,
            "top": null,
            "visibility": null,
            "width": null
          }
        },
        "023809306461408093dd01b9ba0044c6": {
          "model_module": "@jupyter-widgets/controls",
          "model_name": "ProgressStyleModel",
          "model_module_version": "1.5.0",
          "state": {
            "_model_module": "@jupyter-widgets/controls",
            "_model_module_version": "1.5.0",
            "_model_name": "ProgressStyleModel",
            "_view_count": null,
            "_view_module": "@jupyter-widgets/base",
            "_view_module_version": "1.2.0",
            "_view_name": "StyleView",
            "bar_color": null,
            "description_width": ""
          }
        },
        "d6f150f7543141ecb4f347ab937fdcb9": {
          "model_module": "@jupyter-widgets/base",
          "model_name": "LayoutModel",
          "model_module_version": "1.2.0",
          "state": {
            "_model_module": "@jupyter-widgets/base",
            "_model_module_version": "1.2.0",
            "_model_name": "LayoutModel",
            "_view_count": null,
            "_view_module": "@jupyter-widgets/base",
            "_view_module_version": "1.2.0",
            "_view_name": "LayoutView",
            "align_content": null,
            "align_items": null,
            "align_self": null,
            "border": null,
            "bottom": null,
            "display": null,
            "flex": null,
            "flex_flow": null,
            "grid_area": null,
            "grid_auto_columns": null,
            "grid_auto_flow": null,
            "grid_auto_rows": null,
            "grid_column": null,
            "grid_gap": null,
            "grid_row": null,
            "grid_template_areas": null,
            "grid_template_columns": null,
            "grid_template_rows": null,
            "height": null,
            "justify_content": null,
            "justify_items": null,
            "left": null,
            "margin": null,
            "max_height": null,
            "max_width": null,
            "min_height": null,
            "min_width": null,
            "object_fit": null,
            "object_position": null,
            "order": null,
            "overflow": null,
            "overflow_x": null,
            "overflow_y": null,
            "padding": null,
            "right": null,
            "top": null,
            "visibility": null,
            "width": null
          }
        },
        "cdb6919d21764a09b6b062abdc2c66fc": {
          "model_module": "@jupyter-widgets/controls",
          "model_name": "DescriptionStyleModel",
          "model_module_version": "1.5.0",
          "state": {
            "_model_module": "@jupyter-widgets/controls",
            "_model_module_version": "1.5.0",
            "_model_name": "DescriptionStyleModel",
            "_view_count": null,
            "_view_module": "@jupyter-widgets/base",
            "_view_module_version": "1.2.0",
            "_view_name": "StyleView",
            "description_width": ""
          }
        },
        "10e17dd527494a45ba2021a2da59d70d": {
          "model_module": "@jupyter-widgets/controls",
          "model_name": "HBoxModel",
          "model_module_version": "1.5.0",
          "state": {
            "_dom_classes": [],
            "_model_module": "@jupyter-widgets/controls",
            "_model_module_version": "1.5.0",
            "_model_name": "HBoxModel",
            "_view_count": null,
            "_view_module": "@jupyter-widgets/controls",
            "_view_module_version": "1.5.0",
            "_view_name": "HBoxView",
            "box_style": "",
            "children": [
              "IPY_MODEL_68c437c0dabb4b6188c0b18ce1ae4605",
              "IPY_MODEL_763389b4b02648f38816a5cdc0b2a929",
              "IPY_MODEL_7a4d2119d13f44c18bf3ab9b583f10e0"
            ],
            "layout": "IPY_MODEL_a29724a7e3e54b9e93ebf07853692f0d"
          }
        },
        "68c437c0dabb4b6188c0b18ce1ae4605": {
          "model_module": "@jupyter-widgets/controls",
          "model_name": "HTMLModel",
          "model_module_version": "1.5.0",
          "state": {
            "_dom_classes": [],
            "_model_module": "@jupyter-widgets/controls",
            "_model_module_version": "1.5.0",
            "_model_name": "HTMLModel",
            "_view_count": null,
            "_view_module": "@jupyter-widgets/controls",
            "_view_module_version": "1.5.0",
            "_view_name": "HTMLView",
            "description": "",
            "description_tooltip": null,
            "layout": "IPY_MODEL_f056f7067928446e80ab38b4b559f0e8",
            "placeholder": "​",
            "style": "IPY_MODEL_02f874d746cd4f7dbe93a247e2b868b9",
            "value": "Compute SNP allele counts: 100%"
          }
        },
        "763389b4b02648f38816a5cdc0b2a929": {
          "model_module": "@jupyter-widgets/controls",
          "model_name": "FloatProgressModel",
          "model_module_version": "1.5.0",
          "state": {
            "_dom_classes": [],
            "_model_module": "@jupyter-widgets/controls",
            "_model_module_version": "1.5.0",
            "_model_name": "FloatProgressModel",
            "_view_count": null,
            "_view_module": "@jupyter-widgets/controls",
            "_view_module_version": "1.5.0",
            "_view_name": "ProgressView",
            "bar_style": "success",
            "description": "",
            "description_tooltip": null,
            "layout": "IPY_MODEL_7638930f0a774828abd74d857cfab060",
            "max": 3182,
            "min": 0,
            "orientation": "horizontal",
            "style": "IPY_MODEL_8d5778bb576d4c5f9f5d18f3cbd99b43",
            "value": 3182
          }
        },
        "7a4d2119d13f44c18bf3ab9b583f10e0": {
          "model_module": "@jupyter-widgets/controls",
          "model_name": "HTMLModel",
          "model_module_version": "1.5.0",
          "state": {
            "_dom_classes": [],
            "_model_module": "@jupyter-widgets/controls",
            "_model_module_version": "1.5.0",
            "_model_name": "HTMLModel",
            "_view_count": null,
            "_view_module": "@jupyter-widgets/controls",
            "_view_module_version": "1.5.0",
            "_view_name": "HTMLView",
            "description": "",
            "description_tooltip": null,
            "layout": "IPY_MODEL_593e04d52cdf402fb3b7e0ae95cca99d",
            "placeholder": "​",
            "style": "IPY_MODEL_f25abdb415a743b58e2bbf0fedc004c8",
            "value": " 3182/3182 [01:15&lt;00:00, 52.05it/s]"
          }
        },
        "a29724a7e3e54b9e93ebf07853692f0d": {
          "model_module": "@jupyter-widgets/base",
          "model_name": "LayoutModel",
          "model_module_version": "1.2.0",
          "state": {
            "_model_module": "@jupyter-widgets/base",
            "_model_module_version": "1.2.0",
            "_model_name": "LayoutModel",
            "_view_count": null,
            "_view_module": "@jupyter-widgets/base",
            "_view_module_version": "1.2.0",
            "_view_name": "LayoutView",
            "align_content": null,
            "align_items": null,
            "align_self": null,
            "border": null,
            "bottom": null,
            "display": null,
            "flex": null,
            "flex_flow": null,
            "grid_area": null,
            "grid_auto_columns": null,
            "grid_auto_flow": null,
            "grid_auto_rows": null,
            "grid_column": null,
            "grid_gap": null,
            "grid_row": null,
            "grid_template_areas": null,
            "grid_template_columns": null,
            "grid_template_rows": null,
            "height": null,
            "justify_content": null,
            "justify_items": null,
            "left": null,
            "margin": null,
            "max_height": null,
            "max_width": null,
            "min_height": null,
            "min_width": null,
            "object_fit": null,
            "object_position": null,
            "order": null,
            "overflow": null,
            "overflow_x": null,
            "overflow_y": null,
            "padding": null,
            "right": null,
            "top": null,
            "visibility": null,
            "width": null
          }
        },
        "f056f7067928446e80ab38b4b559f0e8": {
          "model_module": "@jupyter-widgets/base",
          "model_name": "LayoutModel",
          "model_module_version": "1.2.0",
          "state": {
            "_model_module": "@jupyter-widgets/base",
            "_model_module_version": "1.2.0",
            "_model_name": "LayoutModel",
            "_view_count": null,
            "_view_module": "@jupyter-widgets/base",
            "_view_module_version": "1.2.0",
            "_view_name": "LayoutView",
            "align_content": null,
            "align_items": null,
            "align_self": null,
            "border": null,
            "bottom": null,
            "display": null,
            "flex": null,
            "flex_flow": null,
            "grid_area": null,
            "grid_auto_columns": null,
            "grid_auto_flow": null,
            "grid_auto_rows": null,
            "grid_column": null,
            "grid_gap": null,
            "grid_row": null,
            "grid_template_areas": null,
            "grid_template_columns": null,
            "grid_template_rows": null,
            "height": null,
            "justify_content": null,
            "justify_items": null,
            "left": null,
            "margin": null,
            "max_height": null,
            "max_width": null,
            "min_height": null,
            "min_width": null,
            "object_fit": null,
            "object_position": null,
            "order": null,
            "overflow": null,
            "overflow_x": null,
            "overflow_y": null,
            "padding": null,
            "right": null,
            "top": null,
            "visibility": null,
            "width": null
          }
        },
        "02f874d746cd4f7dbe93a247e2b868b9": {
          "model_module": "@jupyter-widgets/controls",
          "model_name": "DescriptionStyleModel",
          "model_module_version": "1.5.0",
          "state": {
            "_model_module": "@jupyter-widgets/controls",
            "_model_module_version": "1.5.0",
            "_model_name": "DescriptionStyleModel",
            "_view_count": null,
            "_view_module": "@jupyter-widgets/base",
            "_view_module_version": "1.2.0",
            "_view_name": "StyleView",
            "description_width": ""
          }
        },
        "7638930f0a774828abd74d857cfab060": {
          "model_module": "@jupyter-widgets/base",
          "model_name": "LayoutModel",
          "model_module_version": "1.2.0",
          "state": {
            "_model_module": "@jupyter-widgets/base",
            "_model_module_version": "1.2.0",
            "_model_name": "LayoutModel",
            "_view_count": null,
            "_view_module": "@jupyter-widgets/base",
            "_view_module_version": "1.2.0",
            "_view_name": "LayoutView",
            "align_content": null,
            "align_items": null,
            "align_self": null,
            "border": null,
            "bottom": null,
            "display": null,
            "flex": null,
            "flex_flow": null,
            "grid_area": null,
            "grid_auto_columns": null,
            "grid_auto_flow": null,
            "grid_auto_rows": null,
            "grid_column": null,
            "grid_gap": null,
            "grid_row": null,
            "grid_template_areas": null,
            "grid_template_columns": null,
            "grid_template_rows": null,
            "height": null,
            "justify_content": null,
            "justify_items": null,
            "left": null,
            "margin": null,
            "max_height": null,
            "max_width": null,
            "min_height": null,
            "min_width": null,
            "object_fit": null,
            "object_position": null,
            "order": null,
            "overflow": null,
            "overflow_x": null,
            "overflow_y": null,
            "padding": null,
            "right": null,
            "top": null,
            "visibility": null,
            "width": null
          }
        },
        "8d5778bb576d4c5f9f5d18f3cbd99b43": {
          "model_module": "@jupyter-widgets/controls",
          "model_name": "ProgressStyleModel",
          "model_module_version": "1.5.0",
          "state": {
            "_model_module": "@jupyter-widgets/controls",
            "_model_module_version": "1.5.0",
            "_model_name": "ProgressStyleModel",
            "_view_count": null,
            "_view_module": "@jupyter-widgets/base",
            "_view_module_version": "1.2.0",
            "_view_name": "StyleView",
            "bar_color": null,
            "description_width": ""
          }
        },
        "593e04d52cdf402fb3b7e0ae95cca99d": {
          "model_module": "@jupyter-widgets/base",
          "model_name": "LayoutModel",
          "model_module_version": "1.2.0",
          "state": {
            "_model_module": "@jupyter-widgets/base",
            "_model_module_version": "1.2.0",
            "_model_name": "LayoutModel",
            "_view_count": null,
            "_view_module": "@jupyter-widgets/base",
            "_view_module_version": "1.2.0",
            "_view_name": "LayoutView",
            "align_content": null,
            "align_items": null,
            "align_self": null,
            "border": null,
            "bottom": null,
            "display": null,
            "flex": null,
            "flex_flow": null,
            "grid_area": null,
            "grid_auto_columns": null,
            "grid_auto_flow": null,
            "grid_auto_rows": null,
            "grid_column": null,
            "grid_gap": null,
            "grid_row": null,
            "grid_template_areas": null,
            "grid_template_columns": null,
            "grid_template_rows": null,
            "height": null,
            "justify_content": null,
            "justify_items": null,
            "left": null,
            "margin": null,
            "max_height": null,
            "max_width": null,
            "min_height": null,
            "min_width": null,
            "object_fit": null,
            "object_position": null,
            "order": null,
            "overflow": null,
            "overflow_x": null,
            "overflow_y": null,
            "padding": null,
            "right": null,
            "top": null,
            "visibility": null,
            "width": null
          }
        },
        "f25abdb415a743b58e2bbf0fedc004c8": {
          "model_module": "@jupyter-widgets/controls",
          "model_name": "DescriptionStyleModel",
          "model_module_version": "1.5.0",
          "state": {
            "_model_module": "@jupyter-widgets/controls",
            "_model_module_version": "1.5.0",
            "_model_name": "DescriptionStyleModel",
            "_view_count": null,
            "_view_module": "@jupyter-widgets/base",
            "_view_module_version": "1.2.0",
            "_view_name": "StyleView",
            "description_width": ""
          }
        },
        "57116b36e11b4fd9b1bff274647e1476": {
          "model_module": "@jupyter-widgets/controls",
          "model_name": "HBoxModel",
          "model_module_version": "1.5.0",
          "state": {
            "_dom_classes": [],
            "_model_module": "@jupyter-widgets/controls",
            "_model_module_version": "1.5.0",
            "_model_name": "HBoxModel",
            "_view_count": null,
            "_view_module": "@jupyter-widgets/controls",
            "_view_module_version": "1.5.0",
            "_view_name": "HBoxView",
            "box_style": "",
            "children": [
              "IPY_MODEL_c31367272b664842b637dd8a34629ca8",
              "IPY_MODEL_4fb0dcd0dfa649d9953830601bef908c",
              "IPY_MODEL_b7e3d32657624d30b23612eee246c481"
            ],
            "layout": "IPY_MODEL_26c6f81045cd4c5f831040b21717a0b2"
          }
        },
        "c31367272b664842b637dd8a34629ca8": {
          "model_module": "@jupyter-widgets/controls",
          "model_name": "HTMLModel",
          "model_module_version": "1.5.0",
          "state": {
            "_dom_classes": [],
            "_model_module": "@jupyter-widgets/controls",
            "_model_module_version": "1.5.0",
            "_model_name": "HTMLModel",
            "_view_count": null,
            "_view_module": "@jupyter-widgets/controls",
            "_view_module_version": "1.5.0",
            "_view_name": "HTMLView",
            "description": "",
            "description_tooltip": null,
            "layout": "IPY_MODEL_86bbc8d9944945f3b00a69717113ebb0",
            "placeholder": "​",
            "style": "IPY_MODEL_baf2e5538811481db60f3fd475b153e1",
            "value": "Load SNP genotypes: 100%"
          }
        },
        "4fb0dcd0dfa649d9953830601bef908c": {
          "model_module": "@jupyter-widgets/controls",
          "model_name": "FloatProgressModel",
          "model_module_version": "1.5.0",
          "state": {
            "_dom_classes": [],
            "_model_module": "@jupyter-widgets/controls",
            "_model_module_version": "1.5.0",
            "_model_name": "FloatProgressModel",
            "_view_count": null,
            "_view_module": "@jupyter-widgets/controls",
            "_view_module_version": "1.5.0",
            "_view_name": "ProgressView",
            "bar_style": "success",
            "description": "",
            "description_tooltip": null,
            "layout": "IPY_MODEL_b9294ab28e8948439b2251f470f15081",
            "max": 2924,
            "min": 0,
            "orientation": "horizontal",
            "style": "IPY_MODEL_d22dbca73ede48a8862bf1acaa038bed",
            "value": 2924
          }
        },
        "b7e3d32657624d30b23612eee246c481": {
          "model_module": "@jupyter-widgets/controls",
          "model_name": "HTMLModel",
          "model_module_version": "1.5.0",
          "state": {
            "_dom_classes": [],
            "_model_module": "@jupyter-widgets/controls",
            "_model_module_version": "1.5.0",
            "_model_name": "HTMLModel",
            "_view_count": null,
            "_view_module": "@jupyter-widgets/controls",
            "_view_module_version": "1.5.0",
            "_view_name": "HTMLView",
            "description": "",
            "description_tooltip": null,
            "layout": "IPY_MODEL_9ea397c4e8e8417a84a283acc93e427d",
            "placeholder": "​",
            "style": "IPY_MODEL_fd6b5145599247a6bdc8f9f599dd55ea",
            "value": " 2924/2924 [00:57&lt;00:00, 63.11it/s]"
          }
        },
        "26c6f81045cd4c5f831040b21717a0b2": {
          "model_module": "@jupyter-widgets/base",
          "model_name": "LayoutModel",
          "model_module_version": "1.2.0",
          "state": {
            "_model_module": "@jupyter-widgets/base",
            "_model_module_version": "1.2.0",
            "_model_name": "LayoutModel",
            "_view_count": null,
            "_view_module": "@jupyter-widgets/base",
            "_view_module_version": "1.2.0",
            "_view_name": "LayoutView",
            "align_content": null,
            "align_items": null,
            "align_self": null,
            "border": null,
            "bottom": null,
            "display": null,
            "flex": null,
            "flex_flow": null,
            "grid_area": null,
            "grid_auto_columns": null,
            "grid_auto_flow": null,
            "grid_auto_rows": null,
            "grid_column": null,
            "grid_gap": null,
            "grid_row": null,
            "grid_template_areas": null,
            "grid_template_columns": null,
            "grid_template_rows": null,
            "height": null,
            "justify_content": null,
            "justify_items": null,
            "left": null,
            "margin": null,
            "max_height": null,
            "max_width": null,
            "min_height": null,
            "min_width": null,
            "object_fit": null,
            "object_position": null,
            "order": null,
            "overflow": null,
            "overflow_x": null,
            "overflow_y": null,
            "padding": null,
            "right": null,
            "top": null,
            "visibility": null,
            "width": null
          }
        },
        "86bbc8d9944945f3b00a69717113ebb0": {
          "model_module": "@jupyter-widgets/base",
          "model_name": "LayoutModel",
          "model_module_version": "1.2.0",
          "state": {
            "_model_module": "@jupyter-widgets/base",
            "_model_module_version": "1.2.0",
            "_model_name": "LayoutModel",
            "_view_count": null,
            "_view_module": "@jupyter-widgets/base",
            "_view_module_version": "1.2.0",
            "_view_name": "LayoutView",
            "align_content": null,
            "align_items": null,
            "align_self": null,
            "border": null,
            "bottom": null,
            "display": null,
            "flex": null,
            "flex_flow": null,
            "grid_area": null,
            "grid_auto_columns": null,
            "grid_auto_flow": null,
            "grid_auto_rows": null,
            "grid_column": null,
            "grid_gap": null,
            "grid_row": null,
            "grid_template_areas": null,
            "grid_template_columns": null,
            "grid_template_rows": null,
            "height": null,
            "justify_content": null,
            "justify_items": null,
            "left": null,
            "margin": null,
            "max_height": null,
            "max_width": null,
            "min_height": null,
            "min_width": null,
            "object_fit": null,
            "object_position": null,
            "order": null,
            "overflow": null,
            "overflow_x": null,
            "overflow_y": null,
            "padding": null,
            "right": null,
            "top": null,
            "visibility": null,
            "width": null
          }
        },
        "baf2e5538811481db60f3fd475b153e1": {
          "model_module": "@jupyter-widgets/controls",
          "model_name": "DescriptionStyleModel",
          "model_module_version": "1.5.0",
          "state": {
            "_model_module": "@jupyter-widgets/controls",
            "_model_module_version": "1.5.0",
            "_model_name": "DescriptionStyleModel",
            "_view_count": null,
            "_view_module": "@jupyter-widgets/base",
            "_view_module_version": "1.2.0",
            "_view_name": "StyleView",
            "description_width": ""
          }
        },
        "b9294ab28e8948439b2251f470f15081": {
          "model_module": "@jupyter-widgets/base",
          "model_name": "LayoutModel",
          "model_module_version": "1.2.0",
          "state": {
            "_model_module": "@jupyter-widgets/base",
            "_model_module_version": "1.2.0",
            "_model_name": "LayoutModel",
            "_view_count": null,
            "_view_module": "@jupyter-widgets/base",
            "_view_module_version": "1.2.0",
            "_view_name": "LayoutView",
            "align_content": null,
            "align_items": null,
            "align_self": null,
            "border": null,
            "bottom": null,
            "display": null,
            "flex": null,
            "flex_flow": null,
            "grid_area": null,
            "grid_auto_columns": null,
            "grid_auto_flow": null,
            "grid_auto_rows": null,
            "grid_column": null,
            "grid_gap": null,
            "grid_row": null,
            "grid_template_areas": null,
            "grid_template_columns": null,
            "grid_template_rows": null,
            "height": null,
            "justify_content": null,
            "justify_items": null,
            "left": null,
            "margin": null,
            "max_height": null,
            "max_width": null,
            "min_height": null,
            "min_width": null,
            "object_fit": null,
            "object_position": null,
            "order": null,
            "overflow": null,
            "overflow_x": null,
            "overflow_y": null,
            "padding": null,
            "right": null,
            "top": null,
            "visibility": null,
            "width": null
          }
        },
        "d22dbca73ede48a8862bf1acaa038bed": {
          "model_module": "@jupyter-widgets/controls",
          "model_name": "ProgressStyleModel",
          "model_module_version": "1.5.0",
          "state": {
            "_model_module": "@jupyter-widgets/controls",
            "_model_module_version": "1.5.0",
            "_model_name": "ProgressStyleModel",
            "_view_count": null,
            "_view_module": "@jupyter-widgets/base",
            "_view_module_version": "1.2.0",
            "_view_name": "StyleView",
            "bar_color": null,
            "description_width": ""
          }
        },
        "9ea397c4e8e8417a84a283acc93e427d": {
          "model_module": "@jupyter-widgets/base",
          "model_name": "LayoutModel",
          "model_module_version": "1.2.0",
          "state": {
            "_model_module": "@jupyter-widgets/base",
            "_model_module_version": "1.2.0",
            "_model_name": "LayoutModel",
            "_view_count": null,
            "_view_module": "@jupyter-widgets/base",
            "_view_module_version": "1.2.0",
            "_view_name": "LayoutView",
            "align_content": null,
            "align_items": null,
            "align_self": null,
            "border": null,
            "bottom": null,
            "display": null,
            "flex": null,
            "flex_flow": null,
            "grid_area": null,
            "grid_auto_columns": null,
            "grid_auto_flow": null,
            "grid_auto_rows": null,
            "grid_column": null,
            "grid_gap": null,
            "grid_row": null,
            "grid_template_areas": null,
            "grid_template_columns": null,
            "grid_template_rows": null,
            "height": null,
            "justify_content": null,
            "justify_items": null,
            "left": null,
            "margin": null,
            "max_height": null,
            "max_width": null,
            "min_height": null,
            "min_width": null,
            "object_fit": null,
            "object_position": null,
            "order": null,
            "overflow": null,
            "overflow_x": null,
            "overflow_y": null,
            "padding": null,
            "right": null,
            "top": null,
            "visibility": null,
            "width": null
          }
        },
        "fd6b5145599247a6bdc8f9f599dd55ea": {
          "model_module": "@jupyter-widgets/controls",
          "model_name": "DescriptionStyleModel",
          "model_module_version": "1.5.0",
          "state": {
            "_model_module": "@jupyter-widgets/controls",
            "_model_module_version": "1.5.0",
            "_model_name": "DescriptionStyleModel",
            "_view_count": null,
            "_view_module": "@jupyter-widgets/base",
            "_view_module_version": "1.2.0",
            "_view_name": "StyleView",
            "description_width": ""
          }
        },
        "d1d31dfadd074d258545fac974942a68": {
          "model_module": "@jupyter-widgets/controls",
          "model_name": "HBoxModel",
          "model_module_version": "1.5.0",
          "state": {
            "_dom_classes": [],
            "_model_module": "@jupyter-widgets/controls",
            "_model_module_version": "1.5.0",
            "_model_name": "HBoxModel",
            "_view_count": null,
            "_view_module": "@jupyter-widgets/controls",
            "_view_module_version": "1.5.0",
            "_view_name": "HBoxView",
            "box_style": "",
            "children": [
              "IPY_MODEL_6067ef748d974667b9d2e5c2088799f7",
              "IPY_MODEL_3d9e43eb6ce946989f040bb20057b624",
              "IPY_MODEL_e7134c1ae02143378f9ac054b90acbb4"
            ],
            "layout": "IPY_MODEL_ed0b14a722c2476a99cc9b79424bebeb"
          }
        },
        "6067ef748d974667b9d2e5c2088799f7": {
          "model_module": "@jupyter-widgets/controls",
          "model_name": "HTMLModel",
          "model_module_version": "1.5.0",
          "state": {
            "_dom_classes": [],
            "_model_module": "@jupyter-widgets/controls",
            "_model_module_version": "1.5.0",
            "_model_name": "HTMLModel",
            "_view_count": null,
            "_view_module": "@jupyter-widgets/controls",
            "_view_module_version": "1.5.0",
            "_view_name": "HTMLView",
            "description": "",
            "description_tooltip": null,
            "layout": "IPY_MODEL_b021f753e1114229930fa18292899951",
            "placeholder": "​",
            "style": "IPY_MODEL_9a8c7893d320445d959da7e5f03b7e45",
            "value": "Compute SNP allele counts: 100%"
          }
        },
        "3d9e43eb6ce946989f040bb20057b624": {
          "model_module": "@jupyter-widgets/controls",
          "model_name": "FloatProgressModel",
          "model_module_version": "1.5.0",
          "state": {
            "_dom_classes": [],
            "_model_module": "@jupyter-widgets/controls",
            "_model_module_version": "1.5.0",
            "_model_name": "FloatProgressModel",
            "_view_count": null,
            "_view_module": "@jupyter-widgets/controls",
            "_view_module_version": "1.5.0",
            "_view_name": "ProgressView",
            "bar_style": "success",
            "description": "",
            "description_tooltip": null,
            "layout": "IPY_MODEL_95d2bb5d13cb4f4c829e7f995a2d065e",
            "max": 3182,
            "min": 0,
            "orientation": "horizontal",
            "style": "IPY_MODEL_d1b8263899104a248a50a5fcece60ecf",
            "value": 3182
          }
        },
        "e7134c1ae02143378f9ac054b90acbb4": {
          "model_module": "@jupyter-widgets/controls",
          "model_name": "HTMLModel",
          "model_module_version": "1.5.0",
          "state": {
            "_dom_classes": [],
            "_model_module": "@jupyter-widgets/controls",
            "_model_module_version": "1.5.0",
            "_model_name": "HTMLModel",
            "_view_count": null,
            "_view_module": "@jupyter-widgets/controls",
            "_view_module_version": "1.5.0",
            "_view_name": "HTMLView",
            "description": "",
            "description_tooltip": null,
            "layout": "IPY_MODEL_0bb88b68fa07453c96bd30e7cae5fd27",
            "placeholder": "​",
            "style": "IPY_MODEL_87e55aefe5084ff0a6d5fd99714e6718",
            "value": " 3182/3182 [02:22&lt;00:00, 15.83it/s]"
          }
        },
        "ed0b14a722c2476a99cc9b79424bebeb": {
          "model_module": "@jupyter-widgets/base",
          "model_name": "LayoutModel",
          "model_module_version": "1.2.0",
          "state": {
            "_model_module": "@jupyter-widgets/base",
            "_model_module_version": "1.2.0",
            "_model_name": "LayoutModel",
            "_view_count": null,
            "_view_module": "@jupyter-widgets/base",
            "_view_module_version": "1.2.0",
            "_view_name": "LayoutView",
            "align_content": null,
            "align_items": null,
            "align_self": null,
            "border": null,
            "bottom": null,
            "display": null,
            "flex": null,
            "flex_flow": null,
            "grid_area": null,
            "grid_auto_columns": null,
            "grid_auto_flow": null,
            "grid_auto_rows": null,
            "grid_column": null,
            "grid_gap": null,
            "grid_row": null,
            "grid_template_areas": null,
            "grid_template_columns": null,
            "grid_template_rows": null,
            "height": null,
            "justify_content": null,
            "justify_items": null,
            "left": null,
            "margin": null,
            "max_height": null,
            "max_width": null,
            "min_height": null,
            "min_width": null,
            "object_fit": null,
            "object_position": null,
            "order": null,
            "overflow": null,
            "overflow_x": null,
            "overflow_y": null,
            "padding": null,
            "right": null,
            "top": null,
            "visibility": null,
            "width": null
          }
        },
        "b021f753e1114229930fa18292899951": {
          "model_module": "@jupyter-widgets/base",
          "model_name": "LayoutModel",
          "model_module_version": "1.2.0",
          "state": {
            "_model_module": "@jupyter-widgets/base",
            "_model_module_version": "1.2.0",
            "_model_name": "LayoutModel",
            "_view_count": null,
            "_view_module": "@jupyter-widgets/base",
            "_view_module_version": "1.2.0",
            "_view_name": "LayoutView",
            "align_content": null,
            "align_items": null,
            "align_self": null,
            "border": null,
            "bottom": null,
            "display": null,
            "flex": null,
            "flex_flow": null,
            "grid_area": null,
            "grid_auto_columns": null,
            "grid_auto_flow": null,
            "grid_auto_rows": null,
            "grid_column": null,
            "grid_gap": null,
            "grid_row": null,
            "grid_template_areas": null,
            "grid_template_columns": null,
            "grid_template_rows": null,
            "height": null,
            "justify_content": null,
            "justify_items": null,
            "left": null,
            "margin": null,
            "max_height": null,
            "max_width": null,
            "min_height": null,
            "min_width": null,
            "object_fit": null,
            "object_position": null,
            "order": null,
            "overflow": null,
            "overflow_x": null,
            "overflow_y": null,
            "padding": null,
            "right": null,
            "top": null,
            "visibility": null,
            "width": null
          }
        },
        "9a8c7893d320445d959da7e5f03b7e45": {
          "model_module": "@jupyter-widgets/controls",
          "model_name": "DescriptionStyleModel",
          "model_module_version": "1.5.0",
          "state": {
            "_model_module": "@jupyter-widgets/controls",
            "_model_module_version": "1.5.0",
            "_model_name": "DescriptionStyleModel",
            "_view_count": null,
            "_view_module": "@jupyter-widgets/base",
            "_view_module_version": "1.2.0",
            "_view_name": "StyleView",
            "description_width": ""
          }
        },
        "95d2bb5d13cb4f4c829e7f995a2d065e": {
          "model_module": "@jupyter-widgets/base",
          "model_name": "LayoutModel",
          "model_module_version": "1.2.0",
          "state": {
            "_model_module": "@jupyter-widgets/base",
            "_model_module_version": "1.2.0",
            "_model_name": "LayoutModel",
            "_view_count": null,
            "_view_module": "@jupyter-widgets/base",
            "_view_module_version": "1.2.0",
            "_view_name": "LayoutView",
            "align_content": null,
            "align_items": null,
            "align_self": null,
            "border": null,
            "bottom": null,
            "display": null,
            "flex": null,
            "flex_flow": null,
            "grid_area": null,
            "grid_auto_columns": null,
            "grid_auto_flow": null,
            "grid_auto_rows": null,
            "grid_column": null,
            "grid_gap": null,
            "grid_row": null,
            "grid_template_areas": null,
            "grid_template_columns": null,
            "grid_template_rows": null,
            "height": null,
            "justify_content": null,
            "justify_items": null,
            "left": null,
            "margin": null,
            "max_height": null,
            "max_width": null,
            "min_height": null,
            "min_width": null,
            "object_fit": null,
            "object_position": null,
            "order": null,
            "overflow": null,
            "overflow_x": null,
            "overflow_y": null,
            "padding": null,
            "right": null,
            "top": null,
            "visibility": null,
            "width": null
          }
        },
        "d1b8263899104a248a50a5fcece60ecf": {
          "model_module": "@jupyter-widgets/controls",
          "model_name": "ProgressStyleModel",
          "model_module_version": "1.5.0",
          "state": {
            "_model_module": "@jupyter-widgets/controls",
            "_model_module_version": "1.5.0",
            "_model_name": "ProgressStyleModel",
            "_view_count": null,
            "_view_module": "@jupyter-widgets/base",
            "_view_module_version": "1.2.0",
            "_view_name": "StyleView",
            "bar_color": null,
            "description_width": ""
          }
        },
        "0bb88b68fa07453c96bd30e7cae5fd27": {
          "model_module": "@jupyter-widgets/base",
          "model_name": "LayoutModel",
          "model_module_version": "1.2.0",
          "state": {
            "_model_module": "@jupyter-widgets/base",
            "_model_module_version": "1.2.0",
            "_model_name": "LayoutModel",
            "_view_count": null,
            "_view_module": "@jupyter-widgets/base",
            "_view_module_version": "1.2.0",
            "_view_name": "LayoutView",
            "align_content": null,
            "align_items": null,
            "align_self": null,
            "border": null,
            "bottom": null,
            "display": null,
            "flex": null,
            "flex_flow": null,
            "grid_area": null,
            "grid_auto_columns": null,
            "grid_auto_flow": null,
            "grid_auto_rows": null,
            "grid_column": null,
            "grid_gap": null,
            "grid_row": null,
            "grid_template_areas": null,
            "grid_template_columns": null,
            "grid_template_rows": null,
            "height": null,
            "justify_content": null,
            "justify_items": null,
            "left": null,
            "margin": null,
            "max_height": null,
            "max_width": null,
            "min_height": null,
            "min_width": null,
            "object_fit": null,
            "object_position": null,
            "order": null,
            "overflow": null,
            "overflow_x": null,
            "overflow_y": null,
            "padding": null,
            "right": null,
            "top": null,
            "visibility": null,
            "width": null
          }
        },
        "87e55aefe5084ff0a6d5fd99714e6718": {
          "model_module": "@jupyter-widgets/controls",
          "model_name": "DescriptionStyleModel",
          "model_module_version": "1.5.0",
          "state": {
            "_model_module": "@jupyter-widgets/controls",
            "_model_module_version": "1.5.0",
            "_model_name": "DescriptionStyleModel",
            "_view_count": null,
            "_view_module": "@jupyter-widgets/base",
            "_view_module_version": "1.2.0",
            "_view_name": "StyleView",
            "description_width": ""
          }
        },
        "2d75bb4ace334423b06b26df599f2195": {
          "model_module": "@jupyter-widgets/controls",
          "model_name": "HBoxModel",
          "model_module_version": "1.5.0",
          "state": {
            "_dom_classes": [],
            "_model_module": "@jupyter-widgets/controls",
            "_model_module_version": "1.5.0",
            "_model_name": "HBoxModel",
            "_view_count": null,
            "_view_module": "@jupyter-widgets/controls",
            "_view_module_version": "1.5.0",
            "_view_name": "HBoxView",
            "box_style": "",
            "children": [
              "IPY_MODEL_59c681d0153f41ef8825ee8f0f8588a0",
              "IPY_MODEL_3b5fdd95c1574f8dbf8f9004c3e43ae1",
              "IPY_MODEL_704da1a04c0a48309b4ac936c8d294ce"
            ],
            "layout": "IPY_MODEL_64729d23349242a3b59d471a9f94bf88"
          }
        },
        "59c681d0153f41ef8825ee8f0f8588a0": {
          "model_module": "@jupyter-widgets/controls",
          "model_name": "HTMLModel",
          "model_module_version": "1.5.0",
          "state": {
            "_dom_classes": [],
            "_model_module": "@jupyter-widgets/controls",
            "_model_module_version": "1.5.0",
            "_model_name": "HTMLModel",
            "_view_count": null,
            "_view_module": "@jupyter-widgets/controls",
            "_view_module_version": "1.5.0",
            "_view_name": "HTMLView",
            "description": "",
            "description_tooltip": null,
            "layout": "IPY_MODEL_774d53ce9aaa4012adb43f45c05d532b",
            "placeholder": "​",
            "style": "IPY_MODEL_30acc43c0ce04a29897248c4c147696e",
            "value": "Load SNP genotypes: 100%"
          }
        },
        "3b5fdd95c1574f8dbf8f9004c3e43ae1": {
          "model_module": "@jupyter-widgets/controls",
          "model_name": "FloatProgressModel",
          "model_module_version": "1.5.0",
          "state": {
            "_dom_classes": [],
            "_model_module": "@jupyter-widgets/controls",
            "_model_module_version": "1.5.0",
            "_model_name": "FloatProgressModel",
            "_view_count": null,
            "_view_module": "@jupyter-widgets/controls",
            "_view_module_version": "1.5.0",
            "_view_name": "ProgressView",
            "bar_style": "success",
            "description": "",
            "description_tooltip": null,
            "layout": "IPY_MODEL_c37f4402d1864d539161fe0487b8d1a3",
            "max": 2924,
            "min": 0,
            "orientation": "horizontal",
            "style": "IPY_MODEL_49fc1aaf0d5a4d01b9e0453cfb3a318e",
            "value": 2924
          }
        },
        "704da1a04c0a48309b4ac936c8d294ce": {
          "model_module": "@jupyter-widgets/controls",
          "model_name": "HTMLModel",
          "model_module_version": "1.5.0",
          "state": {
            "_dom_classes": [],
            "_model_module": "@jupyter-widgets/controls",
            "_model_module_version": "1.5.0",
            "_model_name": "HTMLModel",
            "_view_count": null,
            "_view_module": "@jupyter-widgets/controls",
            "_view_module_version": "1.5.0",
            "_view_name": "HTMLView",
            "description": "",
            "description_tooltip": null,
            "layout": "IPY_MODEL_53a27afb58364e2a83cbd5be23110915",
            "placeholder": "​",
            "style": "IPY_MODEL_090fc7925c334a75a4ca98181a5c8864",
            "value": " 2924/2924 [01:32&lt;00:00, 43.79it/s]"
          }
        },
        "64729d23349242a3b59d471a9f94bf88": {
          "model_module": "@jupyter-widgets/base",
          "model_name": "LayoutModel",
          "model_module_version": "1.2.0",
          "state": {
            "_model_module": "@jupyter-widgets/base",
            "_model_module_version": "1.2.0",
            "_model_name": "LayoutModel",
            "_view_count": null,
            "_view_module": "@jupyter-widgets/base",
            "_view_module_version": "1.2.0",
            "_view_name": "LayoutView",
            "align_content": null,
            "align_items": null,
            "align_self": null,
            "border": null,
            "bottom": null,
            "display": null,
            "flex": null,
            "flex_flow": null,
            "grid_area": null,
            "grid_auto_columns": null,
            "grid_auto_flow": null,
            "grid_auto_rows": null,
            "grid_column": null,
            "grid_gap": null,
            "grid_row": null,
            "grid_template_areas": null,
            "grid_template_columns": null,
            "grid_template_rows": null,
            "height": null,
            "justify_content": null,
            "justify_items": null,
            "left": null,
            "margin": null,
            "max_height": null,
            "max_width": null,
            "min_height": null,
            "min_width": null,
            "object_fit": null,
            "object_position": null,
            "order": null,
            "overflow": null,
            "overflow_x": null,
            "overflow_y": null,
            "padding": null,
            "right": null,
            "top": null,
            "visibility": null,
            "width": null
          }
        },
        "774d53ce9aaa4012adb43f45c05d532b": {
          "model_module": "@jupyter-widgets/base",
          "model_name": "LayoutModel",
          "model_module_version": "1.2.0",
          "state": {
            "_model_module": "@jupyter-widgets/base",
            "_model_module_version": "1.2.0",
            "_model_name": "LayoutModel",
            "_view_count": null,
            "_view_module": "@jupyter-widgets/base",
            "_view_module_version": "1.2.0",
            "_view_name": "LayoutView",
            "align_content": null,
            "align_items": null,
            "align_self": null,
            "border": null,
            "bottom": null,
            "display": null,
            "flex": null,
            "flex_flow": null,
            "grid_area": null,
            "grid_auto_columns": null,
            "grid_auto_flow": null,
            "grid_auto_rows": null,
            "grid_column": null,
            "grid_gap": null,
            "grid_row": null,
            "grid_template_areas": null,
            "grid_template_columns": null,
            "grid_template_rows": null,
            "height": null,
            "justify_content": null,
            "justify_items": null,
            "left": null,
            "margin": null,
            "max_height": null,
            "max_width": null,
            "min_height": null,
            "min_width": null,
            "object_fit": null,
            "object_position": null,
            "order": null,
            "overflow": null,
            "overflow_x": null,
            "overflow_y": null,
            "padding": null,
            "right": null,
            "top": null,
            "visibility": null,
            "width": null
          }
        },
        "30acc43c0ce04a29897248c4c147696e": {
          "model_module": "@jupyter-widgets/controls",
          "model_name": "DescriptionStyleModel",
          "model_module_version": "1.5.0",
          "state": {
            "_model_module": "@jupyter-widgets/controls",
            "_model_module_version": "1.5.0",
            "_model_name": "DescriptionStyleModel",
            "_view_count": null,
            "_view_module": "@jupyter-widgets/base",
            "_view_module_version": "1.2.0",
            "_view_name": "StyleView",
            "description_width": ""
          }
        },
        "c37f4402d1864d539161fe0487b8d1a3": {
          "model_module": "@jupyter-widgets/base",
          "model_name": "LayoutModel",
          "model_module_version": "1.2.0",
          "state": {
            "_model_module": "@jupyter-widgets/base",
            "_model_module_version": "1.2.0",
            "_model_name": "LayoutModel",
            "_view_count": null,
            "_view_module": "@jupyter-widgets/base",
            "_view_module_version": "1.2.0",
            "_view_name": "LayoutView",
            "align_content": null,
            "align_items": null,
            "align_self": null,
            "border": null,
            "bottom": null,
            "display": null,
            "flex": null,
            "flex_flow": null,
            "grid_area": null,
            "grid_auto_columns": null,
            "grid_auto_flow": null,
            "grid_auto_rows": null,
            "grid_column": null,
            "grid_gap": null,
            "grid_row": null,
            "grid_template_areas": null,
            "grid_template_columns": null,
            "grid_template_rows": null,
            "height": null,
            "justify_content": null,
            "justify_items": null,
            "left": null,
            "margin": null,
            "max_height": null,
            "max_width": null,
            "min_height": null,
            "min_width": null,
            "object_fit": null,
            "object_position": null,
            "order": null,
            "overflow": null,
            "overflow_x": null,
            "overflow_y": null,
            "padding": null,
            "right": null,
            "top": null,
            "visibility": null,
            "width": null
          }
        },
        "49fc1aaf0d5a4d01b9e0453cfb3a318e": {
          "model_module": "@jupyter-widgets/controls",
          "model_name": "ProgressStyleModel",
          "model_module_version": "1.5.0",
          "state": {
            "_model_module": "@jupyter-widgets/controls",
            "_model_module_version": "1.5.0",
            "_model_name": "ProgressStyleModel",
            "_view_count": null,
            "_view_module": "@jupyter-widgets/base",
            "_view_module_version": "1.2.0",
            "_view_name": "StyleView",
            "bar_color": null,
            "description_width": ""
          }
        },
        "53a27afb58364e2a83cbd5be23110915": {
          "model_module": "@jupyter-widgets/base",
          "model_name": "LayoutModel",
          "model_module_version": "1.2.0",
          "state": {
            "_model_module": "@jupyter-widgets/base",
            "_model_module_version": "1.2.0",
            "_model_name": "LayoutModel",
            "_view_count": null,
            "_view_module": "@jupyter-widgets/base",
            "_view_module_version": "1.2.0",
            "_view_name": "LayoutView",
            "align_content": null,
            "align_items": null,
            "align_self": null,
            "border": null,
            "bottom": null,
            "display": null,
            "flex": null,
            "flex_flow": null,
            "grid_area": null,
            "grid_auto_columns": null,
            "grid_auto_flow": null,
            "grid_auto_rows": null,
            "grid_column": null,
            "grid_gap": null,
            "grid_row": null,
            "grid_template_areas": null,
            "grid_template_columns": null,
            "grid_template_rows": null,
            "height": null,
            "justify_content": null,
            "justify_items": null,
            "left": null,
            "margin": null,
            "max_height": null,
            "max_width": null,
            "min_height": null,
            "min_width": null,
            "object_fit": null,
            "object_position": null,
            "order": null,
            "overflow": null,
            "overflow_x": null,
            "overflow_y": null,
            "padding": null,
            "right": null,
            "top": null,
            "visibility": null,
            "width": null
          }
        },
        "090fc7925c334a75a4ca98181a5c8864": {
          "model_module": "@jupyter-widgets/controls",
          "model_name": "DescriptionStyleModel",
          "model_module_version": "1.5.0",
          "state": {
            "_model_module": "@jupyter-widgets/controls",
            "_model_module_version": "1.5.0",
            "_model_name": "DescriptionStyleModel",
            "_view_count": null,
            "_view_module": "@jupyter-widgets/base",
            "_view_module_version": "1.2.0",
            "_view_name": "StyleView",
            "description_width": ""
          }
        },
        "32c16550ea5b40e2a176310c2d321b12": {
          "model_module": "@jupyter-widgets/controls",
          "model_name": "HBoxModel",
          "model_module_version": "1.5.0",
          "state": {
            "_dom_classes": [],
            "_model_module": "@jupyter-widgets/controls",
            "_model_module_version": "1.5.0",
            "_model_name": "HBoxModel",
            "_view_count": null,
            "_view_module": "@jupyter-widgets/controls",
            "_view_module_version": "1.5.0",
            "_view_name": "HBoxView",
            "box_style": "",
            "children": [
              "IPY_MODEL_df82bd39c1c448e68f7ed24a7d99d696",
              "IPY_MODEL_45fcc26a73154371841ab0f61f06ded4",
              "IPY_MODEL_1e9994d410224adf81ddff4ace04cbc0"
            ],
            "layout": "IPY_MODEL_7cf1c1e4694a4eec97f22f442c7db27b"
          }
        },
        "df82bd39c1c448e68f7ed24a7d99d696": {
          "model_module": "@jupyter-widgets/controls",
          "model_name": "HTMLModel",
          "model_module_version": "1.5.0",
          "state": {
            "_dom_classes": [],
            "_model_module": "@jupyter-widgets/controls",
            "_model_module_version": "1.5.0",
            "_model_name": "HTMLModel",
            "_view_count": null,
            "_view_module": "@jupyter-widgets/controls",
            "_view_module_version": "1.5.0",
            "_view_name": "HTMLView",
            "description": "",
            "description_tooltip": null,
            "layout": "IPY_MODEL_4ba86050e1d043d797a608f8314ee406",
            "placeholder": "​",
            "style": "IPY_MODEL_f7c0b7110bd744149cccba3194e5835d",
            "value": "Load sample metadata: 100%"
          }
        },
        "45fcc26a73154371841ab0f61f06ded4": {
          "model_module": "@jupyter-widgets/controls",
          "model_name": "FloatProgressModel",
          "model_module_version": "1.5.0",
          "state": {
            "_dom_classes": [],
            "_model_module": "@jupyter-widgets/controls",
            "_model_module_version": "1.5.0",
            "_model_name": "FloatProgressModel",
            "_view_count": null,
            "_view_module": "@jupyter-widgets/controls",
            "_view_module_version": "1.5.0",
            "_view_name": "ProgressView",
            "bar_style": "success",
            "description": "",
            "description_tooltip": null,
            "layout": "IPY_MODEL_412e527505e34ad88cda39853998f4e6",
            "max": 28,
            "min": 0,
            "orientation": "horizontal",
            "style": "IPY_MODEL_46c344f6eee5491aa4651b339619b507",
            "value": 28
          }
        },
        "1e9994d410224adf81ddff4ace04cbc0": {
          "model_module": "@jupyter-widgets/controls",
          "model_name": "HTMLModel",
          "model_module_version": "1.5.0",
          "state": {
            "_dom_classes": [],
            "_model_module": "@jupyter-widgets/controls",
            "_model_module_version": "1.5.0",
            "_model_name": "HTMLModel",
            "_view_count": null,
            "_view_module": "@jupyter-widgets/controls",
            "_view_module_version": "1.5.0",
            "_view_name": "HTMLView",
            "description": "",
            "description_tooltip": null,
            "layout": "IPY_MODEL_329cd01af73b4098b960ab47bd37828d",
            "placeholder": "​",
            "style": "IPY_MODEL_a480712029fe4548abfc81fb29cb1914",
            "value": " 28/28 [00:04&lt;00:00,  5.35it/s]"
          }
        },
        "7cf1c1e4694a4eec97f22f442c7db27b": {
          "model_module": "@jupyter-widgets/base",
          "model_name": "LayoutModel",
          "model_module_version": "1.2.0",
          "state": {
            "_model_module": "@jupyter-widgets/base",
            "_model_module_version": "1.2.0",
            "_model_name": "LayoutModel",
            "_view_count": null,
            "_view_module": "@jupyter-widgets/base",
            "_view_module_version": "1.2.0",
            "_view_name": "LayoutView",
            "align_content": null,
            "align_items": null,
            "align_self": null,
            "border": null,
            "bottom": null,
            "display": null,
            "flex": null,
            "flex_flow": null,
            "grid_area": null,
            "grid_auto_columns": null,
            "grid_auto_flow": null,
            "grid_auto_rows": null,
            "grid_column": null,
            "grid_gap": null,
            "grid_row": null,
            "grid_template_areas": null,
            "grid_template_columns": null,
            "grid_template_rows": null,
            "height": null,
            "justify_content": null,
            "justify_items": null,
            "left": null,
            "margin": null,
            "max_height": null,
            "max_width": null,
            "min_height": null,
            "min_width": null,
            "object_fit": null,
            "object_position": null,
            "order": null,
            "overflow": null,
            "overflow_x": null,
            "overflow_y": null,
            "padding": null,
            "right": null,
            "top": null,
            "visibility": null,
            "width": null
          }
        },
        "4ba86050e1d043d797a608f8314ee406": {
          "model_module": "@jupyter-widgets/base",
          "model_name": "LayoutModel",
          "model_module_version": "1.2.0",
          "state": {
            "_model_module": "@jupyter-widgets/base",
            "_model_module_version": "1.2.0",
            "_model_name": "LayoutModel",
            "_view_count": null,
            "_view_module": "@jupyter-widgets/base",
            "_view_module_version": "1.2.0",
            "_view_name": "LayoutView",
            "align_content": null,
            "align_items": null,
            "align_self": null,
            "border": null,
            "bottom": null,
            "display": null,
            "flex": null,
            "flex_flow": null,
            "grid_area": null,
            "grid_auto_columns": null,
            "grid_auto_flow": null,
            "grid_auto_rows": null,
            "grid_column": null,
            "grid_gap": null,
            "grid_row": null,
            "grid_template_areas": null,
            "grid_template_columns": null,
            "grid_template_rows": null,
            "height": null,
            "justify_content": null,
            "justify_items": null,
            "left": null,
            "margin": null,
            "max_height": null,
            "max_width": null,
            "min_height": null,
            "min_width": null,
            "object_fit": null,
            "object_position": null,
            "order": null,
            "overflow": null,
            "overflow_x": null,
            "overflow_y": null,
            "padding": null,
            "right": null,
            "top": null,
            "visibility": null,
            "width": null
          }
        },
        "f7c0b7110bd744149cccba3194e5835d": {
          "model_module": "@jupyter-widgets/controls",
          "model_name": "DescriptionStyleModel",
          "model_module_version": "1.5.0",
          "state": {
            "_model_module": "@jupyter-widgets/controls",
            "_model_module_version": "1.5.0",
            "_model_name": "DescriptionStyleModel",
            "_view_count": null,
            "_view_module": "@jupyter-widgets/base",
            "_view_module_version": "1.2.0",
            "_view_name": "StyleView",
            "description_width": ""
          }
        },
        "412e527505e34ad88cda39853998f4e6": {
          "model_module": "@jupyter-widgets/base",
          "model_name": "LayoutModel",
          "model_module_version": "1.2.0",
          "state": {
            "_model_module": "@jupyter-widgets/base",
            "_model_module_version": "1.2.0",
            "_model_name": "LayoutModel",
            "_view_count": null,
            "_view_module": "@jupyter-widgets/base",
            "_view_module_version": "1.2.0",
            "_view_name": "LayoutView",
            "align_content": null,
            "align_items": null,
            "align_self": null,
            "border": null,
            "bottom": null,
            "display": null,
            "flex": null,
            "flex_flow": null,
            "grid_area": null,
            "grid_auto_columns": null,
            "grid_auto_flow": null,
            "grid_auto_rows": null,
            "grid_column": null,
            "grid_gap": null,
            "grid_row": null,
            "grid_template_areas": null,
            "grid_template_columns": null,
            "grid_template_rows": null,
            "height": null,
            "justify_content": null,
            "justify_items": null,
            "left": null,
            "margin": null,
            "max_height": null,
            "max_width": null,
            "min_height": null,
            "min_width": null,
            "object_fit": null,
            "object_position": null,
            "order": null,
            "overflow": null,
            "overflow_x": null,
            "overflow_y": null,
            "padding": null,
            "right": null,
            "top": null,
            "visibility": null,
            "width": null
          }
        },
        "46c344f6eee5491aa4651b339619b507": {
          "model_module": "@jupyter-widgets/controls",
          "model_name": "ProgressStyleModel",
          "model_module_version": "1.5.0",
          "state": {
            "_model_module": "@jupyter-widgets/controls",
            "_model_module_version": "1.5.0",
            "_model_name": "ProgressStyleModel",
            "_view_count": null,
            "_view_module": "@jupyter-widgets/base",
            "_view_module_version": "1.2.0",
            "_view_name": "StyleView",
            "bar_color": null,
            "description_width": ""
          }
        },
        "329cd01af73b4098b960ab47bd37828d": {
          "model_module": "@jupyter-widgets/base",
          "model_name": "LayoutModel",
          "model_module_version": "1.2.0",
          "state": {
            "_model_module": "@jupyter-widgets/base",
            "_model_module_version": "1.2.0",
            "_model_name": "LayoutModel",
            "_view_count": null,
            "_view_module": "@jupyter-widgets/base",
            "_view_module_version": "1.2.0",
            "_view_name": "LayoutView",
            "align_content": null,
            "align_items": null,
            "align_self": null,
            "border": null,
            "bottom": null,
            "display": null,
            "flex": null,
            "flex_flow": null,
            "grid_area": null,
            "grid_auto_columns": null,
            "grid_auto_flow": null,
            "grid_auto_rows": null,
            "grid_column": null,
            "grid_gap": null,
            "grid_row": null,
            "grid_template_areas": null,
            "grid_template_columns": null,
            "grid_template_rows": null,
            "height": null,
            "justify_content": null,
            "justify_items": null,
            "left": null,
            "margin": null,
            "max_height": null,
            "max_width": null,
            "min_height": null,
            "min_width": null,
            "object_fit": null,
            "object_position": null,
            "order": null,
            "overflow": null,
            "overflow_x": null,
            "overflow_y": null,
            "padding": null,
            "right": null,
            "top": null,
            "visibility": null,
            "width": null
          }
        },
        "a480712029fe4548abfc81fb29cb1914": {
          "model_module": "@jupyter-widgets/controls",
          "model_name": "DescriptionStyleModel",
          "model_module_version": "1.5.0",
          "state": {
            "_model_module": "@jupyter-widgets/controls",
            "_model_module_version": "1.5.0",
            "_model_name": "DescriptionStyleModel",
            "_view_count": null,
            "_view_module": "@jupyter-widgets/base",
            "_view_module_version": "1.2.0",
            "_view_name": "StyleView",
            "description_width": ""
          }
        },
        "aa5bc97a8a1f4af1829827efc235a924": {
          "model_module": "@jupyter-widgets/controls",
          "model_name": "HBoxModel",
          "model_module_version": "1.5.0",
          "state": {
            "_dom_classes": [],
            "_model_module": "@jupyter-widgets/controls",
            "_model_module_version": "1.5.0",
            "_model_name": "HBoxModel",
            "_view_count": null,
            "_view_module": "@jupyter-widgets/controls",
            "_view_module_version": "1.5.0",
            "_view_name": "HBoxView",
            "box_style": "",
            "children": [
              "IPY_MODEL_98837008524c40db81de5b2f117bfa4a",
              "IPY_MODEL_943add9ca9ad434c8ab1bd37cb9d0636",
              "IPY_MODEL_bcffb65ceb0c4712976a6652df92e086"
            ],
            "layout": "IPY_MODEL_f0e35b8edf55445481a2b62a30822a61"
          }
        },
        "98837008524c40db81de5b2f117bfa4a": {
          "model_module": "@jupyter-widgets/controls",
          "model_name": "HTMLModel",
          "model_module_version": "1.5.0",
          "state": {
            "_dom_classes": [],
            "_model_module": "@jupyter-widgets/controls",
            "_model_module_version": "1.5.0",
            "_model_name": "HTMLModel",
            "_view_count": null,
            "_view_module": "@jupyter-widgets/controls",
            "_view_module_version": "1.5.0",
            "_view_name": "HTMLView",
            "description": "",
            "description_tooltip": null,
            "layout": "IPY_MODEL_ea3b37aecd284155b9283001045304f0",
            "placeholder": "​",
            "style": "IPY_MODEL_b9a01e3c510e4a6aa621fbf459d45db7",
            "value": "Compute SNP allele counts: 100%"
          }
        },
        "943add9ca9ad434c8ab1bd37cb9d0636": {
          "model_module": "@jupyter-widgets/controls",
          "model_name": "FloatProgressModel",
          "model_module_version": "1.5.0",
          "state": {
            "_dom_classes": [],
            "_model_module": "@jupyter-widgets/controls",
            "_model_module_version": "1.5.0",
            "_model_name": "FloatProgressModel",
            "_view_count": null,
            "_view_module": "@jupyter-widgets/controls",
            "_view_module_version": "1.5.0",
            "_view_name": "ProgressView",
            "bar_style": "success",
            "description": "",
            "description_tooltip": null,
            "layout": "IPY_MODEL_2182a055bbf74288a4ec92f0857f2149",
            "max": 5440,
            "min": 0,
            "orientation": "horizontal",
            "style": "IPY_MODEL_84a5e4d185e640a78f786164b368ac90",
            "value": 5440
          }
        },
        "bcffb65ceb0c4712976a6652df92e086": {
          "model_module": "@jupyter-widgets/controls",
          "model_name": "HTMLModel",
          "model_module_version": "1.5.0",
          "state": {
            "_dom_classes": [],
            "_model_module": "@jupyter-widgets/controls",
            "_model_module_version": "1.5.0",
            "_model_name": "HTMLModel",
            "_view_count": null,
            "_view_module": "@jupyter-widgets/controls",
            "_view_module_version": "1.5.0",
            "_view_name": "HTMLView",
            "description": "",
            "description_tooltip": null,
            "layout": "IPY_MODEL_c5d2407e6d02460990f12b6e138244e9",
            "placeholder": "​",
            "style": "IPY_MODEL_b1bfbb87399e438ab18fcbf3443e22b9",
            "value": " 5440/5440 [03:00&lt;00:00, 30.67it/s]"
          }
        },
        "f0e35b8edf55445481a2b62a30822a61": {
          "model_module": "@jupyter-widgets/base",
          "model_name": "LayoutModel",
          "model_module_version": "1.2.0",
          "state": {
            "_model_module": "@jupyter-widgets/base",
            "_model_module_version": "1.2.0",
            "_model_name": "LayoutModel",
            "_view_count": null,
            "_view_module": "@jupyter-widgets/base",
            "_view_module_version": "1.2.0",
            "_view_name": "LayoutView",
            "align_content": null,
            "align_items": null,
            "align_self": null,
            "border": null,
            "bottom": null,
            "display": null,
            "flex": null,
            "flex_flow": null,
            "grid_area": null,
            "grid_auto_columns": null,
            "grid_auto_flow": null,
            "grid_auto_rows": null,
            "grid_column": null,
            "grid_gap": null,
            "grid_row": null,
            "grid_template_areas": null,
            "grid_template_columns": null,
            "grid_template_rows": null,
            "height": null,
            "justify_content": null,
            "justify_items": null,
            "left": null,
            "margin": null,
            "max_height": null,
            "max_width": null,
            "min_height": null,
            "min_width": null,
            "object_fit": null,
            "object_position": null,
            "order": null,
            "overflow": null,
            "overflow_x": null,
            "overflow_y": null,
            "padding": null,
            "right": null,
            "top": null,
            "visibility": null,
            "width": null
          }
        },
        "ea3b37aecd284155b9283001045304f0": {
          "model_module": "@jupyter-widgets/base",
          "model_name": "LayoutModel",
          "model_module_version": "1.2.0",
          "state": {
            "_model_module": "@jupyter-widgets/base",
            "_model_module_version": "1.2.0",
            "_model_name": "LayoutModel",
            "_view_count": null,
            "_view_module": "@jupyter-widgets/base",
            "_view_module_version": "1.2.0",
            "_view_name": "LayoutView",
            "align_content": null,
            "align_items": null,
            "align_self": null,
            "border": null,
            "bottom": null,
            "display": null,
            "flex": null,
            "flex_flow": null,
            "grid_area": null,
            "grid_auto_columns": null,
            "grid_auto_flow": null,
            "grid_auto_rows": null,
            "grid_column": null,
            "grid_gap": null,
            "grid_row": null,
            "grid_template_areas": null,
            "grid_template_columns": null,
            "grid_template_rows": null,
            "height": null,
            "justify_content": null,
            "justify_items": null,
            "left": null,
            "margin": null,
            "max_height": null,
            "max_width": null,
            "min_height": null,
            "min_width": null,
            "object_fit": null,
            "object_position": null,
            "order": null,
            "overflow": null,
            "overflow_x": null,
            "overflow_y": null,
            "padding": null,
            "right": null,
            "top": null,
            "visibility": null,
            "width": null
          }
        },
        "b9a01e3c510e4a6aa621fbf459d45db7": {
          "model_module": "@jupyter-widgets/controls",
          "model_name": "DescriptionStyleModel",
          "model_module_version": "1.5.0",
          "state": {
            "_model_module": "@jupyter-widgets/controls",
            "_model_module_version": "1.5.0",
            "_model_name": "DescriptionStyleModel",
            "_view_count": null,
            "_view_module": "@jupyter-widgets/base",
            "_view_module_version": "1.2.0",
            "_view_name": "StyleView",
            "description_width": ""
          }
        },
        "2182a055bbf74288a4ec92f0857f2149": {
          "model_module": "@jupyter-widgets/base",
          "model_name": "LayoutModel",
          "model_module_version": "1.2.0",
          "state": {
            "_model_module": "@jupyter-widgets/base",
            "_model_module_version": "1.2.0",
            "_model_name": "LayoutModel",
            "_view_count": null,
            "_view_module": "@jupyter-widgets/base",
            "_view_module_version": "1.2.0",
            "_view_name": "LayoutView",
            "align_content": null,
            "align_items": null,
            "align_self": null,
            "border": null,
            "bottom": null,
            "display": null,
            "flex": null,
            "flex_flow": null,
            "grid_area": null,
            "grid_auto_columns": null,
            "grid_auto_flow": null,
            "grid_auto_rows": null,
            "grid_column": null,
            "grid_gap": null,
            "grid_row": null,
            "grid_template_areas": null,
            "grid_template_columns": null,
            "grid_template_rows": null,
            "height": null,
            "justify_content": null,
            "justify_items": null,
            "left": null,
            "margin": null,
            "max_height": null,
            "max_width": null,
            "min_height": null,
            "min_width": null,
            "object_fit": null,
            "object_position": null,
            "order": null,
            "overflow": null,
            "overflow_x": null,
            "overflow_y": null,
            "padding": null,
            "right": null,
            "top": null,
            "visibility": null,
            "width": null
          }
        },
        "84a5e4d185e640a78f786164b368ac90": {
          "model_module": "@jupyter-widgets/controls",
          "model_name": "ProgressStyleModel",
          "model_module_version": "1.5.0",
          "state": {
            "_model_module": "@jupyter-widgets/controls",
            "_model_module_version": "1.5.0",
            "_model_name": "ProgressStyleModel",
            "_view_count": null,
            "_view_module": "@jupyter-widgets/base",
            "_view_module_version": "1.2.0",
            "_view_name": "StyleView",
            "bar_color": null,
            "description_width": ""
          }
        },
        "c5d2407e6d02460990f12b6e138244e9": {
          "model_module": "@jupyter-widgets/base",
          "model_name": "LayoutModel",
          "model_module_version": "1.2.0",
          "state": {
            "_model_module": "@jupyter-widgets/base",
            "_model_module_version": "1.2.0",
            "_model_name": "LayoutModel",
            "_view_count": null,
            "_view_module": "@jupyter-widgets/base",
            "_view_module_version": "1.2.0",
            "_view_name": "LayoutView",
            "align_content": null,
            "align_items": null,
            "align_self": null,
            "border": null,
            "bottom": null,
            "display": null,
            "flex": null,
            "flex_flow": null,
            "grid_area": null,
            "grid_auto_columns": null,
            "grid_auto_flow": null,
            "grid_auto_rows": null,
            "grid_column": null,
            "grid_gap": null,
            "grid_row": null,
            "grid_template_areas": null,
            "grid_template_columns": null,
            "grid_template_rows": null,
            "height": null,
            "justify_content": null,
            "justify_items": null,
            "left": null,
            "margin": null,
            "max_height": null,
            "max_width": null,
            "min_height": null,
            "min_width": null,
            "object_fit": null,
            "object_position": null,
            "order": null,
            "overflow": null,
            "overflow_x": null,
            "overflow_y": null,
            "padding": null,
            "right": null,
            "top": null,
            "visibility": null,
            "width": null
          }
        },
        "b1bfbb87399e438ab18fcbf3443e22b9": {
          "model_module": "@jupyter-widgets/controls",
          "model_name": "DescriptionStyleModel",
          "model_module_version": "1.5.0",
          "state": {
            "_model_module": "@jupyter-widgets/controls",
            "_model_module_version": "1.5.0",
            "_model_name": "DescriptionStyleModel",
            "_view_count": null,
            "_view_module": "@jupyter-widgets/base",
            "_view_module_version": "1.2.0",
            "_view_name": "StyleView",
            "description_width": ""
          }
        },
        "83d8cd94dc5c44b0b657a0520390f290": {
          "model_module": "@jupyter-widgets/controls",
          "model_name": "HBoxModel",
          "model_module_version": "1.5.0",
          "state": {
            "_dom_classes": [],
            "_model_module": "@jupyter-widgets/controls",
            "_model_module_version": "1.5.0",
            "_model_name": "HBoxModel",
            "_view_count": null,
            "_view_module": "@jupyter-widgets/controls",
            "_view_module_version": "1.5.0",
            "_view_name": "HBoxView",
            "box_style": "",
            "children": [
              "IPY_MODEL_62bf2ba9cf554fc7b891a1d2cfc72a50",
              "IPY_MODEL_656b82e5f9314c9f97e93a44e8a244d9",
              "IPY_MODEL_9bd5abbc456d493999df4aeb946c961b"
            ],
            "layout": "IPY_MODEL_8a69eebdeb80455080b621a27d9d662b"
          }
        },
        "62bf2ba9cf554fc7b891a1d2cfc72a50": {
          "model_module": "@jupyter-widgets/controls",
          "model_name": "HTMLModel",
          "model_module_version": "1.5.0",
          "state": {
            "_dom_classes": [],
            "_model_module": "@jupyter-widgets/controls",
            "_model_module_version": "1.5.0",
            "_model_name": "HTMLModel",
            "_view_count": null,
            "_view_module": "@jupyter-widgets/controls",
            "_view_module_version": "1.5.0",
            "_view_name": "HTMLView",
            "description": "",
            "description_tooltip": null,
            "layout": "IPY_MODEL_c08687bc94254a80a76df7572afa1cf4",
            "placeholder": "​",
            "style": "IPY_MODEL_1b0a0ba84aef4a06a212ecf369019ff2",
            "value": "Load SNP genotypes: 100%"
          }
        },
        "656b82e5f9314c9f97e93a44e8a244d9": {
          "model_module": "@jupyter-widgets/controls",
          "model_name": "FloatProgressModel",
          "model_module_version": "1.5.0",
          "state": {
            "_dom_classes": [],
            "_model_module": "@jupyter-widgets/controls",
            "_model_module_version": "1.5.0",
            "_model_name": "FloatProgressModel",
            "_view_count": null,
            "_view_module": "@jupyter-widgets/controls",
            "_view_module_version": "1.5.0",
            "_view_name": "ProgressView",
            "bar_style": "success",
            "description": "",
            "description_tooltip": null,
            "layout": "IPY_MODEL_e597bbbc318c427195a5abdd8196fd80",
            "max": 5032,
            "min": 0,
            "orientation": "horizontal",
            "style": "IPY_MODEL_95f629313b9043f8ab1438ca96eb5928",
            "value": 5032
          }
        },
        "9bd5abbc456d493999df4aeb946c961b": {
          "model_module": "@jupyter-widgets/controls",
          "model_name": "HTMLModel",
          "model_module_version": "1.5.0",
          "state": {
            "_dom_classes": [],
            "_model_module": "@jupyter-widgets/controls",
            "_model_module_version": "1.5.0",
            "_model_name": "HTMLModel",
            "_view_count": null,
            "_view_module": "@jupyter-widgets/controls",
            "_view_module_version": "1.5.0",
            "_view_name": "HTMLView",
            "description": "",
            "description_tooltip": null,
            "layout": "IPY_MODEL_0a03ca477a81450a8c5cdd7b68161484",
            "placeholder": "​",
            "style": "IPY_MODEL_68c045836c494c6fa379971b4e0699fa",
            "value": " 5032/5032 [01:59&lt;00:00, 43.18it/s]"
          }
        },
        "8a69eebdeb80455080b621a27d9d662b": {
          "model_module": "@jupyter-widgets/base",
          "model_name": "LayoutModel",
          "model_module_version": "1.2.0",
          "state": {
            "_model_module": "@jupyter-widgets/base",
            "_model_module_version": "1.2.0",
            "_model_name": "LayoutModel",
            "_view_count": null,
            "_view_module": "@jupyter-widgets/base",
            "_view_module_version": "1.2.0",
            "_view_name": "LayoutView",
            "align_content": null,
            "align_items": null,
            "align_self": null,
            "border": null,
            "bottom": null,
            "display": null,
            "flex": null,
            "flex_flow": null,
            "grid_area": null,
            "grid_auto_columns": null,
            "grid_auto_flow": null,
            "grid_auto_rows": null,
            "grid_column": null,
            "grid_gap": null,
            "grid_row": null,
            "grid_template_areas": null,
            "grid_template_columns": null,
            "grid_template_rows": null,
            "height": null,
            "justify_content": null,
            "justify_items": null,
            "left": null,
            "margin": null,
            "max_height": null,
            "max_width": null,
            "min_height": null,
            "min_width": null,
            "object_fit": null,
            "object_position": null,
            "order": null,
            "overflow": null,
            "overflow_x": null,
            "overflow_y": null,
            "padding": null,
            "right": null,
            "top": null,
            "visibility": null,
            "width": null
          }
        },
        "c08687bc94254a80a76df7572afa1cf4": {
          "model_module": "@jupyter-widgets/base",
          "model_name": "LayoutModel",
          "model_module_version": "1.2.0",
          "state": {
            "_model_module": "@jupyter-widgets/base",
            "_model_module_version": "1.2.0",
            "_model_name": "LayoutModel",
            "_view_count": null,
            "_view_module": "@jupyter-widgets/base",
            "_view_module_version": "1.2.0",
            "_view_name": "LayoutView",
            "align_content": null,
            "align_items": null,
            "align_self": null,
            "border": null,
            "bottom": null,
            "display": null,
            "flex": null,
            "flex_flow": null,
            "grid_area": null,
            "grid_auto_columns": null,
            "grid_auto_flow": null,
            "grid_auto_rows": null,
            "grid_column": null,
            "grid_gap": null,
            "grid_row": null,
            "grid_template_areas": null,
            "grid_template_columns": null,
            "grid_template_rows": null,
            "height": null,
            "justify_content": null,
            "justify_items": null,
            "left": null,
            "margin": null,
            "max_height": null,
            "max_width": null,
            "min_height": null,
            "min_width": null,
            "object_fit": null,
            "object_position": null,
            "order": null,
            "overflow": null,
            "overflow_x": null,
            "overflow_y": null,
            "padding": null,
            "right": null,
            "top": null,
            "visibility": null,
            "width": null
          }
        },
        "1b0a0ba84aef4a06a212ecf369019ff2": {
          "model_module": "@jupyter-widgets/controls",
          "model_name": "DescriptionStyleModel",
          "model_module_version": "1.5.0",
          "state": {
            "_model_module": "@jupyter-widgets/controls",
            "_model_module_version": "1.5.0",
            "_model_name": "DescriptionStyleModel",
            "_view_count": null,
            "_view_module": "@jupyter-widgets/base",
            "_view_module_version": "1.2.0",
            "_view_name": "StyleView",
            "description_width": ""
          }
        },
        "e597bbbc318c427195a5abdd8196fd80": {
          "model_module": "@jupyter-widgets/base",
          "model_name": "LayoutModel",
          "model_module_version": "1.2.0",
          "state": {
            "_model_module": "@jupyter-widgets/base",
            "_model_module_version": "1.2.0",
            "_model_name": "LayoutModel",
            "_view_count": null,
            "_view_module": "@jupyter-widgets/base",
            "_view_module_version": "1.2.0",
            "_view_name": "LayoutView",
            "align_content": null,
            "align_items": null,
            "align_self": null,
            "border": null,
            "bottom": null,
            "display": null,
            "flex": null,
            "flex_flow": null,
            "grid_area": null,
            "grid_auto_columns": null,
            "grid_auto_flow": null,
            "grid_auto_rows": null,
            "grid_column": null,
            "grid_gap": null,
            "grid_row": null,
            "grid_template_areas": null,
            "grid_template_columns": null,
            "grid_template_rows": null,
            "height": null,
            "justify_content": null,
            "justify_items": null,
            "left": null,
            "margin": null,
            "max_height": null,
            "max_width": null,
            "min_height": null,
            "min_width": null,
            "object_fit": null,
            "object_position": null,
            "order": null,
            "overflow": null,
            "overflow_x": null,
            "overflow_y": null,
            "padding": null,
            "right": null,
            "top": null,
            "visibility": null,
            "width": null
          }
        },
        "95f629313b9043f8ab1438ca96eb5928": {
          "model_module": "@jupyter-widgets/controls",
          "model_name": "ProgressStyleModel",
          "model_module_version": "1.5.0",
          "state": {
            "_model_module": "@jupyter-widgets/controls",
            "_model_module_version": "1.5.0",
            "_model_name": "ProgressStyleModel",
            "_view_count": null,
            "_view_module": "@jupyter-widgets/base",
            "_view_module_version": "1.2.0",
            "_view_name": "StyleView",
            "bar_color": null,
            "description_width": ""
          }
        },
        "0a03ca477a81450a8c5cdd7b68161484": {
          "model_module": "@jupyter-widgets/base",
          "model_name": "LayoutModel",
          "model_module_version": "1.2.0",
          "state": {
            "_model_module": "@jupyter-widgets/base",
            "_model_module_version": "1.2.0",
            "_model_name": "LayoutModel",
            "_view_count": null,
            "_view_module": "@jupyter-widgets/base",
            "_view_module_version": "1.2.0",
            "_view_name": "LayoutView",
            "align_content": null,
            "align_items": null,
            "align_self": null,
            "border": null,
            "bottom": null,
            "display": null,
            "flex": null,
            "flex_flow": null,
            "grid_area": null,
            "grid_auto_columns": null,
            "grid_auto_flow": null,
            "grid_auto_rows": null,
            "grid_column": null,
            "grid_gap": null,
            "grid_row": null,
            "grid_template_areas": null,
            "grid_template_columns": null,
            "grid_template_rows": null,
            "height": null,
            "justify_content": null,
            "justify_items": null,
            "left": null,
            "margin": null,
            "max_height": null,
            "max_width": null,
            "min_height": null,
            "min_width": null,
            "object_fit": null,
            "object_position": null,
            "order": null,
            "overflow": null,
            "overflow_x": null,
            "overflow_y": null,
            "padding": null,
            "right": null,
            "top": null,
            "visibility": null,
            "width": null
          }
        },
        "68c045836c494c6fa379971b4e0699fa": {
          "model_module": "@jupyter-widgets/controls",
          "model_name": "DescriptionStyleModel",
          "model_module_version": "1.5.0",
          "state": {
            "_model_module": "@jupyter-widgets/controls",
            "_model_module_version": "1.5.0",
            "_model_name": "DescriptionStyleModel",
            "_view_count": null,
            "_view_module": "@jupyter-widgets/base",
            "_view_module_version": "1.2.0",
            "_view_name": "StyleView",
            "description_width": ""
          }
        }
      }
    }
  },
  "nbformat": 4,
  "nbformat_minor": 0
}