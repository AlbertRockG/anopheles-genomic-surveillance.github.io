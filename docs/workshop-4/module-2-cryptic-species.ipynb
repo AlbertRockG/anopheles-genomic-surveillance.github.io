{
 "cells": [
  {
   "cell_type": "markdown",
   "id": "a20914ce",
   "metadata": {},
   "source": [
    "![banner](https://anopheles-genomic-surveillance.github.io/_images/banner.jpg)\n",
    "\n",
    "***Training course in data analysis for genomic surveillance of African malaria vectors - Workshop 4***\n",
    "\n",
    "---"
   ]
  },
  {
   "cell_type": "markdown",
   "id": "7ed63b34-d54d-448d-bcb9-55e4aa87e982",
   "metadata": {},
   "source": [
    "# Module 2 - Cryptic species\n",
    "\n",
    "**Theme: Biology**\n",
    "\n",
    "@@TODO"
   ]
  },
  {
   "cell_type": "markdown",
   "id": "434e79a6-34ff-45f6-b259-0d3c7858e250",
   "metadata": {},
   "source": [
    "## Learning objectives\n",
    "\n",
    "This module covers:\n",
    "\n",
    "@@TODO"
   ]
  },
  {
   "cell_type": "markdown",
   "id": "b66bb5b8",
   "metadata": {},
   "source": [
    "## Lecture"
   ]
  },
  {
   "cell_type": "markdown",
   "id": "5c688ab3",
   "metadata": {},
   "source": [
    "### English"
   ]
  },
  {
   "cell_type": "code",
   "execution_count": 1,
   "id": "c5e8aeda",
   "metadata": {
    "tags": [
     "remove-input"
    ]
   },
   "outputs": [
    {
     "data": {
      "text/html": [
       "@@TODO\n"
      ],
      "text/plain": [
       "<IPython.core.display.HTML object>"
      ]
     },
     "metadata": {},
     "output_type": "display_data"
    }
   ],
   "source": [
    "%%html\n",
    "@@TODO"
   ]
  },
  {
   "cell_type": "markdown",
   "id": "c64766c0",
   "metadata": {},
   "source": [
    "### Français\n"
   ]
  },
  {
   "cell_type": "code",
   "execution_count": 2,
   "id": "e7e8ae53",
   "metadata": {
    "tags": [
     "remove-input"
    ]
   },
   "outputs": [
    {
     "data": {
      "text/html": [
       "@@TODO\n"
      ],
      "text/plain": [
       "<IPython.core.display.HTML object>"
      ]
     },
     "metadata": {},
     "output_type": "display_data"
    }
   ],
   "source": [
    "%%html\n",
    "@@TODO"
   ]
  }
 ],
 "metadata": {
  "celltoolbar": "Tags",
  "kernelspec": {
   "display_name": "Python 3 (ipykernel)",
   "language": "python",
   "name": "python3"
  },
  "language_info": {
   "codemirror_mode": {
    "name": "ipython",
    "version": 3
   },
   "file_extension": ".py",
   "mimetype": "text/x-python",
   "name": "python",
   "nbconvert_exporter": "python",
   "pygments_lexer": "ipython3",
   "version": "3.9.7"
  }
 },
 "nbformat": 4,
 "nbformat_minor": 5
}
