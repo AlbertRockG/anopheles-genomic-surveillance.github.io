{
 "cells": [
  {
   "cell_type": "markdown",
   "id": "2574436f-f032-4697-8c16-33e727936f4e",
   "metadata": {},
   "source": [
    "# Foo"
   ]
  },
  {
   "cell_type": "code",
   "execution_count": null,
   "id": "bec1e5d1-01bd-4c99-a5cb-705d2668082c",
   "metadata": {},
   "outputs": [],
   "source": []
  }
 ],
 "metadata": {
  "kernelspec": {
   "display_name": "Python [conda env:workshop-7-dev]",
   "language": "python",
   "name": "conda-env-workshop-7-dev-py"
  },
  "language_info": {
   "codemirror_mode": {
    "name": "ipython",
    "version": 3
   },
   "file_extension": ".py",
   "mimetype": "text/x-python",
   "name": "python",
   "nbconvert_exporter": "python",
   "pygments_lexer": "ipython3",
   "version": "3.7.15"
  }
 },
 "nbformat": 4,
 "nbformat_minor": 5
}
