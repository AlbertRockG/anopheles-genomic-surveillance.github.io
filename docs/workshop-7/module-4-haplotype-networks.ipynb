{
 "cells": [
  {
   "cell_type": "markdown",
   "id": "19805e3d-baa7-4ca6-bbde-c1526f2b29cc",
   "metadata": {},
   "source": [
    "# Baz"
   ]
  },
  {
   "cell_type": "code",
   "execution_count": null,
   "id": "78e85c8c-dd52-46e2-9eae-52033a353022",
   "metadata": {},
   "outputs": [],
   "source": []
  }
 ],
 "metadata": {
  "kernelspec": {
   "display_name": "",
   "name": ""
  },
  "language_info": {
   "name": ""
  }
 },
 "nbformat": 4,
 "nbformat_minor": 5
}
