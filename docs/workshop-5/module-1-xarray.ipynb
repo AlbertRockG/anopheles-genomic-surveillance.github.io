{
 "cells": [
  {
   "cell_type": "markdown",
   "metadata": {
    "id": "PegF1K0D1ZnS"
   },
   "source": [
    "![banner](https://anopheles-genomic-surveillance.github.io/_images/banner.jpg)\n",
    "\n",
    "***Training course in data analysis for genomic surveillance of African malaria vectors - Workshop 5***\n",
    "\n",
    "---"
   ]
  },
  {
   "cell_type": "markdown",
   "metadata": {
    "id": "IWbYSGsC1vhV"
   },
   "source": [
    "# Module 1 - Xarray datasets\n",
    "\n",
    "**Theme: Tools & technology**\n",
    "\n",
    "This module introduces [xarray](https://docs.xarray.dev/en/stable/), a Python package for working with more complex scientific datasets, including datasets comprising multidimensional arrays with shared and labelled dimensions. Like other general-purpose scientific computing packages like NumPy and pandas, xarray is very useful for genomic data, but it is also used in a variety of other scientific fields. \n",
    "\n",
    "This module is intended to provide a gentle introduction to xarray for scientists and analysts coming from a malaria or genetics background. Please note that there is an excellent [xarray tutorial website](https://tutorial.xarray.dev/intro.html) and [xarray YouTube channel](https://www.youtube.com/channel/UCBlxVSA6xQXeb-i4GgTlO7g) with much more information on what xarray can do and how to use it. "
   ]
  },
  {
   "cell_type": "markdown",
   "metadata": {
    "id": "WiKt280J13oB"
   },
   "source": [
    "## Learning objectives\n",
    "\n",
    "At the end of this module you will be able to:\n",
    "\n",
    "* Explain why xarray is useful for scientific computing\n",
    "* Explain what an xarray dataset is\n",
    "* Access variables (arrays) in a dataset\n",
    "* Use indexing to select data within a dataset\n",
    "* Review how we use xarray for genomic data\n"
   ]
  },
  {
   "cell_type": "markdown",
   "metadata": {},
   "source": [
    "## Lecture"
   ]
  },
  {
   "cell_type": "markdown",
   "metadata": {},
   "source": [
    "### English\n",
    "\n",
    "@@TODO"
   ]
  },
  {
   "cell_type": "markdown",
   "metadata": {},
   "source": [
    "### Français\n",
    "\n",
    "@@TODO"
   ]
  },
  {
   "cell_type": "markdown",
   "metadata": {
    "id": "TlaFgvoI2FcI"
   },
   "source": [
    "## Setup\n",
    "\n",
    "Install and import the packages we'll need."
   ]
  },
  {
   "cell_type": "code",
   "execution_count": 1,
   "metadata": {
    "id": "DowTxcfD2Oxd"
   },
   "outputs": [],
   "source": [
    "!pip install -q malariagen_data rioxarray"
   ]
  },
  {
   "cell_type": "code",
   "execution_count": 3,
   "metadata": {
    "id": "bQw97PEh2RDq"
   },
   "outputs": [],
   "source": [
    "import malariagen_data\n",
    "import xarray as xr\n",
    "import numpy as np\n",
    "%matplotlib inline\n",
    "%config InlineBackend.figure_format = \"retina\""
   ]
  },
  {
   "cell_type": "markdown",
   "metadata": {},
   "source": [
    "Configure access to the MalariaGEN Ag3 data resource."
   ]
  },
  {
   "cell_type": "code",
   "execution_count": 4,
   "metadata": {
    "id": "7lSms3Hn2SFR"
   },
   "outputs": [
    {
     "data": {
      "application/javascript": [
       "(function(root) {\n",
       "  function now() {\n",
       "    return new Date();\n",
       "  }\n",
       "\n",
       "  const force = true;\n",
       "\n",
       "  if (typeof root._bokeh_onload_callbacks === \"undefined\" || force === true) {\n",
       "    root._bokeh_onload_callbacks = [];\n",
       "    root._bokeh_is_loading = undefined;\n",
       "  }\n",
       "\n",
       "const JS_MIME_TYPE = 'application/javascript';\n",
       "  const HTML_MIME_TYPE = 'text/html';\n",
       "  const EXEC_MIME_TYPE = 'application/vnd.bokehjs_exec.v0+json';\n",
       "  const CLASS_NAME = 'output_bokeh rendered_html';\n",
       "\n",
       "  /**\n",
       "   * Render data to the DOM node\n",
       "   */\n",
       "  function render(props, node) {\n",
       "    const script = document.createElement(\"script\");\n",
       "    node.appendChild(script);\n",
       "  }\n",
       "\n",
       "  /**\n",
       "   * Handle when an output is cleared or removed\n",
       "   */\n",
       "  function handleClearOutput(event, handle) {\n",
       "    const cell = handle.cell;\n",
       "\n",
       "    const id = cell.output_area._bokeh_element_id;\n",
       "    const server_id = cell.output_area._bokeh_server_id;\n",
       "    // Clean up Bokeh references\n",
       "    if (id != null && id in Bokeh.index) {\n",
       "      Bokeh.index[id].model.document.clear();\n",
       "      delete Bokeh.index[id];\n",
       "    }\n",
       "\n",
       "    if (server_id !== undefined) {\n",
       "      // Clean up Bokeh references\n",
       "      const cmd_clean = \"from bokeh.io.state import curstate; print(curstate().uuid_to_server['\" + server_id + \"'].get_sessions()[0].document.roots[0]._id)\";\n",
       "      cell.notebook.kernel.execute(cmd_clean, {\n",
       "        iopub: {\n",
       "          output: function(msg) {\n",
       "            const id = msg.content.text.trim();\n",
       "            if (id in Bokeh.index) {\n",
       "              Bokeh.index[id].model.document.clear();\n",
       "              delete Bokeh.index[id];\n",
       "            }\n",
       "          }\n",
       "        }\n",
       "      });\n",
       "      // Destroy server and session\n",
       "      const cmd_destroy = \"import bokeh.io.notebook as ion; ion.destroy_server('\" + server_id + \"')\";\n",
       "      cell.notebook.kernel.execute(cmd_destroy);\n",
       "    }\n",
       "  }\n",
       "\n",
       "  /**\n",
       "   * Handle when a new output is added\n",
       "   */\n",
       "  function handleAddOutput(event, handle) {\n",
       "    const output_area = handle.output_area;\n",
       "    const output = handle.output;\n",
       "\n",
       "    // limit handleAddOutput to display_data with EXEC_MIME_TYPE content only\n",
       "    if ((output.output_type != \"display_data\") || (!Object.prototype.hasOwnProperty.call(output.data, EXEC_MIME_TYPE))) {\n",
       "      return\n",
       "    }\n",
       "\n",
       "    const toinsert = output_area.element.find(\".\" + CLASS_NAME.split(' ')[0]);\n",
       "\n",
       "    if (output.metadata[EXEC_MIME_TYPE][\"id\"] !== undefined) {\n",
       "      toinsert[toinsert.length - 1].firstChild.textContent = output.data[JS_MIME_TYPE];\n",
       "      // store reference to embed id on output_area\n",
       "      output_area._bokeh_element_id = output.metadata[EXEC_MIME_TYPE][\"id\"];\n",
       "    }\n",
       "    if (output.metadata[EXEC_MIME_TYPE][\"server_id\"] !== undefined) {\n",
       "      const bk_div = document.createElement(\"div\");\n",
       "      bk_div.innerHTML = output.data[HTML_MIME_TYPE];\n",
       "      const script_attrs = bk_div.children[0].attributes;\n",
       "      for (let i = 0; i < script_attrs.length; i++) {\n",
       "        toinsert[toinsert.length - 1].firstChild.setAttribute(script_attrs[i].name, script_attrs[i].value);\n",
       "        toinsert[toinsert.length - 1].firstChild.textContent = bk_div.children[0].textContent\n",
       "      }\n",
       "      // store reference to server id on output_area\n",
       "      output_area._bokeh_server_id = output.metadata[EXEC_MIME_TYPE][\"server_id\"];\n",
       "    }\n",
       "  }\n",
       "\n",
       "  function register_renderer(events, OutputArea) {\n",
       "\n",
       "    function append_mime(data, metadata, element) {\n",
       "      // create a DOM node to render to\n",
       "      const toinsert = this.create_output_subarea(\n",
       "        metadata,\n",
       "        CLASS_NAME,\n",
       "        EXEC_MIME_TYPE\n",
       "      );\n",
       "      this.keyboard_manager.register_events(toinsert);\n",
       "      // Render to node\n",
       "      const props = {data: data, metadata: metadata[EXEC_MIME_TYPE]};\n",
       "      render(props, toinsert[toinsert.length - 1]);\n",
       "      element.append(toinsert);\n",
       "      return toinsert\n",
       "    }\n",
       "\n",
       "    /* Handle when an output is cleared or removed */\n",
       "    events.on('clear_output.CodeCell', handleClearOutput);\n",
       "    events.on('delete.Cell', handleClearOutput);\n",
       "\n",
       "    /* Handle when a new output is added */\n",
       "    events.on('output_added.OutputArea', handleAddOutput);\n",
       "\n",
       "    /**\n",
       "     * Register the mime type and append_mime function with output_area\n",
       "     */\n",
       "    OutputArea.prototype.register_mime_type(EXEC_MIME_TYPE, append_mime, {\n",
       "      /* Is output safe? */\n",
       "      safe: true,\n",
       "      /* Index of renderer in `output_area.display_order` */\n",
       "      index: 0\n",
       "    });\n",
       "  }\n",
       "\n",
       "  // register the mime type if in Jupyter Notebook environment and previously unregistered\n",
       "  if (root.Jupyter !== undefined) {\n",
       "    const events = require('base/js/events');\n",
       "    const OutputArea = require('notebook/js/outputarea').OutputArea;\n",
       "\n",
       "    if (OutputArea.prototype.mime_types().indexOf(EXEC_MIME_TYPE) == -1) {\n",
       "      register_renderer(events, OutputArea);\n",
       "    }\n",
       "  }\n",
       "  if (typeof (root._bokeh_timeout) === \"undefined\" || force === true) {\n",
       "    root._bokeh_timeout = Date.now() + 5000;\n",
       "    root._bokeh_failed_load = false;\n",
       "  }\n",
       "\n",
       "  const NB_LOAD_WARNING = {'data': {'text/html':\n",
       "     \"<div style='background-color: #fdd'>\\n\"+\n",
       "     \"<p>\\n\"+\n",
       "     \"BokehJS does not appear to have successfully loaded. If loading BokehJS from CDN, this \\n\"+\n",
       "     \"may be due to a slow or bad network connection. Possible fixes:\\n\"+\n",
       "     \"</p>\\n\"+\n",
       "     \"<ul>\\n\"+\n",
       "     \"<li>re-rerun `output_notebook()` to attempt to load from CDN again, or</li>\\n\"+\n",
       "     \"<li>use INLINE resources instead, as so:</li>\\n\"+\n",
       "     \"</ul>\\n\"+\n",
       "     \"<code>\\n\"+\n",
       "     \"from bokeh.resources import INLINE\\n\"+\n",
       "     \"output_notebook(resources=INLINE)\\n\"+\n",
       "     \"</code>\\n\"+\n",
       "     \"</div>\"}};\n",
       "\n",
       "  function display_loaded() {\n",
       "    const el = document.getElementById(null);\n",
       "    if (el != null) {\n",
       "      el.textContent = \"BokehJS is loading...\";\n",
       "    }\n",
       "    if (root.Bokeh !== undefined) {\n",
       "      if (el != null) {\n",
       "        el.textContent = \"BokehJS \" + root.Bokeh.version + \" successfully loaded.\";\n",
       "      }\n",
       "    } else if (Date.now() < root._bokeh_timeout) {\n",
       "      setTimeout(display_loaded, 100)\n",
       "    }\n",
       "  }\n",
       "\n",
       "  function run_callbacks() {\n",
       "    try {\n",
       "      root._bokeh_onload_callbacks.forEach(function(callback) {\n",
       "        if (callback != null)\n",
       "          callback();\n",
       "      });\n",
       "    } finally {\n",
       "      delete root._bokeh_onload_callbacks\n",
       "    }\n",
       "    console.debug(\"Bokeh: all callbacks have finished\");\n",
       "  }\n",
       "\n",
       "  function load_libs(css_urls, js_urls, callback) {\n",
       "    if (css_urls == null) css_urls = [];\n",
       "    if (js_urls == null) js_urls = [];\n",
       "\n",
       "    root._bokeh_onload_callbacks.push(callback);\n",
       "    if (root._bokeh_is_loading > 0) {\n",
       "      console.debug(\"Bokeh: BokehJS is being loaded, scheduling callback at\", now());\n",
       "      return null;\n",
       "    }\n",
       "    if (js_urls == null || js_urls.length === 0) {\n",
       "      run_callbacks();\n",
       "      return null;\n",
       "    }\n",
       "    console.debug(\"Bokeh: BokehJS not loaded, scheduling load and callback at\", now());\n",
       "    root._bokeh_is_loading = css_urls.length + js_urls.length;\n",
       "\n",
       "    function on_load() {\n",
       "      root._bokeh_is_loading--;\n",
       "      if (root._bokeh_is_loading === 0) {\n",
       "        console.debug(\"Bokeh: all BokehJS libraries/stylesheets loaded\");\n",
       "        run_callbacks()\n",
       "      }\n",
       "    }\n",
       "\n",
       "    function on_error(url) {\n",
       "      console.error(\"failed to load \" + url);\n",
       "    }\n",
       "\n",
       "    for (let i = 0; i < css_urls.length; i++) {\n",
       "      const url = css_urls[i];\n",
       "      const element = document.createElement(\"link\");\n",
       "      element.onload = on_load;\n",
       "      element.onerror = on_error.bind(null, url);\n",
       "      element.rel = \"stylesheet\";\n",
       "      element.type = \"text/css\";\n",
       "      element.href = url;\n",
       "      console.debug(\"Bokeh: injecting link tag for BokehJS stylesheet: \", url);\n",
       "      document.body.appendChild(element);\n",
       "    }\n",
       "\n",
       "    for (let i = 0; i < js_urls.length; i++) {\n",
       "      const url = js_urls[i];\n",
       "      const element = document.createElement('script');\n",
       "      element.onload = on_load;\n",
       "      element.onerror = on_error.bind(null, url);\n",
       "      element.async = false;\n",
       "      element.src = url;\n",
       "      console.debug(\"Bokeh: injecting script tag for BokehJS library: \", url);\n",
       "      document.head.appendChild(element);\n",
       "    }\n",
       "  };\n",
       "\n",
       "  function inject_raw_css(css) {\n",
       "    const element = document.createElement(\"style\");\n",
       "    element.appendChild(document.createTextNode(css));\n",
       "    document.body.appendChild(element);\n",
       "  }\n",
       "\n",
       "  const js_urls = [\"https://cdn.bokeh.org/bokeh/release/bokeh-2.4.3.min.js\", \"https://cdn.bokeh.org/bokeh/release/bokeh-gl-2.4.3.min.js\", \"https://cdn.bokeh.org/bokeh/release/bokeh-widgets-2.4.3.min.js\", \"https://cdn.bokeh.org/bokeh/release/bokeh-tables-2.4.3.min.js\", \"https://cdn.bokeh.org/bokeh/release/bokeh-mathjax-2.4.3.min.js\"];\n",
       "  const css_urls = [];\n",
       "\n",
       "  const inline_js = [    function(Bokeh) {\n",
       "      Bokeh.set_log_level(\"info\");\n",
       "    },\n",
       "function(Bokeh) {\n",
       "    }\n",
       "  ];\n",
       "\n",
       "  function run_inline_js() {\n",
       "    if (root.Bokeh !== undefined || force === true) {\n",
       "          for (let i = 0; i < inline_js.length; i++) {\n",
       "      inline_js[i].call(root, root.Bokeh);\n",
       "    }\n",
       "} else if (Date.now() < root._bokeh_timeout) {\n",
       "      setTimeout(run_inline_js, 100);\n",
       "    } else if (!root._bokeh_failed_load) {\n",
       "      console.log(\"Bokeh: BokehJS failed to load within specified timeout.\");\n",
       "      root._bokeh_failed_load = true;\n",
       "    } else if (force !== true) {\n",
       "      const cell = $(document.getElementById(null)).parents('.cell').data().cell;\n",
       "      cell.output_area.append_execute_result(NB_LOAD_WARNING)\n",
       "    }\n",
       "  }\n",
       "\n",
       "  if (root._bokeh_is_loading === 0) {\n",
       "    console.debug(\"Bokeh: BokehJS loaded, going straight to plotting\");\n",
       "    run_inline_js();\n",
       "  } else {\n",
       "    load_libs(css_urls, js_urls, function() {\n",
       "      console.debug(\"Bokeh: BokehJS plotting callback run at\", now());\n",
       "      run_inline_js();\n",
       "    });\n",
       "  }\n",
       "}(window));"
      ],
      "application/vnd.bokehjs_load.v0+json": "(function(root) {\n  function now() {\n    return new Date();\n  }\n\n  const force = true;\n\n  if (typeof root._bokeh_onload_callbacks === \"undefined\" || force === true) {\n    root._bokeh_onload_callbacks = [];\n    root._bokeh_is_loading = undefined;\n  }\n\n\n  if (typeof (root._bokeh_timeout) === \"undefined\" || force === true) {\n    root._bokeh_timeout = Date.now() + 5000;\n    root._bokeh_failed_load = false;\n  }\n\n  const NB_LOAD_WARNING = {'data': {'text/html':\n     \"<div style='background-color: #fdd'>\\n\"+\n     \"<p>\\n\"+\n     \"BokehJS does not appear to have successfully loaded. If loading BokehJS from CDN, this \\n\"+\n     \"may be due to a slow or bad network connection. Possible fixes:\\n\"+\n     \"</p>\\n\"+\n     \"<ul>\\n\"+\n     \"<li>re-rerun `output_notebook()` to attempt to load from CDN again, or</li>\\n\"+\n     \"<li>use INLINE resources instead, as so:</li>\\n\"+\n     \"</ul>\\n\"+\n     \"<code>\\n\"+\n     \"from bokeh.resources import INLINE\\n\"+\n     \"output_notebook(resources=INLINE)\\n\"+\n     \"</code>\\n\"+\n     \"</div>\"}};\n\n  function display_loaded() {\n    const el = document.getElementById(null);\n    if (el != null) {\n      el.textContent = \"BokehJS is loading...\";\n    }\n    if (root.Bokeh !== undefined) {\n      if (el != null) {\n        el.textContent = \"BokehJS \" + root.Bokeh.version + \" successfully loaded.\";\n      }\n    } else if (Date.now() < root._bokeh_timeout) {\n      setTimeout(display_loaded, 100)\n    }\n  }\n\n  function run_callbacks() {\n    try {\n      root._bokeh_onload_callbacks.forEach(function(callback) {\n        if (callback != null)\n          callback();\n      });\n    } finally {\n      delete root._bokeh_onload_callbacks\n    }\n    console.debug(\"Bokeh: all callbacks have finished\");\n  }\n\n  function load_libs(css_urls, js_urls, callback) {\n    if (css_urls == null) css_urls = [];\n    if (js_urls == null) js_urls = [];\n\n    root._bokeh_onload_callbacks.push(callback);\n    if (root._bokeh_is_loading > 0) {\n      console.debug(\"Bokeh: BokehJS is being loaded, scheduling callback at\", now());\n      return null;\n    }\n    if (js_urls == null || js_urls.length === 0) {\n      run_callbacks();\n      return null;\n    }\n    console.debug(\"Bokeh: BokehJS not loaded, scheduling load and callback at\", now());\n    root._bokeh_is_loading = css_urls.length + js_urls.length;\n\n    function on_load() {\n      root._bokeh_is_loading--;\n      if (root._bokeh_is_loading === 0) {\n        console.debug(\"Bokeh: all BokehJS libraries/stylesheets loaded\");\n        run_callbacks()\n      }\n    }\n\n    function on_error(url) {\n      console.error(\"failed to load \" + url);\n    }\n\n    for (let i = 0; i < css_urls.length; i++) {\n      const url = css_urls[i];\n      const element = document.createElement(\"link\");\n      element.onload = on_load;\n      element.onerror = on_error.bind(null, url);\n      element.rel = \"stylesheet\";\n      element.type = \"text/css\";\n      element.href = url;\n      console.debug(\"Bokeh: injecting link tag for BokehJS stylesheet: \", url);\n      document.body.appendChild(element);\n    }\n\n    for (let i = 0; i < js_urls.length; i++) {\n      const url = js_urls[i];\n      const element = document.createElement('script');\n      element.onload = on_load;\n      element.onerror = on_error.bind(null, url);\n      element.async = false;\n      element.src = url;\n      console.debug(\"Bokeh: injecting script tag for BokehJS library: \", url);\n      document.head.appendChild(element);\n    }\n  };\n\n  function inject_raw_css(css) {\n    const element = document.createElement(\"style\");\n    element.appendChild(document.createTextNode(css));\n    document.body.appendChild(element);\n  }\n\n  const js_urls = [\"https://cdn.bokeh.org/bokeh/release/bokeh-2.4.3.min.js\", \"https://cdn.bokeh.org/bokeh/release/bokeh-gl-2.4.3.min.js\", \"https://cdn.bokeh.org/bokeh/release/bokeh-widgets-2.4.3.min.js\", \"https://cdn.bokeh.org/bokeh/release/bokeh-tables-2.4.3.min.js\", \"https://cdn.bokeh.org/bokeh/release/bokeh-mathjax-2.4.3.min.js\"];\n  const css_urls = [];\n\n  const inline_js = [    function(Bokeh) {\n      Bokeh.set_log_level(\"info\");\n    },\nfunction(Bokeh) {\n    }\n  ];\n\n  function run_inline_js() {\n    if (root.Bokeh !== undefined || force === true) {\n          for (let i = 0; i < inline_js.length; i++) {\n      inline_js[i].call(root, root.Bokeh);\n    }\n} else if (Date.now() < root._bokeh_timeout) {\n      setTimeout(run_inline_js, 100);\n    } else if (!root._bokeh_failed_load) {\n      console.log(\"Bokeh: BokehJS failed to load within specified timeout.\");\n      root._bokeh_failed_load = true;\n    } else if (force !== true) {\n      const cell = $(document.getElementById(null)).parents('.cell').data().cell;\n      cell.output_area.append_execute_result(NB_LOAD_WARNING)\n    }\n  }\n\n  if (root._bokeh_is_loading === 0) {\n    console.debug(\"Bokeh: BokehJS loaded, going straight to plotting\");\n    run_inline_js();\n  } else {\n    load_libs(css_urls, js_urls, function() {\n      console.debug(\"Bokeh: BokehJS plotting callback run at\", now());\n      run_inline_js();\n    });\n  }\n}(window));"
     },
     "metadata": {},
     "output_type": "display_data"
    },
    {
     "data": {
      "text/html": [
       "\n",
       "            <table class=\"malariagen-ag3\">\n",
       "                <thead>\n",
       "                    <tr>\n",
       "                        <th style=\"text-align: left\" colspan=\"2\">MalariaGEN Ag3 API client</th>\n",
       "                    </tr>\n",
       "                    <tr><td colspan=\"2\" style=\"text-align: left\">\n",
       "                        Please note that data are subject to terms of use,\n",
       "                        for more information see <a href=\"https://www.malariagen.net/data\">\n",
       "                        the MalariaGEN website</a> or contact data@malariagen.net.\n",
       "                        See also the <a href=\"https://malariagen.github.io/vector-data/ag3/api.html\">Ag3 API docs</a>.\n",
       "                    </td></tr>\n",
       "                </thead>\n",
       "                <tbody>\n",
       "                    <tr>\n",
       "                        <th style=\"text-align: left\">\n",
       "                            Storage URL\n",
       "                        </th>\n",
       "                        <td>gs://vo_agam_release/</td>\n",
       "                    </tr>\n",
       "                    <tr>\n",
       "                        <th style=\"text-align: left\">\n",
       "                            Data releases available\n",
       "                        </th>\n",
       "                        <td>3.0</td>\n",
       "                    </tr>\n",
       "                    <tr>\n",
       "                        <th style=\"text-align: left\">\n",
       "                            Results cache\n",
       "                        </th>\n",
       "                        <td>None</td>\n",
       "                    </tr>\n",
       "                    <tr>\n",
       "                        <th style=\"text-align: left\">\n",
       "                            Cohorts analysis\n",
       "                        </th>\n",
       "                        <td>20220608</td>\n",
       "                    </tr>\n",
       "                    <tr>\n",
       "                        <th style=\"text-align: left\">\n",
       "                            Species analysis\n",
       "                        </th>\n",
       "                        <td>aim_20220528</td>\n",
       "                    </tr>\n",
       "                    <tr>\n",
       "                        <th style=\"text-align: left\">\n",
       "                            Site filters analysis\n",
       "                        </th>\n",
       "                        <td>dt_20200416</td>\n",
       "                    </tr>\n",
       "                    <tr>\n",
       "                        <th style=\"text-align: left\">\n",
       "                            Software version\n",
       "                        </th>\n",
       "                        <td>malariagen_data 6.0.0</td>\n",
       "                    </tr>\n",
       "                    <tr>\n",
       "                        <th style=\"text-align: left\">\n",
       "                            Client location\n",
       "                        </th>\n",
       "                        <td>Iowa, US (Google Cloud)</td>\n",
       "                    </tr>\n",
       "                </tbody>\n",
       "            </table>\n",
       "        "
      ],
      "text/plain": [
       "<MalariaGEN Ag3 API client>\n",
       "Storage URL             : gs://vo_agam_release/\n",
       "Data releases available : 3.0\n",
       "Results cache           : None\n",
       "Cohorts analysis        : 20220608\n",
       "Species analysis        : aim_20220528\n",
       "Site filters analysis   : dt_20200416\n",
       "Software version        : malariagen_data 6.0.0\n",
       "Client location         : Iowa, US (Google Cloud)\n",
       "---\n",
       "Please note that data are subject to terms of use,\n",
       "for more information see https://www.malariagen.net/data\n",
       "or contact data@malariagen.net. For API documentation see \n",
       "https://malariagen.github.io/vector-data/ag3/api.html"
      ]
     },
     "execution_count": 4,
     "metadata": {},
     "output_type": "execute_result"
    }
   ],
   "source": [
    "ag3 = malariagen_data.Ag3()\n",
    "ag3"
   ]
  },
  {
   "cell_type": "markdown",
   "metadata": {
    "id": "IfpCkRo_yayj"
   },
   "source": [
    "## Introduction"
   ]
  },
  {
   "cell_type": "markdown",
   "metadata": {
    "id": "X_jGCysBy7dV"
   },
   "source": [
    "### Recap: multidimensional arrays\n",
    "\n",
    "Previously in [workshop 4, module 1](../workshop-4/module-1-numpy) we introduced the concept of multidimensional arrays, and how they can be used to store some different types of scientific data. Let's recap two examples.\n",
    "\n",
    "The first example is a grayscale image, which can be stored as a 2-dimensional array of numbers. Each element in the array represents a pixel, and the value of the number encodes the colour. One dimension of the array corresponds to the vertical position of the pixels within the image, and the other dimension of the array corresponds to the horizontal position of the pixels."
   ]
  },
  {
   "cell_type": "markdown",
   "metadata": {
    "id": "5p925GU0zBAD"
   },
   "source": [
    "<img src=\"https://jalammar.github.io/images/numpy/numpy-grayscale-image.png\" width=\"700\"/>"
   ]
  },
  {
   "cell_type": "markdown",
   "metadata": {},
   "source": [
    "The second example is a set of genotype calls obtained from sequencing some mosquitoes. These data can be stored as a 3-dimensional array, where one dimension of the array corresponds to positions (sites) within a reference genome, another dimension corresponds to the individual mosquitoes that were sequenced, and a third dimension corresponds to the number of genomes within each individual (mosquitoes are diploid, hence this dimension is of length 2)."
   ]
  },
  {
   "cell_type": "markdown",
   "metadata": {
    "id": "JjWa1LOezJBf"
   },
   "source": [
    "<img src=\"https://storage.googleapis.com/vo_agam_release/reference/training-images/workshop-4/mosquito-genotype-array.png\" width=\"650\"/>"
   ]
  },
  {
   "cell_type": "markdown",
   "metadata": {
    "id": "VXaOkX5jELzB"
   },
   "source": [
    "### Why xarray?\n",
    "\n",
    "Xarray is designed for situations where you have more than one multidimensional data array that you need to manage and access. To illustrate a situation where this is useful, consider the following image, which shows data from a geostatistical model of insecticide-treated net (ITN) use in Africa:"
   ]
  },
  {
   "cell_type": "markdown",
   "metadata": {
    "id": "p4ARvFkQbwj0"
   },
   "source": [
    "<img src=\"https://storage.googleapis.com/vo_agam_release/reference/training-images/workshop-5/itn_use.png\" width=\"650\"/>"
   ]
  },
  {
   "cell_type": "markdown",
   "metadata": {},
   "source": [
    "This model was created by the [Malaria Atlas Project](https://malariaatlas.org/), and the image above is a screenshot from their online [data explorer tool](https://malariaatlas.org/explorer/). The model predicts the degree of ITN use within 5km squares across sub-Saharan Africa, for each year between 2000 and 2020. For each 5km square and year, the model generates a numerical value between 0 and 1, where a value of 0 means no-one uses an ITN, and a value of 1 means everyone uses an ITN. Thus the model output is a 3-dimensional array, with two spatial dimensions corresponding to longitude and latitude, and a third dimension corresponding to year. In the image above, the model output for 2019 is shown by colouring each grid square using a colour map ranging from red (0) to green (1).\n",
    "\n",
    "These data are a good use case for xarray, because in addition to overall ITN use, the model also breaks this down into several other data variables. In particular, the model outputs ITN access (what fraction of people have access to a net), ITN use rate (what fraction of people with access to a net choose to use it), and ITNs per capita (how many ITNs have been supplied to the population). The model is described in [Bertozzi-Villa et al. (2021)](https://doi.org/10.1038/s41467-021-23707-7), and [Figure 3](https://www.nature.com/articles/s41467-021-23707-7/figures/3) provides a nice visualising of these data variables for the year 2020. \n",
    "\n",
    "Thus, in the data outputs generated by this model, there are:\n",
    "\n",
    "* **Several multidimensional arrays**. E.g., ITN access, ITN use rate, ITN per capita. These are called \"data variables\" in xarray.\n",
    "* **Dimensions are shared**. E.g., all data variables are 3-dimensional, using the same grid of 5km squares, and the same range of years.\n",
    "* **Dimensions correspond to some kind of coordinate system**. E.g., the spatial dimensions correspond to latitude and longitude values, and the temporal dimension corresponds to year values between 2000 and 2020. These are called \"coordinate variables\" in xarray.\n",
    "\n",
    "Let's now look at how xarray can be used to represent the data from this model."
   ]
  },
  {
   "cell_type": "markdown",
   "metadata": {
    "id": "gokyKllVXptw"
   },
   "source": [
    "## Anatomy of an xarray dataset"
   ]
  },
  {
   "cell_type": "code",
   "execution_count": null,
   "metadata": {
    "id": "BO9wN6_sH7ro"
   },
   "outputs": [],
   "source": [
    "def load_itn_metrics():\n",
    "\n",
    "    # need to combined data from multiple tifs, requires rioxarray\n",
    "    datasets = []\n",
    "    years = np.arange(2000, 2021)\n",
    "    file_paths = {\n",
    "        \"itn_access_mean\": \"https://storage.googleapis.com/malariagen-reference-data-us/malariaatlas/2020_Africa_ITN_Access_mean.zip/ITN_{year}_access_mean.tif\",\n",
    "        \"itn_per_capita_mean\": \"https://storage.googleapis.com/malariagen-reference-data-us/malariaatlas/2020_Africa_ITN_Percapita_Nets_mean.zip/ITN_{year}_percapita_nets_mean.tif\",\n",
    "        \"itn_use_mean\": \"https://storage.googleapis.com/malariagen-reference-data-us/malariaatlas/2020_Africa_ITN_Use_mean.zip/ITN_{year}_use_mean.tif\",\n",
    "        \"itn_use_rate_mean\": \"https://storage.googleapis.com/malariagen-reference-data-us/malariaatlas/2020_Africa_ITN_Use_Rate_mean.zip/ITN_{year}_use_rate_mean.tif\",\n",
    "    }\n",
    "    for variable_name, file_path_template in file_paths.items():    \n",
    "        ds = (\n",
    "            xr.open_mfdataset(\n",
    "                paths=[file_path_template.format(year=year) for year in range(2000, 2021)],\n",
    "                engine=\"rasterio\",\n",
    "                combine=\"nested\",\n",
    "                concat_dim=\"year\",\n",
    "            )\n",
    "            .rename_dims({\"x\": \"lon\", \"y\": \"lat\"})\n",
    "            .rename_vars({\"x\": \"lon\", \"y\": \"lat\", \"band_data\": variable_name})\n",
    "            .isel(band=0)\n",
    "            .drop_vars([\"band\", \"spatial_ref\"])\n",
    "        )\n",
    "        ds.coords[\"year\"] = \"year\", years\n",
    "        datasets.append(ds)\n",
    "\n",
    "    # merge all datasets, assume already aligned\n",
    "    ds_itn = xr.merge(\n",
    "        datasets,\n",
    "        compat=\"override\",\n",
    "        join=\"override\",\n",
    "    )\n",
    "\n",
    "    # add metadata\n",
    "    ds_itn.attrs[\"title\"] = \"Maps and metrics of insecticide-treated net access, use, and nets-per-capita in Africa from 2000-2020\"\n",
    "    ds_itn.attrs[\"creator\"] = \"The Malaria Atlas Project\"\n",
    "    ds_itn.attrs[\"references\"] = \"https://malariaatlas.org/research-project/metrics-of-insecticide-treated-nets-distribution/\"\n",
    "\n",
    "    return ds_itn\n"
   ]
  },
  {
   "cell_type": "code",
   "execution_count": null,
   "metadata": {
    "id": "3LJ4vP48XsZa"
   },
   "outputs": [],
   "source": [
    "ds_itn = load_itn_metrics()"
   ]
  },
  {
   "cell_type": "code",
   "execution_count": null,
   "metadata": {
    "id": "2GHUXsYCYK8F"
   },
   "outputs": [],
   "source": [
    "type(ds_itn)"
   ]
  },
  {
   "cell_type": "code",
   "execution_count": null,
   "metadata": {
    "id": "v2k5jaRUYL1V"
   },
   "outputs": [],
   "source": [
    "ds_itn"
   ]
  },
  {
   "cell_type": "markdown",
   "metadata": {
    "id": "rADvhgRfX7Cc"
   },
   "source": [
    "* Named dimensions\n",
    "* Dimension sizes (lengths)\n",
    "* Data variables\n",
    "* Coordinate variables\n",
    "* Attributes"
   ]
  },
  {
   "cell_type": "code",
   "execution_count": null,
   "metadata": {
    "id": "e4SoiUKTZC9p"
   },
   "outputs": [],
   "source": [
    "ds_itn.sel(year=2019)[\"itn_use_mean\"].plot(vmin=0, vmax=1, cmap=\"RdYlGn\");"
   ]
  },
  {
   "cell_type": "markdown",
   "metadata": {
    "id": "D1SL3FKAaM6s"
   },
   "source": [
    "## Accessing variables"
   ]
  },
  {
   "cell_type": "code",
   "execution_count": null,
   "metadata": {
    "id": "vNRL0enoaOhM"
   },
   "outputs": [],
   "source": [
    "itn_use_mean = ds_itn[\"itn_use_mean\"]"
   ]
  },
  {
   "cell_type": "code",
   "execution_count": null,
   "metadata": {
    "id": "8Le6sDlgaSKn"
   },
   "outputs": [],
   "source": [
    "type(itn_use_mean)"
   ]
  },
  {
   "cell_type": "code",
   "execution_count": null,
   "metadata": {
    "id": "KaHTURkMaXtH"
   },
   "outputs": [],
   "source": [
    "itn_use_mean.ndim"
   ]
  },
  {
   "cell_type": "code",
   "execution_count": null,
   "metadata": {
    "id": "xYKyoq8PaUUf"
   },
   "outputs": [],
   "source": [
    "itn_use_mean.shape"
   ]
  },
  {
   "cell_type": "code",
   "execution_count": null,
   "metadata": {
    "id": "T_fubwanaWon"
   },
   "outputs": [],
   "source": [
    "itn_use_mean.dtype"
   ]
  },
  {
   "cell_type": "code",
   "execution_count": null,
   "metadata": {
    "id": "4kQqv3DKaaPE"
   },
   "outputs": [],
   "source": [
    "itn_use_mean.dims"
   ]
  },
  {
   "cell_type": "code",
   "execution_count": null,
   "metadata": {
    "id": "mKgSv-miaelf"
   },
   "outputs": [],
   "source": [
    "itn_use_mean"
   ]
  },
  {
   "cell_type": "code",
   "execution_count": null,
   "metadata": {
    "id": "ZRtfYLDTafYJ"
   },
   "outputs": [],
   "source": [
    "a = itn_use_mean.values"
   ]
  },
  {
   "cell_type": "code",
   "execution_count": null,
   "metadata": {
    "id": "10egjWOFavJc"
   },
   "outputs": [],
   "source": [
    "type(a)"
   ]
  },
  {
   "cell_type": "code",
   "execution_count": null,
   "metadata": {
    "id": "jotH7riEbNjA"
   },
   "outputs": [],
   "source": [
    "longitude = ds_itn[\"lon\"]"
   ]
  },
  {
   "cell_type": "code",
   "execution_count": null,
   "metadata": {
    "id": "FeAetFhnbWXB"
   },
   "outputs": [],
   "source": [
    "type(longitude)"
   ]
  },
  {
   "cell_type": "code",
   "execution_count": null,
   "metadata": {
    "id": "cEy_FEqibYzj"
   },
   "outputs": [],
   "source": [
    "longitude"
   ]
  },
  {
   "cell_type": "code",
   "execution_count": null,
   "metadata": {
    "id": "ygOkDK6bbfab"
   },
   "outputs": [],
   "source": [
    "longitude.values"
   ]
  },
  {
   "cell_type": "code",
   "execution_count": null,
   "metadata": {
    "id": "ja1IB0Q1brKv"
   },
   "outputs": [],
   "source": [
    "year = ds_itn[\"year\"]"
   ]
  },
  {
   "cell_type": "code",
   "execution_count": null,
   "metadata": {
    "id": "qPHrxeOcbtA9"
   },
   "outputs": [],
   "source": [
    "year"
   ]
  },
  {
   "cell_type": "code",
   "execution_count": null,
   "metadata": {
    "id": "uQDm-M7NbvYh"
   },
   "outputs": [],
   "source": [
    "year.values"
   ]
  },
  {
   "cell_type": "markdown",
   "metadata": {
    "id": "-S-Ytg9tb63W"
   },
   "source": [
    "## Selecting data with indexing"
   ]
  },
  {
   "cell_type": "code",
   "execution_count": null,
   "metadata": {
    "id": "9fXjYKCjb9Mw"
   },
   "outputs": [],
   "source": [
    "ds_itn"
   ]
  },
  {
   "cell_type": "markdown",
   "metadata": {
    "id": "vFY3_fVccZn3"
   },
   "source": [
    "### Positional indexing with `isel()`"
   ]
  },
  {
   "cell_type": "code",
   "execution_count": null,
   "metadata": {
    "id": "WHYC_N3CcAaH"
   },
   "outputs": [],
   "source": [
    "ds_itn_y0 = ds_itn.isel(year=0)\n",
    "ds_itn_y0"
   ]
  },
  {
   "cell_type": "code",
   "execution_count": null,
   "metadata": {
    "id": "R_UzsTZ2czQF"
   },
   "outputs": [],
   "source": [
    "ds_itn_y02 = ds_itn.isel(year=slice(0, 2))\n",
    "ds_itn_y02"
   ]
  },
  {
   "cell_type": "markdown",
   "metadata": {
    "id": "Zva2ZVSicd__"
   },
   "source": [
    "### Label-based indexing with `sel()`"
   ]
  },
  {
   "cell_type": "code",
   "execution_count": null,
   "metadata": {
    "id": "OgNVh_V8cg28"
   },
   "outputs": [],
   "source": [
    "ds_itn_2020 = ds_itn.sel(year=2020)\n",
    "ds_itn_2020"
   ]
  },
  {
   "cell_type": "code",
   "execution_count": null,
   "metadata": {
    "id": "7xbGWLwGdMIF"
   },
   "outputs": [],
   "source": [
    "ds_itn_2020[\"itn_access_mean\"].plot(vmin=0, vmax=1, cmap=\"YlGnBu\");"
   ]
  },
  {
   "cell_type": "code",
   "execution_count": null,
   "metadata": {
    "id": "y2AGLzhEdfzc"
   },
   "outputs": [],
   "source": [
    "ds_itn_2020[\"itn_use_rate_mean\"].plot(vmin=0, vmax=1, cmap=\"Spectral\");"
   ]
  },
  {
   "cell_type": "code",
   "execution_count": null,
   "metadata": {
    "id": "yTfybhbcdwkt"
   },
   "outputs": [],
   "source": [
    "ds_itn_2020[\"itn_per_capita_mean\"].plot(vmin=0, vmax=1, cmap=\"YlOrBr\");"
   ]
  },
  {
   "cell_type": "code",
   "execution_count": null,
   "metadata": {
    "id": "u3azUzOJdABv"
   },
   "outputs": [],
   "source": [
    "ds_itn_2018_2020 = ds_itn.sel(year=slice(2018, 2020))\n",
    "ds_itn_2018_2020"
   ]
  },
  {
   "cell_type": "markdown",
   "metadata": {
    "id": "qkBdw71zcnRv"
   },
   "source": [
    "## Uses of xarray for genomic data"
   ]
  },
  {
   "cell_type": "markdown",
   "metadata": {
    "id": "82iOPALhemC-"
   },
   "source": [
    "### SNP calls"
   ]
  },
  {
   "cell_type": "code",
   "execution_count": null,
   "metadata": {
    "id": "kDSYWToBeeWs"
   },
   "outputs": [],
   "source": [
    "ds_snp = ag3.snp_calls(\n",
    "    region=\"3R\"\n",
    ")\n",
    "ds_snp"
   ]
  },
  {
   "cell_type": "code",
   "execution_count": null,
   "metadata": {
    "id": "Ch-zydf5elKy"
   },
   "outputs": [],
   "source": [
    "ds_snp.isel(samples=0)"
   ]
  },
  {
   "cell_type": "code",
   "execution_count": null,
   "metadata": {
    "id": "JDkT6QcSexCF"
   },
   "outputs": [],
   "source": [
    "gt = ds_snp.isel(samples=0)[\"call_genotype\"].values\n",
    "gt"
   ]
  },
  {
   "cell_type": "code",
   "execution_count": null,
   "metadata": {
    "id": "B_axWdwOe7vJ"
   },
   "outputs": [],
   "source": [
    "ds_snp_ix = ds_snp.set_index(samples=\"sample_id\")\n",
    "ds_snp_ix"
   ]
  },
  {
   "cell_type": "code",
   "execution_count": null,
   "metadata": {
    "id": "iTGH15xJfAYl"
   },
   "outputs": [],
   "source": [
    "ds_snp_ix.sel(samples=\"AR0047-C\")"
   ]
  },
  {
   "cell_type": "code",
   "execution_count": null,
   "metadata": {
    "id": "ebapuhenfIwB"
   },
   "outputs": [],
   "source": [
    "gt = ds_snp_ix.sel(samples=\"AR0047-C\")[\"call_genotype\"].values\n",
    "gt"
   ]
  },
  {
   "cell_type": "markdown",
   "metadata": {
    "id": "05kjFkfsfRiK"
   },
   "source": [
    "### CNV calls"
   ]
  },
  {
   "cell_type": "code",
   "execution_count": null,
   "metadata": {
    "id": "VTbDJ3bCfZyA"
   },
   "outputs": [],
   "source": [
    "ds_cnv = ag3.cnv_hmm(\n",
    "    region=\"3R\"\n",
    ")\n",
    "ds_cnv"
   ]
  },
  {
   "cell_type": "code",
   "execution_count": null,
   "metadata": {
    "id": "MBBlLau8feJ5"
   },
   "outputs": [],
   "source": [
    "ds_cnv_ix = ds_cnv.set_index(samples=\"sample_id\")\n",
    "ds_cnv_ix"
   ]
  },
  {
   "cell_type": "code",
   "execution_count": null,
   "metadata": {
    "id": "s3QL4QtlfpYN"
   },
   "outputs": [],
   "source": [
    "cn = ds_cnv_ix.sel(samples=\"AR0047-C\")[\"call_CN\"].values\n",
    "cn"
   ]
  },
  {
   "cell_type": "markdown",
   "metadata": {
    "id": "HO6n6j0Tfux2"
   },
   "source": [
    "### Allele frequencies"
   ]
  },
  {
   "cell_type": "code",
   "execution_count": null,
   "metadata": {
    "id": "MOl3yBjjf2Ni"
   },
   "outputs": [],
   "source": [
    "cyp6aap_cnv_ds = ag3.gene_cnv_frequencies_advanced(\n",
    "    region=\"2R:28,480,000-28,510,000\",\n",
    "    area_by=\"admin1_iso\",\n",
    "    period_by=\"year\",\n",
    "    variant_query=\"max_af > 0.05\"\n",
    ")\n",
    "cyp6aap_cnv_ds"
   ]
  },
  {
   "cell_type": "code",
   "execution_count": null,
   "metadata": {
    "id": "-hGzIfNhgOhS"
   },
   "outputs": [],
   "source": [
    "ag3.plot_frequencies_interactive_map(\n",
    "    cyp6aap_cnv_ds,\n",
    "    title=\"Gene CNV frequencies, Cyp6aa/p locus\"\n",
    ")"
   ]
  },
  {
   "cell_type": "markdown",
   "metadata": {
    "id": "6e1473Gvm_gQ"
   },
   "source": [
    "## Well done!"
   ]
  }
 ],
 "metadata": {
  "colab": {
   "collapsed_sections": [],
   "name": "Workshop 5 - Module 1 - 2022-07-11 - Xarray datasets.ipynb",
   "provenance": []
  },
  "kernelspec": {
   "display_name": "Python [conda env:workshop-5-dev]",
   "language": "python",
   "name": "conda-env-workshop-5-dev-py"
  },
  "language_info": {
   "codemirror_mode": {
    "name": "ipython",
    "version": 3
   },
   "file_extension": ".py",
   "mimetype": "text/x-python",
   "name": "python",
   "nbconvert_exporter": "python",
   "pygments_lexer": "ipython3",
   "version": "3.7.12"
  }
 },
 "nbformat": 4,
 "nbformat_minor": 1
}
