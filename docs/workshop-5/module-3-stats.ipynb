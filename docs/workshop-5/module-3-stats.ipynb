{
 "cells": [
  {
   "cell_type": "markdown",
   "metadata": {
    "id": "PegF1K0D1ZnS"
   },
   "source": [
    "![banner](https://anopheles-genomic-surveillance.github.io/_images/banner.jpg)\n",
    "\n",
    "***Training course in data analysis for genomic surveillance of African malaria vectors - Workshop 5***\n",
    "\n",
    "---"
   ]
  },
  {
   "cell_type": "markdown",
   "metadata": {
    "id": "IWbYSGsC1vhV"
   },
   "source": [
    "# Module 3 - Genetic diversity summary statistics\n",
    "\n",
    "**Theme: Analysis**\n",
    "\n",
    "This module covers how to compute genetic diversity summary statistics, which are a convenient and informative way to quantify and compare diversity in different cohorts. "
   ]
  },
  {
   "cell_type": "markdown",
   "metadata": {
    "id": "WiKt280J13oB"
   },
   "source": [
    "## Learning objectives\n",
    "\n",
    "At the end of this module you will be able to:\n",
    "\n",
    "* Select cohorts for comparative analysis of genetic diversity\n",
    "* Compute nucleotide diversity, Watterson's estimator and Tajima's D\n",
    "* Plot diversity statistics for multiple cohorts\n",
    "* Interpret the results"
   ]
  },
  {
   "cell_type": "markdown",
   "metadata": {},
   "source": [
    "## Lecture"
   ]
  },
  {
   "cell_type": "markdown",
   "metadata": {},
   "source": [
    "### English"
   ]
  },
  {
   "cell_type": "code",
   "execution_count": 1,
   "metadata": {
    "tags": [
     "remove-input"
    ]
   },
   "outputs": [
    {
     "data": {
      "text/html": [
       "<iframe width=\"560\" height=\"315\" src=\"https://www.youtube.com/embed/ohKfiu_WC-g\" title=\"YouTube video player\" frameborder=\"0\" allow=\"accelerometer; autoplay; clipboard-write; encrypted-media; gyroscope; picture-in-picture\" allowfullscreen></iframe>\n"
      ],
      "text/plain": [
       "<IPython.core.display.HTML object>"
      ]
     },
     "metadata": {},
     "output_type": "display_data"
    }
   ],
   "source": [
    "%%html\n",
    "<iframe width=\"560\" height=\"315\" src=\"https://www.youtube.com/embed/ohKfiu_WC-g\" title=\"YouTube video player\" frameborder=\"0\" allow=\"accelerometer; autoplay; clipboard-write; encrypted-media; gyroscope; picture-in-picture\" allowfullscreen></iframe>"
   ]
  },
  {
   "cell_type": "markdown",
   "metadata": {},
   "source": [
    "### Français"
   ]
  },
  {
   "cell_type": "code",
   "execution_count": 2,
   "metadata": {
    "tags": [
     "remove-input"
    ]
   },
   "outputs": [
    {
     "data": {
      "text/html": [
       "<iframe width=\"560\" height=\"315\" src=\"https://www.youtube.com/embed/pkwpz8cWp44\" title=\"YouTube video player\" frameborder=\"0\" allow=\"accelerometer; autoplay; clipboard-write; encrypted-media; gyroscope; picture-in-picture\" allowfullscreen></iframe>\n"
      ],
      "text/plain": [
       "<IPython.core.display.HTML object>"
      ]
     },
     "metadata": {},
     "output_type": "display_data"
    }
   ],
   "source": [
    "%%html\n",
    "<iframe width=\"560\" height=\"315\" src=\"https://www.youtube.com/embed/pkwpz8cWp44\" title=\"YouTube video player\" frameborder=\"0\" allow=\"accelerometer; autoplay; clipboard-write; encrypted-media; gyroscope; picture-in-picture\" allowfullscreen></iframe>"
   ]
  },
  {
   "cell_type": "markdown",
   "metadata": {
    "id": "TlaFgvoI2FcI"
   },
   "source": [
    "## Setup\n",
    "\n",
    "Install and import the packages we'll need."
   ]
  },
  {
   "cell_type": "code",
   "execution_count": 1,
   "metadata": {
    "id": "DowTxcfD2Oxd"
   },
   "outputs": [],
   "source": [
    "!pip install -q malariagen_data"
   ]
  },
  {
   "cell_type": "code",
   "execution_count": 2,
   "metadata": {
    "id": "bQw97PEh2RDq"
   },
   "outputs": [],
   "source": [
    "import malariagen_data\n",
    "import plotly.express as px"
   ]
  },
  {
   "cell_type": "markdown",
   "metadata": {
    "id": "dw24EvYa5v0J"
   },
   "source": [
    "Here we will compute summary statistics using data from millions of SNPs. This can take some time, so we will use Google Drive to save results and avoid having to rerun computations. To do this we first need to mount Google Drive to our colab VM:"
   ]
  },
  {
   "cell_type": "code",
   "execution_count": 3,
   "metadata": {
    "id": "7acwMOeM5zz7"
   },
   "outputs": [],
   "source": [
    "try:\n",
    "    from google.colab import drive\n",
    "    drive.mount(\"drive\")\n",
    "except ImportError:\n",
    "    pass"
   ]
  },
  {
   "cell_type": "markdown",
   "metadata": {
    "id": "mh3b5v5TYQd9"
   },
   "source": [
    "Configure access to MalariaGEN data in Google Cloud."
   ]
  },
  {
   "cell_type": "code",
   "execution_count": 4,
   "metadata": {
    "id": "7lSms3Hn2SFR"
   },
   "outputs": [
    {
     "data": {
      "application/javascript": [
       "(function(root) {\n",
       "  function now() {\n",
       "    return new Date();\n",
       "  }\n",
       "\n",
       "  const force = true;\n",
       "\n",
       "  if (typeof root._bokeh_onload_callbacks === \"undefined\" || force === true) {\n",
       "    root._bokeh_onload_callbacks = [];\n",
       "    root._bokeh_is_loading = undefined;\n",
       "  }\n",
       "\n",
       "const JS_MIME_TYPE = 'application/javascript';\n",
       "  const HTML_MIME_TYPE = 'text/html';\n",
       "  const EXEC_MIME_TYPE = 'application/vnd.bokehjs_exec.v0+json';\n",
       "  const CLASS_NAME = 'output_bokeh rendered_html';\n",
       "\n",
       "  /**\n",
       "   * Render data to the DOM node\n",
       "   */\n",
       "  function render(props, node) {\n",
       "    const script = document.createElement(\"script\");\n",
       "    node.appendChild(script);\n",
       "  }\n",
       "\n",
       "  /**\n",
       "   * Handle when an output is cleared or removed\n",
       "   */\n",
       "  function handleClearOutput(event, handle) {\n",
       "    const cell = handle.cell;\n",
       "\n",
       "    const id = cell.output_area._bokeh_element_id;\n",
       "    const server_id = cell.output_area._bokeh_server_id;\n",
       "    // Clean up Bokeh references\n",
       "    if (id != null && id in Bokeh.index) {\n",
       "      Bokeh.index[id].model.document.clear();\n",
       "      delete Bokeh.index[id];\n",
       "    }\n",
       "\n",
       "    if (server_id !== undefined) {\n",
       "      // Clean up Bokeh references\n",
       "      const cmd_clean = \"from bokeh.io.state import curstate; print(curstate().uuid_to_server['\" + server_id + \"'].get_sessions()[0].document.roots[0]._id)\";\n",
       "      cell.notebook.kernel.execute(cmd_clean, {\n",
       "        iopub: {\n",
       "          output: function(msg) {\n",
       "            const id = msg.content.text.trim();\n",
       "            if (id in Bokeh.index) {\n",
       "              Bokeh.index[id].model.document.clear();\n",
       "              delete Bokeh.index[id];\n",
       "            }\n",
       "          }\n",
       "        }\n",
       "      });\n",
       "      // Destroy server and session\n",
       "      const cmd_destroy = \"import bokeh.io.notebook as ion; ion.destroy_server('\" + server_id + \"')\";\n",
       "      cell.notebook.kernel.execute(cmd_destroy);\n",
       "    }\n",
       "  }\n",
       "\n",
       "  /**\n",
       "   * Handle when a new output is added\n",
       "   */\n",
       "  function handleAddOutput(event, handle) {\n",
       "    const output_area = handle.output_area;\n",
       "    const output = handle.output;\n",
       "\n",
       "    // limit handleAddOutput to display_data with EXEC_MIME_TYPE content only\n",
       "    if ((output.output_type != \"display_data\") || (!Object.prototype.hasOwnProperty.call(output.data, EXEC_MIME_TYPE))) {\n",
       "      return\n",
       "    }\n",
       "\n",
       "    const toinsert = output_area.element.find(\".\" + CLASS_NAME.split(' ')[0]);\n",
       "\n",
       "    if (output.metadata[EXEC_MIME_TYPE][\"id\"] !== undefined) {\n",
       "      toinsert[toinsert.length - 1].firstChild.textContent = output.data[JS_MIME_TYPE];\n",
       "      // store reference to embed id on output_area\n",
       "      output_area._bokeh_element_id = output.metadata[EXEC_MIME_TYPE][\"id\"];\n",
       "    }\n",
       "    if (output.metadata[EXEC_MIME_TYPE][\"server_id\"] !== undefined) {\n",
       "      const bk_div = document.createElement(\"div\");\n",
       "      bk_div.innerHTML = output.data[HTML_MIME_TYPE];\n",
       "      const script_attrs = bk_div.children[0].attributes;\n",
       "      for (let i = 0; i < script_attrs.length; i++) {\n",
       "        toinsert[toinsert.length - 1].firstChild.setAttribute(script_attrs[i].name, script_attrs[i].value);\n",
       "        toinsert[toinsert.length - 1].firstChild.textContent = bk_div.children[0].textContent\n",
       "      }\n",
       "      // store reference to server id on output_area\n",
       "      output_area._bokeh_server_id = output.metadata[EXEC_MIME_TYPE][\"server_id\"];\n",
       "    }\n",
       "  }\n",
       "\n",
       "  function register_renderer(events, OutputArea) {\n",
       "\n",
       "    function append_mime(data, metadata, element) {\n",
       "      // create a DOM node to render to\n",
       "      const toinsert = this.create_output_subarea(\n",
       "        metadata,\n",
       "        CLASS_NAME,\n",
       "        EXEC_MIME_TYPE\n",
       "      );\n",
       "      this.keyboard_manager.register_events(toinsert);\n",
       "      // Render to node\n",
       "      const props = {data: data, metadata: metadata[EXEC_MIME_TYPE]};\n",
       "      render(props, toinsert[toinsert.length - 1]);\n",
       "      element.append(toinsert);\n",
       "      return toinsert\n",
       "    }\n",
       "\n",
       "    /* Handle when an output is cleared or removed */\n",
       "    events.on('clear_output.CodeCell', handleClearOutput);\n",
       "    events.on('delete.Cell', handleClearOutput);\n",
       "\n",
       "    /* Handle when a new output is added */\n",
       "    events.on('output_added.OutputArea', handleAddOutput);\n",
       "\n",
       "    /**\n",
       "     * Register the mime type and append_mime function with output_area\n",
       "     */\n",
       "    OutputArea.prototype.register_mime_type(EXEC_MIME_TYPE, append_mime, {\n",
       "      /* Is output safe? */\n",
       "      safe: true,\n",
       "      /* Index of renderer in `output_area.display_order` */\n",
       "      index: 0\n",
       "    });\n",
       "  }\n",
       "\n",
       "  // register the mime type if in Jupyter Notebook environment and previously unregistered\n",
       "  if (root.Jupyter !== undefined) {\n",
       "    const events = require('base/js/events');\n",
       "    const OutputArea = require('notebook/js/outputarea').OutputArea;\n",
       "\n",
       "    if (OutputArea.prototype.mime_types().indexOf(EXEC_MIME_TYPE) == -1) {\n",
       "      register_renderer(events, OutputArea);\n",
       "    }\n",
       "  }\n",
       "  if (typeof (root._bokeh_timeout) === \"undefined\" || force === true) {\n",
       "    root._bokeh_timeout = Date.now() + 5000;\n",
       "    root._bokeh_failed_load = false;\n",
       "  }\n",
       "\n",
       "  const NB_LOAD_WARNING = {'data': {'text/html':\n",
       "     \"<div style='background-color: #fdd'>\\n\"+\n",
       "     \"<p>\\n\"+\n",
       "     \"BokehJS does not appear to have successfully loaded. If loading BokehJS from CDN, this \\n\"+\n",
       "     \"may be due to a slow or bad network connection. Possible fixes:\\n\"+\n",
       "     \"</p>\\n\"+\n",
       "     \"<ul>\\n\"+\n",
       "     \"<li>re-rerun `output_notebook()` to attempt to load from CDN again, or</li>\\n\"+\n",
       "     \"<li>use INLINE resources instead, as so:</li>\\n\"+\n",
       "     \"</ul>\\n\"+\n",
       "     \"<code>\\n\"+\n",
       "     \"from bokeh.resources import INLINE\\n\"+\n",
       "     \"output_notebook(resources=INLINE)\\n\"+\n",
       "     \"</code>\\n\"+\n",
       "     \"</div>\"}};\n",
       "\n",
       "  function display_loaded() {\n",
       "    const el = document.getElementById(null);\n",
       "    if (el != null) {\n",
       "      el.textContent = \"BokehJS is loading...\";\n",
       "    }\n",
       "    if (root.Bokeh !== undefined) {\n",
       "      if (el != null) {\n",
       "        el.textContent = \"BokehJS \" + root.Bokeh.version + \" successfully loaded.\";\n",
       "      }\n",
       "    } else if (Date.now() < root._bokeh_timeout) {\n",
       "      setTimeout(display_loaded, 100)\n",
       "    }\n",
       "  }\n",
       "\n",
       "  function run_callbacks() {\n",
       "    try {\n",
       "      root._bokeh_onload_callbacks.forEach(function(callback) {\n",
       "        if (callback != null)\n",
       "          callback();\n",
       "      });\n",
       "    } finally {\n",
       "      delete root._bokeh_onload_callbacks\n",
       "    }\n",
       "    console.debug(\"Bokeh: all callbacks have finished\");\n",
       "  }\n",
       "\n",
       "  function load_libs(css_urls, js_urls, callback) {\n",
       "    if (css_urls == null) css_urls = [];\n",
       "    if (js_urls == null) js_urls = [];\n",
       "\n",
       "    root._bokeh_onload_callbacks.push(callback);\n",
       "    if (root._bokeh_is_loading > 0) {\n",
       "      console.debug(\"Bokeh: BokehJS is being loaded, scheduling callback at\", now());\n",
       "      return null;\n",
       "    }\n",
       "    if (js_urls == null || js_urls.length === 0) {\n",
       "      run_callbacks();\n",
       "      return null;\n",
       "    }\n",
       "    console.debug(\"Bokeh: BokehJS not loaded, scheduling load and callback at\", now());\n",
       "    root._bokeh_is_loading = css_urls.length + js_urls.length;\n",
       "\n",
       "    function on_load() {\n",
       "      root._bokeh_is_loading--;\n",
       "      if (root._bokeh_is_loading === 0) {\n",
       "        console.debug(\"Bokeh: all BokehJS libraries/stylesheets loaded\");\n",
       "        run_callbacks()\n",
       "      }\n",
       "    }\n",
       "\n",
       "    function on_error(url) {\n",
       "      console.error(\"failed to load \" + url);\n",
       "    }\n",
       "\n",
       "    for (let i = 0; i < css_urls.length; i++) {\n",
       "      const url = css_urls[i];\n",
       "      const element = document.createElement(\"link\");\n",
       "      element.onload = on_load;\n",
       "      element.onerror = on_error.bind(null, url);\n",
       "      element.rel = \"stylesheet\";\n",
       "      element.type = \"text/css\";\n",
       "      element.href = url;\n",
       "      console.debug(\"Bokeh: injecting link tag for BokehJS stylesheet: \", url);\n",
       "      document.body.appendChild(element);\n",
       "    }\n",
       "\n",
       "    for (let i = 0; i < js_urls.length; i++) {\n",
       "      const url = js_urls[i];\n",
       "      const element = document.createElement('script');\n",
       "      element.onload = on_load;\n",
       "      element.onerror = on_error.bind(null, url);\n",
       "      element.async = false;\n",
       "      element.src = url;\n",
       "      console.debug(\"Bokeh: injecting script tag for BokehJS library: \", url);\n",
       "      document.head.appendChild(element);\n",
       "    }\n",
       "  };\n",
       "\n",
       "  function inject_raw_css(css) {\n",
       "    const element = document.createElement(\"style\");\n",
       "    element.appendChild(document.createTextNode(css));\n",
       "    document.body.appendChild(element);\n",
       "  }\n",
       "\n",
       "  const js_urls = [\"https://cdn.bokeh.org/bokeh/release/bokeh-2.4.3.min.js\", \"https://cdn.bokeh.org/bokeh/release/bokeh-gl-2.4.3.min.js\", \"https://cdn.bokeh.org/bokeh/release/bokeh-widgets-2.4.3.min.js\", \"https://cdn.bokeh.org/bokeh/release/bokeh-tables-2.4.3.min.js\", \"https://cdn.bokeh.org/bokeh/release/bokeh-mathjax-2.4.3.min.js\"];\n",
       "  const css_urls = [];\n",
       "\n",
       "  const inline_js = [    function(Bokeh) {\n",
       "      Bokeh.set_log_level(\"info\");\n",
       "    },\n",
       "function(Bokeh) {\n",
       "    }\n",
       "  ];\n",
       "\n",
       "  function run_inline_js() {\n",
       "    if (root.Bokeh !== undefined || force === true) {\n",
       "          for (let i = 0; i < inline_js.length; i++) {\n",
       "      inline_js[i].call(root, root.Bokeh);\n",
       "    }\n",
       "} else if (Date.now() < root._bokeh_timeout) {\n",
       "      setTimeout(run_inline_js, 100);\n",
       "    } else if (!root._bokeh_failed_load) {\n",
       "      console.log(\"Bokeh: BokehJS failed to load within specified timeout.\");\n",
       "      root._bokeh_failed_load = true;\n",
       "    } else if (force !== true) {\n",
       "      const cell = $(document.getElementById(null)).parents('.cell').data().cell;\n",
       "      cell.output_area.append_execute_result(NB_LOAD_WARNING)\n",
       "    }\n",
       "  }\n",
       "\n",
       "  if (root._bokeh_is_loading === 0) {\n",
       "    console.debug(\"Bokeh: BokehJS loaded, going straight to plotting\");\n",
       "    run_inline_js();\n",
       "  } else {\n",
       "    load_libs(css_urls, js_urls, function() {\n",
       "      console.debug(\"Bokeh: BokehJS plotting callback run at\", now());\n",
       "      run_inline_js();\n",
       "    });\n",
       "  }\n",
       "}(window));"
      ],
      "application/vnd.bokehjs_load.v0+json": "(function(root) {\n  function now() {\n    return new Date();\n  }\n\n  const force = true;\n\n  if (typeof root._bokeh_onload_callbacks === \"undefined\" || force === true) {\n    root._bokeh_onload_callbacks = [];\n    root._bokeh_is_loading = undefined;\n  }\n\n\n  if (typeof (root._bokeh_timeout) === \"undefined\" || force === true) {\n    root._bokeh_timeout = Date.now() + 5000;\n    root._bokeh_failed_load = false;\n  }\n\n  const NB_LOAD_WARNING = {'data': {'text/html':\n     \"<div style='background-color: #fdd'>\\n\"+\n     \"<p>\\n\"+\n     \"BokehJS does not appear to have successfully loaded. If loading BokehJS from CDN, this \\n\"+\n     \"may be due to a slow or bad network connection. Possible fixes:\\n\"+\n     \"</p>\\n\"+\n     \"<ul>\\n\"+\n     \"<li>re-rerun `output_notebook()` to attempt to load from CDN again, or</li>\\n\"+\n     \"<li>use INLINE resources instead, as so:</li>\\n\"+\n     \"</ul>\\n\"+\n     \"<code>\\n\"+\n     \"from bokeh.resources import INLINE\\n\"+\n     \"output_notebook(resources=INLINE)\\n\"+\n     \"</code>\\n\"+\n     \"</div>\"}};\n\n  function display_loaded() {\n    const el = document.getElementById(null);\n    if (el != null) {\n      el.textContent = \"BokehJS is loading...\";\n    }\n    if (root.Bokeh !== undefined) {\n      if (el != null) {\n        el.textContent = \"BokehJS \" + root.Bokeh.version + \" successfully loaded.\";\n      }\n    } else if (Date.now() < root._bokeh_timeout) {\n      setTimeout(display_loaded, 100)\n    }\n  }\n\n  function run_callbacks() {\n    try {\n      root._bokeh_onload_callbacks.forEach(function(callback) {\n        if (callback != null)\n          callback();\n      });\n    } finally {\n      delete root._bokeh_onload_callbacks\n    }\n    console.debug(\"Bokeh: all callbacks have finished\");\n  }\n\n  function load_libs(css_urls, js_urls, callback) {\n    if (css_urls == null) css_urls = [];\n    if (js_urls == null) js_urls = [];\n\n    root._bokeh_onload_callbacks.push(callback);\n    if (root._bokeh_is_loading > 0) {\n      console.debug(\"Bokeh: BokehJS is being loaded, scheduling callback at\", now());\n      return null;\n    }\n    if (js_urls == null || js_urls.length === 0) {\n      run_callbacks();\n      return null;\n    }\n    console.debug(\"Bokeh: BokehJS not loaded, scheduling load and callback at\", now());\n    root._bokeh_is_loading = css_urls.length + js_urls.length;\n\n    function on_load() {\n      root._bokeh_is_loading--;\n      if (root._bokeh_is_loading === 0) {\n        console.debug(\"Bokeh: all BokehJS libraries/stylesheets loaded\");\n        run_callbacks()\n      }\n    }\n\n    function on_error(url) {\n      console.error(\"failed to load \" + url);\n    }\n\n    for (let i = 0; i < css_urls.length; i++) {\n      const url = css_urls[i];\n      const element = document.createElement(\"link\");\n      element.onload = on_load;\n      element.onerror = on_error.bind(null, url);\n      element.rel = \"stylesheet\";\n      element.type = \"text/css\";\n      element.href = url;\n      console.debug(\"Bokeh: injecting link tag for BokehJS stylesheet: \", url);\n      document.body.appendChild(element);\n    }\n\n    for (let i = 0; i < js_urls.length; i++) {\n      const url = js_urls[i];\n      const element = document.createElement('script');\n      element.onload = on_load;\n      element.onerror = on_error.bind(null, url);\n      element.async = false;\n      element.src = url;\n      console.debug(\"Bokeh: injecting script tag for BokehJS library: \", url);\n      document.head.appendChild(element);\n    }\n  };\n\n  function inject_raw_css(css) {\n    const element = document.createElement(\"style\");\n    element.appendChild(document.createTextNode(css));\n    document.body.appendChild(element);\n  }\n\n  const js_urls = [\"https://cdn.bokeh.org/bokeh/release/bokeh-2.4.3.min.js\", \"https://cdn.bokeh.org/bokeh/release/bokeh-gl-2.4.3.min.js\", \"https://cdn.bokeh.org/bokeh/release/bokeh-widgets-2.4.3.min.js\", \"https://cdn.bokeh.org/bokeh/release/bokeh-tables-2.4.3.min.js\", \"https://cdn.bokeh.org/bokeh/release/bokeh-mathjax-2.4.3.min.js\"];\n  const css_urls = [];\n\n  const inline_js = [    function(Bokeh) {\n      Bokeh.set_log_level(\"info\");\n    },\nfunction(Bokeh) {\n    }\n  ];\n\n  function run_inline_js() {\n    if (root.Bokeh !== undefined || force === true) {\n          for (let i = 0; i < inline_js.length; i++) {\n      inline_js[i].call(root, root.Bokeh);\n    }\n} else if (Date.now() < root._bokeh_timeout) {\n      setTimeout(run_inline_js, 100);\n    } else if (!root._bokeh_failed_load) {\n      console.log(\"Bokeh: BokehJS failed to load within specified timeout.\");\n      root._bokeh_failed_load = true;\n    } else if (force !== true) {\n      const cell = $(document.getElementById(null)).parents('.cell').data().cell;\n      cell.output_area.append_execute_result(NB_LOAD_WARNING)\n    }\n  }\n\n  if (root._bokeh_is_loading === 0) {\n    console.debug(\"Bokeh: BokehJS loaded, going straight to plotting\");\n    run_inline_js();\n  } else {\n    load_libs(css_urls, js_urls, function() {\n      console.debug(\"Bokeh: BokehJS plotting callback run at\", now());\n      run_inline_js();\n    });\n  }\n}(window));"
     },
     "metadata": {},
     "output_type": "display_data"
    },
    {
     "data": {
      "text/html": [
       "\n",
       "            <table class=\"malariagen-ag3\">\n",
       "                <thead>\n",
       "                    <tr>\n",
       "                        <th style=\"text-align: left\" colspan=\"2\">MalariaGEN Ag3 API client</th>\n",
       "                    </tr>\n",
       "                    <tr><td colspan=\"2\" style=\"text-align: left\">\n",
       "                        Please note that data are subject to terms of use,\n",
       "                        for more information see <a href=\"https://www.malariagen.net/data\">\n",
       "                        the MalariaGEN website</a> or contact data@malariagen.net.\n",
       "                        See also the <a href=\"https://malariagen.github.io/vector-data/ag3/api.html\">Ag3 API docs</a>.\n",
       "                    </td></tr>\n",
       "                </thead>\n",
       "                <tbody>\n",
       "                    <tr>\n",
       "                        <th style=\"text-align: left\">\n",
       "                            Storage URL\n",
       "                        </th>\n",
       "                        <td>gs://vo_agam_release/</td>\n",
       "                    </tr>\n",
       "                    <tr>\n",
       "                        <th style=\"text-align: left\">\n",
       "                            Data releases available\n",
       "                        </th>\n",
       "                        <td>3.0</td>\n",
       "                    </tr>\n",
       "                    <tr>\n",
       "                        <th style=\"text-align: left\">\n",
       "                            Results cache\n",
       "                        </th>\n",
       "                        <td>/home/jovyan/github/anopheles-genomic-surveillance/anopheles-genomic-surveillance.github.io/docs/workshop-5/drive/MyDrive/malariagen_data_cache</td>\n",
       "                    </tr>\n",
       "                    <tr>\n",
       "                        <th style=\"text-align: left\">\n",
       "                            Cohorts analysis\n",
       "                        </th>\n",
       "                        <td>20220608</td>\n",
       "                    </tr>\n",
       "                    <tr>\n",
       "                        <th style=\"text-align: left\">\n",
       "                            Species analysis\n",
       "                        </th>\n",
       "                        <td>aim_20220528</td>\n",
       "                    </tr>\n",
       "                    <tr>\n",
       "                        <th style=\"text-align: left\">\n",
       "                            Site filters analysis\n",
       "                        </th>\n",
       "                        <td>dt_20200416</td>\n",
       "                    </tr>\n",
       "                    <tr>\n",
       "                        <th style=\"text-align: left\">\n",
       "                            Software version\n",
       "                        </th>\n",
       "                        <td>malariagen_data 6.0.0</td>\n",
       "                    </tr>\n",
       "                    <tr>\n",
       "                        <th style=\"text-align: left\">\n",
       "                            Client location\n",
       "                        </th>\n",
       "                        <td>Iowa, US (Google Cloud)</td>\n",
       "                    </tr>\n",
       "                </tbody>\n",
       "            </table>\n",
       "        "
      ],
      "text/plain": [
       "<MalariaGEN Ag3 API client>\n",
       "Storage URL             : gs://vo_agam_release/\n",
       "Data releases available : 3.0\n",
       "Results cache           : /home/jovyan/github/anopheles-genomic-surveillance/anopheles-genomic-surveillance.github.io/docs/workshop-5/drive/MyDrive/malariagen_data_cache\n",
       "Cohorts analysis        : 20220608\n",
       "Species analysis        : aim_20220528\n",
       "Site filters analysis   : dt_20200416\n",
       "Software version        : malariagen_data 6.0.0\n",
       "Client location         : Iowa, US (Google Cloud)\n",
       "---\n",
       "Please note that data are subject to terms of use,\n",
       "for more information see https://www.malariagen.net/data\n",
       "or contact data@malariagen.net. For API documentation see \n",
       "https://malariagen.github.io/vector-data/ag3/api.html"
      ]
     },
     "execution_count": 4,
     "metadata": {},
     "output_type": "execute_result"
    }
   ],
   "source": [
    "ag3 = malariagen_data.Ag3(\n",
    "    results_cache=\"drive/MyDrive/malariagen_data_cache\"\n",
    ")\n",
    "ag3"
   ]
  },
  {
   "cell_type": "markdown",
   "metadata": {
    "id": "1T0Xg3sW6GLk"
   },
   "source": [
    "## Selecting cohorts\n",
    "\n",
    "In this module we will be comparing genetic diversity between mosquitoes representing different geographical locations, time points and species. Before we begin any comparative analysis of genetic diversity, we first need to decide how to group the mosquitoes we've sequenced into cohorts. Each cohort we define will represent a sample of mosquitoes from a given time, place and species.\n",
    "\n",
    "Let's first browse the different sample locations for which we have data. In [workshop 1, module 2](../workshop-1/module-2-sample-metadata) we looked at how to create an interactive map with sampling locations using ipyleaflet. Because this is something we want to do often, we've added a convenience function `plot_samples_interactive_map()` to do this for you. This will plot a map showing sampling locations for all available samples."
   ]
  },
  {
   "cell_type": "code",
   "execution_count": 5,
   "metadata": {
    "id": "9Ps3otfsjeQJ"
   },
   "outputs": [
    {
     "data": {
      "application/vnd.jupyter.widget-view+json": {
       "model_id": "b5c47a6f64294f63bca09a75d1a816d0",
       "version_major": 2,
       "version_minor": 0
      },
      "text/plain": [
       "Load sample metadata:   0%|          | 0/28 [00:00<?, ?it/s]"
      ]
     },
     "metadata": {},
     "output_type": "display_data"
    },
    {
     "data": {
      "application/vnd.jupyter.widget-view+json": {
       "model_id": "e174a96b89244660b5cb7c2bfc5bfd99",
       "version_major": 2,
       "version_minor": 0
      },
      "text/plain": [
       "Map(center=[-2, 20], controls=(ZoomControl(options=['position', 'zoom_in_text', 'zoom_in_title', 'zoom_out_tex…"
      ]
     },
     "metadata": {},
     "output_type": "display_data"
    }
   ],
   "source": [
    "ag3.plot_samples_interactive_map()"
   ]
  },
  {
   "cell_type": "markdown",
   "metadata": {},
   "source": [
    "For the purposes of this module we will begin by focusing on Tanzania. To get more information on the numbers of samples available from Tanzania, we can use pandas to create a pivot table as we also illustrated in [workshop 1, module 2](workshop-1/module-2-sample-metadata). Again, because we do this often, we've created a convenience function `count_samples()`."
   ]
  },
  {
   "cell_type": "code",
   "execution_count": 6,
   "metadata": {
    "id": "VXCx89zlBW_n"
   },
   "outputs": [
    {
     "data": {
      "text/html": [
       "<div>\n",
       "<style scoped>\n",
       "    .dataframe tbody tr th:only-of-type {\n",
       "        vertical-align: middle;\n",
       "    }\n",
       "\n",
       "    .dataframe tbody tr th {\n",
       "        vertical-align: top;\n",
       "    }\n",
       "\n",
       "    .dataframe thead th {\n",
       "        text-align: right;\n",
       "    }\n",
       "</style>\n",
       "<table border=\"1\" class=\"dataframe\">\n",
       "  <thead>\n",
       "    <tr style=\"text-align: right;\">\n",
       "      <th></th>\n",
       "      <th></th>\n",
       "      <th></th>\n",
       "      <th></th>\n",
       "      <th>taxon</th>\n",
       "      <th>arabiensis</th>\n",
       "      <th>gambiae</th>\n",
       "      <th>gcx3</th>\n",
       "    </tr>\n",
       "    <tr>\n",
       "      <th>country</th>\n",
       "      <th>admin1_iso</th>\n",
       "      <th>admin1_name</th>\n",
       "      <th>admin2_name</th>\n",
       "      <th>year</th>\n",
       "      <th></th>\n",
       "      <th></th>\n",
       "      <th></th>\n",
       "    </tr>\n",
       "  </thead>\n",
       "  <tbody>\n",
       "    <tr>\n",
       "      <th rowspan=\"4\" valign=\"top\">Tanzania</th>\n",
       "      <th>TZ-05</th>\n",
       "      <th>Kagera</th>\n",
       "      <th>Muleba</th>\n",
       "      <th>2015</th>\n",
       "      <td>137</td>\n",
       "      <td>32</td>\n",
       "      <td>1</td>\n",
       "    </tr>\n",
       "    <tr>\n",
       "      <th>TZ-13</th>\n",
       "      <th>Mara</th>\n",
       "      <th>Tarime</th>\n",
       "      <th>2012</th>\n",
       "      <td>47</td>\n",
       "      <td>0</td>\n",
       "      <td>0</td>\n",
       "    </tr>\n",
       "    <tr>\n",
       "      <th>TZ-25</th>\n",
       "      <th>Tanga</th>\n",
       "      <th>Muheza</th>\n",
       "      <th>2013</th>\n",
       "      <td>1</td>\n",
       "      <td>32</td>\n",
       "      <td>10</td>\n",
       "    </tr>\n",
       "    <tr>\n",
       "      <th>TZ-26</th>\n",
       "      <th>Manyara</th>\n",
       "      <th>Moshi</th>\n",
       "      <th>2012</th>\n",
       "      <td>40</td>\n",
       "      <td>0</td>\n",
       "      <td>0</td>\n",
       "    </tr>\n",
       "  </tbody>\n",
       "</table>\n",
       "</div>"
      ],
      "text/plain": [
       "taxon                                             arabiensis  gambiae  gcx3\n",
       "country  admin1_iso admin1_name admin2_name year                           \n",
       "Tanzania TZ-05      Kagera      Muleba      2015         137       32     1\n",
       "         TZ-13      Mara        Tarime      2012          47        0     0\n",
       "         TZ-25      Tanga       Muheza      2013           1       32    10\n",
       "         TZ-26      Manyara     Moshi       2012          40        0     0"
      ]
     },
     "execution_count": 6,
     "metadata": {},
     "output_type": "execute_result"
    }
   ],
   "source": [
    "ag3.count_samples(\n",
    "    sample_query=\"country == 'Tanzania'\"\n",
    ")"
   ]
  },
  {
   "cell_type": "markdown",
   "metadata": {},
   "source": [
    "When grouping samples by geographical location, we sometimes can choose whether to aggregate data from nearby locations, or whether to keep them separate. In general, we want the finest spatial granularity possible, but we also need enough samples to make reasonable estimates of genetic diversity, and so we might have to make a trade-off between granularity and sample size. \n",
    "\n",
    "Similarly, when grouping samples by date of collection, we can choose whether to aggregate data from the same month, season or year. Again, in general we would prefer the finest temporal granularity possible, but might also need sufficient sample size.\n",
    "\n",
    "For computing diversity summary statistics, there is no hard-and-fast rule about how many samples are needed, but a sample size of 10 is probably the bare minimum we would consider, and we would prefer more if possible. \n",
    "\n",
    "To simplify grouping of mosquitoes into cohorts, we have predefined some metadata columns which provide cohort labels at different levels of granularity. Let's take a peek at the sample metadata:"
   ]
  },
  {
   "cell_type": "code",
   "execution_count": 7,
   "metadata": {
    "id": "azaGJZShjg2I"
   },
   "outputs": [
    {
     "data": {
      "text/html": [
       "<div>\n",
       "<style scoped>\n",
       "    .dataframe tbody tr th:only-of-type {\n",
       "        vertical-align: middle;\n",
       "    }\n",
       "\n",
       "    .dataframe tbody tr th {\n",
       "        vertical-align: top;\n",
       "    }\n",
       "\n",
       "    .dataframe thead th {\n",
       "        text-align: right;\n",
       "    }\n",
       "</style>\n",
       "<table border=\"1\" class=\"dataframe\">\n",
       "  <thead>\n",
       "    <tr style=\"text-align: right;\">\n",
       "      <th></th>\n",
       "      <th>sample_id</th>\n",
       "      <th>partner_sample_id</th>\n",
       "      <th>contributor</th>\n",
       "      <th>country</th>\n",
       "      <th>location</th>\n",
       "      <th>year</th>\n",
       "      <th>month</th>\n",
       "      <th>latitude</th>\n",
       "      <th>longitude</th>\n",
       "      <th>sex_call</th>\n",
       "      <th>...</th>\n",
       "      <th>aim_species</th>\n",
       "      <th>country_iso</th>\n",
       "      <th>admin1_name</th>\n",
       "      <th>admin1_iso</th>\n",
       "      <th>admin2_name</th>\n",
       "      <th>taxon</th>\n",
       "      <th>cohort_admin1_year</th>\n",
       "      <th>cohort_admin1_month</th>\n",
       "      <th>cohort_admin2_year</th>\n",
       "      <th>cohort_admin2_month</th>\n",
       "    </tr>\n",
       "  </thead>\n",
       "  <tbody>\n",
       "    <tr>\n",
       "      <th>0</th>\n",
       "      <td>BL0046-C</td>\n",
       "      <td>Plate_C_H6</td>\n",
       "      <td>Bilali Kabula</td>\n",
       "      <td>Tanzania</td>\n",
       "      <td>Muleba</td>\n",
       "      <td>2015</td>\n",
       "      <td>6</td>\n",
       "      <td>-1.962</td>\n",
       "      <td>31.621</td>\n",
       "      <td>F</td>\n",
       "      <td>...</td>\n",
       "      <td>intermediate_gambiae_coluzzii</td>\n",
       "      <td>TZA</td>\n",
       "      <td>Kagera</td>\n",
       "      <td>TZ-05</td>\n",
       "      <td>Muleba</td>\n",
       "      <td>gcx3</td>\n",
       "      <td>TZ-05_gcx3_2015</td>\n",
       "      <td>TZ-05_gcx3_2015_06</td>\n",
       "      <td>TZ-05_Muleba_gcx3_2015</td>\n",
       "      <td>TZ-05_Muleba_gcx3_2015_06</td>\n",
       "    </tr>\n",
       "    <tr>\n",
       "      <th>1</th>\n",
       "      <td>BL0047-C</td>\n",
       "      <td>Plate_F_D4</td>\n",
       "      <td>Bilali Kabula</td>\n",
       "      <td>Tanzania</td>\n",
       "      <td>Muleba</td>\n",
       "      <td>2015</td>\n",
       "      <td>3</td>\n",
       "      <td>-1.962</td>\n",
       "      <td>31.621</td>\n",
       "      <td>F</td>\n",
       "      <td>...</td>\n",
       "      <td>arabiensis</td>\n",
       "      <td>TZA</td>\n",
       "      <td>Kagera</td>\n",
       "      <td>TZ-05</td>\n",
       "      <td>Muleba</td>\n",
       "      <td>arabiensis</td>\n",
       "      <td>TZ-05_arab_2015</td>\n",
       "      <td>TZ-05_arab_2015_03</td>\n",
       "      <td>TZ-05_Muleba_arab_2015</td>\n",
       "      <td>TZ-05_Muleba_arab_2015_03</td>\n",
       "    </tr>\n",
       "    <tr>\n",
       "      <th>2</th>\n",
       "      <td>BL0048-C</td>\n",
       "      <td>Plate_F_E4</td>\n",
       "      <td>Bilali Kabula</td>\n",
       "      <td>Tanzania</td>\n",
       "      <td>Muleba</td>\n",
       "      <td>2015</td>\n",
       "      <td>3</td>\n",
       "      <td>-1.962</td>\n",
       "      <td>31.621</td>\n",
       "      <td>F</td>\n",
       "      <td>...</td>\n",
       "      <td>arabiensis</td>\n",
       "      <td>TZA</td>\n",
       "      <td>Kagera</td>\n",
       "      <td>TZ-05</td>\n",
       "      <td>Muleba</td>\n",
       "      <td>arabiensis</td>\n",
       "      <td>TZ-05_arab_2015</td>\n",
       "      <td>TZ-05_arab_2015_03</td>\n",
       "      <td>TZ-05_Muleba_arab_2015</td>\n",
       "      <td>TZ-05_Muleba_arab_2015_03</td>\n",
       "    </tr>\n",
       "    <tr>\n",
       "      <th>3</th>\n",
       "      <td>BL0049-C</td>\n",
       "      <td>Plate_F_F4</td>\n",
       "      <td>Bilali Kabula</td>\n",
       "      <td>Tanzania</td>\n",
       "      <td>Muleba</td>\n",
       "      <td>2015</td>\n",
       "      <td>3</td>\n",
       "      <td>-1.962</td>\n",
       "      <td>31.621</td>\n",
       "      <td>F</td>\n",
       "      <td>...</td>\n",
       "      <td>arabiensis</td>\n",
       "      <td>TZA</td>\n",
       "      <td>Kagera</td>\n",
       "      <td>TZ-05</td>\n",
       "      <td>Muleba</td>\n",
       "      <td>arabiensis</td>\n",
       "      <td>TZ-05_arab_2015</td>\n",
       "      <td>TZ-05_arab_2015_03</td>\n",
       "      <td>TZ-05_Muleba_arab_2015</td>\n",
       "      <td>TZ-05_Muleba_arab_2015_03</td>\n",
       "    </tr>\n",
       "    <tr>\n",
       "      <th>4</th>\n",
       "      <td>BL0050-C</td>\n",
       "      <td>Plate_F_G4</td>\n",
       "      <td>Bilali Kabula</td>\n",
       "      <td>Tanzania</td>\n",
       "      <td>Muleba</td>\n",
       "      <td>2015</td>\n",
       "      <td>3</td>\n",
       "      <td>-1.962</td>\n",
       "      <td>31.621</td>\n",
       "      <td>F</td>\n",
       "      <td>...</td>\n",
       "      <td>arabiensis</td>\n",
       "      <td>TZA</td>\n",
       "      <td>Kagera</td>\n",
       "      <td>TZ-05</td>\n",
       "      <td>Muleba</td>\n",
       "      <td>arabiensis</td>\n",
       "      <td>TZ-05_arab_2015</td>\n",
       "      <td>TZ-05_arab_2015_03</td>\n",
       "      <td>TZ-05_Muleba_arab_2015</td>\n",
       "      <td>TZ-05_Muleba_arab_2015_03</td>\n",
       "    </tr>\n",
       "  </tbody>\n",
       "</table>\n",
       "<p>5 rows × 27 columns</p>\n",
       "</div>"
      ],
      "text/plain": [
       "  sample_id partner_sample_id    contributor   country location  year  month  \\\n",
       "0  BL0046-C        Plate_C_H6  Bilali Kabula  Tanzania   Muleba  2015      6   \n",
       "1  BL0047-C        Plate_F_D4  Bilali Kabula  Tanzania   Muleba  2015      3   \n",
       "2  BL0048-C        Plate_F_E4  Bilali Kabula  Tanzania   Muleba  2015      3   \n",
       "3  BL0049-C        Plate_F_F4  Bilali Kabula  Tanzania   Muleba  2015      3   \n",
       "4  BL0050-C        Plate_F_G4  Bilali Kabula  Tanzania   Muleba  2015      3   \n",
       "\n",
       "   latitude  longitude sex_call  ...                    aim_species  \\\n",
       "0    -1.962     31.621        F  ...  intermediate_gambiae_coluzzii   \n",
       "1    -1.962     31.621        F  ...                     arabiensis   \n",
       "2    -1.962     31.621        F  ...                     arabiensis   \n",
       "3    -1.962     31.621        F  ...                     arabiensis   \n",
       "4    -1.962     31.621        F  ...                     arabiensis   \n",
       "\n",
       "  country_iso  admin1_name  admin1_iso  admin2_name       taxon  \\\n",
       "0         TZA       Kagera       TZ-05       Muleba        gcx3   \n",
       "1         TZA       Kagera       TZ-05       Muleba  arabiensis   \n",
       "2         TZA       Kagera       TZ-05       Muleba  arabiensis   \n",
       "3         TZA       Kagera       TZ-05       Muleba  arabiensis   \n",
       "4         TZA       Kagera       TZ-05       Muleba  arabiensis   \n",
       "\n",
       "  cohort_admin1_year cohort_admin1_month      cohort_admin2_year  \\\n",
       "0    TZ-05_gcx3_2015  TZ-05_gcx3_2015_06  TZ-05_Muleba_gcx3_2015   \n",
       "1    TZ-05_arab_2015  TZ-05_arab_2015_03  TZ-05_Muleba_arab_2015   \n",
       "2    TZ-05_arab_2015  TZ-05_arab_2015_03  TZ-05_Muleba_arab_2015   \n",
       "3    TZ-05_arab_2015  TZ-05_arab_2015_03  TZ-05_Muleba_arab_2015   \n",
       "4    TZ-05_arab_2015  TZ-05_arab_2015_03  TZ-05_Muleba_arab_2015   \n",
       "\n",
       "         cohort_admin2_month  \n",
       "0  TZ-05_Muleba_gcx3_2015_06  \n",
       "1  TZ-05_Muleba_arab_2015_03  \n",
       "2  TZ-05_Muleba_arab_2015_03  \n",
       "3  TZ-05_Muleba_arab_2015_03  \n",
       "4  TZ-05_Muleba_arab_2015_03  \n",
       "\n",
       "[5 rows x 27 columns]"
      ]
     },
     "execution_count": 7,
     "metadata": {},
     "output_type": "execute_result"
    }
   ],
   "source": [
    "df_samples_tz = ag3.sample_metadata(\n",
    "    sample_query=\"country == 'Tanzania'\"\n",
    ")\n",
    "df_samples_tz.head()"
   ]
  },
  {
   "cell_type": "markdown",
   "metadata": {},
   "source": [
    "If you scroll to the right, you'll see columns named \"cohort_admin1_year\", \"cohort_admin1_month\", \"cohort_admin2_year\" and \"cohort_admin2_month\". Each of these columns provides a different set of cohort labels. All are grouped by species (taxon).\n",
    "\n",
    "For this analysis, let's use the \"cohort_admin2_year\" column to group samples by administrative level 2 divisions (usually called districts) and year. Here are the cohort labels for the Tanzania samples and the sample sizes."
   ]
  },
  {
   "cell_type": "code",
   "execution_count": 8,
   "metadata": {
    "id": "ASPknrzhkqKK"
   },
   "outputs": [
    {
     "data": {
      "text/plain": [
       "cohort_admin2_year\n",
       "TZ-05_Muleba_arab_2015    137\n",
       "TZ-05_Muleba_gamb_2015     32\n",
       "TZ-05_Muleba_gcx3_2015      1\n",
       "TZ-13_Tarime_arab_2012     47\n",
       "TZ-25_Muheza_arab_2013      1\n",
       "TZ-25_Muheza_gamb_2013     32\n",
       "TZ-25_Muheza_gcx3_2013     10\n",
       "TZ-26_Moshi_arab_2012      40\n",
       "dtype: int64"
      ]
     },
     "execution_count": 8,
     "metadata": {},
     "output_type": "execute_result"
    }
   ],
   "source": [
    "df_samples_tz.groupby(\"cohort_admin2_year\").size()"
   ]
  },
  {
   "cell_type": "markdown",
   "metadata": {},
   "source": [
    "We can see there are two cohorts with only 1 sample - these will get dropped from our analysis. Otherwise, all cohorts have at least 10 samples."
   ]
  },
  {
   "cell_type": "markdown",
   "metadata": {
    "id": "zJ2AKNUZStqd"
   },
   "source": [
    "## Recap: genetic diversity summary statistics\n",
    "\n",
    "We are going to compute the following three summary statistics for each cohort:\n",
    "\n",
    "* Nucleotide diversity (`theta_pi`) - This quantifies the average number of differences (mismatches) between any pair of DNA sequences in a cohort. The higher this statistic, the more differences you will expect to see between any pair of randomly sampled DNA sequences.\n",
    "* Watterson's estimator (`theta_w`) - This quantifies the number of segregating sites within a cohort, scaled by a constant. The higher this statistic, the more sites are found to be segregating (i.e., polymorphic).\n",
    "* Tajima's D (`tajima_d`) - This quantifies the difference between Watterson's estimator and nucleotide diversity, and scales the result by a constant. This statistic is useful because it focuses not on the magnitude but on the architecture of diversity in a cohort, compared to a neutrally evolving population of constant size. Negative values imply an excess of rare alleles, and positive values imply a deficit of rare alleles, relative to a population at equilibrium. "
   ]
  },
  {
   "cell_type": "markdown",
   "metadata": {
    "id": "0BwSPyYWAuJV"
   },
   "source": [
    "## Computing diversity summary statistics\n",
    "\n",
    "Let's begin by computing these summary statistics in a single cohort. For this we can use the function `cohort_diversity_stats()`. Let's look at the docstring."
   ]
  },
  {
   "cell_type": "code",
   "execution_count": 9,
   "metadata": {
    "id": "MVFMNbRbAwnI"
   },
   "outputs": [],
   "source": [
    "ag3.cohort_diversity_stats?"
   ]
  },
  {
   "cell_type": "markdown",
   "metadata": {},
   "source": [
    "Let's now compute the statistics for one of our Tanzanian cohorts, TZ-05_Muleba_gamb_2015. Don't worry about the other parameters for now, we'll investigate them shortly."
   ]
  },
  {
   "cell_type": "code",
   "execution_count": 10,
   "metadata": {
    "id": "kJm3Ad4uA15J"
   },
   "outputs": [
    {
     "ename": "KeyboardInterrupt",
     "evalue": "",
     "output_type": "error",
     "traceback": [
      "\u001b[0;31m---------------------------------------------------------------------------\u001b[0m",
      "\u001b[0;31mCacheMiss\u001b[0m                                 Traceback (most recent call last)",
      "\u001b[0;32m~/conda/workshop-5-dev/lib/python3.7/site-packages/malariagen_data/ag3.py\u001b[0m in \u001b[0;36msnp_allele_counts\u001b[0;34m(self, region, sample_sets, sample_query, site_mask, site_class, cohort_size, random_seed)\u001b[0m\n\u001b[1;32m   5669\u001b[0m         \u001b[0;32mtry\u001b[0m\u001b[0;34m:\u001b[0m\u001b[0;34m\u001b[0m\u001b[0;34m\u001b[0m\u001b[0m\n\u001b[0;32m-> 5670\u001b[0;31m             \u001b[0mresults\u001b[0m \u001b[0;34m=\u001b[0m \u001b[0mself\u001b[0m\u001b[0;34m.\u001b[0m\u001b[0mresults_cache_get\u001b[0m\u001b[0;34m(\u001b[0m\u001b[0mname\u001b[0m\u001b[0;34m=\u001b[0m\u001b[0mname\u001b[0m\u001b[0;34m,\u001b[0m \u001b[0mparams\u001b[0m\u001b[0;34m=\u001b[0m\u001b[0mparams\u001b[0m\u001b[0;34m)\u001b[0m\u001b[0;34m\u001b[0m\u001b[0;34m\u001b[0m\u001b[0m\n\u001b[0m\u001b[1;32m   5671\u001b[0m \u001b[0;34m\u001b[0m\u001b[0m\n",
      "\u001b[0;32m~/conda/workshop-5-dev/lib/python3.7/site-packages/malariagen_data/ag3.py\u001b[0m in \u001b[0;36mresults_cache_get\u001b[0;34m(self, name, params)\u001b[0m\n\u001b[1;32m   5563\u001b[0m         \u001b[0;32mif\u001b[0m \u001b[0;32mnot\u001b[0m \u001b[0mresults_path\u001b[0m\u001b[0;34m.\u001b[0m\u001b[0mexists\u001b[0m\u001b[0;34m(\u001b[0m\u001b[0;34m)\u001b[0m\u001b[0;34m:\u001b[0m\u001b[0;34m\u001b[0m\u001b[0;34m\u001b[0m\u001b[0m\n\u001b[0;32m-> 5564\u001b[0;31m             \u001b[0;32mraise\u001b[0m \u001b[0mCacheMiss\u001b[0m\u001b[0;34m\u001b[0m\u001b[0;34m\u001b[0m\u001b[0m\n\u001b[0m\u001b[1;32m   5565\u001b[0m         \u001b[0mresults\u001b[0m \u001b[0;34m=\u001b[0m \u001b[0mnp\u001b[0m\u001b[0;34m.\u001b[0m\u001b[0mload\u001b[0m\u001b[0;34m(\u001b[0m\u001b[0mresults_path\u001b[0m\u001b[0;34m)\u001b[0m\u001b[0;34m\u001b[0m\u001b[0;34m\u001b[0m\u001b[0m\n",
      "\u001b[0;31mCacheMiss\u001b[0m: ",
      "\nDuring handling of the above exception, another exception occurred:\n",
      "\u001b[0;31mKeyError\u001b[0m                                  Traceback (most recent call last)",
      "\u001b[0;32m~/conda/workshop-5-dev/lib/python3.7/site-packages/malariagen_data/ag3.py\u001b[0m in \u001b[0;36m_locate_site_class\u001b[0;34m(self, region, site_mask, site_class)\u001b[0m\n\u001b[1;32m   1718\u001b[0m         \u001b[0;32mtry\u001b[0m\u001b[0;34m:\u001b[0m\u001b[0;34m\u001b[0m\u001b[0;34m\u001b[0m\u001b[0m\n\u001b[0;32m-> 1719\u001b[0;31m             \u001b[0mloc_ann\u001b[0m \u001b[0;34m=\u001b[0m \u001b[0mself\u001b[0m\u001b[0;34m.\u001b[0m\u001b[0m_cache_locate_site_class\u001b[0m\u001b[0;34m[\u001b[0m\u001b[0mcache_key\u001b[0m\u001b[0;34m]\u001b[0m\u001b[0;34m\u001b[0m\u001b[0;34m\u001b[0m\u001b[0m\n\u001b[0m\u001b[1;32m   1720\u001b[0m \u001b[0;34m\u001b[0m\u001b[0m\n",
      "\u001b[0;31mKeyError\u001b[0m: ('3L', None, 'CDS_DEG_4')",
      "\nDuring handling of the above exception, another exception occurred:\n",
      "\u001b[0;31mKeyboardInterrupt\u001b[0m                         Traceback (most recent call last)",
      "\u001b[0;32m/tmp/ipykernel_405/889606626.py\u001b[0m in \u001b[0;36m<module>\u001b[0;34m\u001b[0m\n\u001b[1;32m      4\u001b[0m     \u001b[0mregion\u001b[0m\u001b[0;34m=\u001b[0m\u001b[0;34m\"3L:15,000,000-41,000,000\"\u001b[0m\u001b[0;34m,\u001b[0m\u001b[0;34m\u001b[0m\u001b[0;34m\u001b[0m\u001b[0m\n\u001b[1;32m      5\u001b[0m     \u001b[0msite_mask\u001b[0m\u001b[0;34m=\u001b[0m\u001b[0;34m\"gamb_colu_arab\"\u001b[0m\u001b[0;34m,\u001b[0m\u001b[0;34m\u001b[0m\u001b[0;34m\u001b[0m\u001b[0m\n\u001b[0;32m----> 6\u001b[0;31m     \u001b[0msite_class\u001b[0m\u001b[0;34m=\u001b[0m\u001b[0;34m\"CDS_DEG_4\"\u001b[0m\u001b[0;34m,\u001b[0m\u001b[0;34m\u001b[0m\u001b[0;34m\u001b[0m\u001b[0m\n\u001b[0m\u001b[1;32m      7\u001b[0m )\n\u001b[1;32m      8\u001b[0m \u001b[0mstats\u001b[0m\u001b[0;34m\u001b[0m\u001b[0;34m\u001b[0m\u001b[0m\n",
      "\u001b[0;32m~/conda/workshop-5-dev/lib/python3.7/site-packages/malariagen_data/ag3.py\u001b[0m in \u001b[0;36mcohort_diversity_stats\u001b[0;34m(self, cohort, cohort_size, region, site_mask, site_class, sample_sets, random_seed, n_jack, confidence_level)\u001b[0m\n\u001b[1;32m   6980\u001b[0m             \u001b[0msample_sets\u001b[0m\u001b[0;34m=\u001b[0m\u001b[0msample_sets\u001b[0m\u001b[0;34m,\u001b[0m\u001b[0;34m\u001b[0m\u001b[0;34m\u001b[0m\u001b[0m\n\u001b[1;32m   6981\u001b[0m             \u001b[0mcohort_size\u001b[0m\u001b[0;34m=\u001b[0m\u001b[0mcohort_size\u001b[0m\u001b[0;34m,\u001b[0m\u001b[0;34m\u001b[0m\u001b[0;34m\u001b[0m\u001b[0m\n\u001b[0;32m-> 6982\u001b[0;31m             \u001b[0mrandom_seed\u001b[0m\u001b[0;34m=\u001b[0m\u001b[0mrandom_seed\u001b[0m\u001b[0;34m,\u001b[0m\u001b[0;34m\u001b[0m\u001b[0;34m\u001b[0m\u001b[0m\n\u001b[0m\u001b[1;32m   6983\u001b[0m         )\n\u001b[1;32m   6984\u001b[0m \u001b[0;34m\u001b[0m\u001b[0m\n",
      "\u001b[0;32m~/conda/workshop-5-dev/lib/python3.7/site-packages/malariagen_data/ag3.py\u001b[0m in \u001b[0;36msnp_allele_counts\u001b[0;34m(self, region, sample_sets, sample_query, site_mask, site_class, cohort_size, random_seed)\u001b[0m\n\u001b[1;32m   5671\u001b[0m \u001b[0;34m\u001b[0m\u001b[0m\n\u001b[1;32m   5672\u001b[0m         \u001b[0;32mexcept\u001b[0m \u001b[0mCacheMiss\u001b[0m\u001b[0;34m:\u001b[0m\u001b[0;34m\u001b[0m\u001b[0;34m\u001b[0m\u001b[0m\n\u001b[0;32m-> 5673\u001b[0;31m             \u001b[0mresults\u001b[0m \u001b[0;34m=\u001b[0m \u001b[0mself\u001b[0m\u001b[0;34m.\u001b[0m\u001b[0m_snp_allele_counts\u001b[0m\u001b[0;34m(\u001b[0m\u001b[0;34m**\u001b[0m\u001b[0mparams\u001b[0m\u001b[0;34m)\u001b[0m\u001b[0;34m\u001b[0m\u001b[0;34m\u001b[0m\u001b[0m\n\u001b[0m\u001b[1;32m   5674\u001b[0m             \u001b[0mself\u001b[0m\u001b[0;34m.\u001b[0m\u001b[0mresults_cache_set\u001b[0m\u001b[0;34m(\u001b[0m\u001b[0mname\u001b[0m\u001b[0;34m=\u001b[0m\u001b[0mname\u001b[0m\u001b[0;34m,\u001b[0m \u001b[0mparams\u001b[0m\u001b[0;34m=\u001b[0m\u001b[0mparams\u001b[0m\u001b[0;34m,\u001b[0m \u001b[0mresults\u001b[0m\u001b[0;34m=\u001b[0m\u001b[0mresults\u001b[0m\u001b[0;34m)\u001b[0m\u001b[0;34m\u001b[0m\u001b[0;34m\u001b[0m\u001b[0m\n\u001b[1;32m   5675\u001b[0m \u001b[0;34m\u001b[0m\u001b[0m\n",
      "\u001b[0;32m~/conda/workshop-5-dev/lib/python3.7/site-packages/malariagen_data/ag3.py\u001b[0m in \u001b[0;36m_snp_allele_counts\u001b[0;34m(self, region, sample_sets, sample_query, site_mask, site_class, cohort_size, random_seed)\u001b[0m\n\u001b[1;32m   5698\u001b[0m             \u001b[0msite_class\u001b[0m\u001b[0;34m=\u001b[0m\u001b[0msite_class\u001b[0m\u001b[0;34m,\u001b[0m\u001b[0;34m\u001b[0m\u001b[0;34m\u001b[0m\u001b[0m\n\u001b[1;32m   5699\u001b[0m             \u001b[0mcohort_size\u001b[0m\u001b[0;34m=\u001b[0m\u001b[0mcohort_size\u001b[0m\u001b[0;34m,\u001b[0m\u001b[0;34m\u001b[0m\u001b[0;34m\u001b[0m\u001b[0m\n\u001b[0;32m-> 5700\u001b[0;31m             \u001b[0mrandom_seed\u001b[0m\u001b[0;34m=\u001b[0m\u001b[0mrandom_seed\u001b[0m\u001b[0;34m,\u001b[0m\u001b[0;34m\u001b[0m\u001b[0;34m\u001b[0m\u001b[0m\n\u001b[0m\u001b[1;32m   5701\u001b[0m         )\n\u001b[1;32m   5702\u001b[0m         \u001b[0mgt\u001b[0m \u001b[0;34m=\u001b[0m \u001b[0mds_snps\u001b[0m\u001b[0;34m[\u001b[0m\u001b[0;34m\"call_genotype\"\u001b[0m\u001b[0;34m]\u001b[0m\u001b[0;34m\u001b[0m\u001b[0;34m\u001b[0m\u001b[0m\n",
      "\u001b[0;32m~/conda/workshop-5-dev/lib/python3.7/site-packages/malariagen_data/ag3.py\u001b[0m in \u001b[0;36msnp_calls\u001b[0;34m(self, region, sample_sets, sample_query, site_mask, site_class, inline_array, chunks, cohort_size, random_seed)\u001b[0m\n\u001b[1;32m   2096\u001b[0m                     \u001b[0mregion\u001b[0m\u001b[0;34m=\u001b[0m\u001b[0mr\u001b[0m\u001b[0;34m.\u001b[0m\u001b[0mcontig\u001b[0m\u001b[0;34m,\u001b[0m\u001b[0;34m\u001b[0m\u001b[0;34m\u001b[0m\u001b[0m\n\u001b[1;32m   2097\u001b[0m                     \u001b[0msite_class\u001b[0m\u001b[0;34m=\u001b[0m\u001b[0msite_class\u001b[0m\u001b[0;34m,\u001b[0m\u001b[0;34m\u001b[0m\u001b[0;34m\u001b[0m\u001b[0m\n\u001b[0;32m-> 2098\u001b[0;31m                     \u001b[0msite_mask\u001b[0m\u001b[0;34m=\u001b[0m\u001b[0;32mNone\u001b[0m\u001b[0;34m,\u001b[0m\u001b[0;34m\u001b[0m\u001b[0;34m\u001b[0m\u001b[0m\n\u001b[0m\u001b[1;32m   2099\u001b[0m                 )\n\u001b[1;32m   2100\u001b[0m                 \u001b[0mx\u001b[0m \u001b[0;34m=\u001b[0m \u001b[0mx\u001b[0m\u001b[0;34m.\u001b[0m\u001b[0misel\u001b[0m\u001b[0;34m(\u001b[0m\u001b[0mvariants\u001b[0m\u001b[0;34m=\u001b[0m\u001b[0mloc_ann\u001b[0m\u001b[0;34m)\u001b[0m\u001b[0;34m\u001b[0m\u001b[0;34m\u001b[0m\u001b[0m\n",
      "\u001b[0;32m~/conda/workshop-5-dev/lib/python3.7/site-packages/malariagen_data/ag3.py\u001b[0m in \u001b[0;36m_locate_site_class\u001b[0;34m(self, region, site_mask, site_class)\u001b[0m\n\u001b[1;32m   1723\u001b[0m             ds_ann = self.site_annotations(\n\u001b[1;32m   1724\u001b[0m                 \u001b[0mregion\u001b[0m\u001b[0;34m=\u001b[0m\u001b[0mregion\u001b[0m\u001b[0;34m,\u001b[0m\u001b[0;34m\u001b[0m\u001b[0;34m\u001b[0m\u001b[0m\n\u001b[0;32m-> 1725\u001b[0;31m                 \u001b[0msite_mask\u001b[0m\u001b[0;34m=\u001b[0m\u001b[0msite_mask\u001b[0m\u001b[0;34m,\u001b[0m\u001b[0;34m\u001b[0m\u001b[0;34m\u001b[0m\u001b[0m\n\u001b[0m\u001b[1;32m   1726\u001b[0m             )\n\u001b[1;32m   1727\u001b[0m             \u001b[0mcodon_pos\u001b[0m \u001b[0;34m=\u001b[0m \u001b[0mds_ann\u001b[0m\u001b[0;34m[\u001b[0m\u001b[0;34m\"codon_position\"\u001b[0m\u001b[0;34m]\u001b[0m\u001b[0;34m.\u001b[0m\u001b[0mdata\u001b[0m\u001b[0;34m\u001b[0m\u001b[0;34m\u001b[0m\u001b[0m\n",
      "\u001b[0;32m~/conda/workshop-5-dev/lib/python3.7/site-packages/malariagen_data/ag3.py\u001b[0m in \u001b[0;36msite_annotations\u001b[0;34m(self, region, site_mask, inline_array, chunks)\u001b[0m\n\u001b[1;32m   1700\u001b[0m             \u001b[0mpos\u001b[0m \u001b[0;34m=\u001b[0m \u001b[0mpos\u001b[0m\u001b[0;34m[\u001b[0m\u001b[0mloc_region\u001b[0m\u001b[0;34m]\u001b[0m\u001b[0;34m\u001b[0m\u001b[0;34m\u001b[0m\u001b[0m\n\u001b[1;32m   1701\u001b[0m         \u001b[0midx\u001b[0m \u001b[0;34m=\u001b[0m \u001b[0mpos\u001b[0m \u001b[0;34m-\u001b[0m \u001b[0;36m1\u001b[0m\u001b[0;34m\u001b[0m\u001b[0;34m\u001b[0m\u001b[0m\n\u001b[0;32m-> 1702\u001b[0;31m         \u001b[0mds\u001b[0m \u001b[0;34m=\u001b[0m \u001b[0mds\u001b[0m\u001b[0;34m.\u001b[0m\u001b[0misel\u001b[0m\u001b[0;34m(\u001b[0m\u001b[0mvariants\u001b[0m\u001b[0;34m=\u001b[0m\u001b[0midx\u001b[0m\u001b[0;34m)\u001b[0m\u001b[0;34m\u001b[0m\u001b[0;34m\u001b[0m\u001b[0m\n\u001b[0m\u001b[1;32m   1703\u001b[0m \u001b[0;34m\u001b[0m\u001b[0m\n\u001b[1;32m   1704\u001b[0m         \u001b[0;32mreturn\u001b[0m \u001b[0mds\u001b[0m\u001b[0;34m\u001b[0m\u001b[0;34m\u001b[0m\u001b[0m\n",
      "\u001b[0;32m~/conda/workshop-5-dev/lib/python3.7/site-packages/xarray/core/dataset.py\u001b[0m in \u001b[0;36misel\u001b[0;34m(self, indexers, drop, missing_dims, **indexers_kwargs)\u001b[0m\n\u001b[1;32m   2367\u001b[0m             \u001b[0mvar_indexers\u001b[0m \u001b[0;34m=\u001b[0m \u001b[0;34m{\u001b[0m\u001b[0mk\u001b[0m\u001b[0;34m:\u001b[0m \u001b[0mv\u001b[0m \u001b[0;32mfor\u001b[0m \u001b[0mk\u001b[0m\u001b[0;34m,\u001b[0m \u001b[0mv\u001b[0m \u001b[0;32min\u001b[0m \u001b[0mindexers\u001b[0m\u001b[0;34m.\u001b[0m\u001b[0mitems\u001b[0m\u001b[0;34m(\u001b[0m\u001b[0;34m)\u001b[0m \u001b[0;32mif\u001b[0m \u001b[0mk\u001b[0m \u001b[0;32min\u001b[0m \u001b[0mvar_value\u001b[0m\u001b[0;34m.\u001b[0m\u001b[0mdims\u001b[0m\u001b[0;34m}\u001b[0m\u001b[0;34m\u001b[0m\u001b[0;34m\u001b[0m\u001b[0m\n\u001b[1;32m   2368\u001b[0m             \u001b[0;32mif\u001b[0m \u001b[0mvar_indexers\u001b[0m\u001b[0;34m:\u001b[0m\u001b[0;34m\u001b[0m\u001b[0;34m\u001b[0m\u001b[0m\n\u001b[0;32m-> 2369\u001b[0;31m                 \u001b[0mvar_value\u001b[0m \u001b[0;34m=\u001b[0m \u001b[0mvar_value\u001b[0m\u001b[0;34m.\u001b[0m\u001b[0misel\u001b[0m\u001b[0;34m(\u001b[0m\u001b[0mvar_indexers\u001b[0m\u001b[0;34m)\u001b[0m\u001b[0;34m\u001b[0m\u001b[0;34m\u001b[0m\u001b[0m\n\u001b[0m\u001b[1;32m   2370\u001b[0m                 \u001b[0;32mif\u001b[0m \u001b[0mdrop\u001b[0m \u001b[0;32mand\u001b[0m \u001b[0mvar_value\u001b[0m\u001b[0;34m.\u001b[0m\u001b[0mndim\u001b[0m \u001b[0;34m==\u001b[0m \u001b[0;36m0\u001b[0m \u001b[0;32mand\u001b[0m \u001b[0mvar_name\u001b[0m \u001b[0;32min\u001b[0m \u001b[0mcoord_names\u001b[0m\u001b[0;34m:\u001b[0m\u001b[0;34m\u001b[0m\u001b[0;34m\u001b[0m\u001b[0m\n\u001b[1;32m   2371\u001b[0m                     \u001b[0mcoord_names\u001b[0m\u001b[0;34m.\u001b[0m\u001b[0mremove\u001b[0m\u001b[0;34m(\u001b[0m\u001b[0mvar_name\u001b[0m\u001b[0;34m)\u001b[0m\u001b[0;34m\u001b[0m\u001b[0;34m\u001b[0m\u001b[0m\n",
      "\u001b[0;32m~/conda/workshop-5-dev/lib/python3.7/site-packages/xarray/core/variable.py\u001b[0m in \u001b[0;36misel\u001b[0;34m(self, indexers, missing_dims, **indexers_kwargs)\u001b[0m\n\u001b[1;32m   1191\u001b[0m \u001b[0;34m\u001b[0m\u001b[0m\n\u001b[1;32m   1192\u001b[0m         \u001b[0mkey\u001b[0m \u001b[0;34m=\u001b[0m \u001b[0mtuple\u001b[0m\u001b[0;34m(\u001b[0m\u001b[0mindexers\u001b[0m\u001b[0;34m.\u001b[0m\u001b[0mget\u001b[0m\u001b[0;34m(\u001b[0m\u001b[0mdim\u001b[0m\u001b[0;34m,\u001b[0m \u001b[0mslice\u001b[0m\u001b[0;34m(\u001b[0m\u001b[0;32mNone\u001b[0m\u001b[0;34m)\u001b[0m\u001b[0;34m)\u001b[0m \u001b[0;32mfor\u001b[0m \u001b[0mdim\u001b[0m \u001b[0;32min\u001b[0m \u001b[0mself\u001b[0m\u001b[0;34m.\u001b[0m\u001b[0mdims\u001b[0m\u001b[0;34m)\u001b[0m\u001b[0;34m\u001b[0m\u001b[0;34m\u001b[0m\u001b[0m\n\u001b[0;32m-> 1193\u001b[0;31m         \u001b[0;32mreturn\u001b[0m \u001b[0mself\u001b[0m\u001b[0;34m[\u001b[0m\u001b[0mkey\u001b[0m\u001b[0;34m]\u001b[0m\u001b[0;34m\u001b[0m\u001b[0;34m\u001b[0m\u001b[0m\n\u001b[0m\u001b[1;32m   1194\u001b[0m \u001b[0;34m\u001b[0m\u001b[0m\n\u001b[1;32m   1195\u001b[0m     \u001b[0;32mdef\u001b[0m \u001b[0msqueeze\u001b[0m\u001b[0;34m(\u001b[0m\u001b[0mself\u001b[0m\u001b[0;34m,\u001b[0m \u001b[0mdim\u001b[0m\u001b[0;34m=\u001b[0m\u001b[0;32mNone\u001b[0m\u001b[0;34m)\u001b[0m\u001b[0;34m:\u001b[0m\u001b[0;34m\u001b[0m\u001b[0;34m\u001b[0m\u001b[0m\n",
      "\u001b[0;32m~/conda/workshop-5-dev/lib/python3.7/site-packages/xarray/core/variable.py\u001b[0m in \u001b[0;36m__getitem__\u001b[0;34m(self, key)\u001b[0m\n\u001b[1;32m    784\u001b[0m         \"\"\"\n\u001b[1;32m    785\u001b[0m         \u001b[0mdims\u001b[0m\u001b[0;34m,\u001b[0m \u001b[0mindexer\u001b[0m\u001b[0;34m,\u001b[0m \u001b[0mnew_order\u001b[0m \u001b[0;34m=\u001b[0m \u001b[0mself\u001b[0m\u001b[0;34m.\u001b[0m\u001b[0m_broadcast_indexes\u001b[0m\u001b[0;34m(\u001b[0m\u001b[0mkey\u001b[0m\u001b[0;34m)\u001b[0m\u001b[0;34m\u001b[0m\u001b[0;34m\u001b[0m\u001b[0m\n\u001b[0;32m--> 786\u001b[0;31m         \u001b[0mdata\u001b[0m \u001b[0;34m=\u001b[0m \u001b[0mas_indexable\u001b[0m\u001b[0;34m(\u001b[0m\u001b[0mself\u001b[0m\u001b[0;34m.\u001b[0m\u001b[0m_data\u001b[0m\u001b[0;34m)\u001b[0m\u001b[0;34m[\u001b[0m\u001b[0mindexer\u001b[0m\u001b[0;34m]\u001b[0m\u001b[0;34m\u001b[0m\u001b[0;34m\u001b[0m\u001b[0m\n\u001b[0m\u001b[1;32m    787\u001b[0m         \u001b[0;32mif\u001b[0m \u001b[0mnew_order\u001b[0m\u001b[0;34m:\u001b[0m\u001b[0;34m\u001b[0m\u001b[0;34m\u001b[0m\u001b[0m\n\u001b[1;32m    788\u001b[0m             \u001b[0mdata\u001b[0m \u001b[0;34m=\u001b[0m \u001b[0mnp\u001b[0m\u001b[0;34m.\u001b[0m\u001b[0mmoveaxis\u001b[0m\u001b[0;34m(\u001b[0m\u001b[0mdata\u001b[0m\u001b[0;34m,\u001b[0m \u001b[0mrange\u001b[0m\u001b[0;34m(\u001b[0m\u001b[0mlen\u001b[0m\u001b[0;34m(\u001b[0m\u001b[0mnew_order\u001b[0m\u001b[0;34m)\u001b[0m\u001b[0;34m)\u001b[0m\u001b[0;34m,\u001b[0m \u001b[0mnew_order\u001b[0m\u001b[0;34m)\u001b[0m\u001b[0;34m\u001b[0m\u001b[0;34m\u001b[0m\u001b[0m\n",
      "\u001b[0;32m~/conda/workshop-5-dev/lib/python3.7/site-packages/xarray/core/indexing.py\u001b[0m in \u001b[0;36m__getitem__\u001b[0;34m(self, key)\u001b[0m\n\u001b[1;32m   1225\u001b[0m             \u001b[0mkey\u001b[0m \u001b[0;34m=\u001b[0m \u001b[0mkey\u001b[0m\u001b[0;34m.\u001b[0m\u001b[0mtuple\u001b[0m\u001b[0;34m\u001b[0m\u001b[0;34m\u001b[0m\u001b[0m\n\u001b[1;32m   1226\u001b[0m             \u001b[0;32mtry\u001b[0m\u001b[0;34m:\u001b[0m\u001b[0;34m\u001b[0m\u001b[0;34m\u001b[0m\u001b[0m\n\u001b[0;32m-> 1227\u001b[0;31m                 \u001b[0;32mreturn\u001b[0m \u001b[0mself\u001b[0m\u001b[0;34m.\u001b[0m\u001b[0marray\u001b[0m\u001b[0;34m[\u001b[0m\u001b[0mkey\u001b[0m\u001b[0;34m]\u001b[0m\u001b[0;34m\u001b[0m\u001b[0;34m\u001b[0m\u001b[0m\n\u001b[0m\u001b[1;32m   1228\u001b[0m             \u001b[0;32mexcept\u001b[0m \u001b[0mNotImplementedError\u001b[0m\u001b[0;34m:\u001b[0m\u001b[0;34m\u001b[0m\u001b[0;34m\u001b[0m\u001b[0m\n\u001b[1;32m   1229\u001b[0m                 \u001b[0;31m# manual orthogonal indexing.\u001b[0m\u001b[0;34m\u001b[0m\u001b[0;34m\u001b[0m\u001b[0;34m\u001b[0m\u001b[0m\n",
      "\u001b[0;32m~/conda/workshop-5-dev/lib/python3.7/site-packages/dask/array/core.py\u001b[0m in \u001b[0;36m__getitem__\u001b[0;34m(self, index)\u001b[0m\n\u001b[1;32m   1890\u001b[0m \u001b[0;34m\u001b[0m\u001b[0m\n\u001b[1;32m   1891\u001b[0m         \u001b[0mout\u001b[0m \u001b[0;34m=\u001b[0m \u001b[0;34m\"getitem-\"\u001b[0m \u001b[0;34m+\u001b[0m \u001b[0mtokenize\u001b[0m\u001b[0;34m(\u001b[0m\u001b[0mself\u001b[0m\u001b[0;34m,\u001b[0m \u001b[0mindex2\u001b[0m\u001b[0;34m)\u001b[0m\u001b[0;34m\u001b[0m\u001b[0;34m\u001b[0m\u001b[0m\n\u001b[0;32m-> 1892\u001b[0;31m         \u001b[0mdsk\u001b[0m\u001b[0;34m,\u001b[0m \u001b[0mchunks\u001b[0m \u001b[0;34m=\u001b[0m \u001b[0mslice_array\u001b[0m\u001b[0;34m(\u001b[0m\u001b[0mout\u001b[0m\u001b[0;34m,\u001b[0m \u001b[0mself\u001b[0m\u001b[0;34m.\u001b[0m\u001b[0mname\u001b[0m\u001b[0;34m,\u001b[0m \u001b[0mself\u001b[0m\u001b[0;34m.\u001b[0m\u001b[0mchunks\u001b[0m\u001b[0;34m,\u001b[0m \u001b[0mindex2\u001b[0m\u001b[0;34m,\u001b[0m \u001b[0mself\u001b[0m\u001b[0;34m.\u001b[0m\u001b[0mitemsize\u001b[0m\u001b[0;34m)\u001b[0m\u001b[0;34m\u001b[0m\u001b[0;34m\u001b[0m\u001b[0m\n\u001b[0m\u001b[1;32m   1893\u001b[0m \u001b[0;34m\u001b[0m\u001b[0m\n\u001b[1;32m   1894\u001b[0m         \u001b[0mgraph\u001b[0m \u001b[0;34m=\u001b[0m \u001b[0mHighLevelGraph\u001b[0m\u001b[0;34m.\u001b[0m\u001b[0mfrom_collections\u001b[0m\u001b[0;34m(\u001b[0m\u001b[0mout\u001b[0m\u001b[0;34m,\u001b[0m \u001b[0mdsk\u001b[0m\u001b[0;34m,\u001b[0m \u001b[0mdependencies\u001b[0m\u001b[0;34m=\u001b[0m\u001b[0;34m[\u001b[0m\u001b[0mself\u001b[0m\u001b[0;34m]\u001b[0m\u001b[0;34m)\u001b[0m\u001b[0;34m\u001b[0m\u001b[0;34m\u001b[0m\u001b[0m\n",
      "\u001b[0;32m~/conda/workshop-5-dev/lib/python3.7/site-packages/dask/array/slicing.py\u001b[0m in \u001b[0;36mslice_array\u001b[0;34m(out_name, in_name, blockdims, index, itemsize)\u001b[0m\n\u001b[1;32m    172\u001b[0m \u001b[0;34m\u001b[0m\u001b[0m\n\u001b[1;32m    173\u001b[0m     \u001b[0;31m# Pass down to next function\u001b[0m\u001b[0;34m\u001b[0m\u001b[0;34m\u001b[0m\u001b[0;34m\u001b[0m\u001b[0m\n\u001b[0;32m--> 174\u001b[0;31m     \u001b[0mdsk_out\u001b[0m\u001b[0;34m,\u001b[0m \u001b[0mbd_out\u001b[0m \u001b[0;34m=\u001b[0m \u001b[0mslice_with_newaxes\u001b[0m\u001b[0;34m(\u001b[0m\u001b[0mout_name\u001b[0m\u001b[0;34m,\u001b[0m \u001b[0min_name\u001b[0m\u001b[0;34m,\u001b[0m \u001b[0mblockdims\u001b[0m\u001b[0;34m,\u001b[0m \u001b[0mindex\u001b[0m\u001b[0;34m,\u001b[0m \u001b[0mitemsize\u001b[0m\u001b[0;34m)\u001b[0m\u001b[0;34m\u001b[0m\u001b[0;34m\u001b[0m\u001b[0m\n\u001b[0m\u001b[1;32m    175\u001b[0m \u001b[0;34m\u001b[0m\u001b[0m\n\u001b[1;32m    176\u001b[0m     \u001b[0mbd_out\u001b[0m \u001b[0;34m=\u001b[0m \u001b[0mtuple\u001b[0m\u001b[0;34m(\u001b[0m\u001b[0mmap\u001b[0m\u001b[0;34m(\u001b[0m\u001b[0mtuple\u001b[0m\u001b[0;34m,\u001b[0m \u001b[0mbd_out\u001b[0m\u001b[0;34m)\u001b[0m\u001b[0;34m)\u001b[0m\u001b[0;34m\u001b[0m\u001b[0;34m\u001b[0m\u001b[0m\n",
      "\u001b[0;32m~/conda/workshop-5-dev/lib/python3.7/site-packages/dask/array/slicing.py\u001b[0m in \u001b[0;36mslice_with_newaxes\u001b[0;34m(out_name, in_name, blockdims, index, itemsize)\u001b[0m\n\u001b[1;32m    194\u001b[0m \u001b[0;34m\u001b[0m\u001b[0m\n\u001b[1;32m    195\u001b[0m     \u001b[0;31m# Pass down and do work\u001b[0m\u001b[0;34m\u001b[0m\u001b[0;34m\u001b[0m\u001b[0;34m\u001b[0m\u001b[0m\n\u001b[0;32m--> 196\u001b[0;31m     \u001b[0mdsk\u001b[0m\u001b[0;34m,\u001b[0m \u001b[0mblockdims2\u001b[0m \u001b[0;34m=\u001b[0m \u001b[0mslice_wrap_lists\u001b[0m\u001b[0;34m(\u001b[0m\u001b[0mout_name\u001b[0m\u001b[0;34m,\u001b[0m \u001b[0min_name\u001b[0m\u001b[0;34m,\u001b[0m \u001b[0mblockdims\u001b[0m\u001b[0;34m,\u001b[0m \u001b[0mindex2\u001b[0m\u001b[0;34m,\u001b[0m \u001b[0mitemsize\u001b[0m\u001b[0;34m)\u001b[0m\u001b[0;34m\u001b[0m\u001b[0;34m\u001b[0m\u001b[0m\n\u001b[0m\u001b[1;32m    197\u001b[0m \u001b[0;34m\u001b[0m\u001b[0m\n\u001b[1;32m    198\u001b[0m     \u001b[0;32mif\u001b[0m \u001b[0mwhere_none\u001b[0m\u001b[0;34m:\u001b[0m\u001b[0;34m\u001b[0m\u001b[0;34m\u001b[0m\u001b[0m\n",
      "\u001b[0;32m~/conda/workshop-5-dev/lib/python3.7/site-packages/dask/array/slicing.py\u001b[0m in \u001b[0;36mslice_wrap_lists\u001b[0;34m(out_name, in_name, blockdims, index, itemsize)\u001b[0m\n\u001b[1;32m    261\u001b[0m         \u001b[0maxis\u001b[0m \u001b[0;34m=\u001b[0m \u001b[0mwhere_list\u001b[0m\u001b[0;34m[\u001b[0m\u001b[0;36m0\u001b[0m\u001b[0;34m]\u001b[0m\u001b[0;34m\u001b[0m\u001b[0;34m\u001b[0m\u001b[0m\n\u001b[1;32m    262\u001b[0m         blockdims2, dsk3 = take(\n\u001b[0;32m--> 263\u001b[0;31m             \u001b[0mout_name\u001b[0m\u001b[0;34m,\u001b[0m \u001b[0min_name\u001b[0m\u001b[0;34m,\u001b[0m \u001b[0mblockdims\u001b[0m\u001b[0;34m,\u001b[0m \u001b[0mindex\u001b[0m\u001b[0;34m[\u001b[0m\u001b[0mwhere_list\u001b[0m\u001b[0;34m[\u001b[0m\u001b[0;36m0\u001b[0m\u001b[0;34m]\u001b[0m\u001b[0;34m]\u001b[0m\u001b[0;34m,\u001b[0m \u001b[0mitemsize\u001b[0m\u001b[0;34m,\u001b[0m \u001b[0maxis\u001b[0m\u001b[0;34m=\u001b[0m\u001b[0maxis\u001b[0m\u001b[0;34m\u001b[0m\u001b[0;34m\u001b[0m\u001b[0m\n\u001b[0m\u001b[1;32m    264\u001b[0m         )\n\u001b[1;32m    265\u001b[0m     \u001b[0;31m# Mixed case. Both slices/integers and lists. slice/integer then take\u001b[0m\u001b[0;34m\u001b[0m\u001b[0;34m\u001b[0m\u001b[0;34m\u001b[0m\u001b[0m\n",
      "\u001b[0;32m~/conda/workshop-5-dev/lib/python3.7/site-packages/dask/array/slicing.py\u001b[0m in \u001b[0;36mtake\u001b[0;34m(outname, inname, chunks, index, itemsize, axis)\u001b[0m\n\u001b[1;32m    623\u001b[0m     \u001b[0;32mfrom\u001b[0m \u001b[0;34m.\u001b[0m\u001b[0mcore\u001b[0m \u001b[0;32mimport\u001b[0m \u001b[0mPerformanceWarning\u001b[0m\u001b[0;34m\u001b[0m\u001b[0;34m\u001b[0m\u001b[0m\n\u001b[1;32m    624\u001b[0m \u001b[0;34m\u001b[0m\u001b[0m\n\u001b[0;32m--> 625\u001b[0;31m     \u001b[0mplan\u001b[0m \u001b[0;34m=\u001b[0m \u001b[0mslicing_plan\u001b[0m\u001b[0;34m(\u001b[0m\u001b[0mchunks\u001b[0m\u001b[0;34m[\u001b[0m\u001b[0maxis\u001b[0m\u001b[0;34m]\u001b[0m\u001b[0;34m,\u001b[0m \u001b[0mindex\u001b[0m\u001b[0;34m)\u001b[0m\u001b[0;34m\u001b[0m\u001b[0;34m\u001b[0m\u001b[0m\n\u001b[0m\u001b[1;32m    626\u001b[0m     \u001b[0;32mif\u001b[0m \u001b[0mlen\u001b[0m\u001b[0;34m(\u001b[0m\u001b[0mplan\u001b[0m\u001b[0;34m)\u001b[0m \u001b[0;34m>=\u001b[0m \u001b[0mlen\u001b[0m\u001b[0;34m(\u001b[0m\u001b[0mchunks\u001b[0m\u001b[0;34m[\u001b[0m\u001b[0maxis\u001b[0m\u001b[0;34m]\u001b[0m\u001b[0;34m)\u001b[0m \u001b[0;34m*\u001b[0m \u001b[0;36m10\u001b[0m\u001b[0;34m:\u001b[0m\u001b[0;34m\u001b[0m\u001b[0;34m\u001b[0m\u001b[0m\n\u001b[1;32m    627\u001b[0m         \u001b[0mfactor\u001b[0m \u001b[0;34m=\u001b[0m \u001b[0mmath\u001b[0m\u001b[0;34m.\u001b[0m\u001b[0mceil\u001b[0m\u001b[0;34m(\u001b[0m\u001b[0mlen\u001b[0m\u001b[0;34m(\u001b[0m\u001b[0mplan\u001b[0m\u001b[0;34m)\u001b[0m \u001b[0;34m/\u001b[0m \u001b[0mlen\u001b[0m\u001b[0;34m(\u001b[0m\u001b[0mchunks\u001b[0m\u001b[0;34m[\u001b[0m\u001b[0maxis\u001b[0m\u001b[0;34m]\u001b[0m\u001b[0;34m)\u001b[0m\u001b[0;34m)\u001b[0m\u001b[0;34m\u001b[0m\u001b[0;34m\u001b[0m\u001b[0m\n",
      "\u001b[0;31mKeyboardInterrupt\u001b[0m: "
     ]
    }
   ],
   "source": [
    "stats = ag3.cohort_diversity_stats(\n",
    "    cohort=\"TZ-05_Muleba_gamb_2015\",\n",
    "    cohort_size=30,\n",
    "    region=\"3L:15,000,000-41,000,000\",\n",
    "    site_mask=\"gamb_colu_arab\",\n",
    "    site_class=\"CDS_DEG_4\",\n",
    ")\n",
    "stats"
   ]
  },
  {
   "cell_type": "code",
   "execution_count": null,
   "metadata": {},
   "outputs": [],
   "source": []
  },
  {
   "cell_type": "code",
   "execution_count": null,
   "metadata": {
    "id": "9TNqtfgSFEG4"
   },
   "outputs": [],
   "source": [
    "stats = ag3.cohort_diversity_stats(\n",
    "    cohort=\"TZ-05_Muleba_gamb_2015\",\n",
    "    cohort_size=10,\n",
    "    region=\"3L:15,000,000-41,000,000\",\n",
    "    site_mask=\"gamb_colu_arab\",\n",
    "    site_class=\"CDS_DEG_4\",\n",
    ")\n",
    "stats"
   ]
  },
  {
   "cell_type": "code",
   "execution_count": null,
   "metadata": {
    "id": "Rerv8W9cGK_C"
   },
   "outputs": [],
   "source": [
    "stats = ag3.cohort_diversity_stats(\n",
    "    cohort=\"TZ-05_Muleba_gamb_2015\",\n",
    "    cohort_size=10,\n",
    "    region=\"3L:15,000,000-41,000,000\",\n",
    "    site_mask=\"gamb_colu_arab\",\n",
    "    site_class=\"CDS_DEG_0\",\n",
    ")\n",
    "stats"
   ]
  },
  {
   "cell_type": "markdown",
   "metadata": {
    "id": "fwxxYt7QGhxx"
   },
   "source": [
    "## Comparing diversity between cohorts"
   ]
  },
  {
   "cell_type": "markdown",
   "metadata": {
    "id": "qcpsIhq_PrCF"
   },
   "source": [
    "### Example: Tanzania"
   ]
  },
  {
   "cell_type": "code",
   "execution_count": null,
   "metadata": {
    "id": "Bxu2zGn2GkCO"
   },
   "outputs": [],
   "source": [
    "df_samples_tz.groupby(\"cohort_admin2_year\").size()"
   ]
  },
  {
   "cell_type": "code",
   "execution_count": null,
   "metadata": {
    "id": "yCiKY8uRGsmp"
   },
   "outputs": [],
   "source": [
    "ag3.diversity_stats?"
   ]
  },
  {
   "cell_type": "code",
   "execution_count": null,
   "metadata": {
    "id": "hD6bMcBbGoaf"
   },
   "outputs": [],
   "source": [
    "df_stats_tz_admin2_year = ag3.diversity_stats(\n",
    "    sample_query=\"country == 'Tanzania'\",\n",
    "    cohorts=\"admin2_year\",\n",
    "    cohort_size=10,\n",
    "    region=\"3L:15,000,000-41,000,000\",\n",
    "    site_mask=\"gamb_colu_arab\",\n",
    "    site_class=\"CDS_DEG_4\",\n",
    ")\n",
    "df_stats_tz_admin2_year"
   ]
  },
  {
   "cell_type": "code",
   "execution_count": null,
   "metadata": {
    "id": "m6acjUk1H56G"
   },
   "outputs": [],
   "source": [
    "df_stats_tz_admin2_year.columns"
   ]
  },
  {
   "cell_type": "code",
   "execution_count": null,
   "metadata": {
    "id": "t3HFZZyRK7uS"
   },
   "outputs": [],
   "source": [
    "px.bar(\n",
    "    data_frame=df_stats_tz_admin2_year,\n",
    "    x=\"cohort\",\n",
    "    y=\"theta_pi_estimate\",\n",
    "    error_y=\"theta_pi_ci_err\",\n",
    "    color=\"taxon\",\n",
    "    height=450,\n",
    "    width=500,\n",
    ")"
   ]
  },
  {
   "cell_type": "code",
   "execution_count": null,
   "metadata": {
    "id": "PFmxC7SoLwgW"
   },
   "outputs": [],
   "source": [
    "def plot_diversity_stats(\n",
    "    df_stats, \n",
    "    color=None, \n",
    "    height=450, \n",
    "    template=\"plotly_white\"\n",
    "):\n",
    "\n",
    "    # set up common plotting parameters\n",
    "    hover_name = \"cohort\"\n",
    "    hover_data = [\n",
    "        \"taxon\",\n",
    "        \"country\",\n",
    "        \"admin1_iso\",\n",
    "        \"admin1_name\",\n",
    "        \"admin2_name\",\n",
    "        \"year\",\n",
    "        \"month\",\n",
    "    ]\n",
    "    labels = {\n",
    "        'theta_pi_estimate': r'$\\widehat{\\theta}_{\\pi}$',\n",
    "        'theta_w_estimate': r'$\\widehat{\\theta}_{w}$',\n",
    "        'tajima_d_estimate': r'$D$',\n",
    "        'cohort': \"Cohort\",\n",
    "        'taxon': 'Taxon',\n",
    "        'country': \"Country\",\n",
    "    }\n",
    "    width = 300 + 30 * len(df_stats)\n",
    "\n",
    "    # nucleotide diversity bar plot\n",
    "    fig = px.bar(\n",
    "        data_frame=df_stats,\n",
    "        x=\"cohort\",\n",
    "        y=\"theta_pi_estimate\",\n",
    "        error_y=\"theta_pi_ci_err\",\n",
    "        title=\"Nucleotide diversity\",\n",
    "        color=color,\n",
    "        height=height,\n",
    "        width=width,\n",
    "        hover_name=hover_name,\n",
    "        hover_data=hover_data,\n",
    "        labels=labels,\n",
    "        template=template,\n",
    "    )\n",
    "    fig.show()\n",
    "\n",
    "    # watterson estimator bar plot\n",
    "    fig = px.bar(\n",
    "        data_frame=df_stats,\n",
    "        x=\"cohort\",\n",
    "        y=\"theta_w_estimate\",\n",
    "        error_y=\"theta_w_ci_err\",\n",
    "        title=\"Watterson estimator\",\n",
    "        color=color,\n",
    "        height=height,\n",
    "        width=width,\n",
    "        hover_name=hover_name,\n",
    "        hover_data=hover_data,\n",
    "        labels=labels,\n",
    "        template=template,\n",
    "    )\n",
    "    fig.show()\n",
    "\n",
    "    # tajima's d bar plot\n",
    "    fig = px.bar(\n",
    "        data_frame=df_stats,\n",
    "        x=\"cohort\",\n",
    "        y=\"tajima_d_estimate\",\n",
    "        error_y=\"tajima_d_ci_err\",\n",
    "        title=\"Tajima's D\",\n",
    "        color=color,\n",
    "        height=height,\n",
    "        width=width,\n",
    "        hover_name=hover_name,\n",
    "        hover_data=hover_data,\n",
    "        labels=labels,\n",
    "        template=template,\n",
    "    )\n",
    "    fig.show()\n",
    "\n",
    "    # scatter plot comparing diversity estimators\n",
    "    fig = px.scatter(\n",
    "        data_frame=df_stats,\n",
    "        x=\"theta_pi_estimate\",\n",
    "        y=\"theta_w_estimate\",\n",
    "        error_x=\"theta_pi_ci_err\",\n",
    "        error_y=\"theta_w_ci_err\",\n",
    "        title=\"Diversity estimators\",\n",
    "        color=color,\n",
    "        width=500,\n",
    "        height=500,\n",
    "        hover_name=hover_name,\n",
    "        hover_data=hover_data,\n",
    "        labels=labels,\n",
    "        template=template,\n",
    "    )\n",
    "    fig.show()"
   ]
  },
  {
   "cell_type": "code",
   "execution_count": null,
   "metadata": {
    "id": "DAb5DUxJMZ_i"
   },
   "outputs": [],
   "source": [
    "plot_diversity_stats(df_stats_tz_admin2_year, color=\"taxon\")"
   ]
  },
  {
   "cell_type": "markdown",
   "metadata": {
    "id": "G7yXED5rTXbO"
   },
   "source": [
    "**Exercise 1**\n",
    "\n",
    "Analyse Tanzania by admin2_month..."
   ]
  },
  {
   "cell_type": "code",
   "execution_count": null,
   "metadata": {
    "id": "q1kdxiDhTkJF"
   },
   "outputs": [],
   "source": [
    "# df_samples_tz.groupby(\"cohort_admin2_month\").size()"
   ]
  },
  {
   "cell_type": "code",
   "execution_count": null,
   "metadata": {
    "id": "kCc22YnDTVMU"
   },
   "outputs": [],
   "source": [
    "# df_stats_tz_admin2_month = ag3.diversity_stats(\n",
    "#     cohorts=\"admin2_month\",\n",
    "#     cohort_size=10,\n",
    "#     region=\"3L:15,000,000-41,000,000\",\n",
    "#     site_mask=\"gamb_colu_arab\",\n",
    "#     site_class=\"CDS_DEG_4\",\n",
    "#     sample_query=\"country == 'Tanzania'\",\n",
    "# )\n",
    "# plot_diversity_stats(df_stats_tz_admin2_month, color=\"taxon\")"
   ]
  },
  {
   "cell_type": "markdown",
   "metadata": {
    "id": "Y_gAokKdM2hL"
   },
   "source": [
    "### Example: East Africa\n"
   ]
  },
  {
   "cell_type": "code",
   "execution_count": null,
   "metadata": {
    "id": "0Qo5ZiN8P-Gm"
   },
   "outputs": [],
   "source": [
    "ag3.plot_samples_interactive_map()"
   ]
  },
  {
   "cell_type": "code",
   "execution_count": null,
   "metadata": {
    "id": "jl4iYFrpNX7N"
   },
   "outputs": [],
   "source": [
    "ag3.count_samples(\n",
    "    sample_query=\"country in ['Tanzania', 'Kenya', 'Uganda']\"\n",
    ")"
   ]
  },
  {
   "cell_type": "code",
   "execution_count": null,
   "metadata": {
    "id": "S-3do-XUQjoD"
   },
   "outputs": [],
   "source": [
    "ag3.sample_metadata(\n",
    "    sample_query=\"country in ['Tanzania', 'Kenya', 'Uganda']\"\n",
    ").groupby(\"cohort_admin2_year\").size()"
   ]
  },
  {
   "cell_type": "code",
   "execution_count": null,
   "metadata": {
    "id": "pFEMOSJFM6P_"
   },
   "outputs": [],
   "source": [
    "df_stats_tz_ke_ug_admin2_year = ag3.diversity_stats(\n",
    "    sample_query=\"country in ['Tanzania', 'Kenya', 'Uganda']\",\n",
    "    cohorts=\"admin2_year\",\n",
    "    cohort_size=10,\n",
    "    region=\"3L:15,000,000-41,000,000\",\n",
    "    site_mask=\"gamb_colu_arab\",\n",
    "    site_class=\"CDS_DEG_4\",\n",
    ")\n",
    "df_stats_tz_ke_ug_admin2_year"
   ]
  },
  {
   "cell_type": "code",
   "execution_count": null,
   "metadata": {
    "id": "jPOraphJNsFp"
   },
   "outputs": [],
   "source": [
    "plot_diversity_stats(df_stats_tz_ke_ug_admin2_year, color=\"taxon\")"
   ]
  },
  {
   "cell_type": "markdown",
   "metadata": {
    "id": "rW64fYAlTvu_"
   },
   "source": [
    "**Exercise 2**\n",
    "\n",
    "Add Mozambique and Malawi to the East Africa analysis..."
   ]
  },
  {
   "cell_type": "code",
   "execution_count": null,
   "metadata": {
    "id": "cYHfMmleT5Pm"
   },
   "outputs": [],
   "source": [
    "# df_stats_east_admin2_year = ag3.diversity_stats(\n",
    "#     cohorts=\"admin2_year\",\n",
    "#     cohort_size=10,\n",
    "#     region=\"3L:15,000,000-41,000,000\",\n",
    "#     site_mask=\"gamb_colu_arab\",\n",
    "#     site_class=\"CDS_DEG_4\",\n",
    "#     sample_query=\"country in ['Tanzania', 'Kenya', 'Uganda', 'Mozambique', 'Malawi']\",\n",
    "# )\n",
    "# plot_diversity_stats(df_stats_east_admin2_year, color=\"taxon\")"
   ]
  },
  {
   "cell_type": "markdown",
   "metadata": {
    "id": "l8vmiCzPR1Rl"
   },
   "source": [
    "### Example: Burkina Faso"
   ]
  },
  {
   "cell_type": "code",
   "execution_count": null,
   "metadata": {
    "id": "QcPpab64PdTN"
   },
   "outputs": [],
   "source": [
    "ag3.count_samples(\n",
    "    sample_query=\"country == 'Burkina Faso'\"\n",
    ")"
   ]
  },
  {
   "cell_type": "markdown",
   "metadata": {
    "id": "8Oizi0j4UhaE"
   },
   "source": [
    "**Exercise 3**\n",
    "\n",
    "Analysis BF. Compare gambiae and coluzzii. Compare 2012 and 2014."
   ]
  },
  {
   "cell_type": "code",
   "execution_count": null,
   "metadata": {
    "id": "0jwDC2eCRQN_"
   },
   "outputs": [],
   "source": [
    "# df_stats_bf_admin2_year = ag3.diversity_stats(\n",
    "#     cohorts=\"admin2_year\",\n",
    "#     cohort_size=13,\n",
    "#     region=\"3L:15,000,000-41,000,000\",\n",
    "#     site_mask=\"gamb_colu_arab\",\n",
    "#     site_class=\"CDS_DEG_4\",\n",
    "#     sample_query=\"country == 'Burkina Faso'\",\n",
    "# )\n",
    "# plot_diversity_stats(df_stats_bf_admin2_year, color=\"taxon\")"
   ]
  },
  {
   "cell_type": "markdown",
   "metadata": {
    "id": "d6-SsHetUnfm"
   },
   "source": [
    "## Well done!\n",
    "\n",
    "Rerun notebook, complete exercises you find.\n",
    "\n",
    "When finished, choose any country and perform diversity analysis. Share your findings and conclusions with colleagues."
   ]
  }
 ],
 "metadata": {
  "celltoolbar": "Tags",
  "colab": {
   "collapsed_sections": [],
   "name": "Workshop 5 - Module 3 - 2022-07-08 - Genetic diversity summary statistics.ipynb",
   "provenance": []
  },
  "kernelspec": {
   "display_name": "Python [conda env:workshop-5-dev]",
   "language": "python",
   "name": "conda-env-workshop-5-dev-py"
  },
  "language_info": {
   "codemirror_mode": {
    "name": "ipython",
    "version": 3
   },
   "file_extension": ".py",
   "mimetype": "text/x-python",
   "name": "python",
   "nbconvert_exporter": "python",
   "pygments_lexer": "ipython3",
   "version": "3.7.12"
  }
 },
 "nbformat": 4,
 "nbformat_minor": 1
}
